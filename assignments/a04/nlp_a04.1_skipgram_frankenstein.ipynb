{
 "cells": [
  {
   "cell_type": "code",
   "execution_count": null,
   "metadata": {},
   "outputs": [],
   "source": [
    "import os\n",
    "\n",
    "download_name = \"frankenstein_with_splits.csv.bz2\"\n",
    "if not os.path.exists(download_name):\n",
    "    import requests\n",
    "    response = requests.get(f\"https://raw.githubusercontent.com/bzitko/nlp_repo/main/assignments/a04/{download_name}\")\n",
    "    with open(download_name, \"wb\") as fp:\n",
    "        fp.write(response.content)\n",
    "    response.close()\n",
    "\n",
    "name = \"frankenstein_with_splits.csv\"\n",
    "if not os.path.exists(name):\n",
    "    import bz2\n",
    "    with open(download_name, 'rb') as bzf, open(name, 'wb') as fp:\n",
    "        fp.write(bz2.decompress(bzf.read()))        "
   ]
  },
  {
   "cell_type": "markdown",
   "metadata": {},
   "source": [
    "# Learning Embeddings with SkipGram"
   ]
  },
  {
   "cell_type": "markdown",
   "metadata": {},
   "source": [
    "## Imports"
   ]
  },
  {
   "cell_type": "code",
   "execution_count": 1,
   "metadata": {},
   "outputs": [],
   "source": [
    "import os\n",
    "from argparse import Namespace\n",
    "from collections import Counter\n",
    "import json\n",
    "import re\n",
    "import string\n",
    "\n",
    "import numpy as np\n",
    "import pandas as pd\n",
    "import torch \n",
    "import torch.nn as nn\n",
    "import torch.nn.functional as F\n",
    "import torch.optim as optim\n",
    "from torch.utils.data import Dataset, DataLoader\n",
    "from tqdm.notebook import tqdm"
   ]
  },
  {
   "cell_type": "markdown",
   "metadata": {},
   "source": [
    "## Data Vectorization classes"
   ]
  },
  {
   "cell_type": "markdown",
   "metadata": {},
   "source": [
    "### The Vocabulary"
   ]
  },
  {
   "cell_type": "code",
   "execution_count": 2,
   "metadata": {},
   "outputs": [],
   "source": [
    "class Vocabulary(object):\n",
    "    def __init__(self, token_to_idx=None, mask_token=\"<MASK>\", add_unk=True, unk_token=\"<UNK>\"):\n",
    "\n",
    "        if token_to_idx is None:\n",
    "            token_to_idx = {}\n",
    "        self._token_to_idx = token_to_idx\n",
    "\n",
    "        self._idx_to_token = {idx: token \n",
    "                              for token, idx in self._token_to_idx.items()}\n",
    "        \n",
    "        self._add_unk = add_unk\n",
    "        self._unk_token = unk_token\n",
    "        self._mask_token = mask_token\n",
    "        \n",
    "        self.mask_index = self.add_token(self._mask_token)\n",
    "        self.unk_index = -1\n",
    "        if add_unk:\n",
    "            self.unk_index = self.add_token(unk_token) \n",
    "        \n",
    "    def to_serializable(self):\n",
    "        return {'token_to_idx': self._token_to_idx, \n",
    "                'add_unk': self._add_unk, \n",
    "                'unk_token': self._unk_token, \n",
    "                'mask_token': self._mask_token}\n",
    "\n",
    "    @classmethod\n",
    "    def from_serializable(cls, contents):\n",
    "        return cls(**contents)\n",
    "\n",
    "    def add_token(self, token):\n",
    "        if token in self._token_to_idx:\n",
    "            index = self._token_to_idx[token]\n",
    "        else:\n",
    "            index = len(self._token_to_idx)\n",
    "            self._token_to_idx[token] = index\n",
    "            self._idx_to_token[index] = token\n",
    "        return index\n",
    "            \n",
    "    def add_many(self, tokens):\n",
    "        return [self.add_token(token) for token in tokens]\n",
    "\n",
    "    def lookup_token(self, token):\n",
    "        if self.unk_index >= 0:\n",
    "            return self._token_to_idx.get(token, self.unk_index)\n",
    "        else:\n",
    "            return self._token_to_idx[token]\n",
    "\n",
    "    def lookup_index(self, index):\n",
    "        if index not in self._idx_to_token:\n",
    "            raise KeyError(\"the index (%d) is not in the Vocabulary\" % index)\n",
    "        return self._idx_to_token[index]\n",
    "\n",
    "    def __str__(self):\n",
    "        return \"<Vocabulary(size=%d)>\" % len(self)\n",
    "\n",
    "    def __len__(self):\n",
    "        return len(self._token_to_idx)"
   ]
  },
  {
   "cell_type": "code",
   "execution_count": 3,
   "metadata": {},
   "outputs": [],
   "source": [
    "class SkipGramVectorizer(object):\n",
    "\n",
    "    def __init__(self, vocab):\n",
    "        self.vocab = vocab\n",
    "\n",
    "    def vectorize(self, context, vector_length=-1):\n",
    "        indices = [self.vocab.lookup_token(token) for token in context.split(' ')]\n",
    "        if vector_length < 0:\n",
    "            vector_length = len(indices)\n",
    "\n",
    "        out_vector = np.zeros(vector_length, dtype=np.int64)\n",
    "        out_vector[:len(indices)] = indices\n",
    "        out_vector[len(indices):] = self.vocab.mask_index\n",
    "\n",
    "        return out_vector\n",
    "    \n",
    "    @classmethod\n",
    "    def from_dataframe(cls, df):\n",
    "        vocab = Vocabulary()\n",
    "        for index, row in df.iterrows():\n",
    "            for token in row.context.split(' '):\n",
    "                vocab.add_token(token)\n",
    "            vocab.add_token(row.target)\n",
    "            \n",
    "        return cls(vocab)\n",
    "\n",
    "    @classmethod\n",
    "    def from_serializable(cls, contents):\n",
    "        vocab = Vocabulary.from_serializable(contents['vocab'])\n",
    "        return cls(vocab=vocab)\n",
    "\n",
    "    def to_serializable(self):\n",
    "        return {'vocab': self.vocab.to_serializable()}"
   ]
  },
  {
   "cell_type": "markdown",
   "metadata": {},
   "source": [
    "### The Dataset"
   ]
  },
  {
   "cell_type": "code",
   "execution_count": 4,
   "metadata": {},
   "outputs": [],
   "source": [
    "class SkipGramDataset(Dataset):\n",
    "    def __init__(self, df, vectorizer):\n",
    "        self.df = df\n",
    "        self._vectorizer = vectorizer\n",
    "        \n",
    "        measure_len = lambda context: len(context.split(\" \"))\n",
    "        self._max_seq_length = max(map(measure_len, df.context))\n",
    "        \n",
    "        self.train_df = self.df[self.df.split=='train']\n",
    "        self.train_size = len(self.train_df)\n",
    "\n",
    "        self.val_df = self.df[self.df.split=='val']\n",
    "        self.validation_size = len(self.val_df)\n",
    "\n",
    "        self.test_df = self.df[self.df.split=='test']\n",
    "        self.test_size = len(self.test_df)\n",
    "\n",
    "        self._lookup_dict = {'train': (self.train_df, self.train_size),\n",
    "                             'val': (self.val_df, self.validation_size),\n",
    "                             'test': (self.test_df, self.test_size)}\n",
    "\n",
    "        self.set_split('train')\n",
    "\n",
    "    @classmethod\n",
    "    def load_dataset_and_make_vectorizer(cls, csv):\n",
    "        df = pd.read_csv(csv)\n",
    "        train_df = df[df.split=='train']\n",
    "        return cls(df, SkipGramVectorizer.from_dataframe(train_df))\n",
    "\n",
    "    @classmethod\n",
    "    def load_dataset_and_load_vectorizer(cls, csv, vectorizer_filepath):\n",
    "        df = pd.read_csv(csv)\n",
    "        vectorizer = cls.load_vectorizer_only(vectorizer_filepath)\n",
    "        return cls(df, vectorizer)\n",
    "\n",
    "    @staticmethod\n",
    "    def load_vectorizer_only(vectorizer_filepath):\n",
    "        with open(vectorizer_filepath) as fp:\n",
    "            return SkipGramVectorizer.from_serializable(json.load(fp))\n",
    "\n",
    "    def save_vectorizer(self, vectorizer_filepath):\n",
    "        with open(vectorizer_filepath, \"w\") as fp:\n",
    "            json.dump(self._vectorizer.to_serializable(), fp)\n",
    "\n",
    "    def get_vectorizer(self):\n",
    "        return self._vectorizer\n",
    "        \n",
    "    def set_split(self, split=\"train\"):\n",
    "        self._target_split = split\n",
    "        self._target_df, self._target_size = self._lookup_dict[split]\n",
    "\n",
    "    def __len__(self):\n",
    "        return self._target_size\n",
    "\n",
    "    def __getitem__(self, index):\n",
    "        row = self._target_df.iloc[index]\n",
    "\n",
    "        context_vector = self._vectorizer.vectorize(row.context, self._max_seq_length)\n",
    "        target_index = self._vectorizer.vocab.lookup_token(row.target)\n",
    "\n",
    "        return {'x_data': target_index,\n",
    "                'y_target': context_vector}\n",
    "\n",
    "    def get_num_batches(self, batch_size):\n",
    "        return len(self) // batch_size\n",
    "    \n",
    "def generate_batches(dataset, batch_size, shuffle=True,\n",
    "                     drop_last=True, device=\"cpu\"): \n",
    "    dataloader = DataLoader(dataset=dataset, batch_size=batch_size,\n",
    "                            shuffle=shuffle, drop_last=drop_last)\n",
    "\n",
    "    for data_dict in dataloader:\n",
    "        out_data_dict = {}\n",
    "        for name, tensor in data_dict.items():\n",
    "            out_data_dict[name] = data_dict[name].to(device)\n",
    "        yield out_data_dict"
   ]
  },
  {
   "cell_type": "markdown",
   "metadata": {},
   "source": [
    "## The Model: SkipGram\n",
    "\n",
    "👍"
   ]
  },
  {
   "cell_type": "code",
   "execution_count": 5,
   "metadata": {},
   "outputs": [],
   "source": [
    "class SkipGramClassifier(nn.Module): # Simplified SkipGram Model\n",
    "    def __init__(self, vocabulary_size, embedding_size, context_size, padding_idx=0):\n",
    "        super(SkipGramClassifier, self).__init__()\n",
    "        self.context_size = context_size\n",
    "        self.vocabulary_size = vocabulary_size\n",
    "        self.embeddings =  nn.Embedding(num_embeddings=vocabulary_size, \n",
    "                                        embedding_dim=embedding_size,\n",
    "                                        padding_idx=padding_idx)\n",
    "\n",
    "        self.fc1 = nn.Linear(embedding_size, context_size * vocabulary_size)\n",
    "\n",
    "\n",
    "    def forward(self, x_in):\n",
    "        batch_size = x_in.shape[0]\n",
    "        embedded = self.embeddings(x_in)\n",
    "        # output = F.log_softmax(self.fc1(embedded), dim=1).view(batch_size, self.context_size, -1)\n",
    "        # return output.permute(0, 2, 1)\n",
    "        output = F.log_softmax(self.fc1(embedded), dim=1).view(batch_size, self.vocabulary_size, -1)\n",
    "        return output\n",
    "        \n",
    "        "
   ]
  },
  {
   "cell_type": "markdown",
   "metadata": {},
   "source": [
    "## Training Routine"
   ]
  },
  {
   "cell_type": "markdown",
   "metadata": {},
   "source": [
    "### Helper functions"
   ]
  },
  {
   "cell_type": "code",
   "execution_count": 6,
   "metadata": {},
   "outputs": [],
   "source": [
    "def make_train_state(args):\n",
    "    return {'stop_early': False,\n",
    "            'early_stopping_step': 0,\n",
    "            'early_stopping_best_val': 1e8,\n",
    "            'learning_rate': args.learning_rate,\n",
    "            'epoch_index': 0,\n",
    "            'train_loss': [],\n",
    "            'train_acc': [],\n",
    "            'val_loss': [],\n",
    "            'val_acc': [],\n",
    "            'test_loss': -1,\n",
    "            'test_acc': -1,\n",
    "            'model_filename': args.model_state_file}\n",
    "\n",
    "def update_train_state(args, model, train_state):\n",
    "    # Save one model at least\n",
    "    if train_state['epoch_index'] == 0:\n",
    "        torch.save(model.state_dict(), train_state['model_filename'])\n",
    "        train_state['stop_early'] = False\n",
    "\n",
    "    # Save model if performance improved\n",
    "    elif train_state['epoch_index'] >= 1:\n",
    "        loss_tm1, loss_t = train_state['val_loss'][-2:]\n",
    "\n",
    "        # If loss worsened\n",
    "        if loss_t >= train_state['early_stopping_best_val']:\n",
    "            # Update step\n",
    "            train_state['early_stopping_step'] += 1\n",
    "        # Loss decreased\n",
    "        else:\n",
    "            # Save the best model\n",
    "            if loss_t < train_state['early_stopping_best_val']:\n",
    "                torch.save(model.state_dict(), train_state['model_filename'])\n",
    "\n",
    "            # Reset early stopping step\n",
    "            train_state['early_stopping_step'] = 0\n",
    "\n",
    "        # Stop early ?\n",
    "        train_state['stop_early'] = \\\n",
    "            train_state['early_stopping_step'] >= args.early_stopping_criteria\n",
    "\n",
    "    return train_state\n",
    "\n",
    "def compute_accuracy(y_pred, y_target):\n",
    "    _, y_pred_indices = y_pred.max(dim=1)\n",
    "    n_correct = torch.eq(y_pred_indices, y_target).sum().item()\n",
    "    return n_correct / len(y_pred_indices) * 100"
   ]
  },
  {
   "cell_type": "markdown",
   "metadata": {},
   "source": [
    "#### general utilities"
   ]
  },
  {
   "cell_type": "code",
   "execution_count": 7,
   "metadata": {},
   "outputs": [],
   "source": [
    "def set_seed_everywhere(seed, cuda):\n",
    "    np.random.seed(seed)\n",
    "    torch.manual_seed(seed)\n",
    "    if cuda:\n",
    "        torch.cuda.manual_seed_all(seed)\n",
    "\n",
    "def handle_dirs(dirpath):\n",
    "    if not os.path.exists(dirpath):\n",
    "        os.makedirs(dirpath)"
   ]
  },
  {
   "cell_type": "markdown",
   "metadata": {},
   "source": [
    "### Settings and some prep work"
   ]
  },
  {
   "cell_type": "code",
   "execution_count": 8,
   "metadata": {},
   "outputs": [
    {
     "name": "stdout",
     "output_type": "stream",
     "text": [
      "Expanded filepaths: \n",
      "\t./vectorizer.json\n",
      "\t./model_04.1_skipgram.pth\n",
      "Using CUDA: False\n"
     ]
    }
   ],
   "source": [
    "args = Namespace(\n",
    "    # Data and Path information\n",
    "    skipgram_csv=\"frankenstein_with_splits.csv\",\n",
    "    vectorizer_file=\"vectorizer.a04_1_skipgram.json\",\n",
    "    model_state_file=\"model_a04.1_skipgram.pth\",\n",
    "    save_dir=\".\",\n",
    "    # Model hyper parameters\n",
    "    embedding_size=50,\n",
    "    # Training hyper parameters\n",
    "    seed=1337,\n",
    "    num_epochs=100,\n",
    "    learning_rate=0.0001,\n",
    "    batch_size=32,\n",
    "    early_stopping_criteria=5,\n",
    "    # Runtime options\n",
    "    cuda=True,\n",
    "    catch_keyboard_interrupt=True,\n",
    "    reload_from_files=False,\n",
    "    expand_filepaths_to_save_dir=True\n",
    ")\n",
    "\n",
    "if args.expand_filepaths_to_save_dir:\n",
    "    args.vectorizer_file = os.path.join(args.save_dir,\n",
    "                                        args.vectorizer_file)\n",
    "\n",
    "    args.model_state_file = os.path.join(args.save_dir,\n",
    "                                         args.model_state_file)\n",
    "    \n",
    "    print(\"Expanded filepaths: \")\n",
    "    print(\"\\t{}\".format(args.vectorizer_file))\n",
    "    print(\"\\t{}\".format(args.model_state_file))\n",
    "    \n",
    "\n",
    "# Check CUDA\n",
    "if not torch.cuda.is_available():\n",
    "    args.cuda = False\n",
    "\n",
    "args.device = torch.device(\"cuda\" if args.cuda else \"cpu\")\n",
    "    \n",
    "print(\"Using CUDA: {}\".format(args.cuda))\n",
    "\n",
    "\n",
    "# Set seed for reproducibility\n",
    "set_seed_everywhere(args.seed, args.cuda)\n",
    "\n",
    "# handle dirs\n",
    "handle_dirs(args.save_dir)"
   ]
  },
  {
   "cell_type": "markdown",
   "metadata": {},
   "source": [
    "### Initializations"
   ]
  },
  {
   "cell_type": "code",
   "execution_count": 9,
   "metadata": {},
   "outputs": [
    {
     "name": "stdout",
     "output_type": "stream",
     "text": [
      "Loading dataset and creating vectorizer\n",
      "<__main__.SkipGramVectorizer object at 0x7ff472bf6a30>\n"
     ]
    }
   ],
   "source": [
    "if args.reload_from_files:\n",
    "    print(\"Loading dataset and loading vectorizer\")\n",
    "    dataset = SkipGramDataset.load_dataset_and_load_vectorizer(args.skipgram_csv,\n",
    "                                                               args.vectorizer_file)\n",
    "else:\n",
    "    print(\"Loading dataset and creating vectorizer\")\n",
    "    dataset = SkipGramDataset.load_dataset_and_make_vectorizer(args.skipgram_csv)\n",
    "    dataset.save_vectorizer(args.vectorizer_file)\n",
    "    \n",
    "vectorizer = dataset.get_vectorizer()\n",
    "print(vectorizer)\n",
    "\n",
    "classifier = SkipGramClassifier(vocabulary_size=len(vectorizer.vocab), \n",
    "                                embedding_size=args.embedding_size,\n",
    "                                context_size=dataset._max_seq_length)\n"
   ]
  },
  {
   "cell_type": "markdown",
   "metadata": {},
   "source": [
    "### Training loop"
   ]
  },
  {
   "cell_type": "code",
   "execution_count": 10,
   "metadata": {
    "code_folding": []
   },
   "outputs": [
    {
     "data": {
      "application/vnd.jupyter.widget-view+json": {
       "model_id": "b9c0086756104337ae3536837bee2049",
       "version_major": 2,
       "version_minor": 0
      },
      "text/plain": [
       "training routine:   0%|          | 0/100 [00:00<?, ?it/s]"
      ]
     },
     "metadata": {},
     "output_type": "display_data"
    },
    {
     "data": {
      "application/vnd.jupyter.widget-view+json": {
       "model_id": "199b380fbdc9412cb29bce40f02bb018",
       "version_major": 2,
       "version_minor": 0
      },
      "text/plain": [
       "split=train:   0%|          | 0/1984 [00:00<?, ?it/s]"
      ]
     },
     "metadata": {},
     "output_type": "display_data"
    },
    {
     "data": {
      "application/vnd.jupyter.widget-view+json": {
       "model_id": "c7c84f407f6d4eddb0064c44acad8192",
       "version_major": 2,
       "version_minor": 0
      },
      "text/plain": [
       "split=val:   0%|          | 0/425 [00:00<?, ?it/s]"
      ]
     },
     "metadata": {},
     "output_type": "display_data"
    }
   ],
   "source": [
    "classifier = classifier.to(args.device)\n",
    "    \n",
    "loss_func = nn.CrossEntropyLoss()\n",
    "optimizer = optim.Adam(classifier.parameters(), lr=args.learning_rate)\n",
    "scheduler = optim.lr_scheduler.ReduceLROnPlateau(optimizer=optimizer,\n",
    "                                                 mode='min', factor=0.5,\n",
    "                                                 patience=1)\n",
    "train_state = make_train_state(args)\n",
    "\n",
    "epoch_bar = tqdm(desc='training routine', \n",
    "                 total=args.num_epochs,\n",
    "                 position=0)\n",
    "\n",
    "dataset.set_split('train')\n",
    "train_bar = tqdm(desc='split=train',\n",
    "                 total=dataset.get_num_batches(args.batch_size),  \n",
    "                 position=1, \n",
    "                 leave=True)\n",
    "dataset.set_split('val')\n",
    "val_bar = tqdm(desc='split=val',\n",
    "               total=dataset.get_num_batches(args.batch_size), \n",
    "               position=1, \n",
    "               leave=True)\n",
    "\n",
    "try:\n",
    "    for epoch_index in range(args.num_epochs):\n",
    "        train_state['epoch_index'] = epoch_index\n",
    "\n",
    "        # Iterate over training dataset\n",
    "\n",
    "        # setup: batch generator, set loss and acc to 0, set train mode on\n",
    "\n",
    "        dataset.set_split('train')\n",
    "        batch_generator = generate_batches(dataset, \n",
    "                                           batch_size=args.batch_size, \n",
    "                                           device=args.device)\n",
    "        running_loss = 0.0\n",
    "        running_acc = 0.0\n",
    "        classifier.train()\n",
    "\n",
    "        for batch_index, batch_dict in enumerate(batch_generator):\n",
    "            # the training routine is these 5 steps:\n",
    "\n",
    "            # --------------------------------------\n",
    "            # step 1. zero the gradients\n",
    "            optimizer.zero_grad()\n",
    "\n",
    "            # step 2. compute the output\n",
    "            y_pred = classifier(x_in=batch_dict['x_data'])\n",
    "\n",
    "            # step 3. compute the loss\n",
    "            loss = loss_func(y_pred, batch_dict['y_target'])\n",
    "            loss_t = loss.item()\n",
    "            running_loss += (loss_t - running_loss) / (batch_index + 1)\n",
    "\n",
    "            # step 4. use loss to produce gradients\n",
    "            loss.backward()\n",
    "\n",
    "            # step 5. use optimizer to take gradient step\n",
    "            optimizer.step()\n",
    "            # -----------------------------------------\n",
    "            # compute the accuracy\n",
    "            acc_t = compute_accuracy(y_pred, batch_dict['y_target'])\n",
    "            running_acc += (acc_t - running_acc) / (batch_index + 1)\n",
    "\n",
    "            # update bar\n",
    "            train_bar.set_postfix(loss=running_loss, acc=running_acc, \n",
    "                            epoch=epoch_index)\n",
    "            train_bar.update()\n",
    "\n",
    "        train_state['train_loss'].append(running_loss)\n",
    "        train_state['train_acc'].append(running_acc)\n",
    "\n",
    "        # Iterate over val dataset\n",
    "\n",
    "        # setup: batch generator, set loss and acc to 0; set eval mode on\n",
    "        dataset.set_split('val')\n",
    "        batch_generator = generate_batches(dataset, \n",
    "                                           batch_size=args.batch_size, \n",
    "                                           device=args.device)\n",
    "        running_loss = 0.\n",
    "        running_acc = 0.\n",
    "        classifier.eval()\n",
    "\n",
    "        for batch_index, batch_dict in enumerate(batch_generator):\n",
    "\n",
    "            # compute the output\n",
    "            y_pred =  classifier(x_in=batch_dict['x_data'])\n",
    "\n",
    "            # step 3. compute the loss)\n",
    "            loss = loss_func(y_pred, batch_dict['y_target'])\n",
    "            loss_t = loss.item()\n",
    "            running_loss += (loss_t - running_loss) / (batch_index + 1)\n",
    "\n",
    "            # compute the accuracy\n",
    "            acc_t = compute_accuracy(y_pred, batch_dict['y_target'])\n",
    "            running_acc += (acc_t - running_acc) / (batch_index + 1)\n",
    "            val_bar.set_postfix(loss=running_loss, acc=running_acc, \n",
    "                                epoch=epoch_index)\n",
    "            val_bar.update()\n",
    "\n",
    "        train_state['val_loss'].append(running_loss)\n",
    "        train_state['val_acc'].append(running_acc)\n",
    "\n",
    "        train_state = update_train_state(args=args, model=classifier,\n",
    "                                         train_state=train_state)\n",
    "\n",
    "        scheduler.step(train_state['val_loss'][-1])\n",
    "\n",
    "        if train_state['stop_early']:\n",
    "            break\n",
    "\n",
    "        train_bar.n = 0\n",
    "        val_bar.n = 0\n",
    "        epoch_bar.update()\n",
    "except KeyboardInterrupt:\n",
    "    print(\"Exiting loop\")\n"
   ]
  },
  {
   "cell_type": "code",
   "execution_count": 11,
   "metadata": {},
   "outputs": [],
   "source": [
    "# compute the loss & accuracy on the test set using the best available model\n",
    "\n",
    "classifier.load_state_dict(torch.load(train_state['model_filename']))\n",
    "classifier = classifier.to(args.device)\n",
    "loss_func = nn.CrossEntropyLoss()\n",
    "\n",
    "dataset.set_split('test')\n",
    "batch_generator = generate_batches(dataset, \n",
    "                                   batch_size=args.batch_size, \n",
    "                                   device=args.device)\n",
    "running_loss = 0.\n",
    "running_acc = 0.\n",
    "classifier.eval()\n",
    "\n",
    "for batch_index, batch_dict in enumerate(batch_generator):\n",
    "    # compute the output\n",
    "    y_pred =  classifier(x_in=batch_dict['x_data'])\n",
    "    \n",
    "    # compute the loss\n",
    "    loss = loss_func(y_pred, batch_dict['y_target'])\n",
    "    loss_t = loss.item()\n",
    "    running_loss += (loss_t - running_loss) / (batch_index + 1)\n",
    "\n",
    "    # compute the accuracy\n",
    "    acc_t = compute_accuracy(y_pred, batch_dict['y_target'])\n",
    "    running_acc += (acc_t - running_acc) / (batch_index + 1)\n",
    "\n",
    "train_state['test_loss'] = running_loss\n",
    "train_state['test_acc'] = running_acc\n"
   ]
  },
  {
   "cell_type": "code",
   "execution_count": 12,
   "metadata": {},
   "outputs": [
    {
     "name": "stdout",
     "output_type": "stream",
     "text": [
      "Test loss: 7.048454321692968;\n",
      "Test Accuracy: 79.79411764705885\n"
     ]
    }
   ],
   "source": [
    "print(\"Test loss: {};\".format(train_state['test_loss']))\n",
    "print(\"Test Accuracy: {}\".format(train_state['test_acc']))"
   ]
  },
  {
   "cell_type": "markdown",
   "metadata": {},
   "source": [
    "### Trained Embeddings"
   ]
  },
  {
   "cell_type": "code",
   "execution_count": 13,
   "metadata": {},
   "outputs": [],
   "source": [
    "def pretty_print(results):\n",
    "    \"\"\"\n",
    "    Pretty print embedding results.\n",
    "    \"\"\"\n",
    "    for item in results:\n",
    "        print (\"...[%.2f] - %s\"%(item[1], item[0]))\n",
    "\n",
    "def get_closest(target_word, word_to_idx, embeddings, n=5):\n",
    "    \"\"\"\n",
    "    Get the n closest\n",
    "    words to your word.\n",
    "    \"\"\"\n",
    "\n",
    "    # Calculate distances to all other words\n",
    "    \n",
    "    word_embedding = embeddings[word_to_idx[target_word.lower()]]\n",
    "    distances = []\n",
    "    for word, index in word_to_idx.items():\n",
    "        if word == \"<MASK>\" or word == target_word:\n",
    "            continue\n",
    "        distances.append((word, torch.dist(word_embedding, embeddings[index])))\n",
    "    \n",
    "    results = sorted(distances, key=lambda x: x[1])[1:n+2]\n",
    "    return results\n"
   ]
  },
  {
   "cell_type": "code",
   "execution_count": 14,
   "metadata": {},
   "outputs": [
    {
     "name": "stdout",
     "output_type": "stream",
     "text": [
      "...[7.24] - crossed\n",
      "...[7.33] - joined\n",
      "...[7.50] - annihilation\n",
      "...[7.58] - torments\n",
      "...[7.59] - lessons\n",
      "...[7.61] - arise\n"
     ]
    }
   ],
   "source": [
    "word = \"good\"\n",
    "embeddings = classifier.embeddings.weight.data\n",
    "word_to_idx = vectorizer.vocab._token_to_idx\n",
    "pretty_print(get_closest(word, word_to_idx, embeddings, n=5))"
   ]
  },
  {
   "cell_type": "code",
   "execution_count": 15,
   "metadata": {},
   "outputs": [
    {
     "name": "stdout",
     "output_type": "stream",
     "text": [
      "=======frankenstein=======\n",
      "...[7.57] - mode\n",
      "...[7.59] - irradiated\n",
      "...[7.77] - men\n",
      "...[7.81] - strain\n",
      "...[7.88] - enslaved\n",
      "...[7.90] - wound\n",
      "=======monster=======\n",
      "...[7.50] - griefs\n",
      "...[7.51] - permit\n",
      "...[7.62] - relief\n",
      "...[7.71] - opaque\n",
      "...[7.78] - skin\n",
      "...[7.81] - trifling\n",
      "=======science=======\n",
      "...[7.43] - gospel\n",
      "...[7.49] - mist\n",
      "...[7.54] - tempted\n",
      "...[7.55] - mutual\n",
      "...[7.62] - oxford\n",
      "...[7.66] - nearly\n",
      "=======sickness=======\n",
      "...[6.63] - awoke\n",
      "...[6.64] - foundations\n",
      "...[6.67] - probabilities\n",
      "...[6.70] - literally\n",
      "...[6.76] - consoles\n",
      "...[6.76] - insanity\n",
      "=======lonely=======\n",
      "...[7.01] - unveiled\n",
      "...[7.01] - ought\n",
      "...[7.02] - moonlight\n",
      "...[7.16] - heartily\n",
      "...[7.22] - bed\n",
      "...[7.23] - undiscovered\n",
      "=======happy=======\n",
      "...[6.64] - bottom\n",
      "...[6.69] - penetrated\n",
      "...[6.80] - injury\n",
      "...[6.85] - devices\n",
      "...[6.89] - evening\n",
      "...[6.89] - joys\n"
     ]
    }
   ],
   "source": [
    "target_words = ['frankenstein', 'monster', 'science', 'sickness', 'lonely', 'happy']\n",
    "\n",
    "embeddings = classifier.embeddings.weight.data\n",
    "word_to_idx = vectorizer.vocab._token_to_idx\n",
    "\n",
    "for target_word in target_words: \n",
    "    print(f\"======={target_word}=======\")\n",
    "    if target_word not in word_to_idx:\n",
    "        print(\"Not in vocabulary\")\n",
    "        continue\n",
    "    pretty_print(get_closest(target_word, word_to_idx, embeddings, n=5))"
   ]
  },
  {
   "cell_type": "code",
   "execution_count": 84,
   "metadata": {},
   "outputs": [
    {
     "name": "stdout",
     "output_type": "stream",
     "text": [
      "doctor nurse 7.0 0.12387172877788544 5.6193587357363475\n",
      "student professor 6.81 0.06943700462579727 5.347185061029062\n",
      "smart stupid 5.81 -0.034458670765161514 4.827706610986377\n",
      "wood forest 7.73 0.110124371945858 5.550621925342652\n",
      "king queen 8.58 -0.015770800411701202 4.921145915251817\n",
      "fuck sex 9.44 -0.07525528967380524 4.6237236133784085\n",
      "physics chemistry 7.35 -0.13122977316379547 4.3438511573361565\n",
      "vodka brandy 8.13 -0.15378648042678833 4.231067693669792\n",
      "drink eat 6.87 0.14110016822814941 5.705500793941414\n",
      "gem jewel 8.96 -0.004307782277464867 4.978461151913526\n",
      "journey voyage 9.29 0.11439583450555801 5.571979133094533\n",
      "coast shore 9.1 -0.08165182918310165 4.591740774399337\n",
      "midday noon 9.29 0.07070131599903107 5.353506591278584\n",
      "furnace stove 8.79 -0.10266588628292084 4.486670630374197\n",
      "tiger animal 7.0 -0.18223978579044342 4.088801114941699\n",
      "psychology science 6.71 0.02004077471792698 5.10020397744267\n",
      "psychology discipline 5.58 -0.04393485188484192 4.780325707494832\n",
      "planet star 8.45 0.1395389586687088 5.697694773285807\n",
      "planet moon 8.08 0.14353226125240326 5.717661208903918\n",
      "planet sun 8.02 -0.18835388123989105 4.058230648799967\n",
      "precedent example 5.85 0.059544920921325684 5.297724588584619\n",
      "cup object 3.69 0.11501431465148926 5.575071714199514\n",
      "skin eye 6.22 -0.021571621298789978 4.8921418292992485\n",
      "century year 7.59 0.10466259717941284 5.523313085995559\n",
      "announcement news 7.56 0.00356321781873703 5.017816131176561\n",
      "life death 7.88 0.21932919323444366 6.096646088505141\n",
      "travel activity 5.0 0.12409570813179016 5.620478457427504\n",
      "type kind 8.97 -0.058868587017059326 4.705657014345505\n",
      "street place 6.44 0.11774583160877228 5.588729074828575\n",
      "street avenue 8.88 0.20258161425590515 6.0129080312621195\n",
      "profit loss 7.63 -0.0853680893778801 4.573159526477599\n",
      "liquid water 7.89 -0.1301441490650177 4.349279332410308\n",
      "seafood food 8.34 0.07673703879117966 5.3836851202604885\n",
      "lobster food 7.81 0.07673703879117966 5.3836851202604885\n",
      "lobster wine 5.7 -0.011579148471355438 4.942104237197941\n",
      "man woman 8.3 -0.11086148023605347 4.445692597376833\n",
      "shower thunderstorm 6.31 0.06473210453987122 5.323660607237021\n",
      "cup food 5.0 0.15222086012363434 5.761104323724644\n",
      "street children 4.94 0.11201741546392441 5.5600869668138255\n",
      "car flight 4.94 0.009669799357652664 5.048349027309312\n",
      "space chemistry 4.88 0.0625605583190918 5.3128027910138265\n",
      "situation conclusion 4.81 0.16726180911064148 5.836309135945063\n",
      "word similarity 4.75 0.07119645923376083 5.355982283143451\n",
      "peace plan 4.75 0.25791674852371216 6.289583622534451\n",
      "consumer energy 4.75 -0.1143532246351242 4.4282337695384255\n",
      "smart student 4.62 0.24878084659576416 6.2439041931735595\n",
      "investigation effort 4.59 0.05760572850704193 5.288028540932399\n",
      "image surface 4.56 -0.0186874158680439 4.906562893816792\n",
      "life term 4.5 0.12856367230415344 5.642818320305011\n",
      "start match 4.47 -0.19040220975875854 4.047988909409413\n",
      "computer news 4.47 0.00356321781873703 5.017816131176561\n",
      "lad brother 4.46 -0.08017776906490326 4.5991111834347524\n",
      "coast hill 4.38 -0.1329178512096405 4.335410805715006\n",
      "deployment departure 4.25 -0.28952181339263916 3.5523910198552837\n",
      "attempt peace 4.25 -0.005929224193096161 4.970353952181796\n",
      "consumer confidence 4.13 0.12139371037483215 5.606968521247879\n",
      "start year 4.06 -0.04700145870447159 4.764992749479124\n",
      "focus life 4.06 0.059540435671806335 5.297702312267623\n",
      "development issue 3.97 -0.1250581443309784 4.374709114209264\n",
      "theater history 3.91 0.24468547105789185 6.223427439900862\n",
      "precedent information 3.85 0.07269136607646942 5.363456871754136\n",
      "architecture century 3.78 0.06525726616382599 5.326286293836376\n",
      "population development 3.75 -0.046735890209674835 4.7663204535688966\n",
      "stock live 3.73 -0.009828940033912659 4.950855313724504\n",
      "peace atmosphere 3.69 -0.032595884054899216 4.837020570479409\n",
      "morality marriage 3.69 -0.3182487487792969 3.408756013363661\n",
      "minority peace 3.69 -0.12679560482501984 4.366021957603395\n",
      "atmosphere landscape 3.69 0.06365309655666351 5.318265466810704\n",
      "report gain 3.63 -0.19774849712848663 4.011257436685133\n",
      "seven series 3.56 -0.06651473045349121 4.667426363292138\n",
      "experience music 3.47 -0.03802427649497986 4.809878685434634\n",
      "five month 3.38 0.11104100942611694 5.555205018545646\n",
      "announcement production 3.38 -0.16954775154590607 4.1522612005530855\n",
      "morality importance 3.31 0.019408151507377625 5.097040833619979\n",
      "money operation 3.31 0.19773027300834656 5.988651261610179\n",
      "delay news 3.31 0.22696024179458618 6.134801099623926\n",
      "governor interview 3.25 -0.09056104719638824 4.547194739064738\n",
      "century nation 3.16 0.10349123924970627 5.5174561263361355\n",
      "coast forest 3.15 0.10712315142154694 5.535615714950241\n",
      "peace insurance 2.94 -0.11418066918849945 4.429096591674846\n",
      "Mars water 2.94 -0.1301441490650177 4.349279332410308\n",
      "media gain 2.88 0.0029865000396966934 5.014932549882045\n",
      "announcement effort 2.75 0.05760572850704193 5.288028540932399\n",
      "line insurance 2.69 0.3047821819782257 6.5239109948245675\n",
      "drink mother 2.65 0.21743890643119812 6.087194536496375\n",
      "sign recess 2.38 -0.004788294434547424 4.976058534755965\n",
      "Wednesday news 2.22 0.00356321781873703 5.017816131176561\n",
      "possibility girl 1.94 0.11342384666204453 5.5671191706466026\n",
      "cup substance 1.92 0.07051174342632294 5.352558771289583\n",
      "precedent group 1.77 -0.014272220432758331 4.928638827223591\n",
      "holy sex 1.62 -0.1826489120721817 4.086755324887102\n",
      "drink ear 1.31 0.20056776702404022 6.002838856820135\n",
      "stock life 0.92 0.31263720989227295 6.56318643900559\n",
      "monk slave 0.92 0.0487055741250515 5.243527759682291\n",
      "sugar approach 0.88 0.04344142973423004 5.217207116756674\n",
      "rooster voyage 0.62 -0.09063443541526794 4.546827795671126\n",
      "chord smile 0.54 0.16289137303829193 5.81445680716269\n"
     ]
    }
   ],
   "source": [
    "from numpy.linalg import norm\n",
    "\n",
    "dists = []\n",
    "sims = []\n",
    "sims1 = []\n",
    "sims2 = []\n",
    "scores = []\n",
    "\n",
    "emb = classifier.embeddings.weight.data\n",
    "with open(\"wordsim_similarity_goldstandard.txt\") as fp:\n",
    "    for line in fp:\n",
    "        w1, w2, score = line.split()\n",
    "        score = float(score)\n",
    "        idx1 = vectorizer.vocab.lookup_token(w1)\n",
    "        idx2 = vectorizer.vocab.lookup_token(w2)\n",
    "        if idx1 != idx2 != 1:\n",
    "            e1, e2 = emb[idx1], emb[idx2]\n",
    "            n1, n2 = e1.numpy(), e2.numpy()\n",
    "            sim = F.cosine_similarity(e1, e2, dim=0).item()\n",
    "            dist = torch.dist(e1, e2).item()\n",
    "            sim1 = (torch.sum(e1 * e2)) / (torch.sum(e1**2) ** 0.5 * torch.sum(e2 ** 2) ** 0.5)\n",
    "            sim1 = sim1.item()\n",
    "\n",
    "            sim2 = 5 * np.dot(n1, n2) / (norm(n1) * norm(n2)) + 5\n",
    " \n",
    "            scores.append(score)\n",
    "            dists.append(dist)\n",
    "            sims.append(sim)\n",
    "            sims1.append(sim1)\n",
    "            sims2.append(sim2)\n",
    "            print(w1, w2, float(score), sim, sim2)"
   ]
  },
  {
   "cell_type": "code",
   "execution_count": 89,
   "metadata": {},
   "outputs": [
    {
     "data": {
      "text/plain": [
       "[<matplotlib.lines.Line2D at 0x7ff463690e50>]"
      ]
     },
     "execution_count": 89,
     "metadata": {},
     "output_type": "execute_result"
    },
    {
     "data": {
      "image/png": "[encoded data removed]",
      "text/plain": [
       "<Figure size 432x288 with 1 Axes>"
      ]
     },
     "metadata": {
      "needs_background": "light"
     },
     "output_type": "display_data"
    }
   ],
   "source": [
    "import matplotlib.pyplot as plt\n",
    "\n",
    "plt.plot(scores)\n",
    "plt.plot(sims2)"
   ]
  },
  {
   "cell_type": "code",
   "execution_count": 93,
   "metadata": {},
   "outputs": [
    {
     "data": {
      "text/plain": [
       "-0.08884047854748604"
      ]
     },
     "execution_count": 93,
     "metadata": {},
     "output_type": "execute_result"
    }
   ],
   "source": [
    "df = pd.DataFrame({\"scores\": scores, \n",
    "                   \"sims\": sims, \n",
    "                   \"sims1\": sims1, \n",
    "                   \"sims2\": sims2})\n",
    "\n",
    "df[\"scores\"].corr(df[\"sims2\"])"
   ]
  },
  {
   "cell_type": "code",
   "execution_count": 94,
   "metadata": {},
   "outputs": [
    {
     "ename": "ModuleNotFoundError",
     "evalue": "No module named 'annoy'",
     "output_type": "error",
     "traceback": [
      "\u001b[0;31m---------------------------------------------------------------------------\u001b[0m",
      "\u001b[0;31mModuleNotFoundError\u001b[0m                       Traceback (most recent call last)",
      "\u001b[1;32m/Users/brane/Documents/PMFST Projekt/internacionalizacija/Natural Language Processing/DL4NLP/nlp_repo/assignments/a04/nlp_a04.1_skipgram.ipynb Cell 32\u001b[0m in \u001b[0;36m<cell line: 1>\u001b[0;34m()\u001b[0m\n\u001b[0;32m----> <a href='vscode-notebook-cell:/Users/brane/Documents/PMFST%20Projekt/internacionalizacija/Natural%20Language%20Processing/DL4NLP/nlp_repo/assignments/a04/nlp_a04.1_skipgram.ipynb#X50sZmlsZQ%3D%3D?line=0'>1</a>\u001b[0m \u001b[39mfrom\u001b[39;00m \u001b[39mannoy\u001b[39;00m \u001b[39mimport\u001b[39;00m AnnoyIndex\n",
      "\u001b[0;31mModuleNotFoundError\u001b[0m: No module named 'annoy'"
     ]
    }
   ],
   "source": [
    "from annoy import AnnoyIndex"
   ]
  },
  {
   "cell_type": "code",
   "execution_count": null,
   "metadata": {},
   "outputs": [],
   "source": []
  }
 ],
 "metadata": {
  "_draft": {
   "nbviewer_url": "https://gist.github.com/7f86253a46c5444491fbb7541857edfa"
  },
  "gist": {
   "data": {
    "description": "chapters/06_RNN/tweet_classifcation/tweeter_classification.ipynb",
    "public": true
   },
   "id": "7f86253a46c5444491fbb7541857edfa"
  },
  "hide_input": false,
  "kernelspec": {
   "display_name": "Python 3.9.13 ('nlp')",
   "language": "python",
   "name": "python3"
  },
  "language_info": {
   "codemirror_mode": {
    "name": "ipython",
    "version": 3
   },
   "file_extension": ".py",
   "mimetype": "text/x-python",
   "name": "python",
   "nbconvert_exporter": "python",
   "pygments_lexer": "ipython3",
   "version": "3.8.13"
  },
  "latex_envs": {
   "LaTeX_envs_menu_present": true,
   "bibliofile": "biblio.bib",
   "cite_by": "apalike",
   "current_citInitial": 1,
   "eqLabelWithNumbers": true,
   "eqNumInitial": 1,
   "hotkeys": {
    "equation": "Ctrl-E",
    "itemize": "Ctrl-I"
   },
   "labels_anchors": false,
   "latex_user_defs": false,
   "report_style_numbering": false,
   "user_envs_cfg": false
  },
  "nbTranslate": {
   "displayLangs": [
    "*"
   ],
   "hotkey": "alt-t",
   "langInMainMenu": true,
   "sourceLang": "en",
   "targetLang": "fr",
   "useGoogleTranslate": true
  },
  "notify_time": "30",
  "toc": {
   "colors": {
    "hover_highlight": "#DAA520",
    "running_highlight": "#FF0000",
    "selected_highlight": "#FFD700"
   },
   "moveMenuLeft": true,
   "nav_menu": {
    "height": "156px",
    "width": "252px"
   },
   "navigate_menu": true,
   "number_sections": true,
   "sideBar": false,
   "threshold": 4,
   "toc_cell": true,
   "toc_position": {
    "height": "255px",
    "left": "561px",
    "right": "20px",
    "top": "179px",
    "width": "266px"
   },
   "toc_section_display": "block",
   "toc_window_display": false
  },
  "vscode": {
   "interpreter": {
    "hash": "358f19b5168dcc2c817c22e8ae2c189228565b53de3b91095ee770a390daccdd"
   }
  }
 },
 "nbformat": 4,
 "nbformat_minor": 2
}
