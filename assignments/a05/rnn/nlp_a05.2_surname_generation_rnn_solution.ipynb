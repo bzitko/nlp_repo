{
 "cells": [
  {
   "cell_type": "code",
   "execution_count": null,
   "metadata": {},
   "outputs": [],
   "source": [
    "import os\n",
    "\n",
    "url_path = \"https://raw.githubusercontent.com/bzitko/nlp_repo/main/assignments/a05/rnn\"\n",
    "downloads = {\"surnames_with_splits.csv\": None,\n",
    "             \"nlp.py\": None}\n",
    "\n",
    "for download_name, extract_name in downloads.items():\n",
    "    if extract_name and os.path.exists(extract_name):\n",
    "        continue\n",
    "\n",
    "    if not os.path.exists(download_name):\n",
    "        import requests\n",
    "        response = requests.get(f\"{url_path}{download_name}\")\n",
    "        with open(download_name, \"wb\") as fp:\n",
    "            fp.write(response.content)\n",
    "        response.close()\n",
    "\n",
    "    if not extract_name:\n",
    "        continue\n",
    "\n",
    "    _, ext = os.path.splitext(download_name)\n",
    "    if ext == \".bz2\":    \n",
    "        import bz2\n",
    "        with open(download_name, 'rb') as bzf, open(extract_name, 'wb') as fp:\n",
    "            fp.write(bz2.decompress(bzf.read()))\n",
    "    elif ext == \".zip\":\n",
    "        from zipfile import ZipFile\n",
    "        with ZipFile(download_name) as zf:\n",
    "            zf.extractall(path=\".\")\n"
   ]
  },
  {
   "cell_type": "markdown",
   "metadata": {},
   "source": [
    "# SOLUTION: Generating Surnames with a RNN"
   ]
  },
  {
   "cell_type": "markdown",
   "metadata": {},
   "source": [
    "## Imports"
   ]
  },
  {
   "cell_type": "code",
   "execution_count": 2,
   "metadata": {},
   "outputs": [],
   "source": [
    "import pandas as pd\n",
    "\n",
    "import torch\n",
    "import torch.nn as nn\n",
    "import torch.nn.functional as F\n",
    "import torch.optim as optim\n",
    "from torch.utils.data import Dataset, DataLoader\n",
    "\n",
    "from sklearn.metrics import confusion_matrix\n",
    "\n",
    "import matplotlib.pyplot as plt\n",
    "import seaborn as sns\n",
    "\n",
    "from itertools import chain\n",
    "\n",
    "from nlp import Vocabulary, StepByStep, allclose, mdprint"
   ]
  },
  {
   "cell_type": "markdown",
   "metadata": {},
   "source": [
    "# 1 Data preparation\n",
    "\n",
    "This code reads a CSV file named `\"surnames_with_splits.csv\"` into a DataFrame using pandas. It then splits the DataFrame into three subsets based on the value in the `split` column: \n",
    "\n",
    "- `train_df`: Contains rows where the `split` column equals `\"train\"`.\n",
    "- `val_df`: Contains rows where the `split` column equals `\"val\"`.\n",
    "- `test_df`: Contains rows where the `split` column equals `\"test\"`.\n",
    "\n",
    "Finally, it displays the `train_df` DataFrame, which contains the training data."
   ]
  },
  {
   "cell_type": "code",
   "execution_count": 3,
   "metadata": {},
   "outputs": [],
   "source": [
    "surname_df = pd.read_csv(\"surnames_with_splits.csv\")\n",
    "\n",
    "train_df = surname_df[surname_df.split == \"train\"]\n",
    "val_df = surname_df[surname_df.split == \"val\"]\n",
    "test_df = surname_df[surname_df.split == \"test\"]"
   ]
  },
  {
   "cell_type": "markdown",
   "metadata": {},
   "source": [
    "## 1.1 Maximal Size\n",
    "\n",
    "👍  \n",
    "In this task, you need to implement a function called `get_max_length` that accepts a sequence (such as a list or array) and returns the length of the longest item in the sequence.\n",
    "- Define the function `get_max_length(sequence)` that takes a sequence as input.\n",
    "- The function should return the length of the longest item in the sequence.\n"
   ]
  },
  {
   "cell_type": "code",
   "execution_count": 4,
   "metadata": {},
   "outputs": [
    {
     "name": "stdout",
     "output_type": "stream",
     "text": [
      "17\n"
     ]
    }
   ],
   "source": [
    "def get_max_length(sequence):\n",
    "    return max(len(item) for item in sequence)\n",
    "\n",
    "max_surname_size = get_max_length(train_df.surname)\n",
    "print(max_surname_size)\n",
    "\n",
    "assert max_surname_size == 17"
   ]
  },
  {
   "cell_type": "markdown",
   "metadata": {},
   "source": [
    "## 1.3 Building Vocabulary\n",
    "\n",
    "This code initializes two vocabularies, `surname_vocab` and `nationality_vocab`, using a custom `Vocabulary` class.\n",
    "\n",
    "- `PAD_TOK` is set to a space (`\" \"`) and `UNK_TOK` is set to an \"@\" symbol, which are used as special tokens for padding and unknown words, respectively.\n",
    "- `surname_vocab` is created with these special tokens, and then the vocabulary is populated using the `fill()` method, which is called on the `surname` column from the `train_df` DataFrame.\n",
    "- `nationality_vocab` is created without any special tokens, and its vocabulary is populated with the unique nationalities from `train_df`, sorted by their frequency (from `nationality_counts`).\n",
    "\n",
    "Finally, it prints the contents of both `surname_vocab` and `nationality_vocab` to the console."
   ]
  },
  {
   "cell_type": "code",
   "execution_count": 5,
   "metadata": {},
   "outputs": [
    {
     "name": "stdout",
     "output_type": "stream",
     "text": [
      "Surname vocab: {' ': 0, '<': 1, '>': 2, '@': 3, 'T': 4, 'o': 5, 't': 6, 'a': 7, 'h': 8, 'A': 9, 'b': 10, 'u': 11, 'd': 12, 'F': 13, 'k': 14, 'r': 15, 'y': 16, 'S': 17, 'e': 18, 'g': 19, 'C': 20, 'm': 21, 'H': 22, 'i': 23, 'K': 24, 'n': 25, 'W': 26, 's': 27, 'f': 28, 'G': 29, 'M': 30, 'l': 31, 'B': 32, 'z': 33, 'N': 34, 'I': 35, 'w': 36, 'D': 37, 'Q': 38, 'j': 39, 'E': 40, 'R': 41, 'Z': 42, 'c': 43, 'Y': 44, 'J': 45, 'L': 46, 'O': 47, '-': 48, 'P': 49, 'X': 50, 'p': 51, ':': 52, 'v': 53, 'U': 54, '1': 55, 'V': 56, 'x': 57, 'q': 58, 'é': 59, 'É': 60, \"'\": 61, 'ß': 62, 'ö': 63, 'ä': 64, 'ü': 65, 'ú': 66, 'à': 67, 'ò': 68, 'è': 69, 'ó': 70, 'Ś': 71, 'ą': 72, 'ń': 73, 'á': 74, 'ż': 75, 'õ': 76, 'í': 77, 'ñ': 78, 'Á': 79}\n",
      "Nationality vocab: {'Arabic': 0, 'Chinese': 1, 'Czech': 2, 'Dutch': 3, 'English': 4, 'French': 5, 'German': 6, 'Greek': 7, 'Irish': 8, 'Italian': 9, 'Japanese': 10, 'Korean': 11, 'Polish': 12, 'Portuguese': 13, 'Russian': 14, 'Scottish': 15, 'Spanish': 16, 'Vietnamese': 17}\n"
     ]
    }
   ],
   "source": [
    "PAD_TOK = \" \"\n",
    "BGN_TOK = \"<\"\n",
    "END_TOK = \">\"\n",
    "UNK_TOK = \"@\"\n",
    "\n",
    "surname_vocab = Vocabulary(pad_tok=PAD_TOK, bgn_tok=BGN_TOK, end_tok=END_TOK, unk_tok=UNK_TOK)\n",
    "surname_vocab.fill(train_df.surname)\n",
    "\n",
    "nationality_vocab = Vocabulary()\n",
    "nationality_vocab.fill([sorted(set(train_df.nationality))])\n",
    "\n",
    "print(f\"Surname vocab: {surname_vocab}\")\n",
    "print(f\"Nationality vocab: {nationality_vocab}\")"
   ]
  },
  {
   "cell_type": "markdown",
   "metadata": {},
   "source": [
    "## 1.6 Surname Vectorization\n",
    "\n",
    "👍  \n",
    "In this task, you need to implement a function called `vectorize` that converts a sequence (such as a string) into a fixed-size tensor of integers, based on the provided vocabulary. It optionally adds special markers for the beginning and end of the sequence and handles truncation or padding to ensure the output tensor matches the desired size.\n",
    "\n",
    "- Define the function `vectorize(sequence, vocab, max_size, mark_sequence=True)` that takes three inputs:\n",
    "  - `sequence`: A sequence (such as a string) to be vectorized.\n",
    "  - `vocab`: A dictionary mapping items in the sequence to integer indices.\n",
    "  - `max_size`: The maximum size of the output tensor.\n",
    "  - `mark_sequece`: If `True`, the function adds \"begin of sequence\" token at the start and \"end of token\" at the end of the sequence.\n",
    "- The function should return a tensor of size `max_size` (if `mark_sequence` is set to `False` or `max_size + 2` otherwise), where:\n",
    "  - Each position in the tensor corresponds to an index from the `vocab` for the corresponding item in the sequence.\n",
    "  - The sequence is truncated or padded to fit the `max_size`.\n",
    "  - Begin of sequence token and end of sequence token are accessible through vocabulary using `vocab.bgn_tok` and `vocab.end_tok`.\n"
   ]
  },
  {
   "cell_type": "code",
   "execution_count": 6,
   "metadata": {},
   "outputs": [
    {
     "data": {
      "text/markdown": [
       "Vectorization of 'Doe' with sequence marks is $\\begin{bmatrix} 1 & 37 & 5 & 18 & 2 & 0 & 0 & 0 & 0 & 0 & 0 & 0\\end{bmatrix}$"
      ],
      "text/plain": [
       "<IPython.core.display.Markdown object>"
      ]
     },
     "metadata": {},
     "output_type": "display_data"
    },
    {
     "data": {
      "text/markdown": [
       "Vectorization of 'Doe' without sequence marks is $\\begin{bmatrix} 37 & 5 & 18 & 0 & 0 & 0 & 0 & 0 & 0 & 0\\end{bmatrix}$"
      ],
      "text/plain": [
       "<IPython.core.display.Markdown object>"
      ]
     },
     "metadata": {},
     "output_type": "display_data"
    }
   ],
   "source": [
    "def vectorize(seq, vocab, max_size, mark_sequence=True):\n",
    "    seq = list(seq)[:max_size]\n",
    "    if mark_sequence:\n",
    "        seq = [vocab.bgn_tok] + seq + [vocab.end_tok]\n",
    "        vec = torch.zeros(max_size + 2, dtype=int)\n",
    "    else:\n",
    "        seq = list(seq)\n",
    "        vec = torch.zeros(max_size, dtype=int)\n",
    "\n",
    "    for i, item in enumerate(seq):\n",
    "        vec[i] = vocab[item]\n",
    "    return vec\n",
    "\n",
    "\n",
    "sn = \"Doe\"\n",
    "max_size = 10\n",
    "# mark_sequence = True\n",
    "sn2vec = vectorize(sn, surname_vocab, max_size)\n",
    "assert isinstance(sn2vec, torch.Tensor) and sn2vec.dtype == torch.int64, \\\n",
    "    f\"vectorize('{sn}', max_size={max_size}) should return tensor containing integers\"\n",
    "assert sn2vec.shape == (max_size + 2,), \\\n",
    "    f\"return tensor of vectorize('{sn}', max_size={max_size}) shuld be of shape {(max_size+2, )}\"\n",
    "mdprint(f\"Vectorization of '{sn}' with sequence marks is\", sn2vec)\n",
    "vec2sn = \"\".join([surname_vocab.inverse[idx.item()] for idx in sn2vec])\n",
    "unsn = (\"<\" + sn + \">\").ljust(max_size + 2, \" \")\n",
    "assert vec2sn == unsn, \\\n",
    "    f\"Unvectorization of returned tensor of vectorize('{sn}', max_size={max_size}) must be '{unsn}'\"\n",
    "\n",
    "# mark_sequence = False\n",
    "sn2vec = vectorize(sn, surname_vocab, max_size, mark_sequence=False)\n",
    "assert isinstance(sn2vec, torch.Tensor) and sn2vec.dtype == torch.int64, \\\n",
    "    f\"vectorize('{sn}', max_size={max_size}) should return tensor containing integers\"\n",
    "assert sn2vec.shape == (max_size,), \\\n",
    "    f\"return tensor of vectorize('{sn}', max_size={max_size}) shuld be of shape {(max_size, )}\"\n",
    "mdprint(f\"Vectorization of '{sn}' without sequence marks is\", sn2vec)\n",
    "vec2sn = \"\".join([surname_vocab.inverse[idx.item()] for idx in sn2vec])\n",
    "unsn = sn.ljust(max_size, \" \")\n",
    "assert vec2sn == unsn, \\\n",
    "    f\"Unvectorization of returned tensor of vectorize('{sn}', max_size={max_size}) must be '{unsn}'\"\n",
    "\n"
   ]
  },
  {
   "cell_type": "markdown",
   "metadata": {},
   "source": [
    "## 1.7 Datasets\n",
    "\n",
    "This code defines a custom `Dataset` class, `SurnameDataset`, which is used for handling surname and nationality data in a format suitable for machine learning models. Dataset contains datapoints in following form: \n",
    "* x - tensor for padded and marked surname, for example `<Smith>     `\n",
    "* h - tensor for nationality used as context vector\n",
    "* y - tensor for shifted padded and marked surname for one letter, for example `Smith>      `\n"
   ]
  },
  {
   "cell_type": "code",
   "execution_count": 7,
   "metadata": {},
   "outputs": [
    {
     "data": {
      "text/plain": [
       "(tensor([1, 4, 5, 6, 7, 8, 2, 0, 0, 0, 0, 0, 0, 0, 0, 0, 0, 0, 0]),\n",
       " 0,\n",
       " tensor([4, 5, 6, 7, 8, 2, 0, 0, 0, 0, 0, 0, 0, 0, 0, 0, 0, 0, 0]))"
      ]
     },
     "execution_count": 7,
     "metadata": {},
     "output_type": "execute_result"
    }
   ],
   "source": [
    "class SurnameDataset(Dataset):\n",
    "\n",
    "    def __init__(self, df, surname_vocab, nationality_vocab, max_surname_size):\n",
    "        self.data = []\n",
    "        y_pad = torch.tensor([surname_vocab.pad_idx])\n",
    "        for _, row in df.iterrows():\n",
    "            x = vectorize(row.surname, surname_vocab, max_surname_size, mark_sequence=True)\n",
    "            h = nationality_vocab[row.nationality]\n",
    "            y = torch.cat([x[1:], y_pad])\n",
    "\n",
    "            self.data.append((x, h, y))\n",
    "\n",
    "    def __getitem__(self, idx):\n",
    "        return self.data[idx]\n",
    "    \n",
    "    def __len__(self):\n",
    "        return len(self.data)\n",
    "    \n",
    "train_dataset = SurnameDataset(train_df, surname_vocab, nationality_vocab, max_surname_size)\n",
    "val_dataset = SurnameDataset(val_df, surname_vocab, nationality_vocab, max_surname_size)\n",
    "test_dataset = SurnameDataset(test_df, surname_vocab, nationality_vocab, max_surname_size)\n",
    "\n",
    "train_dataset[0]\n"
   ]
  },
  {
   "cell_type": "markdown",
   "metadata": {},
   "source": [
    "# 2 Model\n",
    "\n",
    "## 2.1 Model initialization\n",
    "\n",
    "👍  \n",
    "In this task, you will implement the `__init__` method of the `SurnameGeneratorRNN` class. This class defines a Recurrent Neural Network (RNN) for surname generation. The model predicts the next character in a surname sequence, given the previous characters and the nationality context. The model includes:\n",
    "* Character embedding for input surnames.\n",
    "* Nationality embedding for providing context.\n",
    "* An RNN layer for sequence modeling.\n",
    "* A fully connected layer for predicting the next character.\n",
    "* Dropout for regularization.\n",
    "\n",
    "\n",
    "#### **1. Input Character Embedding (`self.in_embedding`)**\n",
    "- Create an `nn.Embedding` layer for character inputs:\n",
    "  - **`num_embeddings`**: `len(surname_vocab)` — number of unique characters in the vocabulary.\n",
    "  - **`embedding_dim`**: `in_embedding_dim` — size of the embedding vector for each character.\n",
    "  - **`padding_idx`**: `surname_vocab.pad_idx` — the index used for padding.\n",
    "\n",
    "The embedding layer maps input indices to dense vectors:\n",
    "$$\n",
    "\\mathbf{x}_t \\in \\mathbb{R}^{\\text{in\\_embedding\\_dim}}\n",
    "$$\n",
    "Where:\n",
    "- $\\mathbf{x}_t$ is the embedding for the $t$-th character in the input sequence.\n",
    "\n",
    "---\n",
    "\n",
    "#### **2. Nationality Embedding (`self.h_embedding`)**\n",
    "- Create an `nn.Embedding` layer for nationality inputs:\n",
    "  - **`num_embeddings`**: `len(nationality_vocab)` — number of nationalities.\n",
    "  - **`embedding_dim`**: `h_embedding_dim` — size of the embedding vector for each nationality.\n",
    "\n",
    "This layer creates a dense representation for nationalities, which is used to initialize the RNN's hidden state:\n",
    "$$\n",
    "\\mathbf{h}_{\\text{init}} \\in \\mathbb{R}^{\\text{h\\_embedding\\_dim}}\n",
    "$$\n",
    "\n",
    "---\n",
    "\n",
    "#### **3. RNN Layer (`self.rnn`)**\n",
    "- Use a `torch.nn.GRU` layer to process input sequences:\n",
    "  - **`input_size`**: `in_embedding_dim` — size of the input embeddings.\n",
    "  - **`hidden_size`**: `h_embedding_dim` — size of the hidden state.\n",
    "  - **`num_layers`**: `rnn_num_layers` — number of stacked GRU layers.\n",
    "  - **`batch_first`**: `True` — ensures input/output tensors are shaped as `(batch_size, seq_len, features)`.\n",
    "\n",
    "The RNN computes a sequence of hidden states:\n",
    "$$\n",
    "\\mathbf{h}_t = \\text{GRU}(\\mathbf{h}_{t-1}, \\mathbf{x}_t)\n",
    "$$\n",
    "Where:\n",
    "- $\\mathbf{x}_t$ is the embedding for the $t$-th input character,\n",
    "- $\\mathbf{h}_t$ is the hidden state at time $t$.\n",
    "\n",
    "The output is a tensor of hidden states for all time steps:\n",
    "$$\n",
    "\\mathbf{H} \\in \\mathbb{R}^{\\text{batch\\_size}, \\text{seq\\_len}, \\text{h\\_embedding\\_dim}}\n",
    "$$\n",
    "\n",
    "---\n",
    "\n",
    "#### **4. Fully Connected Layer (`self.fc`)**\n",
    "- Use an `nn.Linear` layer to predict the next character:\n",
    "  - **`in_features`**: `h_embedding_dim` — size of the hidden state.\n",
    "  - **`out_features`**: `len(surname_vocab)` — size of the character vocabulary.\n",
    "\n",
    "For each hidden state $\\mathbf{h}_t$, this layer outputs a vector of logits:\n",
    "$$\n",
    "\\mathbf{y}_t = \\text{Linear}(\\mathbf{h}_t) \\quad \\mathbf{y}_t \\in \\mathbb{R}^{\\text{len(surname\\_vocab)}}\n",
    "$$\n",
    "\n",
    "---\n",
    "\n",
    "#### **5. Dropout Layer (`self.dropout`)**\n",
    "- Add an `nn.Dropout` layer with a probability `dropout_p` to regularize the RNN's hidden states:\n",
    "  - Dropout randomly sets some hidden state values to zero during training:\n",
    "  $$ \n",
    "  \\mathbf{h}_t^{\\text{dropout}} = \\text{Dropout}(\\mathbf{h}_t)\n",
    "  $$\n",
    "\n",
    "\n"
   ]
  },
  {
   "cell_type": "code",
   "execution_count": 8,
   "metadata": {},
   "outputs": [],
   "source": [
    "class SurnameGeneratorRNN(nn.Module):\n",
    "    def __init__(self, surname_vocab, nationality_vocab, in_embedding_dim=32, h_embedding_dim=64, rnn_num_layers=1, dropout_p=0.2):\n",
    "        super(SurnameGeneratorRNN, self).__init__()\n",
    "     \n",
    "        self.in_embedding = nn.Embedding(num_embeddings=len(surname_vocab), \n",
    "                                         embedding_dim=in_embedding_dim, \n",
    "                                         padding_idx=surname_vocab.pad_idx)\n",
    "    \n",
    "        self.h_embedding = nn.Embedding(num_embeddings=len(nationality_vocab), \n",
    "                                        embedding_dim=h_embedding_dim)\n",
    "        \n",
    "        self.rnn = torch.nn.GRU(input_size=in_embedding_dim, \n",
    "                                hidden_size=h_embedding_dim,\n",
    "                                num_layers=rnn_num_layers,\n",
    "                                batch_first=True)\n",
    "\n",
    "        self.fc = torch.nn.Linear(in_features=h_embedding_dim,\n",
    "                                  out_features=len(surname_vocab))\n",
    "        \n",
    "        self.dropout = torch.nn.Dropout(dropout_p)       \n",
    "\n",
    "        \n",
    "        \n",
    "\n",
    "\n",
    "model = SurnameGeneratorRNN(surname_vocab, nationality_vocab, in_embedding_dim=64, h_embedding_dim=32, rnn_num_layers=1, dropout_p=0.2)\n",
    "\n",
    "assert model.in_embedding.num_embeddings == len(surname_vocab), \\\n",
    "    f\"Embedding layer should have {len(surname_vocab)} embeddings, but got {model.in_embedding.num_embeddings}\"\n",
    "assert model.in_embedding.embedding_dim == 64, \\\n",
    "    f\"Embedding dimension should be 64, but got {model.in_embedding.embedding_dim}\"\n",
    "\n",
    "assert model.h_embedding.num_embeddings == len(nationality_vocab), \\\n",
    "    f\"Embedding layer should have {len(nationality_vocab)} embeddings, but got {model.h_embedding.num_embeddings}\"\n",
    "assert model.h_embedding.embedding_dim == 32, \\\n",
    "    f\"Embedding dimension should be 32, but got {model.h_embedding.embedding_dim}\"\n",
    "\n",
    "assert model.rnn.input_size == 64, \\\n",
    "    f\"RNN input size should be 64, but got {model.rnn.input_size}\"\n",
    "assert model.rnn.hidden_size == 32, \\\n",
    "    f\"RNN hidden size should be 32, but got {model.rnn.hidden_size}\"\n",
    "\n",
    "assert model.dropout.p == 0.2, \\\n",
    "    f\"Dropout probability should be 0.2, but got {model.dropout.p}\"\n",
    "\n",
    "assert model.fc.in_features == 32, \\\n",
    "    f\"Fully connected layer input size should be 32, but got {model.fc.in_features}\"\n",
    "assert model.fc.out_features == len(surname_vocab), \\\n",
    "    f\"Fully connected layer output size should be {len(surname_vocab)}, but got {model.fc.out_features}\""
   ]
  },
  {
   "cell_type": "markdown",
   "metadata": {},
   "source": [
    "## 2.1 Model Forward\n",
    "\n",
    "👍 \n",
    "In this task, you will implement the `forward` method of the `SurnameGeneratorRNN` class. This method defines how the model processes input data through its architecture, combining embeddings, an RNN layer, dropout, and a fully connected layer to produce predictions for the next character in a sequence.\n",
    "\n",
    "#### **1. Embedding the Input Sequence **\n",
    "- Use the `self.in_embedding` layer to embed the input sequence of character indices (`x`):\n",
    "  - Input shape: $(\\text{batch\\_size}, \\text{sequence\\_length})$\n",
    "  - Output shape: $(\\text{batch\\_size}, \\text{sequence\\_length}, \\text{in\\_embedding\\_dim})$\n",
    "\n",
    "The embeddings represent the input sequence as dense vectors:\n",
    "$$\n",
    "\\mathbf{x}_{\\text{emb}} = \\text{Embedding}(\\mathbf{x})\n",
    "$$\n",
    "Where:\n",
    "- $\\mathbf{x}$ is the input sequence,\n",
    "- $\\mathbf{x}_{\\text{emb}}$ is the embedded representation.\n",
    "\n",
    "---\n",
    "\n",
    "#### **2. Embedding the Nationality Context**\n",
    "- Check if the nationality context `h` is provided:\n",
    "  - If `h` is not `None`, embed it using `self.h_embedding`:\n",
    "    $$ \n",
    "    \\mathbf{h}_{\\text{emb}} = \\text{Embedding}(h)\n",
    "    $$\n",
    "  - Repeat the embedding for the number of RNN layers:\n",
    "    $$ \n",
    "    \\mathbf{h}_{\\text{emb\\_rep}} = \\mathbf{h}_{\\text{emb}} \\times \\text{(num layers)}\n",
    "    $$\n",
    "    Shape: $(\\text{rnn\\_num\\_layers}, \\text{batch\\_size}, \\text{h\\_embedding\\_dim})$\n",
    "\n",
    "---\n",
    "\n",
    "#### **3. Passing Data Through the RNN**\n",
    "- Pass the embedded input sequence and the initial hidden state to the RNN:\n",
    "  - Output hidden states for all time steps:\n",
    "    $$ \n",
    "    \\mathbf{y}_{\\text{emb}}, \\mathbf{h}_{\\text{last}} = \\text{RNN}(\\mathbf{x}_{\\text{emb}}, \\mathbf{h}_{\\text{emb}})\n",
    "    $$\n",
    "  - Shapes:\n",
    "    - $\\mathbf{y}_{\\text{emb}}$: $(\\text{batch\\_size}, \\text{sequence\\_length}, \\text{h\\_embedding\\_dim})$\n",
    "    - $\\mathbf{h}_{\\text{last}}$: $(\\text{rnn\\_num\\_layers}, \\text{batch\\_size}, \\text{h\\_embedding\\_dim})$\n",
    "\n",
    "---\n",
    "\n",
    "#### **4. Applying Dropout **\n",
    "- Use the `self.dropout` layer to apply dropout to the RNN's output:\n",
    "  $$ \n",
    "  \\mathbf{y}_{\\text{drop}} = \\text{Dropout}(\\mathbf{y}_{\\text{emb}})\n",
    "  $$\n",
    "  Shape: $(\\text{batch\\_size}, \\text{sequence\\_length}, \\text{h\\_embedding\\_dim})$\n",
    "\n",
    "---\n",
    "\n",
    "#### **5. Predicting the Next Character**\n",
    "- Pass the dropout output through the fully connected layer:\n",
    "  $$ \n",
    "  \\mathbf{y}_{\\text{hat}} = \\text{Linear}(\\mathbf{y}_{\\text{drop}})\n",
    "  $$\n",
    "  Shape: $(\\text{batch\\_size}, \\text{sequence\\_length}, \\text{len(surname\\_vocab)})$\n",
    "\n",
    "This gives the logits for the next character at each time step.\n",
    "\n"
   ]
  },
  {
   "cell_type": "code",
   "execution_count": 9,
   "metadata": {},
   "outputs": [],
   "source": [
    "def forward(self, x, h=None):\n",
    "    # Embedding the input sequence of characters\n",
    "    batch_size, _ = x.shape\n",
    "    x_emb = self.in_embedding(x)\n",
    "\n",
    "    if h is not None:\n",
    "        h_emb = self.h_embedding(h).repeat((self.rnn.num_layers, 1, 1))\n",
    "    else:\n",
    "        h_emb = None\n",
    "    \n",
    "    y_emb, last_hidden = self.rnn(x_emb, h_emb)\n",
    "    \n",
    "    y_drop = self.dropout(y_emb)\n",
    "    y_hat = self.fc(y_drop)\n",
    "    \n",
    "        \n",
    "    return y_hat\n",
    "\n",
    "SurnameGeneratorRNN.forward = forward\n",
    "\n",
    "model = SurnameGeneratorRNN(surname_vocab, nationality_vocab, in_embedding_dim=64, h_embedding_dim=32, rnn_num_layers=2, dropout_p=0.2)\n",
    "\n",
    "# Test input tensor dimensions for the surname \"Smith\"\n",
    "x = vectorize(\"Smith\", surname_vocab, max_surname_size)\n",
    "assert x.shape == (max_surname_size + 2,), f\"Expected input shape: ({max_surname_size + 2},), but got: {x.shape}\"\n",
    "\n",
    "# Ensure that input is correctly unsqueezed to match batch dimension\n",
    "x_batch = x.unsqueeze(0)\n",
    "assert x_batch.shape == (1, max_surname_size + 2), \\\n",
    "    f\"Expected input shape: (1, {max_surname_size + 2}), but got: {x_batch.shape}\"\n",
    "\n",
    "# Test nationality context embedding for a specific nationality (\"American\")\n",
    "h = nationality_vocab['English']  # Example nationality index\n",
    "h_emb = model.h_embedding(torch.tensor([h]))  # Embedding the nationality\n",
    "assert h_emb.shape == (1, model.h_embedding.embedding_dim), \\\n",
    "    f\"Expected h_emb shape: (1, {model.h_embedding.embedding_dim}), but got: {h_emb.shape}\"\n",
    "\n",
    "# Ensure nationality embedding is repeated across the number of RNN layers\n",
    "h_emb_repeated = h_emb.repeat((model.rnn.num_layers, 1, 1))\n",
    "assert h_emb_repeated.shape == (model.rnn.num_layers, 1, model.h_embedding.embedding_dim), \\\n",
    "    f\"Expected h_emb shape: ({model.rnn.num_layers}, 1, {model.h_embedding.embedding_dim}), but got: {h_emb_repeated.shape}\"\n",
    "\n",
    "# Ensure model output has the correct shape\n",
    "y_hat = model(x_batch, h=torch.tensor([h]))\n",
    "assert y_hat.shape == (1, max_surname_size + 2, len(surname_vocab)), \\\n",
    "    f\"Expected output shape: (1, {max_surname_size + 2}, {len(surname_vocab)}), but got: {y_hat.shape}\"\n",
    "\n",
    "# Check that y_hat contains valid numerical values (logits)\n",
    "assert torch.is_tensor(y_hat), \\\n",
    "    f\"Expected y_hat to be a tensor, but got: {type(y_hat)}\"\n",
    "assert y_hat.dtype == torch.float32, \\\n",
    "    f\"Expected output dtype: float32, but got: {y_hat.dtype}\"\n",
    "\n",
    "# Ensure that dropout does not produce NaN values\n",
    "assert not torch.isnan(y_hat).any(), \\\n",
    "    \"Output contains NaN values\"\n",
    "\n",
    "# Check that dropout is applied (not all values should be the same)\n",
    "y_hat_no_dropout = model.fc(model.rnn(model.in_embedding(x_batch))[0][:, -1, :])\n",
    "assert not torch.allclose(y_hat, y_hat_no_dropout), \\\n",
    "    \"Dropout is not being applied (y_hat is identical without dropout)\"\n",
    "\n",
    "# Ensure that the RNN produces hidden states for each time step\n",
    "y_emb, last_hidden = model.rnn(model.in_embedding(x_batch), h_emb_repeated)\n",
    "assert y_emb.shape == (1, max_surname_size + 2, model.h_embedding.embedding_dim), \\\n",
    "    f\"Expected RNN output shape: (1, {max_surname_size}, {model.h_embedding.embedding_dim}), but got: {y_emb.shape}\"\n",
    "\n",
    "# Ensure that the last hidden state has the correct shape\n",
    "assert last_hidden.shape == (model.rnn.num_layers, 1, model.h_embedding.embedding_dim), \\\n",
    "    f\"Expected last_hidden shape: ({model.rnn.num_layers}, 1, {model.h_embedding.embedding_dim}), but got: {last_hidden.shape}\""
   ]
  },
  {
   "cell_type": "markdown",
   "metadata": {},
   "source": [
    "# 2.3 Loss Function\n",
    "\n",
    "👍 \n",
    "In this task, you will implement a custom loss function for training a neural network model designed to predict nationalities from surnames. The function, `batch_nll_loss_fn`, calculates the **batch-wise Negative Log-Likelihood (NLL) loss** between the predicted values and the target values.\n",
    "\n",
    "1. **Batch-wise Loss Calculation**: The function should calculate the NLL loss for each batch element individually, considering the target and predicted probabilities for each class.\n",
    "2. **Softmax and Log Transformation**: The predictions (`y_hat`) will go through a `F.log_softmax` transformation before the NLL loss is applied.\n",
    "3. **Padding Handling**: The function should correctly handle padding indices (i.e., avoid calculating loss for padded tokens).\n",
    "\n",
    "- The function should receive two inputs:\n",
    "  - `y_hat`: The model's output, a tensor of shape `(batch_size, seq_len)` containing propability of the next word for sequence.\n",
    "  - `y`: The ground truth targets, a tensor of shape `(batch_size, seq_len)` containing the target indices for each sequence.\n",
    "\n",
    "- The function should return the **mean loss** across all sequences in the batch.\n",
    "\n",
    "---\n",
    "\n",
    "#### 1. **Log-Softmax Transformation**:\n",
    "   First, the predicted logits ($\\hat{y}$) are passed through a `F.log_softmax` function to convert the raw logits into log probabilities. This transformation is done to enable the calculation of the Negative Log-Likelihood loss, as the loss function expects log-probabilities instead of raw probabilities.\n",
    "\n",
    "   $$ p_{\\hat{y}} = \\text{log\\_softmax}(\\hat{y}) = \\log \\left( \\frac{\\exp(\\hat{y}_i)}{\\sum_{i} \\exp(\\hat{y}_i)} \\right) $$\n",
    "\n",
    "#### 2. **Negative Log-Likelihood (NLL) Loss**:\n",
    "   For each sequence in the batch, the NLL loss is computed between the log probabilities of the predicted tokens and the ground truth target tokens (`y`). The `ignore_index` is used to avoid considering the padded tokens when calculating the loss.\n",
    "\n",
    "   $$ \\mathcal{L}_\\text{NLL} = - \\sum_{i=1}^{T} y_i \\log(p_{\\hat{y}_i}) $$\n",
    "\n",
    "   where:\n",
    "   - $ T $ is the sequence length,\n",
    "   - $ y_i $ is the sequence token at position $ i $,\n",
    "   - $ p_{\\hat{y}_i} $ is the predicted probability for the actual token at position $ i $.\n",
    "\n",
    "#### 3. **Handling Padding**:\n",
    "   The function makes use of the `ignore_index` parameter in `nll_loss` to ignore the padded tokens, ensuring they do not contribute to the overall loss calculation.\n",
    "\n",
    "#### 4. **Final Loss Calculation**:\n",
    "   The losses for each sequence in the batch are computed individually, and then the mean loss across the entire batch is returned."
   ]
  },
  {
   "cell_type": "code",
   "execution_count": 10,
   "metadata": {},
   "outputs": [
    {
     "data": {
      "text/markdown": [
       "$\\hat{y}=$ $\\begin{bmatrix} \\begin{bmatrix} 2.46 & 1.265 & 0.2663 & -0.9015 & -0.3897 \\\\ 2.658 & 0.6629 & -1.201 & -0.6137 & 0.7392 \\\\ 1.872 & -0.3575 & -0.5704 & -0.1768 & 1.006\\end{bmatrix} & \\begin{bmatrix} 0.5722 & -0.6895 & -1.77 & -0.4635 & 1.385 \\\\ 0.1051 & -0.2648 & -1.048 & 0.9095 & -0.4891 \\\\ 0.7013 & 0.492 & -0.7662 & -0.6436 & 0.6103\\end{bmatrix}\\end{bmatrix}$"
      ],
      "text/plain": [
       "<IPython.core.display.Markdown object>"
      ]
     },
     "metadata": {},
     "output_type": "display_data"
    },
    {
     "data": {
      "text/markdown": [
       "$y=$ $\\begin{bmatrix} 1 & 0 & 2 \\\\ 2 & 0 & 2\\end{bmatrix}$"
      ],
      "text/plain": [
       "<IPython.core.display.Markdown object>"
      ]
     },
     "metadata": {},
     "output_type": "display_data"
    },
    {
     "data": {
      "text/markdown": [
       "$batch_nll_loss(\\hat{y}, y)=$ 2.741"
      ],
      "text/plain": [
       "<IPython.core.display.Markdown object>"
      ]
     },
     "metadata": {},
     "output_type": "display_data"
    }
   ],
   "source": [
    "def batch_nll_loss_fn(y_hat, y):\n",
    "    log_softmax_y_hat = F.log_softmax(y_hat, dim=-1)\n",
    "    losses = []\n",
    "    for b_y_hat, b_y in zip(log_softmax_y_hat, y):\n",
    "        lv = F.nll_loss(b_y_hat, b_y, ignore_index=surname_vocab.pad_idx)\n",
    "        losses.append(lv)\n",
    "    return torch.stack(losses).mean()\n",
    "\n",
    "\n",
    "StepByStep.set_seed(96)\n",
    "\n",
    "y_hat = torch.randn(2, 3, 5)  # 4 sequences, length 5, 10 possible classes\n",
    "y = torch.randint(0, 5, (2, 3))\n",
    "\n",
    "mdprint(\"$\\hat{y}=$\", y_hat)\n",
    "mdprint(\"$y=$\", y)\n",
    "\n",
    "loss = batch_nll_loss_fn(y_hat, y)\n",
    "assert loss > 0, \"Loss should be greater than 0\"\n",
    "mdprint(\"$batch_nll_loss(\\hat{y}, y)=$\", loss)\n",
    "assert allclose(loss, 2.741, 0.001)\n"
   ]
  },
  {
   "cell_type": "markdown",
   "metadata": {},
   "source": [
    "## 3. Train\n",
    "\n",
    "### 3.1 Training setup\n",
    "\n",
    "The training setup initializes the model, loss function, optimizer, learning rate scheduler, and data loaders with the following parameters:\n",
    "\n",
    "- **Model**: The `SurnameGeneratorRNN` is initialized with an input embedding dimension of 32 and a hidden embedding dimension of 16. It uses a single layer (`rnn_num_layers=1`) for the RNN, and includes a dropout probability of 0.25 (`dropout_p=0.25`) to prevent overfitting. The model is designed to generate surnames by learning from a vocabulary of surnames (`surname_vocab`) and nationalities (`nationality_vocab`).\n",
    "  \n",
    "- **Loss function**: The loss function used is `batch_nll_loss_fn`, a custom negative log-likelihood loss function applied to batches of data. It is designed to compute the loss over a batch, likely for multi-class classification or generative tasks such as surname prediction.\n",
    "  \n",
    "- **Optimizer**: The `RMSprop` optimizer is selected with a learning rate of 0.001. This adaptive learning rate optimizer adjusts the learning rate for each parameter based on the squared gradient, helping to stabilize training especially when dealing with noisy gradients or non-stationary objectives.\n",
    "  \n",
    "- **Learning rate scheduler**: The learning rate scheduler `ReduceLROnPlateau` is used to decrease the learning rate by a factor of 0.5 if the validation loss does not improve after 1 epoch. This helps the model fine-tune the learning process and avoid overshooting the optimal parameters as training progresses.\n",
    "  \n",
    "- **Data loaders**: The `train_loader`, `val_loader`, and `test_loader` are configured with a batch size of 64, shuffling the data to ensure randomness in training. The `drop_last=True` argument ensures that incomplete batches (if any) are discarded. These loaders provide efficient and organized data flow during training, validation, and testing.\n",
    "\n"
   ]
  },
  {
   "cell_type": "code",
   "execution_count": 11,
   "metadata": {},
   "outputs": [],
   "source": [
    "StepByStep.set_seed(96)\n",
    "\n",
    "model = SurnameGeneratorRNN(surname_vocab, nationality_vocab, \n",
    "                            in_embedding_dim=32, h_embedding_dim=16,\n",
    "                            rnn_num_layers=1, dropout_p=0.25)\n",
    "\n",
    "loss_fn = batch_nll_loss_fn\n",
    "optimizer = optim.RMSprop(model.parameters(), lr=0.001)\n",
    "scheduler = optim.lr_scheduler.ReduceLROnPlateau(optimizer=optimizer,\n",
    "                                                 mode='min', factor=0.5,\n",
    "                                                 patience=1)\n",
    "\n",
    "train_loader = DataLoader(train_dataset, batch_size=64, drop_last=True, shuffle=True)\n",
    "val_loader = DataLoader(val_dataset, batch_size=64, drop_last=True, shuffle=True)\n",
    "test_loader = DataLoader(test_dataset, batch_size=64, drop_last=True, shuffle=True)\n"
   ]
  },
  {
   "cell_type": "markdown",
   "metadata": {},
   "source": [
    "### 3.2 Training"
   ]
  },
  {
   "cell_type": "code",
   "execution_count": 12,
   "metadata": {},
   "outputs": [
    {
     "name": "stdout",
     "output_type": "stream",
     "text": [
      "Epoch: 116 , train loss: 2.36414, val loss: 2.28044, lr: 1.52587890625e-08, loss change: 7.557868957519531e-05"
     ]
    },
    {
     "data": {
      "image/png": "[encoded data removed]",
      "text/plain": [
       "<Figure size 720x288 with 1 Axes>"
      ]
     },
     "metadata": {
      "needs_background": "light"
     },
     "output_type": "display_data"
    }
   ],
   "source": [
    "sbs = StepByStep(model, loss_fn, optimizer, scheduler)\n",
    "\n",
    "sbs.set_loaders(train_loader, val_loader)\n",
    "sbs.train_by_loss_change(1e-4)\n",
    "#sbs.train_by_n_epochs(120)\n",
    "\n",
    "sbs.plot_losses(ylog=False)"
   ]
  },
  {
   "cell_type": "markdown",
   "metadata": {},
   "source": [
    "## 4. Generation"
   ]
  },
  {
   "cell_type": "code",
   "execution_count": null,
   "metadata": {},
   "outputs": [
    {
     "name": "stdout",
     "output_type": "stream",
     "text": [
      "Arabic\n",
      " - Chawa\n",
      " - Magbyer\n",
      " - Qerose\n",
      " - Iskum\n",
      " - Nuiwrouy\n",
      "Chinese\n",
      " - Atte\n",
      " - Du\n",
      " - Adwts\n",
      " - Zarer\n",
      " - Fan\n",
      "Czech\n",
      " - Irimriz\n",
      " - Heavtak\n",
      " - Prardis\n",
      " - Hames\n",
      " - Dupda\n",
      "Dutch\n",
      " - Rirc\n",
      " - Damhthasle\n",
      " - Swapidod\n",
      " - Skiyl\n",
      " - Stasnady\n",
      "English\n",
      " - Hutclerl\n",
      " - Steoig\n",
      " - Horan\n",
      " - Mascher\n",
      " - Jouns\n",
      "French\n",
      " - Mwary\n",
      " - Lanersoan\n",
      " - Sbolnmayson\n",
      " - Iskir\n",
      " - Jean\n",
      "German\n",
      " - Alkus\n",
      " - Snordla\n",
      " - Kelwart\n",
      " - Houstister\n",
      " - Aonnay\n",
      "Greek\n",
      " - Jeralanko\n",
      " - Hosithe\n",
      " - Kyatnetka\n",
      " - Mikiureb\n",
      " - Azrekertages\n",
      "Irish\n",
      " - Nannidm\n",
      " - Dullotovt\n",
      " - Telr\n",
      " - Cintßor\n",
      " - Merta\n",
      "Italian\n",
      " - Odaenno\n",
      " - Latzeo\n",
      " - Netes\n",
      " - Alpamelyl\n",
      " - Senatra\n",
      "Japanese\n",
      " - Abrosuri\n",
      " - Umatoka\n",
      " - Fusaiun\n",
      " - Jakanu\n",
      " - Ikushao\n",
      "Korean\n",
      " - Yan\n",
      " - Husull\n",
      " - Kam\n",
      " - Pibn\n",
      " - Wago\n",
      "Polish\n",
      " - Bashnure\n",
      " - Jrakit\n",
      " - Howay\n",
      " - Gcjarilyn\n",
      " - Hanathraky\n",
      "Portuguese\n",
      " - Sborien\n",
      " - Molae\n",
      " - Gac\n",
      " - Kacnabis\n",
      " - Andose\n",
      "Russian\n",
      " - Naviertin\n",
      " - Damerta\n",
      " - Sovers\n",
      " - Enzr\n",
      " - Ralak\n",
      "Scottish\n",
      " - Pmuwem\n",
      " - Busken\n",
      " - Laseson\n",
      " - Piislal\n",
      " - Shtory\n",
      "Spanish\n",
      " - Vue\n",
      " - Anettaina\n",
      " - Atelr\n",
      " - Sesos\n",
      " - Heyure\n",
      "Vietnamese\n",
      " - Noch\n",
      " - Jidk\n",
      " - Shr\n",
      " - Strak\n",
      " - Sru\n"
     ]
    }
   ],
   "source": [
    "# StepByStep.set_seed(96)\n",
    "\n",
    "def vectorize_without_startend_toks(seq, vocab):\n",
    "    seq = list(seq)\n",
    "    vec = torch.zeros(len(seq), dtype=int)\n",
    "    for i, item in enumerate(seq):\n",
    "        vec[i] = vocab[item]\n",
    "    return vec\n",
    "\n",
    "def generate_samples_for_nationalities(model, surname_vocab, nationality_vocab, max_surname_size, num_samples=5):\n",
    "\n",
    "    def generate_sample(nationality):\n",
    "        h = torch.tensor([nationality_vocab[nationality]])\n",
    "        sample = surname_vocab.bgn_tok\n",
    "        while sample[-1] not in (surname_vocab.end_tok, surname_vocab.pad_tok) and len(sample) < max_surname_size:\n",
    "            x = vectorize_without_startend_toks(sample, surname_vocab).unsqueeze(0)\n",
    "            y_hat = model(x, h)\n",
    "            probs = F.softmax(y_hat[-1][-1], dim=-1).detach()\n",
    "            next_char_i = torch.multinomial(probs, num_samples=1).item()\n",
    "            next_char = surname_vocab.inverse[next_char_i]\n",
    "            sample += next_char\n",
    "            # if next_char in (surname_vocab.bgn_tok, surname_vocab.end_tok) :\n",
    "            #     break\n",
    "        return sample.strip(surname_vocab.bgn_tok + surname_vocab.end_tok + surname_vocab.pad_tok)\n",
    "    \n",
    "    model.eval()\n",
    "    for nationality in nationality_vocab:\n",
    "        print(nationality)\n",
    "        for _ in range(num_samples):\n",
    "            sample = generate_sample(nationality)\n",
    "            print(f\" - {sample}\")\n",
    "\n",
    "\n",
    "generate_samples_for_nationalities(model, surname_vocab, nationality_vocab, max_surname_size, num_samples=5)"
   ]
  },
  {
   "cell_type": "code",
   "execution_count": null,
   "metadata": {},
   "outputs": [],
   "source": []
  }
 ],
 "metadata": {
  "kernelspec": {
   "display_name": "nlp",
   "language": "python",
   "name": "python3"
  },
  "language_info": {
   "codemirror_mode": {
    "name": "ipython",
    "version": 3
   },
   "file_extension": ".py",
   "mimetype": "text/x-python",
   "name": "python",
   "nbconvert_exporter": "python",
   "pygments_lexer": "ipython3",
   "version": "3.8.13"
  },
  "toc": {
   "colors": {
    "hover_highlight": "#DAA520",
    "running_highlight": "#FF0000",
    "selected_highlight": "#FFD700"
   },
   "moveMenuLeft": true,
   "nav_menu": {
    "height": "138px",
    "width": "252px"
   },
   "navigate_menu": true,
   "number_sections": true,
   "sideBar": true,
   "threshold": "5",
   "toc_cell": false,
   "toc_section_display": "block",
   "toc_window_display": false
  }
 },
 "nbformat": 4,
 "nbformat_minor": 2
}
