{
 "cells": [
  {
   "cell_type": "code",
   "execution_count": 1,
   "metadata": {},
   "outputs": [],
   "source": [
    "import os\n",
    "\n",
    "url_path = \"https://raw.githubusercontent.com/bzitko/nlp_repo/main/assignments/a05/\"\n",
    "downloads = {\"surnames_with_splits.csv.bz2\": \"surnames_with_splits.csv\",\n",
    "             \"nlp.py\": None}\n",
    "\n",
    "for download_name, extract_name in downloads.items():\n",
    "    if extract_name and os.path.exists(extract_name):\n",
    "        continue\n",
    "\n",
    "    if not os.path.exists(download_name):\n",
    "        import requests\n",
    "        response = requests.get(f\"{url_path}{download_name}\")\n",
    "        with open(download_name, \"wb\") as fp:\n",
    "            fp.write(response.content)\n",
    "        response.close()\n",
    "\n",
    "    if not extract_name:\n",
    "        continue\n",
    "\n",
    "    _, ext = os.path.splitext(download_name)\n",
    "    if ext == \".bz2\":    \n",
    "        import bz2\n",
    "        with open(download_name, 'rb') as bzf, open(extract_name, 'wb') as fp:\n",
    "            fp.write(bz2.decompress(bzf.read()))\n",
    "    elif ext == \".zip\":\n",
    "        from zipfile import ZipFile\n",
    "        with ZipFile(download_name) as zf:\n",
    "            zf.extractall(path=\".\")\n"
   ]
  },
  {
   "cell_type": "markdown",
   "metadata": {},
   "source": [
    "# SOLUTION: Generating Surnames with a RNN"
   ]
  },
  {
   "cell_type": "markdown",
   "metadata": {},
   "source": [
    "## Imports"
   ]
  },
  {
   "cell_type": "code",
   "execution_count": 2,
   "metadata": {},
   "outputs": [],
   "source": [
    "import pandas as pd\n",
    "\n",
    "import torch\n",
    "import torch.nn as nn\n",
    "import torch.nn.functional as F\n",
    "import torch.optim as optim\n",
    "from torch.utils.data import Dataset, DataLoader\n",
    "\n",
    "from sklearn.metrics import confusion_matrix\n",
    "\n",
    "import matplotlib.pyplot as plt\n",
    "import seaborn as sns\n",
    "\n",
    "\n",
    "from nlp import StepByStep, Vectorizer, Vocabulary\n",
    "from itertools import chain\n",
    "\n",
    "def allclose(a, b, atol=1e-4):\n",
    "    if not isinstance(a, torch.Tensor):\n",
    "        a = torch.tensor(a)\n",
    "    if not isinstance(b, torch.Tensor):\n",
    "        b = torch.tensor(b)\n",
    "    return torch.allclose(a, b, atol=atol)"
   ]
  },
  {
   "cell_type": "markdown",
   "metadata": {},
   "source": [
    "## Dataframes"
   ]
  },
  {
   "cell_type": "code",
   "execution_count": 3,
   "metadata": {},
   "outputs": [],
   "source": [
    "surname_df = pd.read_csv(\"surnames_with_splits.csv\").drop([\"nationality_index\"], axis=1)\n",
    "\n",
    "train_df = surname_df[surname_df.split == \"train\"]\n",
    "val_df = surname_df[surname_df.split == \"val\"]\n",
    "test_df = surname_df[surname_df.split == \"test\"]"
   ]
  },
  {
   "cell_type": "markdown",
   "metadata": {},
   "source": [
    "## Vocabulary\n",
    "\n",
    "👍\n",
    "Create variables:\n",
    "* `nationality_vocab` as instance of `Vocabulary` filled with nationalities from `train_df`\n",
    "* `surname_vocab` as instance of `Vocabulary` which is filled with all letters from all surnames in `train_df` and whose special tokens are:\n",
    "    * unknown token = `@`,\n",
    "    * begin token = `<`\n",
    "    * end token = `>` \n",
    "    * unknown token = `@`.\n",
    "* `max_surname_size` is length of the longest surname in `train_df` increases by **2** (since begin and end tokens are added to padded surname)"
   ]
  },
  {
   "cell_type": "code",
   "execution_count": 4,
   "metadata": {},
   "outputs": [],
   "source": [
    "nationality_vocab = Vocabulary()\n",
    "nationality_vocab.fill(train_df.nationality)\n",
    "\n",
    "surname_vocab = Vocabulary(pad_tok=\".\", unk_tok=\"@\", bgn_tok=\"<\", end_tok=\">\")\n",
    "surname_vocab.fill(chain(*train_df.surname))\n",
    "max_surname_size = max(train_df.surname.apply(len)) + 1 # for begin and end tok\n",
    "\n",
    "# test\n",
    "# assert max_surname_size == 18, f\"your max_surname_size is {max_surname_size}, not 18 \"\n",
    "# assert torch\n",
    "# assert allclose(surname_vocab.pad(\"johnson\", 10), [39, 44, 37, 43, 48, 44, 43,  1,  0,  0]), f\"padding of 'johnson' with size 10 shuld be [39, 44, 37, 43, 48, 44, 43,  1,  0,  0]\""
   ]
  },
  {
   "cell_type": "markdown",
   "metadata": {},
   "source": [
    "## Splitting\n",
    "\n",
    "For X values surnames are padded accordint to `max_surname_size`."
   ]
  },
  {
   "cell_type": "code",
   "execution_count": 5,
   "metadata": {},
   "outputs": [],
   "source": [
    "# datasets\n",
    "\n",
    "def vectorize(split_df, surname_vocab, nationality_vocab, max_surname_size):\n",
    "    pad_idx = surname_vocab[surname_vocab.pad_tok]\n",
    "\n",
    "    x = surname_vocab.pad_many(split_df.surname, size=max_surname_size)\n",
    "    x_batch_size, _ = x.shape\n",
    "    \n",
    "    h = nationality_vocab.vocabularize(split_df.nationality)\n",
    "    \n",
    "    y_pad = torch.full(size=(x_batch_size, 1), fill_value=pad_idx)\n",
    "    y = torch.cat([x[:,1:], y_pad], dim=1)\n",
    "\n",
    "    return x, h, y\n",
    "\n",
    "x_train, h_train, y_train = vectorize(train_df, surname_vocab, nationality_vocab, max_surname_size)        \n",
    "x_val, h_val, y_val = vectorize(val_df, surname_vocab, nationality_vocab, max_surname_size)        \n",
    "x_test, h_test, y_test = vectorize(test_df, surname_vocab, nationality_vocab, max_surname_size)        "
   ]
  },
  {
   "cell_type": "markdown",
   "metadata": {},
   "source": [
    "## Dataset"
   ]
  },
  {
   "cell_type": "code",
   "execution_count": 6,
   "metadata": {},
   "outputs": [],
   "source": [
    "class SurnameDataset(Dataset):\n",
    "\n",
    "    def __init__(self, x_tensor, h_tensor, y_tensor):\n",
    "        self.x = x_tensor\n",
    "        self.h = h_tensor\n",
    "        self.y = y_tensor\n",
    "\n",
    "    def __getitem__(self, index):\n",
    "        return self.x[index], self.h[index], self.y[index]\n",
    "    \n",
    "    def __len__(self):\n",
    "        return len(self.x)"
   ]
  },
  {
   "cell_type": "markdown",
   "metadata": {},
   "source": [
    "## Model overview\n",
    "\n",
    "\n",
    "Surname vocabulary $|V^\\text{sur}| = v^\\text{sur}_{size}$\n",
    "\n",
    "Nationality vocabulary $|V^\\text{nat}| = v^\\text{nat}_{size}$\n",
    "\n",
    "Surname $\\vec{s} = \\begin{bmatrix} s_1 & s_2 & ... & s_n \\end{bmatrix}  \\\\$\n",
    "\n",
    "Vocabularization of surname $\\vec{x} = V^\\text{sur}(\\vec{s}) = \\begin{bmatrix} V^\\text{sur}(s_1) & V^\\text{sur}(s_2) & ... & V^\\text{sur}(s_n) \\end{bmatrix} = \\begin{bmatrix} x_1 & x_2 & ... & x_n \\end{bmatrix}$\n",
    "\n",
    "Nationality $nat$\n",
    "\n",
    "Vocabularization of nationality $\\vec{h} = V^\\text{nat}(s) = \\begin{bmatrix} V^\\text{nat}(nat) \\end{bmatrix} = \\begin{bmatrix} h_0 \\end{bmatrix}$\n",
    "\n",
    "Vocabularization of nationality $h = \n",
    "$$\n",
    "\\vec{x} = \\begin{bmatrix} x_1 & x_2 & ... & x_n \\end{bmatrix}  \\\\\n",
    "y = \\begin{bmatrix} x_2 & x_3 & ... & x_{n-1} & 0\\end{bmatrix} \\\\\n",
    "\n",
    "\\vec{e_x} = E^x(\\vec{x}) \\\\ \n",
    "\\vec{h_x} = E^h(x) \\\\\n",
    "\\hat{y} = GRU(e_x, e_x)\n",
    "\n",
    "$$\n",
    "\n"
   ]
  },
  {
   "cell_type": "markdown",
   "metadata": {},
   "source": [
    "### Step 1: Vocabulary\n",
    "\n",
    "Let vocabulary $V$ contain 25 letters a, b, c, ..., z, and 4 special tokens:\n",
    "* `'.'` - pad token\n",
    "* `'<'` - begin of sequence token\n",
    "* `'>'` - end of token sequence\n",
    "* `'*'` - unknown token\n",
    "\n",
    "$V=\\{.,<,>,a,b,c,...,z,*\\}$\n",
    "\n",
    "$v_{size} = |V|=25 + 4 = 29$"
   ]
  },
  {
   "cell_type": "code",
   "execution_count": 7,
   "metadata": {},
   "outputs": [
    {
     "name": "stdout",
     "output_type": "stream",
     "text": [
      "V = Vocabulary({'.': 0, '<': 1, '>': 2, '@': 3, 'a': 4, 'b': 5, 'c': 6, 'd': 7, 'e': 8, 'f': 9, 'g': 10, 'h': 11, 'i': 12, 'j': 13, 'k': 14, 'l': 15, 'm': 16, 'n': 17, 'o': 18, 'p': 19, 'q': 20, 'r': 21, 's': 22, 't': 23, 'u': 24, 'v': 25, 'x': 26, 'y': 27, 'z': 28})\n",
      "v_size = 29\n"
     ]
    }
   ],
   "source": [
    "V = Vocabulary(pad_tok=\".\", bgn_tok=\"<\", end_tok=\">\", unk_tok=\"@\")\n",
    "V.fill(\"abcdefghijklmnopqrstuvxyz\")\n",
    "v_size = len(V)\n",
    "\n",
    "print(\"V =\", V)\n",
    "print(\"v_size =\", v_size)"
   ]
  },
  {
   "cell_type": "markdown",
   "metadata": {},
   "source": [
    "### Step 2: Vectorization with fixed size\n",
    "\n",
    "Let maximal number of letters in surname $s_{size}$ is 10.\n",
    "\n",
    "$s_{size} = 10$\n",
    "\n",
    "Vectorization of the surname 'adams' with padding is\n",
    "\n",
    "$x = V(adams) = [1, 4, 7, 4, 16, 22, 2, 0, 0, 0]$"
   ]
  },
  {
   "cell_type": "code",
   "execution_count": 8,
   "metadata": {},
   "outputs": [
    {
     "name": "stdout",
     "output_type": "stream",
     "text": [
      "surname = adams\n",
      "s_size = 10\n",
      "x = [1, 4, 7, 4, 16, 22, 2, 0, 0, 0]\n"
     ]
    }
   ],
   "source": [
    "surname = \"adams\"\n",
    "s_size = 10\n",
    "x = V.pad(surname, size=s_size)\n",
    "\n",
    "print(\"surname =\", surname)\n",
    "print(\"s_size =\", s_size)\n",
    "print(\"x =\", x.tolist())"
   ]
  },
  {
   "cell_type": "markdown",
   "metadata": {},
   "source": [
    "### Step 3: Embedding\n",
    "\n",
    "Let $E$ be embedding layer having shape $v_{size} \\times e_{dim}$ where $e_{dim}$ is 15.\n",
    "\n",
    "Then $e_x = E(x)$ is embedding vector of the surname 'adams' and shape of $e_x$ is $s_{size} \\times e_{dim}$\n"
   ]
  },
  {
   "cell_type": "code",
   "execution_count": 9,
   "metadata": {},
   "outputs": [
    {
     "name": "stdout",
     "output_type": "stream",
     "text": [
      "E shape = (29, 15)\n",
      "e_x shape = (10, 15)\n"
     ]
    }
   ],
   "source": [
    "e_dim = 15\n",
    "E = nn.Embedding(num_embeddings=v_size, embedding_dim=e_dim, padding_idx=0)\n",
    "e_x = E(x)\n",
    "\n",
    "print(\"E shape =\", tuple(E.weight.shape))\n",
    "print(\"e_x shape =\", tuple(e_x.shape))"
   ]
  },
  {
   "cell_type": "markdown",
   "metadata": {},
   "source": [
    "### Step 4: RNN\n",
    "\n",
    "Let RNN has input dimension of $e_{dim}$ and hidden dimension $h_{dim}$ = 4.\n",
    "\n",
    "Forward propagation of $x$ and first hidden vector $h_0 = [0, 0, 0, 0]$ is\n",
    "\n",
    "$h_{all}, h_{s_{size}}=RNN(x, h_0)$\n",
    "\n",
    "where $h_{all}$ contains all activations in time including the last activation $h_{s_{size}}$.\n"
   ]
  },
  {
   "cell_type": "code",
   "execution_count": 10,
   "metadata": {},
   "outputs": [
    {
     "name": "stdout",
     "output_type": "stream",
     "text": [
      "h_dim = 4\n",
      "h_0 = [[0.0, 0.0, 0.0, 0.0]]\n",
      "h_all shape = (10, 4)\n",
      "h_s_size shape = (1, 4)\n",
      "last row in h_all = [0.3002602756023407, 0.6396384239196777, -0.3852819800376892, -0.37780871987342834]\n",
      "h_s_size = [[0.3002602756023407, 0.6396384239196777, -0.3852819800376892, -0.37780871987342834]]\n"
     ]
    }
   ],
   "source": [
    "h_dim = 4\n",
    "h_0 = torch.zeros(1, h_dim) # torch requires that h_0 is in batch\n",
    "R = nn.RNN(input_size=e_dim, hidden_size=4, batch_first=True)\n",
    "h_all, h_s_size = R(e_x, h_0)\n",
    "\n",
    "print(\"h_dim =\", h_dim)\n",
    "print(\"h_0 =\", h_0.tolist())\n",
    "\n",
    "print(\"h_all shape =\", tuple(h_all.shape))\n",
    "print(\"h_s_size shape =\", tuple(h_s_size.shape))\n",
    "print(\"last row in h_all =\", h_all[-1].tolist())\n",
    "print(\"h_s_size =\", h_s_size.tolist())\n",
    "\n"
   ]
  },
  {
   "cell_type": "markdown",
   "metadata": {},
   "source": [
    "### Step 5: Two Linear layers\n",
    "\n",
    "Let $FC1$ is linear layer of shape $h_{dim} \\times h_{dim}$.\n",
    "\n",
    "Let $c_{dim}$ be an size of an output (number of classes)\n",
    "\n",
    "Let $FC2$ is linear layer of shape $h_{dim} \\times c_{dim}$.\n",
    "\n",
    "Then \n",
    "\n",
    "$\\hat{y} = FC2(ReLU(FC1(h_{s_{size}})))$"
   ]
  },
  {
   "cell_type": "code",
   "execution_count": 11,
   "metadata": {},
   "outputs": [
    {
     "name": "stdout",
     "output_type": "stream",
     "text": [
      "y_hat shape = (3,)\n"
     ]
    }
   ],
   "source": [
    "c_dim = 3\n",
    "FC1 = nn.Linear(in_features=h_dim, out_features=h_dim)\n",
    "FC2 = nn.Linear(in_features=h_dim, out_features=c_dim)\n",
    "\n",
    "y_hat = FC2(F.relu(FC1(h_s_size.squeeze())))\n",
    "\n",
    "print(\"y_hat shape =\", tuple(y_hat.shape))\n"
   ]
  },
  {
   "cell_type": "markdown",
   "metadata": {},
   "source": [
    "## The Model: SurnameGenerator\n",
    "👍 Create `SurnameGenerator` class as RNN width following methods:\n",
    "\n",
    "Method `__init__(self, in_num_emb, in_emb_size, h_num_emb, h_emb_size, rnn_num_layers, batch_first=True, padding_idx=0)` initializes classifier with\n",
    "* `num_emb` - number of embeddings is $v_{size}$\n",
    "* `emb_size` - dimension of embedding is $e_{dim}$\n",
    "* `rnn_hidden_size` - dimension of hidden layer of RNN is $h_{dim}$\n",
    "* `num_classes` - dimension of output (number of classes) is $c_{dim}$\n",
    "\n",
    "Crete layers according to Model overview presented in the cells above.\n",
    "\n",
    "Method `forward(self, x, h=None)` for forward propagation according to Model overciew presented in the cells above.\n",
    "\n",
    "NOTE: Use dropout with $p=0.5$ for all inputs into each fully connected layer."
   ]
  },
  {
   "cell_type": "code",
   "execution_count": 12,
   "metadata": {},
   "outputs": [],
   "source": [
    "class SurnameGenerator(torch.nn.Module):\n",
    "    def __init__(self, \n",
    "                 in_num_emb, in_emb_size,\n",
    "                 h_num_emb, h_emb_size,\n",
    "                 rnn_num_layers=1,\n",
    "                 batch_first=True, padding_idx=0, dropout_p=0.25):\n",
    "                 \n",
    "        super(SurnameGenerator, self).__init__()\n",
    "\n",
    "        self.batch_first = batch_first\n",
    "        self.rnn_num_layers=rnn_num_layers\n",
    "        self.dropout_p = dropout_p\n",
    "\n",
    "        self.in_emb = torch.nn.Embedding(num_embeddings=in_num_emb,\n",
    "                                         embedding_dim=in_emb_size,\n",
    "                                         padding_idx=padding_idx)\n",
    "        \n",
    "        self.h_emb = torch.nn.Embedding(num_embeddings=h_num_emb,\n",
    "                                        embedding_dim=h_emb_size)\n",
    "        \n",
    "        self.rnn = torch.nn.GRU(input_size=in_emb_size, \n",
    "                                hidden_size=h_emb_size,\n",
    "                                num_layers=rnn_num_layers,\n",
    "                                batch_first=batch_first)\n",
    "        \n",
    "        self.fc = torch.nn.Linear(h_emb_size, in_num_emb)\n",
    "        self.drop = torch.nn.Dropout(p=dropout_p)\n",
    "\n",
    "\n",
    "\n",
    "    def forward(self, x, h=None):\n",
    "        x_emb = self.in_emb(x)\n",
    "        \n",
    "        # repeat nationality tensor by the number of rnn layers\n",
    "        h_emb = self.h_emb(h).repeat((self.rnn_num_layers, 1, 1)) if h is not None else None\n",
    "        \n",
    "        y_hat, last_hidden = self.rnn(x_emb, h_emb)\n",
    "\n",
    "        y_hat = self.fc(y_hat)\n",
    "        y_hat = self.drop(y_hat)\n",
    "        \n",
    "        return y_hat    \n",
    "\n",
    "\n",
    "# test\n",
    "StepByStep.set_seed(96)\n",
    "model = SurnameGenerator(in_num_emb=len(surname_vocab), in_emb_size=100,\n",
    "                         h_num_emb=len(nationality_vocab), h_emb_size=64,\n",
    "                         rnn_num_layers=1,\n",
    "                         padding_idx=surname_vocab[surname_vocab.pad_tok], batch_first=True,\n",
    "                         dropout_p=0.25)\n",
    "\n",
    "dataset = SurnameDataset(x_train, h_train, y_train)\n",
    "loader = DataLoader(dataset, batch_size=3, shuffle=True)\n",
    "x, h, y = next(iter(loader))\n",
    "\n",
    "model.h_emb(h)\n",
    "y_hat = model(x, h)\n"
   ]
  },
  {
   "cell_type": "markdown",
   "metadata": {},
   "source": [
    "## Loss"
   ]
  },
  {
   "cell_type": "code",
   "execution_count": 13,
   "metadata": {},
   "outputs": [],
   "source": [
    "def batch_nll_loss_fn(y_hat, y):\n",
    "    y_hat = F.log_softmax(y_hat, dim=-1)\n",
    "    losses = []\n",
    "    for b_y_hat, b_y in zip(y_hat, y):\n",
    "        lv = F.nll_loss(b_y_hat, b_y, ignore_index=surname_vocab[surname_vocab.pad_tok])\n",
    "        losses.append(lv)\n",
    "    return torch.stack(losses).mean()"
   ]
  },
  {
   "cell_type": "markdown",
   "metadata": {},
   "source": [
    "# Train"
   ]
  },
  {
   "cell_type": "code",
   "execution_count": 14,
   "metadata": {},
   "outputs": [
    {
     "name": "stdout",
     "output_type": "stream",
     "text": [
      "Epoch: 113  train loss: 2.74711 val loss: 2.32141 lr: 1.52587890625e-08"
     ]
    },
    {
     "data": {
      "image/png": "[encoded data removed]",
      "text/plain": [
       "<Figure size 1000x400 with 1 Axes>"
      ]
     },
     "metadata": {},
     "output_type": "display_data"
    }
   ],
   "source": [
    "StepByStep.set_seed(96)\n",
    "\n",
    "model = SurnameGenerator(in_num_emb=len(surname_vocab), in_emb_size=32,\n",
    "                         h_num_emb=len(nationality_vocab), h_emb_size=16,\n",
    "                         rnn_num_layers=1,\n",
    "                         padding_idx=surname_vocab[surname_vocab.pad_tok], batch_first=True,\n",
    "                         dropout_p=0.25)\n",
    "\n",
    "loss_fn = batch_nll_loss_fn\n",
    "optimizer = optim.RMSprop(model.parameters(), lr=0.001)\n",
    "scheduler = optim.lr_scheduler.ReduceLROnPlateau(optimizer=optimizer,\n",
    "                                                 mode='min', factor=0.5,\n",
    "                                                 patience=1)\n",
    "\n",
    "train_loader = DataLoader(SurnameDataset(x_train, h_train, y_train), batch_size=64, drop_last=True, shuffle=True)\n",
    "val_loader = DataLoader(SurnameDataset(x_val, h_val, y_val), batch_size=64, drop_last=True, shuffle=True)\n",
    "\n",
    "sbs = StepByStep(model, loss_fn, optimizer, scheduler)\n",
    "sbs.set_loaders(train_loader, val_loader)\n",
    "\n",
    "sbs.train_by_loss_change(1e-4)\n",
    "\n",
    "sbs.plot_losses(ylog=False)\n"
   ]
  },
  {
   "cell_type": "markdown",
   "metadata": {},
   "source": [
    "## Sampling"
   ]
  },
  {
   "cell_type": "code",
   "execution_count": 18,
   "metadata": {},
   "outputs": [
    {
     "name": "stdout",
     "output_type": "stream",
     "text": [
      "Arabic\n",
      " - Tautsg\n",
      " - Agdrateh\n",
      " - Sadite\n",
      "Chinese\n",
      " - Yan\n",
      " - Doma\n",
      " - Toir\n",
      "Czech\n",
      " - eranhau-kasta\n",
      " - EnTeef\n",
      " - Molbündelep\n",
      "Dutch\n",
      " - Febkold\n",
      " - Eschchityerry\n",
      " - Dilengit\n",
      "English\n",
      " - Maegprysko\n",
      " - Kiderger\n",
      " - Narsysin\n",
      "French\n",
      " - TlDis\n",
      " - Ilczov\n",
      " - AbusTnda\n",
      "German\n",
      " - ThanrBurgyrrvo\n",
      " - Maln\n",
      " - cav\n",
      "Greek\n",
      " - Endcianíy\n",
      " - Sharuz\n",
      " - Cor\n",
      "Irish\n",
      " - Revtan\n",
      " - Hosronen\n",
      " - Malrikile\n",
      "Italian\n",
      " - Gougfo\n",
      " - Bulo\n",
      " - xorditsamáky\n",
      "Japanese\n",
      " - Ni\n",
      " - MGias\n",
      " - lyemazuma\n",
      "Korean\n",
      " - Ketsev\n",
      " - Kud\n",
      " - Yaog\n",
      "Polish\n",
      " - Fuso\n",
      " - Uvtost\n",
      " - Doe'Bochla\n",
      "Portuguese\n",
      " - Huekohn\n",
      " - Saila\n",
      " - Turriu\n",
      "Russian\n",
      " - Vabniguyasove\n",
      " - Ylade\n",
      " - Heshiby\n",
      "Scottish\n",
      " - HLybing\n",
      " - sewobby\n",
      " - Bugy\n",
      "Spanish\n",
      " - Dogla\n",
      " - bibHaf\n",
      " - UProri\n",
      "Vietnamese\n",
      " - Gou\n",
      " - Zas\n",
      " - Cs\n"
     ]
    }
   ],
   "source": [
    "StepByStep.set_seed(96)\n",
    "\n",
    "def generate_samples_for_nationalities(model, surname_vocab, nationality_vocab, max_surname_size, num_samples=5):\n",
    "\n",
    "    def generate_sample(nationality):\n",
    "        h = torch.tensor([nationality_vocab[nationality]])\n",
    "        sample = surname_vocab.bgn_tok\n",
    "        while sample[-1] not in (surname_vocab.end_tok, surname_vocab.pad_tok) and len(sample) < max_surname_size:\n",
    "            x = surname_vocab.vocabularize(sample).unsqueeze(0)\n",
    "            y_hat = model(x, h)\n",
    "            probs = F.softmax(y_hat[-1][-1], dim=-1).detach()\n",
    "            next_char_i = torch.multinomial(probs, num_samples=1).item()\n",
    "            next_char = surname_vocab.inverse[next_char_i]\n",
    "            sample += next_char\n",
    "            if next_char in (surname_vocab.bgn_tok, surname_vocab.end_tok) :\n",
    "                break\n",
    "        return sample.strip(surname_vocab.bgn_tok + surname_vocab.end_tok + surname_vocab.pad_tok)\n",
    "    \n",
    "    model.eval()\n",
    "    for nationality in nationality_vocab:\n",
    "        print(nationality)\n",
    "        for _ in range(num_samples):\n",
    "            sample = generate_sample(nationality)\n",
    "            print(f\" - {sample}\")\n",
    "\n",
    "generate_samples_for_nationalities(model, surname_vocab, nationality_vocab, max_surname_size, num_samples=3)"
   ]
  },
  {
   "cell_type": "code",
   "execution_count": 138,
   "metadata": {},
   "outputs": [
    {
     "data": {
      "text/plain": [
       "['PHfNaflrDYeBREfwof',\n",
       " 'EYöfNDKirexWwVilrV',\n",
       " 'GllTTPerßZydIrxPpD',\n",
       " 'SwChELßWiIqinLdlJr',\n",
       " 'MnewAnRYKxOrWnDNCD',\n",
       " 'YERrüwConWrInHerPq',\n",
       " 'WLVlYLIflrlIlBNopw',\n",
       " 'TlJOLFMAfpSuHamlSr',\n",
       " 'VMJEnQZollAuUnDMwI',\n",
       " 'KrvCErVOGlrUdLouxa']"
      ]
     },
     "execution_count": 138,
     "metadata": {},
     "output_type": "execute_result"
    }
   ],
   "source": [
    "def sample_from_model(model, vocab, num_samples=10, nationality_idx=None):\n",
    "    model.eval()\n",
    "    # encode\n",
    "    x_0 = torch.tensor([vocab[vocab.bgn_tok] for _ in range(num_samples)])\n",
    "    samples = [x_0]\n",
    "\n",
    "    if nationality_idx:\n",
    "        h_0 = torch.tensor([nationality_idx for _ in range(num_samples)])\n",
    "    else:\n",
    "        h_0 = None\n",
    "\n",
    "    \n",
    "    for t in range(max_surname_size):\n",
    "        x_t = samples[t].unsqueeze(1)\n",
    "        model(x_t, h_0)\n",
    "        y_t = model(x_t, h_0)\n",
    "\n",
    "        pred = y_t.squeeze(1)\n",
    "        prob = F.softmax(pred, dim=-1)\n",
    "        indices = torch.multinomial(prob, num_samples=1).squeeze()\n",
    "        samples.append(indices)\n",
    "    \n",
    "    samples = torch.stack(samples, dim=1)\n",
    "    \n",
    "    # decode\n",
    "    surnames = []\n",
    "    for sample in samples:\n",
    "        surname = \"\"\n",
    "        for num in sample.tolist():\n",
    "            char = vocab.inv[num]\n",
    "            if char == vocab.bgn_tok:\n",
    "                continue\n",
    "            if char == vocab.end_tok:\n",
    "                break\n",
    "            surname += char\n",
    "        surnames.append(surname)\n",
    "    \n",
    "    return surnames\n",
    "\n",
    "sample_from_model(model, surname_vocab, nationality_idx=4)"
   ]
  },
  {
   "cell_type": "code",
   "execution_count": 139,
   "metadata": {},
   "outputs": [
    {
     "name": "stdout",
     "output_type": "stream",
     "text": [
      "opla\n"
     ]
    }
   ],
   "source": [
    "import sys\n",
    "import time\n",
    "for i in range(10):\n",
    "  sys.stdout.write(str(i))\n",
    "  sys.stdout.flush()\n",
    "  time.sleep(0.5)\n",
    "  sys.stdout.write('\\b')\n",
    "print(\"opla\")\n"
   ]
  },
  {
   "cell_type": "code",
   "execution_count": null,
   "metadata": {},
   "outputs": [],
   "source": []
  }
 ],
 "metadata": {
  "kernelspec": {
   "display_name": "Python 3.8.13 ('nlp')",
   "language": "python",
   "name": "python3"
  },
  "language_info": {
   "codemirror_mode": {
    "name": "ipython",
    "version": 3
   },
   "file_extension": ".py",
   "mimetype": "text/x-python",
   "name": "python",
   "nbconvert_exporter": "python",
   "pygments_lexer": "ipython3",
   "version": "3.9.13"
  },
  "toc": {
   "colors": {
    "hover_highlight": "#DAA520",
    "running_highlight": "#FF0000",
    "selected_highlight": "#FFD700"
   },
   "moveMenuLeft": true,
   "nav_menu": {
    "height": "138px",
    "width": "252px"
   },
   "navigate_menu": true,
   "number_sections": true,
   "sideBar": true,
   "threshold": "5",
   "toc_cell": false,
   "toc_section_display": "block",
   "toc_window_display": false
  },
  "vscode": {
   "interpreter": {
    "hash": "358f19b5168dcc2c817c22e8ae2c189228565b53de3b91095ee770a390daccdd"
   }
  }
 },
 "nbformat": 4,
 "nbformat_minor": 2
}
