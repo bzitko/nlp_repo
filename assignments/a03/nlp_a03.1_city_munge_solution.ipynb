{
 "cells": [
  {
   "cell_type": "code",
   "execution_count": 1,
   "metadata": {},
   "outputs": [],
   "source": [
    "import os\n",
    "\n",
    "download_name = \"worldcities.csv.bz2\"\n",
    "if not os.path.exists(download_name):\n",
    "    import requests\n",
    "    response = requests.get(f\"https://raw.githubusercontent.com/bzitko/nlp_repo/main/lectures/p03/{download_name}\")\n",
    "    with open(download_name, \"wb\") as fp:\n",
    "        fp.write(response.content)\n",
    "    response.close()\n",
    "\n",
    "name = \"worldcities.csv\"\n",
    "if not os.path.exists(name):\n",
    "    import bz2\n",
    "    with open(download_name, 'rb') as bzf, open(name, 'wb') as fp:\n",
    "        fp.write(bz2.decompress(bzf.read()))        "
   ]
  },
  {
   "cell_type": "code",
   "execution_count": 2,
   "metadata": {},
   "outputs": [],
   "source": [
    "import collections\n",
    "import numpy as np\n",
    "import pandas as pd\n",
    "import re\n",
    "\n",
    "from argparse import Namespace"
   ]
  },
  {
   "cell_type": "code",
   "execution_count": 3,
   "metadata": {},
   "outputs": [],
   "source": [
    "args = Namespace(\n",
    "    raw_dataset_csv=\"worldcities.csv\",\n",
    "    train_proportion=0.7,\n",
    "    val_proportion=0.15,\n",
    "    test_proportion=0.15,\n",
    "    output_munged_csv=\"worldcities_with_splits.csv\",\n",
    "    seed=1337\n",
    ")"
   ]
  },
  {
   "cell_type": "markdown",
   "metadata": {},
   "source": [
    "### Read Dataset\n",
    "\n",
    "👍 Read raw dataset's csv file into pandas DataFrame. Use only `city` and `country` columns."
   ]
  },
  {
   "cell_type": "code",
   "execution_count": 4,
   "metadata": {},
   "outputs": [
    {
     "data": {
      "text/html": [
       "<div>\n",
       "<style scoped>\n",
       "    .dataframe tbody tr th:only-of-type {\n",
       "        vertical-align: middle;\n",
       "    }\n",
       "\n",
       "    .dataframe tbody tr th {\n",
       "        vertical-align: top;\n",
       "    }\n",
       "\n",
       "    .dataframe thead th {\n",
       "        text-align: right;\n",
       "    }\n",
       "</style>\n",
       "<table border=\"1\" class=\"dataframe\">\n",
       "  <thead>\n",
       "    <tr style=\"text-align: right;\">\n",
       "      <th></th>\n",
       "      <th>city</th>\n",
       "      <th>country</th>\n",
       "    </tr>\n",
       "  </thead>\n",
       "  <tbody>\n",
       "    <tr>\n",
       "      <th>0</th>\n",
       "      <td>Tokyo</td>\n",
       "      <td>Japan</td>\n",
       "    </tr>\n",
       "    <tr>\n",
       "      <th>1</th>\n",
       "      <td>Jakarta</td>\n",
       "      <td>Indonesia</td>\n",
       "    </tr>\n",
       "    <tr>\n",
       "      <th>2</th>\n",
       "      <td>Delhi</td>\n",
       "      <td>India</td>\n",
       "    </tr>\n",
       "    <tr>\n",
       "      <th>3</th>\n",
       "      <td>Manila</td>\n",
       "      <td>Philippines</td>\n",
       "    </tr>\n",
       "    <tr>\n",
       "      <th>4</th>\n",
       "      <td>São Paulo</td>\n",
       "      <td>Brazil</td>\n",
       "    </tr>\n",
       "    <tr>\n",
       "      <th>...</th>\n",
       "      <td>...</td>\n",
       "      <td>...</td>\n",
       "    </tr>\n",
       "    <tr>\n",
       "      <th>42900</th>\n",
       "      <td>Tukchi</td>\n",
       "      <td>Russia</td>\n",
       "    </tr>\n",
       "    <tr>\n",
       "      <th>42901</th>\n",
       "      <td>Numto</td>\n",
       "      <td>Russia</td>\n",
       "    </tr>\n",
       "    <tr>\n",
       "      <th>42902</th>\n",
       "      <td>Nord</td>\n",
       "      <td>Greenland</td>\n",
       "    </tr>\n",
       "    <tr>\n",
       "      <th>42903</th>\n",
       "      <td>Timmiarmiut</td>\n",
       "      <td>Greenland</td>\n",
       "    </tr>\n",
       "    <tr>\n",
       "      <th>42904</th>\n",
       "      <td>Nordvik</td>\n",
       "      <td>Russia</td>\n",
       "    </tr>\n",
       "  </tbody>\n",
       "</table>\n",
       "<p>42905 rows × 2 columns</p>\n",
       "</div>"
      ],
      "text/plain": [
       "              city      country\n",
       "0            Tokyo        Japan\n",
       "1          Jakarta    Indonesia\n",
       "2            Delhi        India\n",
       "3           Manila  Philippines\n",
       "4        São Paulo       Brazil\n",
       "...            ...          ...\n",
       "42900       Tukchi       Russia\n",
       "42901        Numto       Russia\n",
       "42902         Nord    Greenland\n",
       "42903  Timmiarmiut    Greenland\n",
       "42904      Nordvik       Russia\n",
       "\n",
       "[42905 rows x 2 columns]"
      ]
     },
     "execution_count": 4,
     "metadata": {},
     "output_type": "execute_result"
    }
   ],
   "source": [
    "# Read raw data\n",
    "cities = pd.read_csv(args.raw_dataset_csv, usecols=[\"city\", \"country\"])\n",
    "cities"
   ]
  },
  {
   "cell_type": "markdown",
   "metadata": {},
   "source": [
    "👍 Count how many datapoints are in each class."
   ]
  },
  {
   "cell_type": "code",
   "execution_count": 5,
   "metadata": {},
   "outputs": [
    {
     "data": {
      "text/plain": [
       "United States               7824\n",
       "Brazil                      3604\n",
       "Germany                     2643\n",
       "Italy                       2140\n",
       "France                      2019\n",
       "                            ... \n",
       "Cook Islands                   1\n",
       "Grenada                        1\n",
       "Martinique                     1\n",
       "Northern Mariana Islands       1\n",
       "U.S. Virgin Islands            1\n",
       "Name: country, Length: 239, dtype: int64"
      ]
     },
     "execution_count": 5,
     "metadata": {},
     "output_type": "execute_result"
    }
   ],
   "source": [
    "cities.country.value_counts()\n"
   ]
  },
  {
   "cell_type": "markdown",
   "metadata": {},
   "source": [
    "### Split to TRAIN, VAL, TEST \n",
    "\n",
    "👍 For each country that has equal or more than 7 cities make train, val and test split. Use percentages defined in args do determine how many datapoints will be for train, val and test.\n",
    "Append dataframe with split column."
   ]
  },
  {
   "cell_type": "code",
   "execution_count": 6,
   "metadata": {},
   "outputs": [
    {
     "name": "stdout",
     "output_type": "stream",
     "text": [
      "removed Hong Kong (1)\n",
      "removed Singapore (1)\n",
      "removed Kuwait (4)\n",
      "removed Sierra Leone (6)\n",
      "removed Djibouti (6)\n",
      "removed The Bahamas (3)\n",
      "removed Martinique (1)\n",
      "removed Gibraltar (1)\n",
      "removed Reunion (2)\n",
      "removed Bahrain (4)\n",
      "removed Mauritius (6)\n",
      "removed Curaçao (1)\n",
      "removed French Polynesia (1)\n",
      "removed Barbados (1)\n",
      "removed Comoros (5)\n",
      "removed New Caledonia (3)\n",
      "removed Saint Lucia (2)\n",
      "removed Vanuatu (6)\n",
      "removed Bermuda (1)\n",
      "removed Monaco (1)\n",
      "removed Kiribati (2)\n",
      "removed Aruba (2)\n",
      "removed Jersey (1)\n",
      "removed Mayotte (1)\n",
      "removed Marshall Islands (1)\n",
      "removed Isle Of Man (2)\n",
      "removed Cayman Islands (1)\n",
      "removed Seychelles (1)\n",
      "removed Saint Vincent And The Grenadines (1)\n",
      "removed Antigua And Barbuda (1)\n",
      "removed Tonga (2)\n",
      "removed Dominica (1)\n",
      "removed Saint Kitts And Nevis (1)\n",
      "removed American Samoa (1)\n",
      "removed Gaza Strip (1)\n",
      "removed Turks And Caicos Islands (1)\n",
      "removed Federated States of Micronesia (5)\n",
      "removed Tuvalu (1)\n",
      "removed Cook Islands (1)\n",
      "removed Grenada (1)\n",
      "removed West Bank (1)\n",
      "removed Northern Mariana Islands (1)\n",
      "removed Falkland Islands (Islas Malvinas) (1)\n",
      "removed Vatican City (1)\n",
      "removed Niue (1)\n",
      "removed Guadeloupe (2)\n",
      "removed Guam (2)\n",
      "removed Saint Martin (1)\n",
      "removed Saint Helena, Ascension, And Tristan Da Cunha (3)\n",
      "removed Montserrat (1)\n",
      "removed Sint Maarten (1)\n",
      "removed Nauru (1)\n",
      "removed Saint Barthelemy (1)\n",
      "removed British Virgin Islands (1)\n",
      "removed Palau (3)\n",
      "removed Saint Pierre And Miquelon (1)\n",
      "removed Anguilla (1)\n",
      "removed Wallis And Futuna (2)\n",
      "removed Norfolk Island (1)\n",
      "removed Svalbard (1)\n",
      "removed Pitcairn Islands (1)\n",
      "removed Christmas Island (1)\n",
      "removed South Georgia And South Sandwich Islands (2)\n",
      "removed Macau (1)\n",
      "removed U.S. Virgin Islands (1)\n"
     ]
    }
   ],
   "source": [
    "# Create dict\n",
    "by_country = collections.defaultdict(list)\n",
    "for _, row in cities.iterrows():\n",
    "    by_country[row.country].append(row.to_dict())\n",
    "\n",
    "# Removing countries with less than 7 cities\n",
    "for country in list(by_country):\n",
    "    n_cities = len(by_country[country])\n",
    "    if  n_cities < 7:\n",
    "        by_country.pop(country)\n",
    "        print(f\"removed {country} ({n_cities})\")"
   ]
  },
  {
   "cell_type": "code",
   "execution_count": 7,
   "metadata": {},
   "outputs": [],
   "source": [
    "# Create split data\n",
    "final_list = []\n",
    "np.random.seed(args.seed)\n",
    "\n",
    "for _, item_list in sorted(by_country.items()):\n",
    "    np.random.shuffle(item_list)\n",
    "    n = len(item_list)\n",
    "    n_train = int(args.train_proportion*n)\n",
    "    n_val = int(args.val_proportion*n)\n",
    "    n_test = int(args.test_proportion*n)\n",
    "    \n",
    "    # Give data point a split attribute\n",
    "    for item in item_list[:n_train]:\n",
    "        item['split'] = 'train'\n",
    "    for item in item_list[n_train:n_train+n_val]:\n",
    "        item['split'] = 'val'\n",
    "    for item in item_list[n_train+n_val:]:\n",
    "        item['split'] = 'test'  \n",
    "    \n",
    "    # Add to final list\n",
    "    final_list.extend(item_list)"
   ]
  },
  {
   "cell_type": "code",
   "execution_count": 8,
   "metadata": {},
   "outputs": [],
   "source": [
    "# Write split data to file\n",
    "final_cities = pd.DataFrame(final_list)"
   ]
  },
  {
   "cell_type": "markdown",
   "metadata": {},
   "source": [
    "### Save dataset\n",
    "\n",
    "👍 Save DataFrame with header into comma separated file defined by arguments."
   ]
  },
  {
   "cell_type": "code",
   "execution_count": 9,
   "metadata": {},
   "outputs": [
    {
     "data": {
      "text/plain": [
       "train    29867\n",
       "test      6586\n",
       "val       6335\n",
       "Name: split, dtype: int64"
      ]
     },
     "execution_count": 9,
     "metadata": {},
     "output_type": "execute_result"
    }
   ],
   "source": [
    "final_cities.split.value_counts()"
   ]
  },
  {
   "cell_type": "code",
   "execution_count": 10,
   "metadata": {},
   "outputs": [
    {
     "data": {
      "text/html": [
       "<div>\n",
       "<style scoped>\n",
       "    .dataframe tbody tr th:only-of-type {\n",
       "        vertical-align: middle;\n",
       "    }\n",
       "\n",
       "    .dataframe tbody tr th {\n",
       "        vertical-align: top;\n",
       "    }\n",
       "\n",
       "    .dataframe thead th {\n",
       "        text-align: right;\n",
       "    }\n",
       "</style>\n",
       "<table border=\"1\" class=\"dataframe\">\n",
       "  <thead>\n",
       "    <tr style=\"text-align: right;\">\n",
       "      <th></th>\n",
       "      <th>city</th>\n",
       "      <th>country</th>\n",
       "      <th>split</th>\n",
       "    </tr>\n",
       "  </thead>\n",
       "  <tbody>\n",
       "    <tr>\n",
       "      <th>0</th>\n",
       "      <td>Farāh</td>\n",
       "      <td>Afghanistan</td>\n",
       "      <td>train</td>\n",
       "    </tr>\n",
       "    <tr>\n",
       "      <th>1</th>\n",
       "      <td>Kabul</td>\n",
       "      <td>Afghanistan</td>\n",
       "      <td>train</td>\n",
       "    </tr>\n",
       "    <tr>\n",
       "      <th>2</th>\n",
       "      <td>Tāluqān</td>\n",
       "      <td>Afghanistan</td>\n",
       "      <td>train</td>\n",
       "    </tr>\n",
       "    <tr>\n",
       "      <th>3</th>\n",
       "      <td>Zarghūn Shahr</td>\n",
       "      <td>Afghanistan</td>\n",
       "      <td>train</td>\n",
       "    </tr>\n",
       "    <tr>\n",
       "      <th>4</th>\n",
       "      <td>Bāmyān</td>\n",
       "      <td>Afghanistan</td>\n",
       "      <td>train</td>\n",
       "    </tr>\n",
       "  </tbody>\n",
       "</table>\n",
       "</div>"
      ],
      "text/plain": [
       "            city      country  split\n",
       "0          Farāh  Afghanistan  train\n",
       "1          Kabul  Afghanistan  train\n",
       "2        Tāluqān  Afghanistan  train\n",
       "3  Zarghūn Shahr  Afghanistan  train\n",
       "4         Bāmyān  Afghanistan  train"
      ]
     },
     "execution_count": 10,
     "metadata": {},
     "output_type": "execute_result"
    }
   ],
   "source": [
    "final_cities.head()"
   ]
  },
  {
   "cell_type": "code",
   "execution_count": 11,
   "metadata": {},
   "outputs": [],
   "source": [
    "# Write munged data to CSV\n",
    "final_cities.to_csv(args.output_munged_csv, index=False)"
   ]
  }
 ],
 "metadata": {
  "kernelspec": {
   "display_name": "Python 3.8.13 ('nlp')",
   "language": "python",
   "name": "python3"
  },
  "language_info": {
   "codemirror_mode": {
    "name": "ipython",
    "version": 3
   },
   "file_extension": ".py",
   "mimetype": "text/x-python",
   "name": "python",
   "nbconvert_exporter": "python",
   "pygments_lexer": "ipython3",
   "version": "3.8.13"
  },
  "toc": {
   "colors": {
    "hover_highlight": "#DAA520",
    "running_highlight": "#FF0000",
    "selected_highlight": "#FFD700"
   },
   "moveMenuLeft": true,
   "nav_menu": {
    "height": "12px",
    "width": "252px"
   },
   "navigate_menu": true,
   "number_sections": true,
   "sideBar": true,
   "threshold": "5",
   "toc_cell": false,
   "toc_section_display": "block",
   "toc_window_display": false
  },
  "vscode": {
   "interpreter": {
    "hash": "358f19b5168dcc2c817c22e8ae2c189228565b53de3b91095ee770a390daccdd"
   }
  }
 },
 "nbformat": 4,
 "nbformat_minor": 2
}
