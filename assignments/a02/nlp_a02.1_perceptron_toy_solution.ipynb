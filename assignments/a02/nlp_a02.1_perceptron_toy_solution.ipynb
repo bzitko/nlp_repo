{
 "cells": [
  {
   "cell_type": "markdown",
   "metadata": {
    "id": "W-CeYMXmbtG-"
   },
   "source": [
    "# Toy Data Solution"
   ]
  },
  {
   "cell_type": "code",
   "execution_count": 1,
   "metadata": {
    "executionInfo": {
     "elapsed": 4290,
     "status": "ok",
     "timestamp": 1660203327038,
     "user": {
      "displayName": "Branko Žitko",
      "userId": "04777374732866690844"
     },
     "user_tz": -120
    },
    "id": "rxFKBmmEEoUA"
   },
   "outputs": [],
   "source": [
    "import numpy as np\n",
    "#import pandas as pd\n",
    "import torch\n",
    "import torch.nn\n",
    "import matplotlib.pyplot as plt\n",
    "\n",
    "from sklearn.metrics import accuracy_score, precision_score, recall_score, f1_score, confusion_matrix, roc_curve\n",
    "\n",
    "def reseed(seed=96):\n",
    "    torch.manual_seed(seed)\n",
    "    torch.cuda.manual_seed_all(seed)\n",
    "    np.random.seed(seed)"
   ]
  },
  {
   "cell_type": "markdown",
   "metadata": {},
   "source": [
    "# 1.1 Generating synthetic data\n",
    "\n",
    "Make function `generate_toydata()` that recieves:\n",
    "* `batch_size` - number of datapoints\n",
    "* `w` - multipliyer of linear function\n",
    "* `b` - offset of linear function\n",
    "\n",
    "and returns two vectors:\n",
    "* `X` of shape (batch_size, 2) containing 2D datapoints\n",
    "* `Y` if shape (batch_size,) containing targets.\n",
    "\n",
    "This function generates random batch size number of 2D points $(x_1, x_2)$ where:\n",
    "* $x_1$ are random numbers and\n",
    "* $x_2$ are random numbers multiplied by $w$ and to which $b$ is added.\n",
    "\n",
    "Target ($y$) of $(x_1, x_2)$ will be:\n",
    "* $1$ if $x_2 > w * x_1 + b$\n",
    "* else $0$\n",
    "\n"
   ]
  },
  {
   "cell_type": "code",
   "execution_count": 2,
   "metadata": {
    "colab": {
     "base_uri": "https://localhost:8080/"
    },
    "executionInfo": {
     "elapsed": 9,
     "status": "ok",
     "timestamp": 1660203330781,
     "user": {
      "displayName": "Branko Žitko",
      "userId": "04777374732866690844"
     },
     "user_tz": -120
    },
    "id": "4uqOaX-Ah7KZ",
    "outputId": "604915d7-0ba5-4184-b90f-2ea2351af4c7",
    "scrolled": false
   },
   "outputs": [
    {
     "data": {
      "text/plain": [
       "(tensor([[0.7208, 4.8421],\n",
       "         [0.3851, 7.4120],\n",
       "         [0.4733, 6.5889],\n",
       "         [0.8840, 3.9616],\n",
       "         [0.9268, 6.6549],\n",
       "         [0.9257, 6.7162],\n",
       "         [0.2436, 3.6903],\n",
       "         [0.9238, 3.2003],\n",
       "         [0.1431, 4.6544],\n",
       "         [0.2761, 6.3447]]),\n",
       " tensor([0., 1., 1., 0., 0., 0., 0., 0., 1., 1.]))"
      ]
     },
     "execution_count": 2,
     "metadata": {},
     "output_type": "execute_result"
    }
   ],
   "source": [
    "def generate_toy_data(batch_size, w, b):\n",
    "    x1 = torch.rand(batch_size)\n",
    "    x2 = torch.rand(batch_size) * w + b\n",
    "    assert x1.shape == x2.shape == (batch_size, )\n",
    "    \n",
    "    x_data = torch.stack((x1, x2)).T\n",
    "    assert x_data.shape == (batch_size, 2)\n",
    "    \n",
    "    y_target = (x2 > w * x1 + b).float()\n",
    "    assert y_target.shape == (batch_size, )\n",
    "    \n",
    "    return x_data, y_target\n",
    "    \n",
    "\n",
    "x_data, y_truth = generate_toy_data(10, w=5, b=3)\n",
    "x_data, y_truth"
   ]
  },
  {
   "cell_type": "code",
   "execution_count": 3,
   "metadata": {},
   "outputs": [],
   "source": [
    "reseed(1337)\n",
    "temp = generate_toy_data(4, w=2, b=1)\n",
    "assert isinstance(temp, tuple) and len(temp) == 2\n",
    "assert torch.allclose(temp[0], torch.tensor([[0.0783, 1.4008], [0.4956, 1.0573], [0.6231, 2.1702], [0.4224, 2.3934]]), atol=1e-4)\n",
    "assert torch.equal(temp[1], torch.tensor([1., 0., 0., 1.]))\n",
    "del temp\n"
   ]
  },
  {
   "cell_type": "markdown",
   "metadata": {},
   "source": [
    "# 1.2 Plotting data\n",
    "\n",
    "Create function `plot_toy_data()` which receives two vectors:\n",
    "* $X$ vector of n datapoints $(x_1, x_2)$\n",
    "* $Y$ vector of n targets\n",
    "\n",
    "This function plots 2D datapoints in blue if corresponding target value is 1, red if opposite.\n",
    "\n",
    "Generate 1000 synthetic data points where $w$ = 5 and $b$ = 3."
   ]
  },
  {
   "cell_type": "code",
   "execution_count": 4,
   "metadata": {
    "colab": {
     "base_uri": "https://localhost:8080/",
     "height": 265
    },
    "executionInfo": {
     "elapsed": 862,
     "status": "ok",
     "timestamp": 1660203331637,
     "user": {
      "displayName": "Branko Žitko",
      "userId": "04777374732866690844"
     },
     "user_tz": -120
    },
    "id": "GWtzQBm6buPs",
    "outputId": "8853f233-648a-4f2b-ca9a-176416f0c69b"
   },
   "outputs": [
    {
     "data": {
      "image/png": "[encoded data removed]",
      "text/plain": [
       "<Figure size 432x288 with 1 Axes>"
      ]
     },
     "metadata": {
      "needs_background": "light"
     },
     "output_type": "display_data"
    }
   ],
   "source": [
    "def plot_toy_data(x_data, y_truth, perceptron=None):\n",
    "    blue = []\n",
    "    orange = []\n",
    "    black_blue = []\n",
    "    black_orange = []\n",
    "    if perceptron:\n",
    "        y_pred = perceptron(x_data).squeeze().detach()\n",
    "        y_pred = (y_pred > 0.5).float()\n",
    "    else:\n",
    "        y_pred = y_truth\n",
    "\n",
    "    for x_i, y_true_i, y_pred_i in zip(x_data, y_truth, y_pred):\n",
    "        \n",
    "        is_black = y_true_i != y_pred_i\n",
    "\n",
    "        if y_true_i == 1.:\n",
    "            if is_black:\n",
    "                black_blue.append(x_i)\n",
    "            else:\n",
    "                blue.append(x_i)\n",
    "        else:\n",
    "            if is_black:\n",
    "                black_orange.append(x_i)\n",
    "            else:\n",
    "                orange.append(x_i)\n",
    "    \n",
    "    if blue:\n",
    "        blue = np.stack(blue)\n",
    "        plt.scatter(blue[:,0], blue[:,1], marker=\".\", c=\"tab:blue\")\n",
    "    \n",
    "    if orange:\n",
    "        orange = np.stack(orange)\n",
    "        plt.scatter(orange[:,0], orange[:,1], marker=\".\", c=\"tab:red\")\n",
    "\n",
    "    if perceptron:\n",
    "        if black_blue:\n",
    "            black_blue = np.stack(black_blue)\n",
    "            plt.scatter(black_blue[:,0], black_blue[:,1], marker=\".\", c=\"black\")\n",
    "        if black_orange:\n",
    "            black_orange = np.stack(black_orange)\n",
    "            plt.scatter(black_orange[:,0], black_orange[:,1], marker=\".\", c=\"black\")\n",
    "\n",
    "        # hyperplane\n",
    "        xx = np.linspace(x_data[:,0].min(), x_data[:,0].max(), 30)\n",
    "        yy = np.linspace(x_data[:,1].min(), x_data[:,1].max(), 30)\n",
    "        xv, yv = np.meshgrid(xx, yy)\n",
    "        xy = np.vstack([xv.ravel(), yv.ravel()]).T\n",
    "        z = perceptron(torch.tensor(xy, dtype=torch.float)).detach().numpy().reshape(yv.shape)\n",
    "        \n",
    "        plt.contour(xx, yy, z, colors='k', linestyles=[\"--\", \"-\", \"--\"], levels=[0.4, 0.5, 0.6])\n",
    "    plt.show()\n",
    "\n",
    "plot_toy_data(*generate_toy_data(1024, w=5, b=3))\n",
    "# plot_toy_data(*get_toy_data(1024), perceptron)\n"
   ]
  },
  {
   "cell_type": "markdown",
   "metadata": {},
   "source": [
    "# 2.1. Perceptron\n",
    "\n",
    "Create `Perceptron` class where perceptron receives 2 numbers and outputs 1 number.  \n",
    "Create `forward()` method which receives datapoint $(x_1, x_2)$ which is an input to perceptron and applies sigmoid on perceptron's output.  \n",
    "Create `predict()`method which receives datapoint $(x_1, x_2)$ and returns 1 if the result after forward is greater or equal 0.5, otherwise 0.  \n",
    "Create `reset()` method which resets parameters of the model (call `reset_parameter` on model layer)"
   ]
  },
  {
   "cell_type": "code",
   "execution_count": 5,
   "metadata": {
    "colab": {
     "base_uri": "https://localhost:8080/"
    },
    "executionInfo": {
     "elapsed": 13,
     "status": "ok",
     "timestamp": 1660203331638,
     "user": {
      "displayName": "Branko Žitko",
      "userId": "04777374732866690844"
     },
     "user_tz": -120
    },
    "id": "1IBXUdZFb22E",
    "outputId": "b0f05472-886c-4cb6-fc77-9fc0e8a7b70b"
   },
   "outputs": [
    {
     "data": {
      "text/plain": [
       "tensor(1.)"
      ]
     },
     "execution_count": 5,
     "metadata": {},
     "output_type": "execute_result"
    }
   ],
   "source": [
    "class Perceptron(torch.nn.Module):\n",
    "\n",
    "    def __init__(self):\n",
    "        super(Perceptron, self).__init__()\n",
    "        self.fc1 = torch.nn.Linear(2, 1)\n",
    "\n",
    "    def forward(self, x_in):\n",
    "        return torch.sigmoid(self.fc1(x_in)).squeeze()\n",
    "    \n",
    "    def predict(self, x_in):\n",
    "        return (self.forward(x_in) >= 0.5).float()\n",
    "    \n",
    "    def reset(self):\n",
    "        self.fc1.reset_parameters()\n",
    "\n",
    "x = torch.FloatTensor([[1, 2], [3, 4]])\n",
    "#x = torch.tensor([[1, 2], [3, 4]], dtype=torch.float32)\n",
    "perceptron = Perceptron()\n",
    "perceptron(x)\n",
    "\n",
    "perceptron.predict(torch.FloatTensor([3,4]))"
   ]
  },
  {
   "cell_type": "code",
   "execution_count": 6,
   "metadata": {},
   "outputs": [],
   "source": [
    "reseed(1337)\n",
    "temp = Perceptron()\n",
    "assert hasattr(temp, \"forward\") and hasattr(temp, \"predict\") and hasattr(temp, \"reset\")\n",
    "assert torch.allclose(temp(torch.FloatTensor([1, 2])), torch.tensor(0.3930), atol=1e-4)\n",
    "assert torch.allclose(temp(torch.FloatTensor([[1, 2], [3, 4]])), torch.tensor([0.3930, 0.1625]), atol=1e-4)\n",
    "assert torch.equal(temp.predict(torch.FloatTensor([1, 2])), torch.tensor(0.))\n",
    "assert torch.equal(temp.predict(torch.FloatTensor([[1, 2], [-5, 4]])), torch.tensor([0., 1.]))\n",
    "\n",
    "temp.reset()\n",
    "W, b = temp.parameters()\n",
    "assert torch.allclose(W, torch.tensor([-0.1097, -0.4237]), atol=1e-4) and torch.allclose(b, torch.tensor([-0.6666]), atol=1e-4)\n",
    "\n",
    "del temp, W, b"
   ]
  },
  {
   "cell_type": "markdown",
   "metadata": {},
   "source": [
    "Set following variables:\n",
    "* learning rate `lr` to 0.01\n",
    "* `batch_size` = 1000\n",
    "* `w` = 90\n",
    "* `b` = 6\n",
    "\n",
    "Instantiate:\n",
    "* `model` as perceptron, \n",
    "* `optimizer`as adam optimizer with defined learning rate, \n",
    "* `loss_fn` as binary cross-entropy loss, \n",
    "\n",
    "Generate and remember static toy data with predefined parameters into `x_data_static` and `y_truth_static`.\n",
    "Plot toy data"
   ]
  },
  {
   "cell_type": "code",
   "execution_count": 7,
   "metadata": {
    "colab": {
     "base_uri": "https://localhost:8080/",
     "height": 265
    },
    "executionInfo": {
     "elapsed": 573,
     "status": "ok",
     "timestamp": 1660204001457,
     "user": {
      "displayName": "Branko Žitko",
      "userId": "04777374732866690844"
     },
     "user_tz": -120
    },
    "id": "6Aqr7DofdM87",
    "outputId": "9b80b443-5405-448f-b8e4-5cddaec94cd5"
   },
   "outputs": [
    {
     "data": {
      "image/png": "[encoded data removed]",
      "text/plain": [
       "<Figure size 432x288 with 1 Axes>"
      ]
     },
     "metadata": {
      "needs_background": "light"
     },
     "output_type": "display_data"
    }
   ],
   "source": [
    "lr = 0.01\n",
    "batch_size = 1000\n",
    "W = 90\n",
    "B = 6\n",
    "\n",
    "model = Perceptron()\n",
    "optimizer = torch.optim.Adam(params=model.parameters(), lr=lr)\n",
    "loss_fn = torch.nn.BCELoss()\n",
    "\n",
    "x_data_static, y_truth_static = generate_toy_data(batch_size, w=W, b=B)\n",
    "plot_toy_data(x_data_static, y_truth_static)"
   ]
  },
  {
   "cell_type": "code",
   "execution_count": 8,
   "metadata": {},
   "outputs": [],
   "source": [
    "assert isinstance(model, Perceptron)\n",
    "assert isinstance(optimizer, torch.optim.Adam)\n",
    "assert optimizer.defaults[\"lr\"] == 0.01\n",
    "\n",
    "assert isinstance(loss_fn, torch.nn.BCELoss)\n",
    "\n",
    "assert isinstance(x_data_static, torch.Tensor)\n",
    "assert x_data_static.shape == (1000, 2)\n",
    "\n",
    "assert isinstance(x_data_static, torch.Tensor)\n",
    "assert y_truth_static.shape == (1000,)\n"
   ]
  },
  {
   "cell_type": "markdown",
   "metadata": {},
   "source": [
    "# 2.2 Train\n",
    "\n",
    "Set following variables:\n",
    "* `n_epochs` to 100  - number of epochs\n",
    "* `n_batches` to 10 - number of batches\n",
    "* `epoch` to 0 - current epoch number\n",
    "\n",
    "**Train procedure**\n",
    "\n",
    "for each epoch  \n",
    "then for each batch:\n",
    "* make forward step, \n",
    "* make backward step,\n",
    "* append to `losses` current loss  \n",
    "\n",
    "at the end of batch loop increment `epoch`."
   ]
  },
  {
   "cell_type": "code",
   "execution_count": 9,
   "metadata": {
    "colab": {
     "base_uri": "https://localhost:8080/",
     "height": 1000
    },
    "executionInfo": {
     "elapsed": 7563,
     "status": "ok",
     "timestamp": 1660203339191,
     "user": {
      "displayName": "Branko Žitko",
      "userId": "04777374732866690844"
     },
     "user_tz": -120
    },
    "id": "7vG8dmtJfEiN",
    "outputId": "20b35147-e0e5-46ff-d3d8-b96cbdb573e2",
    "scrolled": true
   },
   "outputs": [
    {
     "name": "stdout",
     "output_type": "stream",
     "text": [
      "..........\n",
      "epoch: 1 loss: 2.75\n",
      "..........\n",
      "epoch: 2 loss: 0.773\n",
      "..........\n",
      "epoch: 3 loss: 1.07\n",
      "..........\n",
      "epoch: 4 loss: 0.703\n",
      "..........\n",
      "epoch: 5 loss: 0.726\n",
      "..........\n",
      "epoch: 6 loss: 0.687\n",
      "..........\n",
      "epoch: 7 loss: 0.66\n",
      "..........\n",
      "epoch: 8 loss: 0.649\n",
      "..........\n",
      "epoch: 9 loss: 0.625\n",
      "..........\n",
      "epoch: 10 loss: 0.615\n",
      "..........\n",
      "epoch: 11 loss: 0.595\n",
      "..........\n",
      "epoch: 12 loss: 0.58\n",
      "..........\n",
      "epoch: 13 loss: 0.576\n",
      "..........\n",
      "epoch: 14 loss: 0.566\n",
      "..........\n",
      "epoch: 15 loss: 0.546\n",
      "..........\n",
      "epoch: 16 loss: 0.526\n",
      "..........\n",
      "epoch: 17 loss: 0.519\n",
      "..........\n",
      "epoch: 18 loss: 0.526\n",
      "..........\n",
      "epoch: 19 loss: 0.499\n",
      "..........\n",
      "epoch: 20 loss: 0.499\n",
      "..........\n",
      "epoch: 21 loss: 0.489\n",
      "..........\n",
      "epoch: 22 loss: 0.474\n",
      "..........\n",
      "epoch: 23 loss: 0.463\n",
      "..........\n",
      "epoch: 24 loss: 0.467\n",
      "..........\n",
      "epoch: 25 loss: 0.45\n",
      "..........\n",
      "epoch: 26 loss: 0.44\n",
      "..........\n",
      "epoch: 27 loss: 0.436\n",
      "..........\n",
      "epoch: 28 loss: 0.425\n",
      "..........\n",
      "epoch: 29 loss: 0.422\n",
      "..........\n",
      "epoch: 30 loss: 0.418\n",
      "..........\n",
      "epoch: 31 loss: 0.41\n",
      "..........\n",
      "epoch: 32 loss: 0.41\n",
      "..........\n",
      "epoch: 33 loss: 0.399\n",
      "..........\n",
      "epoch: 34 loss: 0.397\n",
      "..........\n",
      "epoch: 35 loss: 0.389\n",
      "..........\n",
      "epoch: 36 loss: 0.383\n",
      "..........\n",
      "epoch: 37 loss: 0.381\n",
      "..........\n",
      "epoch: 38 loss: 0.39\n",
      "..........\n",
      "epoch: 39 loss: 0.379\n",
      "..........\n",
      "epoch: 40 loss: 0.354\n",
      "..........\n",
      "epoch: 41 loss: 0.379\n",
      "..........\n",
      "epoch: 42 loss: 0.36\n",
      "..........\n",
      "epoch: 43 loss: 0.353\n",
      "..........\n",
      "epoch: 44 loss: 0.346\n",
      "..........\n",
      "epoch: 45 loss: 0.357\n",
      "..........\n",
      "epoch: 46 loss: 0.362\n",
      "..........\n",
      "epoch: 47 loss: 0.342\n",
      "..........\n",
      "epoch: 48 loss: 0.343\n",
      "..........\n",
      "epoch: 49 loss: 0.34\n",
      "..........\n",
      "epoch: 50 loss: 0.327\n",
      "..........\n",
      "epoch: 51 loss: 0.332\n",
      "..........\n",
      "epoch: 52 loss: 0.323\n",
      "..........\n",
      "epoch: 53 loss: 0.336\n",
      "..........\n",
      "epoch: 54 loss: 0.311\n",
      "..........\n",
      "epoch: 55 loss: 0.333\n",
      "..........\n",
      "epoch: 56 loss: 0.315\n",
      "..........\n",
      "epoch: 57 loss: 0.315\n",
      "..........\n",
      "epoch: 58 loss: 0.325\n",
      "..........\n",
      "epoch: 59 loss: 0.318\n",
      "..........\n",
      "epoch: 60 loss: 0.315\n",
      "..........\n",
      "epoch: 61 loss: 0.314\n",
      "..........\n",
      "epoch: 62 loss: 0.322\n",
      "..........\n",
      "epoch: 63 loss: 0.306\n",
      "..........\n",
      "epoch: 64 loss: 0.303\n",
      "..........\n",
      "epoch: 65 loss: 0.314\n",
      "..........\n",
      "epoch: 66 loss: 0.312\n",
      "..........\n",
      "epoch: 67 loss: 0.315\n",
      "..........\n",
      "epoch: 68 loss: 0.303\n",
      "..........\n",
      "epoch: 69 loss: 0.289\n",
      "..........\n",
      "epoch: 70 loss: 0.295\n",
      "..........\n",
      "epoch: 71 loss: 0.279\n",
      "..........\n",
      "epoch: 72 loss: 0.288\n",
      "..........\n",
      "epoch: 73 loss: 0.279\n",
      "..........\n",
      "epoch: 74 loss: 0.267\n",
      "..........\n",
      "epoch: 75 loss: 0.285\n",
      "..........\n",
      "epoch: 76 loss: 0.271\n",
      "..........\n",
      "epoch: 77 loss: 0.259\n",
      "..........\n",
      "epoch: 78 loss: 0.27\n",
      "..........\n",
      "epoch: 79 loss: 0.26\n",
      "..........\n",
      "epoch: 80 loss: 0.256\n",
      "..........\n",
      "epoch: 81 loss: 0.274\n",
      "..........\n",
      "epoch: 82 loss: 0.265\n",
      "..........\n",
      "epoch: 83 loss: 0.279\n",
      "..........\n",
      "epoch: 84 loss: 0.244\n",
      "..........\n",
      "epoch: 85 loss: 0.275\n",
      "..........\n",
      "epoch: 86 loss: 0.256\n",
      "..........\n",
      "epoch: 87 loss: 0.276\n",
      "..........\n",
      "epoch: 88 loss: 0.249\n",
      "..........\n",
      "epoch: 89 loss: 0.271\n",
      "..........\n",
      "epoch: 90 loss: 0.233\n",
      "..........\n",
      "epoch: 91 loss: 0.255\n",
      "..........\n",
      "epoch: 92 loss: 0.246\n",
      "..........\n",
      "epoch: 93 loss: 0.247\n",
      "..........\n",
      "epoch: 94 loss: 0.248\n",
      "..........\n",
      "epoch: 95 loss: 0.248\n",
      "..........\n",
      "epoch: 96 loss: 0.255\n",
      "..........\n",
      "epoch: 97 loss: 0.231\n",
      "..........\n",
      "epoch: 98 loss: 0.243\n",
      "..........\n",
      "epoch: 99 loss: 0.238\n",
      "..........\n",
      "epoch: 100 loss: 0.226\n"
     ]
    },
    {
     "data": {
      "image/png": "[encoded data removed]",
      "text/plain": [
       "<Figure size 432x288 with 1 Axes>"
      ]
     },
     "metadata": {
      "needs_background": "light"
     },
     "output_type": "display_data"
    }
   ],
   "source": [
    "batch_size = 1000\n",
    "n_epochs = 100\n",
    "n_batches = 10\n",
    "epoch = 0\n",
    "\n",
    "losses = []\n",
    "\n",
    "model.reset()\n",
    "for epoch in range(n_epochs):\n",
    "    for _ in range(n_batches):\n",
    "        model.train()\n",
    "        \n",
    "        x, y = generate_toy_data(batch_size, w=W, b=B)\n",
    "        yhat = model(x)\n",
    "        \n",
    "        loss = loss_fn(yhat, y)\n",
    "        loss.backward()\n",
    "\n",
    "        optimizer.step()\n",
    "        optimizer.zero_grad()\n",
    "        \n",
    "        losses.append(loss.item())\n",
    "        print(\".\", end=\"\")\n",
    "    epoch += 1\n",
    "    print(f\"\\nepoch: {epoch} loss: {loss:0.3}\\r\")     \n",
    "\n",
    "plot_toy_data(x_data_static, y_truth_static, model)"
   ]
  },
  {
   "cell_type": "markdown",
   "metadata": {},
   "source": [
    "Plot losses"
   ]
  },
  {
   "cell_type": "code",
   "execution_count": 10,
   "metadata": {},
   "outputs": [
    {
     "data": {
      "text/plain": [
       "[<matplotlib.lines.Line2D at 0x7ff619b34c70>]"
      ]
     },
     "execution_count": 10,
     "metadata": {},
     "output_type": "execute_result"
    },
    {
     "data": {
      "image/png": "[encoded data removed]",
      "text/plain": [
       "<Figure size 432x288 with 1 Axes>"
      ]
     },
     "metadata": {
      "needs_background": "light"
     },
     "output_type": "display_data"
    }
   ],
   "source": [
    "plt.plot(range(len(losses)), losses)"
   ]
  },
  {
   "cell_type": "markdown",
   "metadata": {},
   "source": [
    "# 2.3 Evaluate\n",
    "\n",
    "Evaluate model on static data. calculate accuracy, precission, recall and f1. Printout confusion matrix.\n",
    "\n",
    "Note: You can use `scikitlearn.metrics`"
   ]
  },
  {
   "cell_type": "code",
   "execution_count": 11,
   "metadata": {},
   "outputs": [
    {
     "name": "stdout",
     "output_type": "stream",
     "text": [
      "acc: 0.916\n",
      "p: 0.909\n",
      "r: 0.920\n",
      "f1: 0.915\n",
      "\n",
      "tn: 465  fp: 45\n",
      "fn: 39  tp: 451\n"
     ]
    }
   ],
   "source": [
    "y_pred = model.predict(x_data_static)\n",
    "\n",
    "#y_pred = perceptron(x_data_static).squeeze()\n",
    "\n",
    "acc = accuracy_score(y_truth_static, y_pred)\n",
    "p = precision_score(y_truth_static, y_pred)\n",
    "r = recall_score(y_truth_static, y_pred)\n",
    "f1 = f1_score(y_truth_static, y_pred)\n",
    "\n",
    "print(f\"acc: {acc:.3f}\", )\n",
    "print(f\"p: {p:.3f}\", )\n",
    "print(f\"r: {r:.3f}\", )\n",
    "print(f\"f1: {f1:.3f}\\n\")\n",
    "\n",
    "[[tn, fp], [fn, tp]] = confusion_matrix(y_truth_static, y_pred)\n",
    "print(f\"tn: {tn}  fp: {fp}\")\n",
    "print(f\"fn: {fn}  tp: {tp}\")"
   ]
  },
  {
   "cell_type": "code",
   "execution_count": 12,
   "metadata": {},
   "outputs": [
    {
     "data": {
      "text/plain": [
       "[<matplotlib.lines.Line2D at 0x7ff61a1a9d60>]"
      ]
     },
     "execution_count": 12,
     "metadata": {},
     "output_type": "execute_result"
    },
    {
     "data": {
      "image/png": "[encoded data removed]",
      "text/plain": [
       "<Figure size 432x288 with 1 Axes>"
      ]
     },
     "metadata": {
      "needs_background": "light"
     },
     "output_type": "display_data"
    }
   ],
   "source": [
    "fpr, tpr, th1 = roc_curve(y_truth_static, model(x_data_static).detach().clone().numpy())\n",
    "\n",
    "plt.xlabel(\"False positive rate\")\n",
    "plt.ylabel(\"True positive rate\")\n",
    "plt.plot(fpr, tpr)"
   ]
  },
  {
   "cell_type": "markdown",
   "metadata": {},
   "source": [
    "# 2.4. Interspect\n",
    "\n",
    "Determine learnt weights and compare them to `W` and `B` parameters used for generating toy data."
   ]
  },
  {
   "cell_type": "code",
   "execution_count": 13,
   "metadata": {},
   "outputs": [
    {
     "name": "stdout",
     "output_type": "stream",
     "text": [
      "(-5.009944, 0.08114193) -1.6024367\n"
     ]
    }
   ],
   "source": [
    "ins, outs = model.parameters()\n",
    "w1, w2 = ins.detach().clone().numpy()[0]\n",
    "b = outs.detach().clone().numpy()[0]\n",
    "\n",
    "print((w1, w2), b)"
   ]
  },
  {
   "cell_type": "code",
   "execution_count": 14,
   "metadata": {},
   "outputs": [
    {
     "name": "stdout",
     "output_type": "stream",
     "text": [
      "model parameters: 61.74 19.75\n",
      "toy data generator parameters: 90.00 6.00\n"
     ]
    }
   ],
   "source": [
    "w = -w1/w2\n",
    "b = -b/w2\n",
    "\n",
    "print(f\"model parameters: {w:.2f} {b:.2f}\")\n",
    "print(f\"toy data generator parameters: {W:.2f} {B:.2f}\")"
   ]
  },
  {
   "cell_type": "markdown",
   "metadata": {},
   "source": [
    "**model**\n",
    "\n",
    "$ x_1 * w_1 + x_2 * w_2 + b = 0 $  \n",
    "$ x_2 * w_2 = - x_1 * w_1 - b $  \n",
    "$ x_2 = - \\frac{w_1}{w_2} x_1 - \\frac{b}{w_2} $  \n",
    "\n",
    "**data**\n",
    "\n",
    "$ x_2 = W * x_1 + B $\n"
   ]
  },
  {
   "cell_type": "code",
   "execution_count": null,
   "metadata": {},
   "outputs": [],
   "source": []
  }
 ],
 "metadata": {
  "colab": {
   "authorship_tag": "ABX9TyMCcdqPAojc58imbCCRsEo6",
   "collapsed_sections": [],
   "name": "nlp p02.1 perceptron toy.ipynb",
   "provenance": []
  },
  "kernelspec": {
   "display_name": "Python 3.8.13 ('nlp')",
   "language": "python",
   "name": "python3"
  },
  "language_info": {
   "codemirror_mode": {
    "name": "ipython",
    "version": 3
   },
   "file_extension": ".py",
   "mimetype": "text/x-python",
   "name": "python",
   "nbconvert_exporter": "python",
   "pygments_lexer": "ipython3",
   "version": "3.8.13"
  },
  "vscode": {
   "interpreter": {
    "hash": "358f19b5168dcc2c817c22e8ae2c189228565b53de3b91095ee770a390daccdd"
   }
  }
 },
 "nbformat": 4,
 "nbformat_minor": 1
}
