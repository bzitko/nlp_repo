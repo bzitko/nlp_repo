{
 "cells": [
  {
   "cell_type": "code",
   "execution_count": 1,
   "metadata": {
    "colab": {
     "base_uri": "https://localhost:8080/"
    },
    "executionInfo": {
     "elapsed": 18442,
     "status": "ok",
     "timestamp": 1661326971147,
     "user": {
      "displayName": "Branko Žitko",
      "userId": "04777374732866690844"
     },
     "user_tz": -120
    },
    "id": "Zojguzq2AuK8",
    "outputId": "e1534835-0e5c-4a32-d7d0-f4830633b9fc"
   },
   "outputs": [],
   "source": [
    "import os\n",
    "\n",
    "download_name = \"sms_spam_with_splits.csv.bz2\"\n",
    "if not os.path.exists(download_name):\n",
    "    import requests\n",
    "    response = requests.get(f\"https://raw.githubusercontent.com/bzitko/nlp_repo/main/assignments/a02/{download_name}\")\n",
    "    with open(download_name, \"wb\") as fp:\n",
    "        fp.write(response.content)\n",
    "    response.close()\n",
    "        \n",
    "name = \"sms_spam_with_splits.csv\"\n",
    "if not os.path.exists(name):\n",
    "    import bz2\n",
    "    with open(download_name, 'rb') as bzf, open(name, 'wb') as fp:\n",
    "        fp.write(bz2.decompress(bzf.read()))    "
   ]
  },
  {
   "cell_type": "markdown",
   "metadata": {
    "id": "W-CeYMXmbtG-"
   },
   "source": [
    "# SMS Classify"
   ]
  },
  {
   "cell_type": "code",
   "execution_count": 2,
   "metadata": {
    "id": "rxFKBmmEEoUA"
   },
   "outputs": [],
   "source": [
    "from argparse import Namespace\n",
    "from collections import Counter\n",
    "import json\n",
    "import os\n",
    "import re\n",
    "import string\n",
    "\n",
    "import numpy as np\n",
    "import pandas as pd\n",
    "import torch\n",
    "import torch.nn as nn\n",
    "import torch.nn.functional as F\n",
    "import torch.optim as optim\n",
    "from torch.utils.data import Dataset, DataLoader\n",
    "from tqdm.notebook import tqdm"
   ]
  },
  {
   "cell_type": "code",
   "execution_count": 3,
   "metadata": {},
   "outputs": [],
   "source": [
    "args = Namespace(\n",
    "    # Data and Path information\n",
    "    frequency_cutoff=25,\n",
    "    sms_spam_csv='sms_spam_with_splits.csv',\n",
    "    \n",
    "    # No Model hyper parameters\n",
    "    \n",
    "    # Training hyper parameters\n",
    "    batch_size=128,\n",
    "    early_stopping_criteria=5,\n",
    "    learning_rate=0.001,\n",
    "    num_epochs=100,\n",
    "    seed=1337,\n",
    "    \n",
    "    # Runtime options\n",
    "    catch_keyboard_interrupt=True,\n",
    "    cuda=True,\n",
    "\n",
    ")"
   ]
  },
  {
   "cell_type": "markdown",
   "metadata": {},
   "source": [
    "### Vocabulary\n",
    "👍 Create Vocabulary class with following methods:\n",
    "* `__init__()` which initializes vocabulary by enabling or disabling unknown token `<UNK>` through `add_unk` argument (default=True)\n",
    "* `add_token()` adding token to vocabulary\n",
    "* `add_many()` adding multiple tokens into vocabulary\n",
    "* `lookup_token()` returns index for given token\n",
    "* `lookup_index()` return token for given index\n",
    "* `__len__()` return size of vocabulary"
   ]
  },
  {
   "cell_type": "code",
   "execution_count": 4,
   "metadata": {
    "colab": {
     "base_uri": "https://localhost:8080/"
    },
    "executionInfo": {
     "elapsed": 269,
     "status": "ok",
     "timestamp": 1661326979472,
     "user": {
      "displayName": "Branko Žitko",
      "userId": "04777374732866690844"
     },
     "user_tz": -120
    },
    "id": "0CQw6LKwiiQg",
    "outputId": "d5881ce6-2607-4eab-fd2f-a0352837f437"
   },
   "outputs": [
    {
     "data": {
      "text/plain": [
       "(1, 'ann')"
      ]
     },
     "execution_count": 4,
     "metadata": {},
     "output_type": "execute_result"
    }
   ],
   "source": [
    "class Vocabulary(object):\n",
    "    \n",
    "    def __init__(self, add_unk=True, unk_token=\"<UNK>\"):\n",
    "        self._token_to_idx = {}\n",
    "\n",
    "        self._idx_to_token = {idx: token \n",
    "                              for token, idx in self._token_to_idx.items()}\n",
    "        \n",
    "        self._add_unk = add_unk\n",
    "        self._unk_token = unk_token\n",
    "        \n",
    "        self.unk_index = -1\n",
    "        if add_unk:\n",
    "            self.unk_index = self.add_token(unk_token) \n",
    "        \n",
    "    def add_token(self, token):\n",
    "        if token in self._token_to_idx:\n",
    "            index = self._token_to_idx[token]\n",
    "        else:\n",
    "            index = len(self._token_to_idx)\n",
    "            self._token_to_idx[token] = index\n",
    "            self._idx_to_token[index] = token\n",
    "        return index\n",
    "    \n",
    "    def add_many(self, tokens):\n",
    "        return [self.add_token(token) for token in tokens]\n",
    "\n",
    "    def lookup_token(self, token):\n",
    "        if self.unk_index >= 0:\n",
    "            return self._token_to_idx.get(token, self.unk_index)\n",
    "        else:\n",
    "            return self._token_to_idx[token]\n",
    "\n",
    "    def lookup_index(self, index):\n",
    "        if index not in self._idx_to_token:\n",
    "            raise KeyError(\"the index (%d) is not in the Vocabulary\" % index)\n",
    "        return self._idx_to_token[index]\n",
    "\n",
    "    def __len__(self):\n",
    "        return len(self._token_to_idx)\n",
    "\n",
    "\n",
    "vocab = Vocabulary()\n",
    "\n",
    "vocab.add_token(\"john\")\n",
    "vocab.add_token(\"john\")\n",
    "vocab.add_token(\"ann\")\n",
    "\n",
    "vocab.lookup_token(\"john\"), vocab.lookup_index(2)\n",
    "\n",
    "    \n",
    "vocab = Vocabulary(add_unk=True)\n",
    "\n",
    "vocab.add_token(\"john\")\n",
    "vocab.add_token(\"john\")\n",
    "vocab.add_token(\"ann\")\n",
    "\n",
    "vocab.lookup_token(\"john\"), vocab.lookup_index(2)"
   ]
  },
  {
   "cell_type": "markdown",
   "metadata": {},
   "source": [
    "### Vectorizer\n",
    "\n",
    "👍 Create `SMSVectorizer` class with following methods:\n",
    "* `__init__(self, sms_vocab, cls_vocab)` which will receive sms vocabulary (text of sms-es) and class vocabulary (ham or spam)\n",
    "* `vectorize(self, sms)` returns one-hot representation of a given sms text.\n",
    "* class method `from_dataframe(cls, sms_df, cutoff=25)` return SMSVectorizer instance by reading data from SMS dataframe and keep tokens whose frequency is larger then cutoff."
   ]
  },
  {
   "cell_type": "code",
   "execution_count": 5,
   "metadata": {
    "colab": {
     "base_uri": "https://localhost:8080/"
    },
    "executionInfo": {
     "elapsed": 337,
     "status": "ok",
     "timestamp": 1661326980832,
     "user": {
      "displayName": "Branko Žitko",
      "userId": "04777374732866690844"
     },
     "user_tz": -120
    },
    "id": "gfVQ4SbDa_on",
    "outputId": "4699e6e6-3da0-4373-90b8-2c11e3b29702"
   },
   "outputs": [
    {
     "data": {
      "text/plain": [
       "array([0., 1., 1., 1., 0., 0., 1., 1., 0., 1.], dtype=float32)"
      ]
     },
     "execution_count": 5,
     "metadata": {},
     "output_type": "execute_result"
    }
   ],
   "source": [
    "class SMSVectorizer(object):\n",
    "    def __init__(self, sms_vocab, cls_vocab):\n",
    "        self.sms_vocab = sms_vocab\n",
    "        self.cls_vocab = cls_vocab\n",
    "\n",
    "    def vectorize(self, sms):\n",
    "        one_hot = np.zeros(len(self.sms_vocab), dtype=np.float32)\n",
    "        \n",
    "        for token in sms.split(\" \"):\n",
    "            if token not in string.punctuation:\n",
    "                one_hot[self.sms_vocab.lookup_token(token)] = 1\n",
    "        return one_hot\n",
    "\n",
    "    @classmethod\n",
    "    def from_dataframe(cls, sms_df, cutoff=25):\n",
    "        sms_vocab = Vocabulary(add_unk=True)\n",
    "        cls_vocab = Vocabulary(add_unk=False)\n",
    "        \n",
    "        # Add ratings\n",
    "        for _cls in sorted(set(sms_df.cls)):\n",
    "            cls_vocab.add_token(_cls)\n",
    "\n",
    "        # Add top words if count > provided count\n",
    "        word_counts = Counter()\n",
    "        for sms in sms_df.sms:\n",
    "            for word in sms.split(\" \"):\n",
    "                if word not in string.punctuation:\n",
    "                    word_counts[word] += 1\n",
    "               \n",
    "        for word, count in word_counts.items():\n",
    "            if count > cutoff:\n",
    "                sms_vocab.add_token(word)\n",
    "\n",
    "        return cls(sms_vocab, cls_vocab)\n",
    "\n",
    "sms_vocab = Vocabulary()\n",
    "sms_vocab.add_many(\"john has been there . but he is not john .\".split())\n",
    "\n",
    "cls_vocab = Vocabulary(add_unk=False)\n",
    "cls_vocab.add_many([\"spam\", \"ham\"])\n",
    "\n",
    "vectorizer = SMSVectorizer(sms_vocab, cls_vocab)\n",
    "vectorizer.vectorize(\"but john has not been he .\")        \n"
   ]
  },
  {
   "cell_type": "markdown",
   "metadata": {
    "id": "DKfFfKfZLR7w"
   },
   "source": [
    "### Read Dataset\n",
    "\n",
    "👍 Create `SMSDataset` class which inherits `torch.utils.data.DataSet` and put following methods:\n",
    "* `__init__(self, sms_df, vectorizer)` which will receive SMS dataframe and vectorizer and store them as attributes. SMS dataframe will be splitted into 3 dataframes according to split value (train, val or test) and those dataframes will be also stored as attributes.\n",
    "* `set_split(self, split)` used for sellecting current split dataframe\n",
    "* `__len__(self)` returns length of current split dataframe\n",
    "* `__getitem__(self, index)` returns vectorized sms text and class for datapoint at given index\n",
    "* `__get_num_batches(self, batch_size)` returns number of batches according to length of current split dataframe and batch size.\n",
    "* class method `load_dataset_and_make_vectorizer(cls, sms_csv)` loads `sms_csv` file and makes vectorizer from **train** split. Then returns instance of `SMSDataset` with those two arguments.\n"
   ]
  },
  {
   "cell_type": "code",
   "execution_count": 6,
   "metadata": {
    "id": "kRDhkO6iHm2j"
   },
   "outputs": [],
   "source": [
    "class SMSDataset(Dataset):\n",
    "\n",
    "    def __init__(self, sms_df, vectorizer):\n",
    "        self.sms_df = sms_df\n",
    "        self._vectorizer = vectorizer\n",
    "\n",
    "        self.train_df = self.sms_df[self.sms_df.split=='train']\n",
    "        self.train_size = len(self.train_df)\n",
    "\n",
    "        self.val_df = self.sms_df[self.sms_df.split=='val']\n",
    "        self.validation_size = len(self.val_df)\n",
    "\n",
    "        self.test_df = self.sms_df[self.sms_df.split=='test']\n",
    "        self.test_size = len(self.test_df)\n",
    "\n",
    "        self._lookup_dict = {'train': self.train_df,\n",
    "                             'val': self.val_df,\n",
    "                             'test': self.test_df}\n",
    "\n",
    "        self.set_split('train')\n",
    "\n",
    "    @classmethod\n",
    "    def load_dataset_and_make_vectorizer(cls, sms_csv):\n",
    "        sms_df = pd.read_csv(sms_csv, sep=\"\\t\")\n",
    "        train_sms_df = sms_df[sms_df.split=='train']\n",
    "        return cls(sms_df, SMSVectorizer.from_dataframe(train_sms_df))\n",
    "    \n",
    "    def get_vectorizer(self):\n",
    "        return self._vectorizer\n",
    "\n",
    "    def set_split(self, split=\"train\"):\n",
    "        self._target_split = split\n",
    "        self._target_df = self._lookup_dict[split]\n",
    "\n",
    "    def __len__(self):\n",
    "        return len(self._target_df)\n",
    "\n",
    "    def __getitem__(self, index):\n",
    "        row = self._target_df.iloc[index]\n",
    "\n",
    "        sms_vector = self._vectorizer.vectorize(row.sms)\n",
    "\n",
    "        cls_index = self._vectorizer.cls_vocab.lookup_token(row.cls)\n",
    "        return {'x_data': sms_vector,\n",
    "                'y_target': cls_index}\n",
    "\n",
    "    def get_num_batches(self, batch_size):\n",
    "        return len(self) // batch_size  \n"
   ]
  },
  {
   "cell_type": "markdown",
   "metadata": {},
   "source": [
    "👍 Create function `generate_batches(dataset, batch_size, shuffle=True, drop_last=True, device=\"cpu\")` which will use `torch.utils.data.DataLoader` to yield batch."
   ]
  },
  {
   "cell_type": "code",
   "execution_count": 7,
   "metadata": {},
   "outputs": [],
   "source": [
    "def generate_batches(dataset, batch_size, shuffle=True,\n",
    "                     drop_last=True, device=\"cpu\"):\n",
    "    \n",
    "    dataloader = DataLoader(dataset=dataset, batch_size=batch_size,\n",
    "                            shuffle=shuffle, drop_last=drop_last)\n",
    "\n",
    "    for data_dict in dataloader:\n",
    "        out_data_dict = {}\n",
    "        for name, tensor in data_dict.items():\n",
    "            out_data_dict[name] = data_dict[name].to(device)\n",
    "        yield out_data_dict"
   ]
  },
  {
   "cell_type": "markdown",
   "metadata": {},
   "source": [
    "## Load dataset and dataloader"
   ]
  },
  {
   "cell_type": "code",
   "execution_count": 8,
   "metadata": {
    "id": "fj6-WVPOO8cx"
   },
   "outputs": [],
   "source": [
    "dataset = SMSDataset.load_dataset_and_make_vectorizer(args.sms_spam_csv)\n",
    "dataloader = DataLoader(dataset=dataset)"
   ]
  },
  {
   "cell_type": "markdown",
   "metadata": {},
   "source": [
    "### Plot data\n",
    "\n",
    "👍 Reduce dimensionality of data to 2D and plot spam and ham datapoints into separate plots."
   ]
  },
  {
   "cell_type": "code",
   "execution_count": 9,
   "metadata": {
    "id": "SnXYDPp1WGE9"
   },
   "outputs": [],
   "source": [
    "from sklearn import decomposition\n",
    "import matplotlib.pyplot as plt"
   ]
  },
  {
   "cell_type": "code",
   "execution_count": 10,
   "metadata": {},
   "outputs": [
    {
     "data": {
      "application/vnd.jupyter.widget-view+json": {
       "model_id": "260c8aaad2c54946bd187cdd28451d5e",
       "version_major": 2,
       "version_minor": 0
      },
      "text/plain": [
       "  0%|          | 0/3899 [00:00<?, ?it/s]"
      ]
     },
     "metadata": {},
     "output_type": "display_data"
    },
    {
     "data": {
      "image/png": "[encoded data removed]",
      "text/plain": [
       "<Figure size 640x480 with 1 Axes>"
      ]
     },
     "metadata": {},
     "output_type": "display_data"
    },
    {
     "data": {
      "image/png": "[encoded data removed]",
      "text/plain": [
       "<Figure size 640x480 with 1 Axes>"
      ]
     },
     "metadata": {},
     "output_type": "display_data"
    }
   ],
   "source": [
    "pca = decomposition.PCA(n_components=2)\n",
    "\n",
    "x_data = []\n",
    "y_target = []\n",
    "\n",
    "i = 0\n",
    "for item in tqdm(dataloader):\n",
    "    x_data.append(item[\"x_data\"].squeeze())\n",
    "    y_target.append(item[\"y_target\"].squeeze())\n",
    "\n",
    "    \n",
    "x_data = torch.stack(x_data)\n",
    "y_target = torch.stack(y_target)\n",
    "\n",
    "pca.fit(x_data)\n",
    "X = pca.transform(x_data)\n",
    "\n",
    "\n",
    "z = X[y_target==0]\n",
    "plt.xlabel(\"ham\")\n",
    "plt.scatter(z[:,0], z[:,1], marker=\".\", s=1)\n",
    "plt.show()\n",
    "\n",
    "plt.xlabel(\"spam\")\n",
    "z = X[y_target==1]\n",
    "plt.scatter(z[:,0], z[:,1], marker=\".\", s=1)\n",
    "plt.show()"
   ]
  },
  {
   "cell_type": "markdown",
   "metadata": {
    "id": "S2SGZv7wXzy8"
   },
   "source": [
    "### Model Classifier\n",
    "\n",
    "👍 Create `SMSClassifier` class as perceptron with varoable number of features. Methods are:\n",
    "* `__init__(self, num_features)` initializes perceptron with `num_features` inputs\n",
    "* `forward(self, x_in, apply_sigmoid=False)` for given input `x_in` makes forward step and eventually applies sigmoid on output."
   ]
  },
  {
   "cell_type": "code",
   "execution_count": 11,
   "metadata": {
    "id": "xi-ZsiApGXa0"
   },
   "outputs": [],
   "source": [
    "class SMSClassifier(nn.Module):\n",
    "\n",
    "    def __init__(self, num_features):\n",
    "        super(SMSClassifier, self).__init__()\n",
    "        self.fc1 = nn.Linear(in_features=num_features, \n",
    "                             out_features=1)\n",
    "\n",
    "    def forward(self, x_in, apply_sigmoid=False):\n",
    "        y_out = self.fc1(x_in).squeeze()\n",
    "        if apply_sigmoid:\n",
    "            y_out = torch.sigmoid(y_out)\n",
    "        return y_out\n"
   ]
  },
  {
   "cell_type": "markdown",
   "metadata": {
    "id": "SUb6OLwZBWFs"
   },
   "source": [
    "### Initialization\n",
    "\n",
    "👍 Initialize by following steps:\n",
    "* classifier\n",
    "* args.device - setting to cuda if args.cuda is true and cuda is available, to cpu otherwise.\n",
    "* switch classifier to args.device"
   ]
  },
  {
   "cell_type": "code",
   "execution_count": 12,
   "metadata": {
    "colab": {
     "base_uri": "https://localhost:8080/"
    },
    "executionInfo": {
     "elapsed": 4535,
     "status": "ok",
     "timestamp": 1661327055827,
     "user": {
      "displayName": "Branko Žitko",
      "userId": "04777374732866690844"
     },
     "user_tz": -120
    },
    "id": "fVOZg4mSZEB2",
    "outputId": "753f4713-dbe3-4e86-cd63-f4e6f7f54daa"
   },
   "outputs": [
    {
     "name": "stdout",
     "output_type": "stream",
     "text": [
      "cpu\n"
     ]
    }
   ],
   "source": [
    "dataset = SMSDataset.load_dataset_and_make_vectorizer(args.sms_spam_csv)\n",
    "    \n",
    "vectorizer = dataset.get_vectorizer()\n",
    "\n",
    "classifier = SMSClassifier(num_features=len(vectorizer.sms_vocab))\n",
    "\n",
    "args.device = torch.device(\"cuda\" if args.cuda and torch.cuda.is_available() else \"cpu\")\n",
    "print(args.device)\n",
    "classifier = classifier.to(args.device)"
   ]
  },
  {
   "cell_type": "markdown",
   "metadata": {
    "id": "BJFBJBhzCm4h"
   },
   "source": [
    "# Training\n",
    "\n",
    "👍 Set:\n",
    "* loss function to Binart Cross Entropy\n",
    "* optimizer as Adam with specified learning rate by args.lr\n",
    "* learning rate scheduler for reducing learning rate by \n",
    "    * factor 10 times less than actual args.lr\n",
    "    * number of epochs with no improvement (patience) set to 1\n",
    "    * minimum mode\n",
    "    \n",
    "For each epoch\n",
    "* generate train batches and train (set classifier to train)\n",
    "* generate val batches and validate (set classifier to eval)\n",
    "\n",
    "In each batch print accuracy and loss."
   ]
  },
  {
   "cell_type": "code",
   "execution_count": 13,
   "metadata": {
    "colab": {
     "base_uri": "https://localhost:8080/"
    },
    "executionInfo": {
     "elapsed": 49941,
     "status": "ok",
     "timestamp": 1661327121834,
     "user": {
      "displayName": "Branko Žitko",
      "userId": "04777374732866690844"
     },
     "user_tz": -120
    },
    "id": "n5JkMhnJCmhv",
    "outputId": "01e6d42b-0c56-4074-e780-8c041cde7710"
   },
   "outputs": [
    {
     "name": "stdout",
     "output_type": "stream",
     "text": [
      "Train epoch: 0/100 loss: 0.662 acc: 67.812\n",
      "Valid epoch: 1/100 loss: 0.615 acc: 88.021\n",
      "Train epoch: 1/100 loss: 0.576 acc: 88.229\n",
      "Valid epoch: 2/100 loss: 0.541 acc: 88.932\n",
      "Train epoch: 2/100 loss: 0.514 acc: 88.177\n",
      "Valid epoch: 3/100 loss: 0.490 acc: 88.021\n",
      "Train epoch: 3/100 loss: 0.467 acc: 88.880\n",
      "Valid epoch: 4/100 loss: 0.451 acc: 88.672\n",
      "Train epoch: 4/100 loss: 0.430 acc: 89.609\n",
      "Valid epoch: 5/100 loss: 0.417 acc: 89.323\n",
      "Train epoch: 5/100 loss: 0.400 acc: 90.078\n",
      "Valid epoch: 6/100 loss: 0.390 acc: 90.365\n",
      "Train epoch: 6/100 loss: 0.373 acc: 90.938\n",
      "Valid epoch: 7/100 loss: 0.363 acc: 91.406\n",
      "Train epoch: 7/100 loss: 0.352 acc: 91.719\n",
      "Valid epoch: 8/100 loss: 0.345 acc: 92.318\n",
      "Train epoch: 8/100 loss: 0.333 acc: 92.448\n",
      "Valid epoch: 9/100 loss: 0.324 acc: 93.359\n",
      "Train epoch: 9/100 loss: 0.316 acc: 93.125\n",
      "Valid epoch: 10/100 loss: 0.307 acc: 93.750\n",
      "Train epoch: 10/100 loss: 0.300 acc: 93.698\n",
      "Valid epoch: 11/100 loss: 0.302 acc: 93.620\n",
      "Train epoch: 11/100 loss: 0.287 acc: 93.958\n",
      "Valid epoch: 12/100 loss: 0.279 acc: 94.922\n",
      "Train epoch: 12/100 loss: 0.274 acc: 94.167\n",
      "Valid epoch: 13/100 loss: 0.274 acc: 94.271\n",
      "Train epoch: 13/100 loss: 0.263 acc: 94.531\n",
      "Valid epoch: 14/100 loss: 0.255 acc: 94.922\n",
      "Train epoch: 14/100 loss: 0.252 acc: 95.026\n",
      "Valid epoch: 15/100 loss: 0.252 acc: 94.661\n",
      "Train epoch: 15/100 loss: 0.242 acc: 95.130\n",
      "Valid epoch: 16/100 loss: 0.242 acc: 94.792\n",
      "Train epoch: 16/100 loss: 0.234 acc: 95.339\n",
      "Valid epoch: 17/100 loss: 0.235 acc: 95.703\n",
      "Train epoch: 17/100 loss: 0.225 acc: 95.599\n",
      "Valid epoch: 18/100 loss: 0.225 acc: 95.573\n",
      "Train epoch: 18/100 loss: 0.217 acc: 95.885\n",
      "Valid epoch: 19/100 loss: 0.216 acc: 95.573\n",
      "Train epoch: 19/100 loss: 0.211 acc: 95.964\n",
      "Valid epoch: 20/100 loss: 0.207 acc: 95.703\n",
      "Train epoch: 20/100 loss: 0.204 acc: 96.016\n",
      "Valid epoch: 21/100 loss: 0.202 acc: 95.833\n",
      "Train epoch: 21/100 loss: 0.198 acc: 96.354\n",
      "Valid epoch: 22/100 loss: 0.198 acc: 95.443\n",
      "Train epoch: 22/100 loss: 0.191 acc: 96.510\n",
      "Valid epoch: 23/100 loss: 0.193 acc: 95.443\n",
      "Train epoch: 23/100 loss: 0.187 acc: 96.432\n",
      "Valid epoch: 24/100 loss: 0.189 acc: 95.703\n",
      "Train epoch: 24/100 loss: 0.181 acc: 96.641\n",
      "Valid epoch: 25/100 loss: 0.185 acc: 95.964\n",
      "Train epoch: 25/100 loss: 0.177 acc: 96.641\n",
      "Valid epoch: 26/100 loss: 0.182 acc: 95.703\n",
      "Train epoch: 26/100 loss: 0.173 acc: 96.849\n",
      "Valid epoch: 27/100 loss: 0.175 acc: 95.833\n",
      "Train epoch: 27/100 loss: 0.168 acc: 96.875\n",
      "Valid epoch: 28/100 loss: 0.169 acc: 96.484\n",
      "Train epoch: 28/100 loss: 0.165 acc: 97.057\n",
      "Valid epoch: 29/100 loss: 0.171 acc: 96.224\n",
      "Train epoch: 29/100 loss: 0.161 acc: 97.057\n",
      "Valid epoch: 30/100 loss: 0.165 acc: 96.745\n",
      "Train epoch: 30/100 loss: 0.158 acc: 97.161\n",
      "Valid epoch: 31/100 loss: 0.158 acc: 96.875\n",
      "Train epoch: 31/100 loss: 0.152 acc: 97.266\n",
      "Valid epoch: 32/100 loss: 0.160 acc: 96.615\n",
      "Train epoch: 32/100 loss: 0.151 acc: 97.214\n",
      "Valid epoch: 33/100 loss: 0.154 acc: 96.875\n",
      "Train epoch: 33/100 loss: 0.147 acc: 97.318\n",
      "Valid epoch: 34/100 loss: 0.151 acc: 96.875\n",
      "Train epoch: 34/100 loss: 0.143 acc: 97.422\n",
      "Valid epoch: 35/100 loss: 0.144 acc: 97.396\n",
      "Train epoch: 35/100 loss: 0.141 acc: 97.448\n",
      "Valid epoch: 36/100 loss: 0.149 acc: 96.745\n",
      "Train epoch: 36/100 loss: 0.138 acc: 97.552\n",
      "Valid epoch: 37/100 loss: 0.141 acc: 97.135\n",
      "Train epoch: 37/100 loss: 0.136 acc: 97.604\n",
      "Valid epoch: 38/100 loss: 0.141 acc: 97.005\n",
      "Train epoch: 38/100 loss: 0.132 acc: 97.604\n",
      "Valid epoch: 39/100 loss: 0.139 acc: 97.005\n",
      "Train epoch: 39/100 loss: 0.129 acc: 97.734\n",
      "Valid epoch: 40/100 loss: 0.134 acc: 97.135\n",
      "Train epoch: 40/100 loss: 0.128 acc: 97.865\n",
      "Valid epoch: 41/100 loss: 0.135 acc: 97.266\n",
      "Train epoch: 41/100 loss: 0.127 acc: 97.813\n",
      "Valid epoch: 42/100 loss: 0.123 acc: 97.526\n",
      "Train epoch: 42/100 loss: 0.125 acc: 97.813\n",
      "Valid epoch: 43/100 loss: 0.128 acc: 97.135\n",
      "Train epoch: 43/100 loss: 0.122 acc: 97.943\n",
      "Valid epoch: 44/100 loss: 0.124 acc: 97.266\n",
      "Train epoch: 44/100 loss: 0.121 acc: 97.917\n",
      "Valid epoch: 45/100 loss: 0.126 acc: 97.266\n",
      "Train epoch: 45/100 loss: 0.120 acc: 97.969\n",
      "Valid epoch: 46/100 loss: 0.129 acc: 97.005\n",
      "Train epoch: 46/100 loss: 0.119 acc: 97.969\n",
      "Valid epoch: 47/100 loss: 0.120 acc: 97.526\n",
      "Train epoch: 47/100 loss: 0.118 acc: 97.995\n",
      "Valid epoch: 48/100 loss: 0.122 acc: 97.266\n",
      "Train epoch: 48/100 loss: 0.118 acc: 97.943\n",
      "Valid epoch: 49/100 loss: 0.123 acc: 97.266\n",
      "Train epoch: 49/100 loss: 0.117 acc: 97.995\n",
      "Valid epoch: 50/100 loss: 0.122 acc: 97.396\n",
      "Train epoch: 50/100 loss: 0.116 acc: 97.995\n",
      "Valid epoch: 51/100 loss: 0.127 acc: 97.135\n",
      "Train epoch: 51/100 loss: 0.118 acc: 97.917\n",
      "Valid epoch: 52/100 loss: 0.117 acc: 97.526\n",
      "Train epoch: 52/100 loss: 0.117 acc: 97.943\n",
      "Valid epoch: 53/100 loss: 0.122 acc: 97.396\n",
      "Train epoch: 53/100 loss: 0.117 acc: 97.969\n",
      "Valid epoch: 54/100 loss: 0.123 acc: 97.266\n",
      "Train epoch: 54/100 loss: 0.116 acc: 97.995\n",
      "Valid epoch: 55/100 loss: 0.126 acc: 97.135\n",
      "Train epoch: 55/100 loss: 0.117 acc: 97.943\n",
      "Valid epoch: 56/100 loss: 0.124 acc: 97.266\n",
      "Train epoch: 56/100 loss: 0.117 acc: 97.943\n",
      "Valid epoch: 57/100 loss: 0.126 acc: 97.135\n",
      "Train epoch: 57/100 loss: 0.116 acc: 97.969\n",
      "Valid epoch: 58/100 loss: 0.123 acc: 97.526\n",
      "Train epoch: 58/100 loss: 0.117 acc: 97.943\n",
      "Valid epoch: 59/100 loss: 0.123 acc: 97.396\n",
      "Train epoch: 59/100 loss: 0.116 acc: 97.969\n",
      "Valid epoch: 60/100 loss: 0.125 acc: 97.266\n",
      "Train epoch: 60/100 loss: 0.117 acc: 97.969\n",
      "Valid epoch: 61/100 loss: 0.121 acc: 97.526\n",
      "Train epoch: 61/100 loss: 0.117 acc: 97.943\n",
      "Valid epoch: 62/100 loss: 0.127 acc: 97.005\n",
      "Train epoch: 62/100 loss: 0.116 acc: 97.969\n",
      "Valid epoch: 63/100 loss: 0.121 acc: 97.396\n",
      "Train epoch: 63/100 loss: 0.116 acc: 97.969\n",
      "Valid epoch: 64/100 loss: 0.118 acc: 97.396\n",
      "Train epoch: 64/100 loss: 0.116 acc: 98.021\n",
      "Valid epoch: 65/100 loss: 0.125 acc: 97.266\n",
      "Train epoch: 65/100 loss: 0.117 acc: 97.969\n",
      "Valid epoch: 66/100 loss: 0.124 acc: 97.266\n",
      "Train epoch: 66/100 loss: 0.117 acc: 97.969\n",
      "Valid epoch: 67/100 loss: 0.124 acc: 97.266\n",
      "Train epoch: 67/100 loss: 0.116 acc: 97.995\n",
      "Valid epoch: 68/100 loss: 0.127 acc: 97.005\n",
      "Train epoch: 68/100 loss: 0.117 acc: 97.995\n",
      "Valid epoch: 69/100 loss: 0.126 acc: 97.135\n",
      "Train epoch: 69/100 loss: 0.117 acc: 97.943\n",
      "Valid epoch: 70/100 loss: 0.123 acc: 97.396\n",
      "Train epoch: 70/100 loss: 0.116 acc: 97.995\n",
      "Valid epoch: 71/100 loss: 0.126 acc: 97.005\n",
      "Train epoch: 71/100 loss: 0.117 acc: 97.943\n",
      "Valid epoch: 72/100 loss: 0.124 acc: 97.396\n",
      "Train epoch: 72/100 loss: 0.117 acc: 97.943\n",
      "Valid epoch: 73/100 loss: 0.126 acc: 97.266\n",
      "Train epoch: 73/100 loss: 0.117 acc: 97.943\n",
      "Valid epoch: 74/100 loss: 0.127 acc: 97.005\n",
      "Train epoch: 74/100 loss: 0.116 acc: 97.969\n",
      "Valid epoch: 75/100 loss: 0.127 acc: 97.135\n",
      "Train epoch: 75/100 loss: 0.117 acc: 97.943\n",
      "Valid epoch: 76/100 loss: 0.126 acc: 97.135\n",
      "Train epoch: 76/100 loss: 0.116 acc: 97.995\n",
      "Valid epoch: 77/100 loss: 0.126 acc: 97.266\n",
      "Train epoch: 77/100 loss: 0.116 acc: 97.995\n",
      "Valid epoch: 78/100 loss: 0.116 acc: 97.526\n",
      "Train epoch: 78/100 loss: 0.116 acc: 97.969\n",
      "Valid epoch: 79/100 loss: 0.126 acc: 97.135\n",
      "Train epoch: 79/100 loss: 0.116 acc: 97.969\n",
      "Valid epoch: 80/100 loss: 0.125 acc: 97.266\n",
      "Train epoch: 80/100 loss: 0.117 acc: 97.995\n",
      "Valid epoch: 81/100 loss: 0.123 acc: 97.266\n",
      "Train epoch: 81/100 loss: 0.117 acc: 97.943\n",
      "Valid epoch: 82/100 loss: 0.122 acc: 97.266\n",
      "Train epoch: 82/100 loss: 0.116 acc: 98.021\n",
      "Valid epoch: 83/100 loss: 0.124 acc: 97.266\n",
      "Train epoch: 83/100 loss: 0.117 acc: 97.943\n",
      "Valid epoch: 84/100 loss: 0.120 acc: 97.656\n",
      "Train epoch: 84/100 loss: 0.117 acc: 97.995\n",
      "Valid epoch: 85/100 loss: 0.121 acc: 97.266\n",
      "Train epoch: 85/100 loss: 0.117 acc: 97.969\n",
      "Valid epoch: 86/100 loss: 0.123 acc: 97.266\n",
      "Train epoch: 86/100 loss: 0.117 acc: 97.943\n",
      "Valid epoch: 87/100 loss: 0.126 acc: 97.135\n",
      "Train epoch: 87/100 loss: 0.117 acc: 97.969\n",
      "Valid epoch: 88/100 loss: 0.126 acc: 97.266\n",
      "Train epoch: 88/100 loss: 0.116 acc: 97.995\n",
      "Valid epoch: 89/100 loss: 0.126 acc: 97.135\n",
      "Train epoch: 89/100 loss: 0.117 acc: 97.943\n",
      "Valid epoch: 90/100 loss: 0.120 acc: 97.396\n",
      "Train epoch: 90/100 loss: 0.117 acc: 97.969\n",
      "Valid epoch: 91/100 loss: 0.124 acc: 97.396\n",
      "Train epoch: 91/100 loss: 0.115 acc: 98.021\n",
      "Valid epoch: 92/100 loss: 0.127 acc: 97.135\n",
      "Train epoch: 92/100 loss: 0.117 acc: 97.943\n",
      "Valid epoch: 93/100 loss: 0.126 acc: 97.135\n",
      "Train epoch: 93/100 loss: 0.117 acc: 97.943\n",
      "Valid epoch: 94/100 loss: 0.121 acc: 97.396\n",
      "Train epoch: 94/100 loss: 0.116 acc: 97.969\n",
      "Valid epoch: 95/100 loss: 0.124 acc: 97.266\n",
      "Train epoch: 95/100 loss: 0.117 acc: 97.969\n",
      "Valid epoch: 96/100 loss: 0.122 acc: 97.266\n",
      "Train epoch: 96/100 loss: 0.117 acc: 97.943\n",
      "Valid epoch: 97/100 loss: 0.126 acc: 97.135\n",
      "Train epoch: 97/100 loss: 0.117 acc: 97.943\n",
      "Valid epoch: 98/100 loss: 0.126 acc: 97.135\n",
      "Train epoch: 98/100 loss: 0.117 acc: 97.969\n",
      "Valid epoch: 99/100 loss: 0.127 acc: 97.135\n",
      "Train epoch: 99/100 loss: 0.116 acc: 97.969\n",
      "Valid epoch: 100/100 loss: 0.122 acc: 97.396\n"
     ]
    }
   ],
   "source": [
    "loss_func = nn.BCEWithLogitsLoss()\n",
    "optimizer = optim.Adam(classifier.parameters(), lr=args.learning_rate)\n",
    "scheduler = optim.lr_scheduler.ReduceLROnPlateau(optimizer=optimizer,\n",
    "                                                 mode='min', factor=0.5,\n",
    "                                                 patience=1)\n",
    "\n",
    "def compute_accuracy(y_pred, y_target):\n",
    "    y_target = y_target.cpu()\n",
    "    y_pred_indices = (torch.sigmoid(y_pred)>0.5).cpu().long()#.max(dim=1)[1]\n",
    "    n_correct = torch.eq(y_pred_indices, y_target).sum().item()\n",
    "    return n_correct / len(y_pred_indices) * 100\n",
    "\n",
    "for epoch_index in range(args.num_epochs):\n",
    "    # TRAIN\n",
    "    dataset.set_split('train')\n",
    "    batch_generator = generate_batches(dataset, \n",
    "                                       batch_size=args.batch_size, \n",
    "                                       device=args.device)\n",
    "    running_loss = 0.0\n",
    "    running_acc = 0.0\n",
    "    classifier.train()\n",
    "\n",
    "    for batch_index, batch_dict in enumerate(batch_generator):\n",
    "            # step 1. zero the gradients\n",
    "            optimizer.zero_grad()\n",
    "\n",
    "            # step 2. compute the output\n",
    "            y_pred = classifier(x_in=batch_dict['x_data'].float())\n",
    "\n",
    "            # step 3. compute the loss\n",
    "            loss = loss_func(y_pred, batch_dict['y_target'].float())\n",
    "            loss_t = loss.item()\n",
    "            running_loss += (loss_t - running_loss) / (batch_index + 1)\n",
    "\n",
    "            # step 4. use loss to produce gradients\n",
    "            loss.backward()\n",
    "\n",
    "            # step 5. use optimizer to take gradient step\n",
    "            optimizer.step()\n",
    "            # -----------------------------------------\n",
    "            # compute the accuracy\n",
    "            acc_t = compute_accuracy(y_pred, batch_dict['y_target'])\n",
    "            running_acc += (acc_t - running_acc) / (batch_index + 1)\n",
    "\n",
    "    print(f\"Train epoch: {epoch_index}/{args.num_epochs} loss: {running_loss:.3f} acc: {running_acc:.3f}\")            \n",
    "\n",
    "    # VAL\n",
    "    dataset.set_split('val')\n",
    "    batch_generator = generate_batches(dataset, \n",
    "                                       batch_size=args.batch_size, \n",
    "                                       device=args.device)\n",
    "    running_loss = 0.\n",
    "    running_acc = 0.\n",
    "    classifier.eval()\n",
    "\n",
    "    for batch_index, batch_dict in enumerate(batch_generator):\n",
    "        # compute the output\n",
    "        y_pred = classifier(x_in=batch_dict['x_data'].float())\n",
    "\n",
    "        # compute the loss\n",
    "        loss = loss_func(y_pred, batch_dict['y_target'].float())\n",
    "        loss_t = loss.item()\n",
    "        running_loss += (loss_t - running_loss) / (batch_index + 1)\n",
    "\n",
    "        # compute the accuracy\n",
    "        acc_t = compute_accuracy(y_pred, batch_dict['y_target'])\n",
    "        running_acc += (acc_t - running_acc) / (batch_index + 1)\n",
    "        \n",
    "    print(f\"Valid epoch: {epoch_index+1}/{args.num_epochs} loss: {running_loss:.3f} acc: {running_acc:.3f}\")                 \n",
    "    scheduler.step(running_loss)\n",
    "    "
   ]
  },
  {
   "cell_type": "markdown",
   "metadata": {
    "id": "l2L9vsbQLKaJ"
   },
   "source": [
    "# Test\n",
    "\n",
    "👍 Generate test batches and for each batch print accuracy"
   ]
  },
  {
   "cell_type": "code",
   "execution_count": 14,
   "metadata": {
    "colab": {
     "base_uri": "https://localhost:8080/"
    },
    "executionInfo": {
     "elapsed": 456,
     "status": "ok",
     "timestamp": 1661327126807,
     "user": {
      "displayName": "Branko Žitko",
      "userId": "04777374732866690844"
     },
     "user_tz": -120
    },
    "id": "3kBm2iO2B04Z",
    "outputId": "ab6e2a79-86b7-43a4-b586-39701ea09eaf"
   },
   "outputs": [
    {
     "name": "stdout",
     "output_type": "stream",
     "text": [
      "Test loss: 0.112 acc: 98.568\n"
     ]
    }
   ],
   "source": [
    "classifier = classifier.to(args.device)\n",
    "\n",
    "dataset.set_split('test')\n",
    "batch_generator = generate_batches(dataset, \n",
    "                                   batch_size=args.batch_size, \n",
    "                                   device=args.device)\n",
    "running_loss = 0.\n",
    "running_acc = 0.\n",
    "classifier.eval()\n",
    "\n",
    "for batch_index, batch_dict in enumerate(batch_generator):\n",
    "    # compute the output\n",
    "    y_pred = classifier(x_in=batch_dict['x_data'].float())\n",
    "\n",
    "    # compute the loss\n",
    "    loss = loss_func(y_pred, batch_dict['y_target'].float())\n",
    "    loss_t = loss.item()\n",
    "    running_loss += (loss_t - running_loss) / (batch_index + 1)\n",
    "\n",
    "    # compute the accuracy\n",
    "    acc_t = compute_accuracy(y_pred, batch_dict['y_target'])\n",
    "    running_acc += (acc_t - running_acc) / (batch_index + 1)\n",
    "\n",
    "print(f\"Test loss: {running_loss:.3f} acc: {running_acc:.3f}\") "
   ]
  },
  {
   "cell_type": "markdown",
   "metadata": {
    "id": "QUfbUDkQL5eq"
   },
   "source": [
    "# Interpretability\n",
    "\n",
    "👍 Get classifier weights to determine 20 influental words for each class"
   ]
  },
  {
   "cell_type": "code",
   "execution_count": 15,
   "metadata": {
    "colab": {
     "base_uri": "https://localhost:8080/"
    },
    "executionInfo": {
     "elapsed": 3,
     "status": "ok",
     "timestamp": 1661327709454,
     "user": {
      "displayName": "Branko Žitko",
      "userId": "04777374732866690844"
     },
     "user_tz": -120
    },
    "id": "o26VuMH9LZm_",
    "outputId": "2e6dc7b8-bd90-4467-c447-53b0ffe332f8"
   },
   "outputs": [
    {
     "name": "stdout",
     "output_type": "stream",
     "text": [
      "torch.Size([3899, 359]) 359 <__main__.Vocabulary object at 0x7f88a1fb8af0>\n",
      "Influential words in SPAM SMS:\n",
      "--------------------------------------\n",
      "uk p reply call txt free stop service mobile text claim www com customer won co win prize shows chat \n",
      "====\n",
      "\n",
      "Influential words in HAM SMS:\n",
      "--------------------------------------\n",
      "ok gt lt yup right later <UNK> i then too home wat sorry she going come lol ya my da "
     ]
    }
   ],
   "source": [
    "fc1_weights = classifier.fc1.weight.cpu().detach()[0]\n",
    "weights, indices = torch.sort(fc1_weights, dim=0, descending=True)\n",
    "\n",
    "indices = indices.numpy().tolist()\n",
    "print(x_data.shape, len(indices), vectorizer.sms_vocab)\n",
    "\n",
    "# Top 20 words\n",
    "print(\"Influential words in SPAM SMS:\")\n",
    "print(\"--------------------------------------\")\n",
    "for i in range(20):\n",
    "    print(vectorizer.sms_vocab.lookup_index(indices[i]), end=\" \")\n",
    "    \n",
    "print(\"\\n====\\n\")\n",
    "\n",
    "# Top 20 negative words\n",
    "print(\"Influential words in HAM SMS:\")\n",
    "print(\"--------------------------------------\")\n",
    "indices.reverse()\n",
    "for i in range(20):\n",
    "    print(vectorizer.sms_vocab.lookup_index(indices[i]), end=\" \")\n"
   ]
  },
  {
   "cell_type": "code",
   "execution_count": null,
   "metadata": {},
   "outputs": [],
   "source": []
  }
 ],
 "metadata": {
  "accelerator": "GPU",
  "colab": {
   "authorship_tag": "ABX9TyPOPN2XtfCLpoBiJPtiR0jd",
   "collapsed_sections": [],
   "provenance": []
  },
  "gpuClass": "standard",
  "kernelspec": {
   "display_name": "Python 3.8.13 ('nlp')",
   "language": "python",
   "name": "python3"
  },
  "language_info": {
   "codemirror_mode": {
    "name": "ipython",
    "version": 3
   },
   "file_extension": ".py",
   "mimetype": "text/x-python",
   "name": "python",
   "nbconvert_exporter": "python",
   "pygments_lexer": "ipython3",
   "version": "3.8.13"
  },
  "vscode": {
   "interpreter": {
    "hash": "358f19b5168dcc2c817c22e8ae2c189228565b53de3b91095ee770a390daccdd"
   }
  },
  "widgets": {
   "application/vnd.jupyter.widget-state+json": {
    "0288e90273c544d7be83727bf8d0d8d4": {
     "model_module": "@jupyter-widgets/controls",
     "model_module_version": "1.5.0",
     "model_name": "DescriptionStyleModel",
     "state": {
      "_model_module": "@jupyter-widgets/controls",
      "_model_module_version": "1.5.0",
      "_model_name": "DescriptionStyleModel",
      "_view_count": null,
      "_view_module": "@jupyter-widgets/base",
      "_view_module_version": "1.2.0",
      "_view_name": "StyleView",
      "description_width": ""
     }
    },
    "17abc0e09a12472383158d0e090f28a0": {
     "model_module": "@jupyter-widgets/controls",
     "model_module_version": "1.5.0",
     "model_name": "HTMLModel",
     "state": {
      "_dom_classes": [],
      "_model_module": "@jupyter-widgets/controls",
      "_model_module_version": "1.5.0",
      "_model_name": "HTMLModel",
      "_view_count": null,
      "_view_module": "@jupyter-widgets/controls",
      "_view_module_version": "1.5.0",
      "_view_name": "HTMLView",
      "description": "",
      "description_tooltip": null,
      "layout": "IPY_MODEL_3b2412e8f9cc45439e3b7271f266b340",
      "placeholder": "​",
      "style": "IPY_MODEL_0288e90273c544d7be83727bf8d0d8d4",
      "value": "100%"
     }
    },
    "2f9123b9cc074fa48f3a93bf7acdfc02": {
     "model_module": "@jupyter-widgets/base",
     "model_module_version": "1.2.0",
     "model_name": "LayoutModel",
     "state": {
      "_model_module": "@jupyter-widgets/base",
      "_model_module_version": "1.2.0",
      "_model_name": "LayoutModel",
      "_view_count": null,
      "_view_module": "@jupyter-widgets/base",
      "_view_module_version": "1.2.0",
      "_view_name": "LayoutView",
      "align_content": null,
      "align_items": null,
      "align_self": null,
      "border": null,
      "bottom": null,
      "display": null,
      "flex": null,
      "flex_flow": null,
      "grid_area": null,
      "grid_auto_columns": null,
      "grid_auto_flow": null,
      "grid_auto_rows": null,
      "grid_column": null,
      "grid_gap": null,
      "grid_row": null,
      "grid_template_areas": null,
      "grid_template_columns": null,
      "grid_template_rows": null,
      "height": null,
      "justify_content": null,
      "justify_items": null,
      "left": null,
      "margin": null,
      "max_height": null,
      "max_width": null,
      "min_height": null,
      "min_width": null,
      "object_fit": null,
      "object_position": null,
      "order": null,
      "overflow": null,
      "overflow_x": null,
      "overflow_y": null,
      "padding": null,
      "right": null,
      "top": null,
      "visibility": null,
      "width": null
     }
    },
    "3b2412e8f9cc45439e3b7271f266b340": {
     "model_module": "@jupyter-widgets/base",
     "model_module_version": "1.2.0",
     "model_name": "LayoutModel",
     "state": {
      "_model_module": "@jupyter-widgets/base",
      "_model_module_version": "1.2.0",
      "_model_name": "LayoutModel",
      "_view_count": null,
      "_view_module": "@jupyter-widgets/base",
      "_view_module_version": "1.2.0",
      "_view_name": "LayoutView",
      "align_content": null,
      "align_items": null,
      "align_self": null,
      "border": null,
      "bottom": null,
      "display": null,
      "flex": null,
      "flex_flow": null,
      "grid_area": null,
      "grid_auto_columns": null,
      "grid_auto_flow": null,
      "grid_auto_rows": null,
      "grid_column": null,
      "grid_gap": null,
      "grid_row": null,
      "grid_template_areas": null,
      "grid_template_columns": null,
      "grid_template_rows": null,
      "height": null,
      "justify_content": null,
      "justify_items": null,
      "left": null,
      "margin": null,
      "max_height": null,
      "max_width": null,
      "min_height": null,
      "min_width": null,
      "object_fit": null,
      "object_position": null,
      "order": null,
      "overflow": null,
      "overflow_x": null,
      "overflow_y": null,
      "padding": null,
      "right": null,
      "top": null,
      "visibility": null,
      "width": null
     }
    },
    "5016bae133b845cdada8110d6c030abf": {
     "model_module": "@jupyter-widgets/base",
     "model_module_version": "1.2.0",
     "model_name": "LayoutModel",
     "state": {
      "_model_module": "@jupyter-widgets/base",
      "_model_module_version": "1.2.0",
      "_model_name": "LayoutModel",
      "_view_count": null,
      "_view_module": "@jupyter-widgets/base",
      "_view_module_version": "1.2.0",
      "_view_name": "LayoutView",
      "align_content": null,
      "align_items": null,
      "align_self": null,
      "border": null,
      "bottom": null,
      "display": null,
      "flex": null,
      "flex_flow": null,
      "grid_area": null,
      "grid_auto_columns": null,
      "grid_auto_flow": null,
      "grid_auto_rows": null,
      "grid_column": null,
      "grid_gap": null,
      "grid_row": null,
      "grid_template_areas": null,
      "grid_template_columns": null,
      "grid_template_rows": null,
      "height": null,
      "justify_content": null,
      "justify_items": null,
      "left": null,
      "margin": null,
      "max_height": null,
      "max_width": null,
      "min_height": null,
      "min_width": null,
      "object_fit": null,
      "object_position": null,
      "order": null,
      "overflow": null,
      "overflow_x": null,
      "overflow_y": null,
      "padding": null,
      "right": null,
      "top": null,
      "visibility": null,
      "width": null
     }
    },
    "672ee484e1ef482895a6db9f7feecfaf": {
     "model_module": "@jupyter-widgets/controls",
     "model_module_version": "1.5.0",
     "model_name": "ProgressStyleModel",
     "state": {
      "_model_module": "@jupyter-widgets/controls",
      "_model_module_version": "1.5.0",
      "_model_name": "ProgressStyleModel",
      "_view_count": null,
      "_view_module": "@jupyter-widgets/base",
      "_view_module_version": "1.2.0",
      "_view_name": "StyleView",
      "bar_color": null,
      "description_width": ""
     }
    },
    "818ceb8eb36b45f8a1e108b876a62ecd": {
     "model_module": "@jupyter-widgets/base",
     "model_module_version": "1.2.0",
     "model_name": "LayoutModel",
     "state": {
      "_model_module": "@jupyter-widgets/base",
      "_model_module_version": "1.2.0",
      "_model_name": "LayoutModel",
      "_view_count": null,
      "_view_module": "@jupyter-widgets/base",
      "_view_module_version": "1.2.0",
      "_view_name": "LayoutView",
      "align_content": null,
      "align_items": null,
      "align_self": null,
      "border": null,
      "bottom": null,
      "display": null,
      "flex": null,
      "flex_flow": null,
      "grid_area": null,
      "grid_auto_columns": null,
      "grid_auto_flow": null,
      "grid_auto_rows": null,
      "grid_column": null,
      "grid_gap": null,
      "grid_row": null,
      "grid_template_areas": null,
      "grid_template_columns": null,
      "grid_template_rows": null,
      "height": null,
      "justify_content": null,
      "justify_items": null,
      "left": null,
      "margin": null,
      "max_height": null,
      "max_width": null,
      "min_height": null,
      "min_width": null,
      "object_fit": null,
      "object_position": null,
      "order": null,
      "overflow": null,
      "overflow_x": null,
      "overflow_y": null,
      "padding": null,
      "right": null,
      "top": null,
      "visibility": null,
      "width": null
     }
    },
    "87776db60e144252ad0e4579351c1d2c": {
     "model_module": "@jupyter-widgets/controls",
     "model_module_version": "1.5.0",
     "model_name": "FloatProgressModel",
     "state": {
      "_dom_classes": [],
      "_model_module": "@jupyter-widgets/controls",
      "_model_module_version": "1.5.0",
      "_model_name": "FloatProgressModel",
      "_view_count": null,
      "_view_module": "@jupyter-widgets/controls",
      "_view_module_version": "1.5.0",
      "_view_name": "ProgressView",
      "bar_style": "success",
      "description": "",
      "description_tooltip": null,
      "layout": "IPY_MODEL_2f9123b9cc074fa48f3a93bf7acdfc02",
      "max": 3899,
      "min": 0,
      "orientation": "horizontal",
      "style": "IPY_MODEL_672ee484e1ef482895a6db9f7feecfaf",
      "value": 3899
     }
    },
    "ada9030f5d994c88a1cb676f0f39decf": {
     "model_module": "@jupyter-widgets/controls",
     "model_module_version": "1.5.0",
     "model_name": "HTMLModel",
     "state": {
      "_dom_classes": [],
      "_model_module": "@jupyter-widgets/controls",
      "_model_module_version": "1.5.0",
      "_model_name": "HTMLModel",
      "_view_count": null,
      "_view_module": "@jupyter-widgets/controls",
      "_view_module_version": "1.5.0",
      "_view_name": "HTMLView",
      "description": "",
      "description_tooltip": null,
      "layout": "IPY_MODEL_818ceb8eb36b45f8a1e108b876a62ecd",
      "placeholder": "​",
      "style": "IPY_MODEL_c691cca1063942aabf3949bda30c1823",
      "value": " 3899/3899 [00:00&lt;00:00, 4529.54it/s]"
     }
    },
    "c691cca1063942aabf3949bda30c1823": {
     "model_module": "@jupyter-widgets/controls",
     "model_module_version": "1.5.0",
     "model_name": "DescriptionStyleModel",
     "state": {
      "_model_module": "@jupyter-widgets/controls",
      "_model_module_version": "1.5.0",
      "_model_name": "DescriptionStyleModel",
      "_view_count": null,
      "_view_module": "@jupyter-widgets/base",
      "_view_module_version": "1.2.0",
      "_view_name": "StyleView",
      "description_width": ""
     }
    },
    "fae82cbd32c74bd5af8f546ba7fa3006": {
     "model_module": "@jupyter-widgets/controls",
     "model_module_version": "1.5.0",
     "model_name": "HBoxModel",
     "state": {
      "_dom_classes": [],
      "_model_module": "@jupyter-widgets/controls",
      "_model_module_version": "1.5.0",
      "_model_name": "HBoxModel",
      "_view_count": null,
      "_view_module": "@jupyter-widgets/controls",
      "_view_module_version": "1.5.0",
      "_view_name": "HBoxView",
      "box_style": "",
      "children": [
       "IPY_MODEL_17abc0e09a12472383158d0e090f28a0",
       "IPY_MODEL_87776db60e144252ad0e4579351c1d2c",
       "IPY_MODEL_ada9030f5d994c88a1cb676f0f39decf"
      ],
      "layout": "IPY_MODEL_5016bae133b845cdada8110d6c030abf"
     }
    }
   }
  }
 },
 "nbformat": 4,
 "nbformat_minor": 1
}
