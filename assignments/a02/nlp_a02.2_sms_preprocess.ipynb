{
 "cells": [
  {
   "cell_type": "code",
   "execution_count": null,
   "metadata": {
    "colab": {
     "base_uri": "https://localhost:8080/"
    },
    "executionInfo": {
     "elapsed": 23620,
     "status": "ok",
     "timestamp": 1661247099586,
     "user": {
      "displayName": "Branko Žitko",
      "userId": "04777374732866690844"
     },
     "user_tz": -120
    },
    "id": "Zojguzq2AuK8",
    "outputId": "0a69c063-ba44-4d6d-8114-ed3e7fbad9d8"
   },
   "outputs": [],
   "source": [
    "import os\n",
    "\n",
    "download_name = \"SMSSpamCollection.txt.bz2\"\n",
    "if not os.path.exists(download_name):\n",
    "    import requests\n",
    "    response = requests.get(f\"https://raw.githubusercontent.com/bzitko/nlp_repo/main/assignments/a02/{download_name}\")\n",
    "    with open(download_name, \"wb\") as fp:\n",
    "        fp.write(response.content)\n",
    "    response.close()\n",
    "        \n",
    "name = \"SMSSpamCollection.txt\"\n",
    "if not os.path.exists(name):\n",
    "    import bz2\n",
    "    with open(download_name, 'rb') as bzf, open(name, 'wb') as fp:\n",
    "        fp.write(bz2.decompress(bzf.read()))    "
   ]
  },
  {
   "cell_type": "markdown",
   "metadata": {
    "id": "W-CeYMXmbtG-"
   },
   "source": [
    "# SMS Spam Preprocessing"
   ]
  },
  {
   "cell_type": "code",
   "execution_count": null,
   "metadata": {
    "id": "rxFKBmmEEoUA"
   },
   "outputs": [],
   "source": [
    "import collections\n",
    "import numpy as np\n",
    "import pandas as pd\n",
    "import re\n",
    "from tqdm.notebook import trange, tqdm\n",
    "\n",
    "from argparse import Namespace"
   ]
  },
  {
   "cell_type": "markdown",
   "metadata": {},
   "source": [
    "### Arguments\n",
    "\n",
    "raw dataset and split dataset are included, as well as proportions for training, validation and evaluation."
   ]
  },
  {
   "cell_type": "code",
   "execution_count": null,
   "metadata": {
    "id": "0CQw6LKwiiQg"
   },
   "outputs": [],
   "source": [
    "args = Namespace(\n",
    "    raw_dataset_csv=\"SMSSpamCollection.txt\",\n",
    "    train_proportion=0.7,\n",
    "    val_proportion=0.15,\n",
    "    test_proportion=0.15,\n",
    "    output_munged_csv=\"sms_spam_with_splits.csv\",\n",
    "    seed=1337\n",
    ")\n"
   ]
  },
  {
   "cell_type": "markdown",
   "metadata": {
    "id": "DKfFfKfZLR7w"
   },
   "source": [
    "### Read Dataset\n",
    "\n",
    "👍 Read raw dataset's csv file into pandas DataFrame."
   ]
  },
  {
   "cell_type": "code",
   "execution_count": null,
   "metadata": {
    "colab": {
     "base_uri": "https://localhost:8080/",
     "height": 424
    },
    "executionInfo": {
     "elapsed": 318,
     "status": "ok",
     "timestamp": 1661251386760,
     "user": {
      "displayName": "Branko Žitko",
      "userId": "04777374732866690844"
     },
     "user_tz": -120
    },
    "id": "kRDhkO6iHm2j",
    "outputId": "5a4da28b-1798-4ec3-adf9-3cab8ff41637"
   },
   "outputs": [],
   "source": []
  },
  {
   "cell_type": "markdown",
   "metadata": {},
   "source": [
    "👍 Count how many datapoints are in each class."
   ]
  },
  {
   "cell_type": "code",
   "execution_count": null,
   "metadata": {
    "colab": {
     "base_uri": "https://localhost:8080/"
    },
    "executionInfo": {
     "elapsed": 6,
     "status": "ok",
     "timestamp": 1661248688736,
     "user": {
      "displayName": "Branko Žitko",
      "userId": "04777374732866690844"
     },
     "user_tz": -120
    },
    "id": "nJ2Fec2TJQ20",
    "outputId": "7e7afaa5-75d3-4e5b-cb7b-f2cfcecce7d2"
   },
   "outputs": [],
   "source": []
  },
  {
   "cell_type": "markdown",
   "metadata": {
    "id": "8sxvYjQ-zAzV"
   },
   "source": [
    "### Split to TRAIN, VAL, TEST and add field SPLIT to reviews\n",
    "\n",
    "👍 Create new DataFrame by shuffling datapoints from raw dataset.\n",
    "Append DataFrame with column \"split\" which will tell if datapoint is for train, val or test.\n",
    "Use percentages defined in args do determine how many datapoints will be for train, val and test."
   ]
  },
  {
   "cell_type": "code",
   "execution_count": null,
   "metadata": {
    "colab": {
     "base_uri": "https://localhost:8080/",
     "height": 493
    },
    "executionInfo": {
     "elapsed": 686,
     "status": "ok",
     "timestamp": 1661249997163,
     "user": {
      "displayName": "Branko Žitko",
      "userId": "04777374732866690844"
     },
     "user_tz": -120
    },
    "id": "OwbgrqSA8jFk",
    "outputId": "28df1c7b-8138-4680-c6ef-29456c936d6d"
   },
   "outputs": [],
   "source": []
  },
  {
   "cell_type": "markdown",
   "metadata": {
    "id": "jsLwdr9dZAgt"
   },
   "source": [
    "### Preprocess sms text"
   ]
  },
  {
   "cell_type": "markdown",
   "metadata": {},
   "source": [
    "👍 Define function for preprocessing text which will:\n",
    "* convert text to lower case\n",
    "* put one space before and after each interpunction (.,!? are interpunctions)\n",
    "* replace all non-letter and non-interpunction characters with one space\n",
    "\n",
    "Apply this function to all SMS-es in previous dataframe."
   ]
  },
  {
   "cell_type": "code",
   "execution_count": null,
   "metadata": {
    "colab": {
     "base_uri": "https://localhost:8080/",
     "height": 424
    },
    "executionInfo": {
     "elapsed": 280,
     "status": "ok",
     "timestamp": 1661249999152,
     "user": {
      "displayName": "Branko Žitko",
      "userId": "04777374732866690844"
     },
     "user_tz": -120
    },
    "id": "xi-ZsiApGXa0",
    "outputId": "b87d68bd-01ca-4e8f-d28c-e5aaace493dd"
   },
   "outputs": [],
   "source": []
  },
  {
   "cell_type": "markdown",
   "metadata": {},
   "source": [
    "### Save dataset\n",
    "\n",
    "👍 Save DataFrame with header to tab separated file defined by arguments."
   ]
  },
  {
   "cell_type": "code",
   "execution_count": null,
   "metadata": {
    "id": "UiioPENY77Sr"
   },
   "outputs": [],
   "source": []
  }
 ],
 "metadata": {
  "colab": {
   "authorship_tag": "ABX9TyM1hK0BpsDJ+75c18RQkzsY",
   "collapsed_sections": [],
   "name": "nlp v02 sms_spam preprocess.ipynb",
   "provenance": []
  },
  "kernelspec": {
   "display_name": "Python 3.8.13 ('nlp')",
   "language": "python",
   "name": "python3"
  },
  "language_info": {
   "codemirror_mode": {
    "name": "ipython",
    "version": 3
   },
   "file_extension": ".py",
   "mimetype": "text/x-python",
   "name": "python",
   "nbconvert_exporter": "python",
   "pygments_lexer": "ipython3",
   "version": "3.8.13"
  },
  "vscode": {
   "interpreter": {
    "hash": "358f19b5168dcc2c817c22e8ae2c189228565b53de3b91095ee770a390daccdd"
   }
  }
 },
 "nbformat": 4,
 "nbformat_minor": 1
}
