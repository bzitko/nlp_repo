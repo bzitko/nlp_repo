{
 "cells": [
  {
   "cell_type": "code",
   "execution_count": 17,
   "metadata": {
    "colab": {
     "base_uri": "https://localhost:8080/"
    },
    "executionInfo": {
     "elapsed": 23620,
     "status": "ok",
     "timestamp": 1661247099586,
     "user": {
      "displayName": "Branko Žitko",
      "userId": "04777374732866690844"
     },
     "user_tz": -120
    },
    "id": "Zojguzq2AuK8",
    "outputId": "0a69c063-ba44-4d6d-8114-ed3e7fbad9d8"
   },
   "outputs": [],
   "source": [
    "import os\n",
    "\n",
    "download_name = \"SMSSpamCollection.txt.bz2\"\n",
    "if not os.path.exists(download_name):\n",
    "    import requests\n",
    "    response = requests.get(f\"https://raw.githubusercontent.com/bzitko/nlp_repo/main/assignments/a02/{download_name}\")\n",
    "    with open(download_name, \"wb\") as fp:\n",
    "        fp.write(response.content)\n",
    "    response.close()\n",
    "        \n",
    "name = \"SMSSpamCollection.txt\"\n",
    "if not os.path.exists(name):\n",
    "    import bz2\n",
    "    with open(download_name, 'rb') as bzf, open(name, 'wb') as fp:\n",
    "        fp.write(bz2.decompress(bzf.read()))    "
   ]
  },
  {
   "cell_type": "markdown",
   "metadata": {
    "id": "W-CeYMXmbtG-"
   },
   "source": [
    "# SMS Spam Preprocessing Solution"
   ]
  },
  {
   "cell_type": "code",
   "execution_count": 18,
   "metadata": {
    "id": "rxFKBmmEEoUA"
   },
   "outputs": [],
   "source": [
    "import collections\n",
    "import numpy as np\n",
    "import pandas as pd\n",
    "import re\n",
    "from tqdm.notebook import trange, tqdm\n",
    "\n",
    "from argparse import Namespace"
   ]
  },
  {
   "cell_type": "markdown",
   "metadata": {},
   "source": [
    "### Arguments\n",
    "\n",
    "raw dataset and split dataset are included, as well as proportions for training, validation and evaluation."
   ]
  },
  {
   "cell_type": "code",
   "execution_count": 19,
   "metadata": {
    "id": "0CQw6LKwiiQg"
   },
   "outputs": [],
   "source": [
    "args = Namespace(\n",
    "    raw_dataset_csv=\"SMSSpamCollection.txt\",\n",
    "    train_proportion=0.7,\n",
    "    val_proportion=0.15,\n",
    "    test_proportion=0.15,\n",
    "    output_munged_csv=\"sms_spam_with_splits.csv\",\n",
    "    seed=1337\n",
    ")\n"
   ]
  },
  {
   "cell_type": "markdown",
   "metadata": {
    "id": "DKfFfKfZLR7w"
   },
   "source": [
    "### Read Dataset\n",
    "\n",
    "👍 Read raw dataset's csv file into pandas DataFrame."
   ]
  },
  {
   "cell_type": "code",
   "execution_count": 20,
   "metadata": {
    "colab": {
     "base_uri": "https://localhost:8080/",
     "height": 424
    },
    "executionInfo": {
     "elapsed": 318,
     "status": "ok",
     "timestamp": 1661251386760,
     "user": {
      "displayName": "Branko Žitko",
      "userId": "04777374732866690844"
     },
     "user_tz": -120
    },
    "id": "kRDhkO6iHm2j",
    "outputId": "5a4da28b-1798-4ec3-adf9-3cab8ff41637"
   },
   "outputs": [
    {
     "data": {
      "text/html": [
       "<div>\n",
       "<style scoped>\n",
       "    .dataframe tbody tr th:only-of-type {\n",
       "        vertical-align: middle;\n",
       "    }\n",
       "\n",
       "    .dataframe tbody tr th {\n",
       "        vertical-align: top;\n",
       "    }\n",
       "\n",
       "    .dataframe thead th {\n",
       "        text-align: right;\n",
       "    }\n",
       "</style>\n",
       "<table border=\"1\" class=\"dataframe\">\n",
       "  <thead>\n",
       "    <tr style=\"text-align: right;\">\n",
       "      <th></th>\n",
       "      <th>cls</th>\n",
       "      <th>sms</th>\n",
       "    </tr>\n",
       "  </thead>\n",
       "  <tbody>\n",
       "    <tr>\n",
       "      <th>0</th>\n",
       "      <td>ham</td>\n",
       "      <td>Go until jurong point, crazy.. Available only ...</td>\n",
       "    </tr>\n",
       "    <tr>\n",
       "      <th>1</th>\n",
       "      <td>ham</td>\n",
       "      <td>Ok lar... Joking wif u oni...</td>\n",
       "    </tr>\n",
       "    <tr>\n",
       "      <th>2</th>\n",
       "      <td>spam</td>\n",
       "      <td>Free entry in 2 a wkly comp to win FA Cup fina...</td>\n",
       "    </tr>\n",
       "    <tr>\n",
       "      <th>3</th>\n",
       "      <td>ham</td>\n",
       "      <td>U dun say so early hor... U c already then say...</td>\n",
       "    </tr>\n",
       "    <tr>\n",
       "      <th>4</th>\n",
       "      <td>ham</td>\n",
       "      <td>Nah I don't think he goes to usf, he lives aro...</td>\n",
       "    </tr>\n",
       "    <tr>\n",
       "      <th>...</th>\n",
       "      <td>...</td>\n",
       "      <td>...</td>\n",
       "    </tr>\n",
       "    <tr>\n",
       "      <th>5567</th>\n",
       "      <td>spam</td>\n",
       "      <td>This is the 2nd time we have tried 2 contact u...</td>\n",
       "    </tr>\n",
       "    <tr>\n",
       "      <th>5568</th>\n",
       "      <td>ham</td>\n",
       "      <td>Will ü b going to esplanade fr home?</td>\n",
       "    </tr>\n",
       "    <tr>\n",
       "      <th>5569</th>\n",
       "      <td>ham</td>\n",
       "      <td>Pity, * was in mood for that. So...any other s...</td>\n",
       "    </tr>\n",
       "    <tr>\n",
       "      <th>5570</th>\n",
       "      <td>ham</td>\n",
       "      <td>The guy did some bitching but I acted like i'd...</td>\n",
       "    </tr>\n",
       "    <tr>\n",
       "      <th>5571</th>\n",
       "      <td>ham</td>\n",
       "      <td>Rofl. Its true to its name</td>\n",
       "    </tr>\n",
       "  </tbody>\n",
       "</table>\n",
       "<p>5572 rows × 2 columns</p>\n",
       "</div>"
      ],
      "text/plain": [
       "       cls                                                sms\n",
       "0      ham  Go until jurong point, crazy.. Available only ...\n",
       "1      ham                      Ok lar... Joking wif u oni...\n",
       "2     spam  Free entry in 2 a wkly comp to win FA Cup fina...\n",
       "3      ham  U dun say so early hor... U c already then say...\n",
       "4      ham  Nah I don't think he goes to usf, he lives aro...\n",
       "...    ...                                                ...\n",
       "5567  spam  This is the 2nd time we have tried 2 contact u...\n",
       "5568   ham               Will ü b going to esplanade fr home?\n",
       "5569   ham  Pity, * was in mood for that. So...any other s...\n",
       "5570   ham  The guy did some bitching but I acted like i'd...\n",
       "5571   ham                         Rofl. Its true to its name\n",
       "\n",
       "[5572 rows x 2 columns]"
      ]
     },
     "execution_count": 20,
     "metadata": {},
     "output_type": "execute_result"
    }
   ],
   "source": [
    "# Read raw data\n",
    "sms_df = pd.read_csv(args.raw_dataset_csv, sep=\"\\t\", names=['cls', 'sms'])\n",
    "sms_df"
   ]
  },
  {
   "cell_type": "markdown",
   "metadata": {},
   "source": [
    "👍 Count how many datapoints are in each class."
   ]
  },
  {
   "cell_type": "code",
   "execution_count": 21,
   "metadata": {
    "colab": {
     "base_uri": "https://localhost:8080/"
    },
    "executionInfo": {
     "elapsed": 6,
     "status": "ok",
     "timestamp": 1661248688736,
     "user": {
      "displayName": "Branko Žitko",
      "userId": "04777374732866690844"
     },
     "user_tz": -120
    },
    "id": "nJ2Fec2TJQ20",
    "outputId": "7e7afaa5-75d3-4e5b-cb7b-f2cfcecce7d2"
   },
   "outputs": [
    {
     "data": {
      "text/plain": [
       "ham     4825\n",
       "spam     747\n",
       "Name: cls, dtype: int64"
      ]
     },
     "execution_count": 21,
     "metadata": {},
     "output_type": "execute_result"
    }
   ],
   "source": [
    "sms_df.cls.value_counts()"
   ]
  },
  {
   "cell_type": "markdown",
   "metadata": {
    "id": "8sxvYjQ-zAzV"
   },
   "source": [
    "### Split to TRAIN, VAL, TEST and add field SPLIT to reviews\n",
    "\n",
    "👍 Create new DataFrame by shuffling datapoints from raw dataset.\n",
    "Append DataFrame with column \"split\" which will tell if datapoint is for train, val or test.\n",
    "Use percentages defined in args do determine how many datapoints will be for train, val and test."
   ]
  },
  {
   "cell_type": "code",
   "execution_count": 22,
   "metadata": {
    "colab": {
     "base_uri": "https://localhost:8080/",
     "height": 493
    },
    "executionInfo": {
     "elapsed": 686,
     "status": "ok",
     "timestamp": 1661249997163,
     "user": {
      "displayName": "Branko Žitko",
      "userId": "04777374732866690844"
     },
     "user_tz": -120
    },
    "id": "OwbgrqSA8jFk",
    "outputId": "28df1c7b-8138-4680-c6ef-29456c936d6d"
   },
   "outputs": [
    {
     "name": "stdout",
     "output_type": "stream",
     "text": [
      "train    3899\n",
      "test      838\n",
      "val       835\n",
      "Name: split, dtype: int64\n"
     ]
    },
    {
     "data": {
      "text/html": [
       "<div>\n",
       "<style scoped>\n",
       "    .dataframe tbody tr th:only-of-type {\n",
       "        vertical-align: middle;\n",
       "    }\n",
       "\n",
       "    .dataframe tbody tr th {\n",
       "        vertical-align: top;\n",
       "    }\n",
       "\n",
       "    .dataframe thead th {\n",
       "        text-align: right;\n",
       "    }\n",
       "</style>\n",
       "<table border=\"1\" class=\"dataframe\">\n",
       "  <thead>\n",
       "    <tr style=\"text-align: right;\">\n",
       "      <th></th>\n",
       "      <th>cls</th>\n",
       "      <th>sms</th>\n",
       "      <th>split</th>\n",
       "    </tr>\n",
       "  </thead>\n",
       "  <tbody>\n",
       "    <tr>\n",
       "      <th>0</th>\n",
       "      <td>ham</td>\n",
       "      <td>Guai... Ü shd haf seen him when he's naughty.....</td>\n",
       "      <td>train</td>\n",
       "    </tr>\n",
       "    <tr>\n",
       "      <th>1</th>\n",
       "      <td>ham</td>\n",
       "      <td>Btw regarding that we should really try to see...</td>\n",
       "      <td>train</td>\n",
       "    </tr>\n",
       "    <tr>\n",
       "      <th>2</th>\n",
       "      <td>ham</td>\n",
       "      <td>I dont knw pa, i just drink milk..</td>\n",
       "      <td>train</td>\n",
       "    </tr>\n",
       "    <tr>\n",
       "      <th>3</th>\n",
       "      <td>ham</td>\n",
       "      <td>She doesnt need any test.</td>\n",
       "      <td>train</td>\n",
       "    </tr>\n",
       "    <tr>\n",
       "      <th>4</th>\n",
       "      <td>ham</td>\n",
       "      <td>Lol u still feeling sick?</td>\n",
       "      <td>train</td>\n",
       "    </tr>\n",
       "    <tr>\n",
       "      <th>...</th>\n",
       "      <td>...</td>\n",
       "      <td>...</td>\n",
       "      <td>...</td>\n",
       "    </tr>\n",
       "    <tr>\n",
       "      <th>5567</th>\n",
       "      <td>spam</td>\n",
       "      <td>YOU VE WON! Your 4* Costa Del Sol Holiday or £...</td>\n",
       "      <td>test</td>\n",
       "    </tr>\n",
       "    <tr>\n",
       "      <th>5568</th>\n",
       "      <td>spam</td>\n",
       "      <td>Congrats! Nokia 3650 video camera phone is you...</td>\n",
       "      <td>test</td>\n",
       "    </tr>\n",
       "    <tr>\n",
       "      <th>5569</th>\n",
       "      <td>spam</td>\n",
       "      <td>Congratulations ur awarded 500 of CD vouchers ...</td>\n",
       "      <td>test</td>\n",
       "    </tr>\n",
       "    <tr>\n",
       "      <th>5570</th>\n",
       "      <td>spam</td>\n",
       "      <td>Claim a 200 shopping spree, just call 08717895...</td>\n",
       "      <td>test</td>\n",
       "    </tr>\n",
       "    <tr>\n",
       "      <th>5571</th>\n",
       "      <td>spam</td>\n",
       "      <td>74355 XMAS iscoming &amp; ur awarded either £500 C...</td>\n",
       "      <td>test</td>\n",
       "    </tr>\n",
       "  </tbody>\n",
       "</table>\n",
       "<p>5572 rows × 3 columns</p>\n",
       "</div>"
      ],
      "text/plain": [
       "       cls                                                sms  split\n",
       "0      ham  Guai... Ü shd haf seen him when he's naughty.....  train\n",
       "1      ham  Btw regarding that we should really try to see...  train\n",
       "2      ham                 I dont knw pa, i just drink milk..  train\n",
       "3      ham                          She doesnt need any test.  train\n",
       "4      ham                          Lol u still feeling sick?  train\n",
       "...    ...                                                ...    ...\n",
       "5567  spam  YOU VE WON! Your 4* Costa Del Sol Holiday or £...   test\n",
       "5568  spam  Congrats! Nokia 3650 video camera phone is you...   test\n",
       "5569  spam  Congratulations ur awarded 500 of CD vouchers ...   test\n",
       "5570  spam  Claim a 200 shopping spree, just call 08717895...   test\n",
       "5571  spam  74355 XMAS iscoming & ur awarded either £500 C...   test\n",
       "\n",
       "[5572 rows x 3 columns]"
      ]
     },
     "execution_count": 22,
     "metadata": {},
     "output_type": "execute_result"
    }
   ],
   "source": [
    "# Splitting the subset by cls to create our new train, val, and test splits\n",
    "np.random.seed(args.seed)\n",
    "\n",
    "by_cls = collections.defaultdict(list)\n",
    "for _, row in sms_df.iterrows():\n",
    "    by_cls[row.cls].append(row.to_dict())\n",
    "\n",
    "final_list = []\n",
    "for cls, item_list in by_cls.items():\n",
    "    np.random.shuffle(item_list)\n",
    "\n",
    "    n_total = len(item_list)\n",
    "    n_train = int(args.train_proportion * n_total)\n",
    "    n_val = int(args.val_proportion * n_total)\n",
    "    n_test = int(args.test_proportion * n_total)\n",
    "\n",
    "    # Give data point a split attribute\n",
    "    for item in item_list[:n_train]:\n",
    "        item['split'] = 'train'\n",
    "    \n",
    "    for item in item_list[n_train:n_train+n_val]:\n",
    "        item['split'] = 'val'\n",
    "        \n",
    "    for item in item_list[n_train+n_val:]:\n",
    "        item['split'] = 'test'    \n",
    "\n",
    "    final_list.extend(item_list)        \n",
    "\n",
    "final_sms_df = pd.DataFrame(final_list)\n",
    "print(final_sms_df.split.value_counts())\n",
    "final_sms_df\n"
   ]
  },
  {
   "cell_type": "markdown",
   "metadata": {
    "id": "jsLwdr9dZAgt"
   },
   "source": [
    "### Preprocess sms text"
   ]
  },
  {
   "cell_type": "markdown",
   "metadata": {},
   "source": [
    "👍 Define function for preprocessing text which will:\n",
    "* convert text to lower case\n",
    "* put one space before and after each interpunction (.,!? are interpunctions)\n",
    "* replace all non-letter and non-interpunction characters with one space\n",
    "\n",
    "Apply this function to all SMS-es in previous dataframe."
   ]
  },
  {
   "cell_type": "code",
   "execution_count": 23,
   "metadata": {
    "colab": {
     "base_uri": "https://localhost:8080/",
     "height": 424
    },
    "executionInfo": {
     "elapsed": 280,
     "status": "ok",
     "timestamp": 1661249999152,
     "user": {
      "displayName": "Branko Žitko",
      "userId": "04777374732866690844"
     },
     "user_tz": -120
    },
    "id": "xi-ZsiApGXa0",
    "outputId": "b87d68bd-01ca-4e8f-d28c-e5aaace493dd"
   },
   "outputs": [
    {
     "data": {
      "text/html": [
       "<div>\n",
       "<style scoped>\n",
       "    .dataframe tbody tr th:only-of-type {\n",
       "        vertical-align: middle;\n",
       "    }\n",
       "\n",
       "    .dataframe tbody tr th {\n",
       "        vertical-align: top;\n",
       "    }\n",
       "\n",
       "    .dataframe thead th {\n",
       "        text-align: right;\n",
       "    }\n",
       "</style>\n",
       "<table border=\"1\" class=\"dataframe\">\n",
       "  <thead>\n",
       "    <tr style=\"text-align: right;\">\n",
       "      <th></th>\n",
       "      <th>cls</th>\n",
       "      <th>sms</th>\n",
       "      <th>split</th>\n",
       "    </tr>\n",
       "  </thead>\n",
       "  <tbody>\n",
       "    <tr>\n",
       "      <th>0</th>\n",
       "      <td>ham</td>\n",
       "      <td>guai . . . shd haf seen him when he s naughty ...</td>\n",
       "      <td>train</td>\n",
       "    </tr>\n",
       "    <tr>\n",
       "      <th>1</th>\n",
       "      <td>ham</td>\n",
       "      <td>btw regarding that we should really try to see...</td>\n",
       "      <td>train</td>\n",
       "    </tr>\n",
       "    <tr>\n",
       "      <th>2</th>\n",
       "      <td>ham</td>\n",
       "      <td>i dont knw pa , i just drink milk . .</td>\n",
       "      <td>train</td>\n",
       "    </tr>\n",
       "    <tr>\n",
       "      <th>3</th>\n",
       "      <td>ham</td>\n",
       "      <td>she doesnt need any test .</td>\n",
       "      <td>train</td>\n",
       "    </tr>\n",
       "    <tr>\n",
       "      <th>4</th>\n",
       "      <td>ham</td>\n",
       "      <td>lol u still feeling sick ?</td>\n",
       "      <td>train</td>\n",
       "    </tr>\n",
       "    <tr>\n",
       "      <th>...</th>\n",
       "      <td>...</td>\n",
       "      <td>...</td>\n",
       "      <td>...</td>\n",
       "    </tr>\n",
       "    <tr>\n",
       "      <th>5567</th>\n",
       "      <td>spam</td>\n",
       "      <td>you ve won ! your costa del sol holiday or awa...</td>\n",
       "      <td>test</td>\n",
       "    </tr>\n",
       "    <tr>\n",
       "      <th>5568</th>\n",
       "      <td>spam</td>\n",
       "      <td>congrats ! nokia video camera phone is your ca...</td>\n",
       "      <td>test</td>\n",
       "    </tr>\n",
       "    <tr>\n",
       "      <th>5569</th>\n",
       "      <td>spam</td>\n",
       "      <td>congratulations ur awarded of cd vouchers or g...</td>\n",
       "      <td>test</td>\n",
       "    </tr>\n",
       "    <tr>\n",
       "      <th>5570</th>\n",
       "      <td>spam</td>\n",
       "      <td>claim a shopping spree , just call now ! have ...</td>\n",
       "      <td>test</td>\n",
       "    </tr>\n",
       "    <tr>\n",
       "      <th>5571</th>\n",
       "      <td>spam</td>\n",
       "      <td>xmas iscoming ur awarded either cd gift vouch...</td>\n",
       "      <td>test</td>\n",
       "    </tr>\n",
       "  </tbody>\n",
       "</table>\n",
       "<p>5572 rows × 3 columns</p>\n",
       "</div>"
      ],
      "text/plain": [
       "       cls                                                sms  split\n",
       "0      ham  guai . . . shd haf seen him when he s naughty ...  train\n",
       "1      ham  btw regarding that we should really try to see...  train\n",
       "2      ham             i dont knw pa , i just drink milk . .   train\n",
       "3      ham                        she doesnt need any test .   train\n",
       "4      ham                        lol u still feeling sick ?   train\n",
       "...    ...                                                ...    ...\n",
       "5567  spam  you ve won ! your costa del sol holiday or awa...   test\n",
       "5568  spam  congrats ! nokia video camera phone is your ca...   test\n",
       "5569  spam  congratulations ur awarded of cd vouchers or g...   test\n",
       "5570  spam  claim a shopping spree , just call now ! have ...   test\n",
       "5571  spam   xmas iscoming ur awarded either cd gift vouch...   test\n",
       "\n",
       "[5572 rows x 3 columns]"
      ]
     },
     "execution_count": 23,
     "metadata": {},
     "output_type": "execute_result"
    }
   ],
   "source": [
    "def preprocess_text(text):\n",
    "    text = text.lower()\n",
    "    text = re.sub(r\"([.,!?])\", r\" \\1 \", text)\n",
    "    text = re.sub(r\"[^a-zA-Z.,!?]+\", r\" \", text)\n",
    "    return text\n",
    "\n",
    "final_sms_df.sms = final_sms_df.sms.apply(preprocess_text)\n",
    "final_sms_df"
   ]
  },
  {
   "cell_type": "markdown",
   "metadata": {},
   "source": [
    "### Save dataset\n",
    "\n",
    "👍 Save DataFrame with header to tab separated file defined by arguments."
   ]
  },
  {
   "cell_type": "code",
   "execution_count": 24,
   "metadata": {
    "id": "UiioPENY77Sr"
   },
   "outputs": [],
   "source": [
    "final_sms_df.to_csv(args.output_munged_csv, sep=\"\\t\", index=False)"
   ]
  },
  {
   "cell_type": "code",
   "execution_count": null,
   "metadata": {},
   "outputs": [],
   "source": []
  }
 ],
 "metadata": {
  "colab": {
   "authorship_tag": "ABX9TyM1hK0BpsDJ+75c18RQkzsY",
   "collapsed_sections": [],
   "name": "nlp v02 sms_spam preprocess.ipynb",
   "provenance": []
  },
  "kernelspec": {
   "display_name": "Python 3.8.13 ('nlp')",
   "language": "python",
   "name": "python3"
  },
  "language_info": {
   "codemirror_mode": {
    "name": "ipython",
    "version": 3
   },
   "file_extension": ".py",
   "mimetype": "text/x-python",
   "name": "python",
   "nbconvert_exporter": "python",
   "pygments_lexer": "ipython3",
   "version": "3.8.13"
  },
  "vscode": {
   "interpreter": {
    "hash": "358f19b5168dcc2c817c22e8ae2c189228565b53de3b91095ee770a390daccdd"
   }
  }
 },
 "nbformat": 4,
 "nbformat_minor": 1
}
