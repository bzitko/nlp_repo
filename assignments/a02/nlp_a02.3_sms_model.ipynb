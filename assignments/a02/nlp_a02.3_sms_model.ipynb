{
 "cells": [
  {
   "cell_type": "code",
   "execution_count": null,
   "metadata": {
    "colab": {
     "base_uri": "https://localhost:8080/"
    },
    "executionInfo": {
     "elapsed": 18442,
     "status": "ok",
     "timestamp": 1661326971147,
     "user": {
      "displayName": "Branko Žitko",
      "userId": "04777374732866690844"
     },
     "user_tz": -120
    },
    "id": "Zojguzq2AuK8",
    "outputId": "e1534835-0e5c-4a32-d7d0-f4830633b9fc"
   },
   "outputs": [],
   "source": [
    "import os\n",
    "\n",
    "download_name = \"sms_spam_with_splits.csv.bz2\"\n",
    "if not os.path.exists(download_name):\n",
    "    import requests\n",
    "    response = requests.get(f\"https://raw.githubusercontent.com/bzitko/nlp_repo/main/assignments/a02/{download_name}\")\n",
    "    with open(download_name, \"wb\") as fp:\n",
    "        fp.write(response.content)\n",
    "    response.close()\n",
    "        \n",
    "name = \"sms_spam_with_splits.csv\"\n",
    "if not os.path.exists(name):\n",
    "    import bz2\n",
    "    with open(download_name, 'rb') as bzf, open(name, 'wb') as fp:\n",
    "        fp.write(bz2.decompress(bzf.read()))    "
   ]
  },
  {
   "cell_type": "markdown",
   "metadata": {
    "id": "W-CeYMXmbtG-"
   },
   "source": [
    "# SMS Classify"
   ]
  },
  {
   "cell_type": "code",
   "execution_count": null,
   "metadata": {
    "id": "rxFKBmmEEoUA"
   },
   "outputs": [],
   "source": [
    "from argparse import Namespace\n",
    "from collections import Counter\n",
    "import json\n",
    "import os\n",
    "import re\n",
    "import string\n",
    "\n",
    "import numpy as np\n",
    "import pandas as pd\n",
    "import torch\n",
    "import torch.nn as nn\n",
    "import torch.nn.functional as F\n",
    "import torch.optim as optim\n",
    "from torch.utils.data import Dataset, DataLoader\n",
    "from tqdm.notebook import tqdm"
   ]
  },
  {
   "cell_type": "code",
   "execution_count": null,
   "metadata": {},
   "outputs": [],
   "source": [
    "args = Namespace(\n",
    "    # Data and Path information\n",
    "    frequency_cutoff=25,\n",
    "    sms_spam_csv='sms_spam_with_splits.csv',\n",
    "    \n",
    "    # No Model hyper parameters\n",
    "    \n",
    "    # Training hyper parameters\n",
    "    batch_size=128,\n",
    "    early_stopping_criteria=5,\n",
    "    learning_rate=0.001,\n",
    "    num_epochs=100,\n",
    "    seed=1337,\n",
    "    \n",
    "    # Runtime options\n",
    "    catch_keyboard_interrupt=True,\n",
    "    cuda=True,\n",
    "\n",
    ")"
   ]
  },
  {
   "cell_type": "markdown",
   "metadata": {},
   "source": [
    "### Vocabulary\n",
    "👍 Create Vocabulary class with following methods:\n",
    "* `__init__()` which initializes vocabulary by enabling or disabling unknown token `<UNK>` through `add_unk` argument (default=True)\n",
    "* `add_token()` adding token to vocabulary\n",
    "* `add_many()` adding multiple tokens into vocabulary\n",
    "* `lookup_token()` returns index for given token\n",
    "* `lookup_index()` return token for given index\n",
    "* `__len__()` return size of vocabulary"
   ]
  },
  {
   "cell_type": "code",
   "execution_count": null,
   "metadata": {
    "colab": {
     "base_uri": "https://localhost:8080/"
    },
    "executionInfo": {
     "elapsed": 269,
     "status": "ok",
     "timestamp": 1661326979472,
     "user": {
      "displayName": "Branko Žitko",
      "userId": "04777374732866690844"
     },
     "user_tz": -120
    },
    "id": "0CQw6LKwiiQg",
    "outputId": "d5881ce6-2607-4eab-fd2f-a0352837f437"
   },
   "outputs": [],
   "source": [
    "class Vocabulary(object):\n",
    "    def __init__(self, add_unk=True, unk_token=\"<UNK>\"):\n",
    "        pass\n",
    "        \n",
    "    def add_token(self, token):\n",
    "        return\n",
    "    \n",
    "    def add_many(self, tokens):\n",
    "        return\n",
    "\n",
    "    def lookup_token(self, token):\n",
    "        return\n",
    "\n",
    "    def lookup_index(self, index):\n",
    "        return\n",
    "    \n",
    "    def __len__(self):\n",
    "        return\n",
    "    \n",
    "vocab = Vocabulary(add_unk=True)\n",
    "\n",
    "vocab.add_token(\"john\")\n",
    "vocab.add_token(\"john\")\n",
    "vocab.add_token(\"ann\")\n",
    "\n",
    "vocab.lookup_token(\"john\"), vocab.lookup_index(2)"
   ]
  },
  {
   "cell_type": "markdown",
   "metadata": {},
   "source": [
    "### Vectorizer\n",
    "\n",
    "👍 Create `SMSVectorizer` class with following methods:\n",
    "* `__init__(self, sms_vocab, cls_vocab)` which will receive sms vocabulary (text of sms-es) and class vocabulary (ham or spam)\n",
    "* `vectorize(self, sms)` returns one-hot representation of a given sms text.\n",
    "* class method `from_dataframe(cls, sms_df, cutoff=25)` return SMSVectorizer instance by reading data from SMS dataframe and keep tokens whose frequency is larger then cutoff."
   ]
  },
  {
   "cell_type": "code",
   "execution_count": null,
   "metadata": {
    "colab": {
     "base_uri": "https://localhost:8080/"
    },
    "executionInfo": {
     "elapsed": 337,
     "status": "ok",
     "timestamp": 1661326980832,
     "user": {
      "displayName": "Branko Žitko",
      "userId": "04777374732866690844"
     },
     "user_tz": -120
    },
    "id": "gfVQ4SbDa_on",
    "outputId": "4699e6e6-3da0-4373-90b8-2c11e3b29702"
   },
   "outputs": [],
   "source": [
    "class SMSVectorizer(object):\n",
    "    def __init__(self, sms_vocab, cls_vocab):\n",
    "        pass\n",
    "\n",
    "    def vectorize(self, sms):\n",
    "        return\n",
    "\n",
    "    @classmethod\n",
    "    def from_dataframe(cls, sms_df, cutoff=25):\n",
    "        return"
   ]
  },
  {
   "cell_type": "code",
   "execution_count": null,
   "metadata": {},
   "outputs": [],
   "source": [
    "sms_vocab = Vocabulary()\n",
    "sms_vocab.add_many(\"john has been there . but he is not john .\".split())\n",
    "\n",
    "cls_vocab = Vocabulary(add_unk=False)\n",
    "cls_vocab.add_many([\"spam\", \"ham\"])\n",
    "\n",
    "vectorizer = SMSVectorizer(sms_vocab, cls_vocab)\n",
    "vectorizer.vectorize(\"but john has not been he .\")"
   ]
  },
  {
   "cell_type": "markdown",
   "metadata": {
    "id": "DKfFfKfZLR7w"
   },
   "source": [
    "### Read Dataset\n",
    "\n",
    "👍 Create `SMSDataset` class which inherits `torch.utils.data.DataSet` and put following methods:\n",
    "* `__init__(self, sms_df, vectorizer)` which will receive SMS dataframe and vectorizer and store them as attributes. SMS dataframe will be splitted into 3 dataframes according to split value (train, val or test) and those dataframes will be also stored as attributes.\n",
    "* `set_split(self, split)` used for sellecting current split dataframe\n",
    "* `__len__(self)` returns length of current split dataframe\n",
    "* `__getitem__(self, index)` returns vectorized sms text and class for datapoint at given index\n",
    "* `__get_num_batches(self, batch_size)` returns number of batches according to length of current split dataframe and batch size.\n",
    "* class method `load_dataset_and_make_vectorizer(cls, sms_csv)` loads `sms_csv` file and makes vectorizer from **train** split. Then returns instance of `SMSDataset` with those two arguments.\n"
   ]
  },
  {
   "cell_type": "code",
   "execution_count": null,
   "metadata": {
    "id": "kRDhkO6iHm2j"
   },
   "outputs": [],
   "source": [
    "class SMSDataset(Dataset):\n",
    "    def __init__(self, sms_df, vectorizer):\n",
    "        pass\n",
    "\n",
    "    @classmethod\n",
    "    def load_dataset_and_make_vectorizer(cls, sms_csv):\n",
    "        return\n",
    "\n",
    "    def get_vectorizer(self):\n",
    "        return self._vectorizer\n",
    "\n",
    "    def set_split(self, split=\"train\"):\n",
    "        pass\n",
    "\n",
    "    def __len__(self):\n",
    "        return\n",
    "\n",
    "    def __getitem__(self, index):\n",
    "        return\n",
    "\n",
    "    def get_num_batches(self, batch_size):\n",
    "        return len(self) // batch_size  \n"
   ]
  },
  {
   "cell_type": "markdown",
   "metadata": {},
   "source": [
    "👍 Create function `generate_batches(dataset, batch_size, shuffle=True, drop_last=True, device=\"cpu\")` which will use `torch.utils.data.DataLoader` to yield batch."
   ]
  },
  {
   "cell_type": "code",
   "execution_count": null,
   "metadata": {},
   "outputs": [],
   "source": [
    "def generate_batches(dataset, batch_size, shuffle=True,\n",
    "                     drop_last=True, device=\"cpu\"):\n",
    "    yield"
   ]
  },
  {
   "cell_type": "markdown",
   "metadata": {},
   "source": [
    "## Load dataset and dataloader"
   ]
  },
  {
   "cell_type": "code",
   "execution_count": null,
   "metadata": {
    "id": "fj6-WVPOO8cx"
   },
   "outputs": [],
   "source": [
    "dataset = SMSDataset.load_dataset_and_make_vectorizer(args.sms_spam_csv)\n",
    "dataloader = DataLoader(dataset=dataset)"
   ]
  },
  {
   "cell_type": "markdown",
   "metadata": {},
   "source": [
    "### Plot data\n",
    "\n",
    "👍 Reduce dimensionality of data to 2D and plot spam and ham datapoints into separate plots."
   ]
  },
  {
   "cell_type": "code",
   "execution_count": null,
   "metadata": {
    "id": "SnXYDPp1WGE9"
   },
   "outputs": [],
   "source": [
    "from sklearn import decomposition\n",
    "import matplotlib.pyplot as plt"
   ]
  },
  {
   "cell_type": "code",
   "execution_count": null,
   "metadata": {},
   "outputs": [],
   "source": []
  },
  {
   "cell_type": "markdown",
   "metadata": {
    "id": "S2SGZv7wXzy8"
   },
   "source": [
    "### Model Classifier\n",
    "\n",
    "👍 Create `SMSClassifier` class as perceptron with variable number of features. Methods are:\n",
    "* `__init__(self, num_features)` initializes perceptron with `num_features` inputs\n",
    "* `forward(self, x_in, apply_sigmoid=False)` for given input `x_in` makes forward step and eventually applies sigmoid on output."
   ]
  },
  {
   "cell_type": "code",
   "execution_count": null,
   "metadata": {
    "id": "xi-ZsiApGXa0"
   },
   "outputs": [],
   "source": [
    "class SMSClassifier(nn.Module):\n",
    "\n",
    "    def __init__(self, num_features):\n",
    "        pass\n",
    "\n",
    "    def forward(self, x_in, apply_sigmoid=False):\n",
    "        return\n"
   ]
  },
  {
   "cell_type": "markdown",
   "metadata": {
    "id": "SUb6OLwZBWFs"
   },
   "source": [
    "### Initialization\n",
    "\n",
    "👍 Initialize by following steps:\n",
    "* classifier\n",
    "* args.device - setting to cuda if args.cuda is true and cuda is available, to cpu otherwise.\n",
    "* switch classifier to args.device"
   ]
  },
  {
   "cell_type": "code",
   "execution_count": null,
   "metadata": {
    "colab": {
     "base_uri": "https://localhost:8080/"
    },
    "executionInfo": {
     "elapsed": 4535,
     "status": "ok",
     "timestamp": 1661327055827,
     "user": {
      "displayName": "Branko Žitko",
      "userId": "04777374732866690844"
     },
     "user_tz": -120
    },
    "id": "fVOZg4mSZEB2",
    "outputId": "753f4713-dbe3-4e86-cd63-f4e6f7f54daa"
   },
   "outputs": [],
   "source": []
  },
  {
   "cell_type": "markdown",
   "metadata": {
    "id": "BJFBJBhzCm4h"
   },
   "source": [
    "# Training\n",
    "\n",
    "👍 Set:\n",
    "* loss function to Binart Cross Entropy\n",
    "* optimizer as Adam with specified learning rate by args.lr\n",
    "* learning rate scheduler for reducing learning rate by \n",
    "    * factor 10 times less than actual args.lr\n",
    "    * number of epochs with no improvement (patience) set to 1\n",
    "    * minimum mode\n",
    "    \n",
    "For each epoch\n",
    "* generate train batches and train (set classifier to train)\n",
    "* generate val batches and validate (set classifier to eval)\n",
    "\n",
    "In each batch print accuracy and loss."
   ]
  },
  {
   "cell_type": "code",
   "execution_count": null,
   "metadata": {
    "colab": {
     "base_uri": "https://localhost:8080/"
    },
    "executionInfo": {
     "elapsed": 49941,
     "status": "ok",
     "timestamp": 1661327121834,
     "user": {
      "displayName": "Branko Žitko",
      "userId": "04777374732866690844"
     },
     "user_tz": -120
    },
    "id": "n5JkMhnJCmhv",
    "outputId": "01e6d42b-0c56-4074-e780-8c041cde7710"
   },
   "outputs": [],
   "source": []
  },
  {
   "cell_type": "markdown",
   "metadata": {
    "id": "l2L9vsbQLKaJ"
   },
   "source": [
    "# Test\n",
    "\n",
    "👍 Generate test batches and for each batch print accuracy"
   ]
  },
  {
   "cell_type": "code",
   "execution_count": null,
   "metadata": {
    "colab": {
     "base_uri": "https://localhost:8080/"
    },
    "executionInfo": {
     "elapsed": 456,
     "status": "ok",
     "timestamp": 1661327126807,
     "user": {
      "displayName": "Branko Žitko",
      "userId": "04777374732866690844"
     },
     "user_tz": -120
    },
    "id": "3kBm2iO2B04Z",
    "outputId": "ab6e2a79-86b7-43a4-b586-39701ea09eaf"
   },
   "outputs": [],
   "source": []
  },
  {
   "cell_type": "markdown",
   "metadata": {
    "id": "QUfbUDkQL5eq"
   },
   "source": [
    "# Interpretability\n",
    "\n",
    "👍 Get classifier weights to determine 20 influental words for each class"
   ]
  },
  {
   "cell_type": "code",
   "execution_count": null,
   "metadata": {
    "colab": {
     "base_uri": "https://localhost:8080/"
    },
    "executionInfo": {
     "elapsed": 3,
     "status": "ok",
     "timestamp": 1661327709454,
     "user": {
      "displayName": "Branko Žitko",
      "userId": "04777374732866690844"
     },
     "user_tz": -120
    },
    "id": "o26VuMH9LZm_",
    "outputId": "2e6dc7b8-bd90-4467-c447-53b0ffe332f8"
   },
   "outputs": [],
   "source": []
  }
 ],
 "metadata": {
  "accelerator": "GPU",
  "colab": {
   "authorship_tag": "ABX9TyPOPN2XtfCLpoBiJPtiR0jd",
   "collapsed_sections": [],
   "provenance": []
  },
  "gpuClass": "standard",
  "kernelspec": {
   "display_name": "Python 3.9.13 ('nlp')",
   "language": "python",
   "name": "python3"
  },
  "language_info": {
   "codemirror_mode": {
    "name": "ipython",
    "version": 3
   },
   "file_extension": ".py",
   "mimetype": "text/x-python",
   "name": "python",
   "nbconvert_exporter": "python",
   "pygments_lexer": "ipython3",
   "version": "3.9.13"
  },
  "vscode": {
   "interpreter": {
    "hash": "358f19b5168dcc2c817c22e8ae2c189228565b53de3b91095ee770a390daccdd"
   }
  },
  "widgets": {
   "application/vnd.jupyter.widget-state+json": {
    "0288e90273c544d7be83727bf8d0d8d4": {
     "model_module": "@jupyter-widgets/controls",
     "model_module_version": "1.5.0",
     "model_name": "DescriptionStyleModel",
     "state": {
      "_model_module": "@jupyter-widgets/controls",
      "_model_module_version": "1.5.0",
      "_model_name": "DescriptionStyleModel",
      "_view_count": null,
      "_view_module": "@jupyter-widgets/base",
      "_view_module_version": "1.2.0",
      "_view_name": "StyleView",
      "description_width": ""
     }
    },
    "17abc0e09a12472383158d0e090f28a0": {
     "model_module": "@jupyter-widgets/controls",
     "model_module_version": "1.5.0",
     "model_name": "HTMLModel",
     "state": {
      "_dom_classes": [],
      "_model_module": "@jupyter-widgets/controls",
      "_model_module_version": "1.5.0",
      "_model_name": "HTMLModel",
      "_view_count": null,
      "_view_module": "@jupyter-widgets/controls",
      "_view_module_version": "1.5.0",
      "_view_name": "HTMLView",
      "description": "",
      "description_tooltip": null,
      "layout": "IPY_MODEL_3b2412e8f9cc45439e3b7271f266b340",
      "placeholder": "​",
      "style": "IPY_MODEL_0288e90273c544d7be83727bf8d0d8d4",
      "value": "100%"
     }
    },
    "2f9123b9cc074fa48f3a93bf7acdfc02": {
     "model_module": "@jupyter-widgets/base",
     "model_module_version": "1.2.0",
     "model_name": "LayoutModel",
     "state": {
      "_model_module": "@jupyter-widgets/base",
      "_model_module_version": "1.2.0",
      "_model_name": "LayoutModel",
      "_view_count": null,
      "_view_module": "@jupyter-widgets/base",
      "_view_module_version": "1.2.0",
      "_view_name": "LayoutView",
      "align_content": null,
      "align_items": null,
      "align_self": null,
      "border": null,
      "bottom": null,
      "display": null,
      "flex": null,
      "flex_flow": null,
      "grid_area": null,
      "grid_auto_columns": null,
      "grid_auto_flow": null,
      "grid_auto_rows": null,
      "grid_column": null,
      "grid_gap": null,
      "grid_row": null,
      "grid_template_areas": null,
      "grid_template_columns": null,
      "grid_template_rows": null,
      "height": null,
      "justify_content": null,
      "justify_items": null,
      "left": null,
      "margin": null,
      "max_height": null,
      "max_width": null,
      "min_height": null,
      "min_width": null,
      "object_fit": null,
      "object_position": null,
      "order": null,
      "overflow": null,
      "overflow_x": null,
      "overflow_y": null,
      "padding": null,
      "right": null,
      "top": null,
      "visibility": null,
      "width": null
     }
    },
    "3b2412e8f9cc45439e3b7271f266b340": {
     "model_module": "@jupyter-widgets/base",
     "model_module_version": "1.2.0",
     "model_name": "LayoutModel",
     "state": {
      "_model_module": "@jupyter-widgets/base",
      "_model_module_version": "1.2.0",
      "_model_name": "LayoutModel",
      "_view_count": null,
      "_view_module": "@jupyter-widgets/base",
      "_view_module_version": "1.2.0",
      "_view_name": "LayoutView",
      "align_content": null,
      "align_items": null,
      "align_self": null,
      "border": null,
      "bottom": null,
      "display": null,
      "flex": null,
      "flex_flow": null,
      "grid_area": null,
      "grid_auto_columns": null,
      "grid_auto_flow": null,
      "grid_auto_rows": null,
      "grid_column": null,
      "grid_gap": null,
      "grid_row": null,
      "grid_template_areas": null,
      "grid_template_columns": null,
      "grid_template_rows": null,
      "height": null,
      "justify_content": null,
      "justify_items": null,
      "left": null,
      "margin": null,
      "max_height": null,
      "max_width": null,
      "min_height": null,
      "min_width": null,
      "object_fit": null,
      "object_position": null,
      "order": null,
      "overflow": null,
      "overflow_x": null,
      "overflow_y": null,
      "padding": null,
      "right": null,
      "top": null,
      "visibility": null,
      "width": null
     }
    },
    "5016bae133b845cdada8110d6c030abf": {
     "model_module": "@jupyter-widgets/base",
     "model_module_version": "1.2.0",
     "model_name": "LayoutModel",
     "state": {
      "_model_module": "@jupyter-widgets/base",
      "_model_module_version": "1.2.0",
      "_model_name": "LayoutModel",
      "_view_count": null,
      "_view_module": "@jupyter-widgets/base",
      "_view_module_version": "1.2.0",
      "_view_name": "LayoutView",
      "align_content": null,
      "align_items": null,
      "align_self": null,
      "border": null,
      "bottom": null,
      "display": null,
      "flex": null,
      "flex_flow": null,
      "grid_area": null,
      "grid_auto_columns": null,
      "grid_auto_flow": null,
      "grid_auto_rows": null,
      "grid_column": null,
      "grid_gap": null,
      "grid_row": null,
      "grid_template_areas": null,
      "grid_template_columns": null,
      "grid_template_rows": null,
      "height": null,
      "justify_content": null,
      "justify_items": null,
      "left": null,
      "margin": null,
      "max_height": null,
      "max_width": null,
      "min_height": null,
      "min_width": null,
      "object_fit": null,
      "object_position": null,
      "order": null,
      "overflow": null,
      "overflow_x": null,
      "overflow_y": null,
      "padding": null,
      "right": null,
      "top": null,
      "visibility": null,
      "width": null
     }
    },
    "672ee484e1ef482895a6db9f7feecfaf": {
     "model_module": "@jupyter-widgets/controls",
     "model_module_version": "1.5.0",
     "model_name": "ProgressStyleModel",
     "state": {
      "_model_module": "@jupyter-widgets/controls",
      "_model_module_version": "1.5.0",
      "_model_name": "ProgressStyleModel",
      "_view_count": null,
      "_view_module": "@jupyter-widgets/base",
      "_view_module_version": "1.2.0",
      "_view_name": "StyleView",
      "bar_color": null,
      "description_width": ""
     }
    },
    "818ceb8eb36b45f8a1e108b876a62ecd": {
     "model_module": "@jupyter-widgets/base",
     "model_module_version": "1.2.0",
     "model_name": "LayoutModel",
     "state": {
      "_model_module": "@jupyter-widgets/base",
      "_model_module_version": "1.2.0",
      "_model_name": "LayoutModel",
      "_view_count": null,
      "_view_module": "@jupyter-widgets/base",
      "_view_module_version": "1.2.0",
      "_view_name": "LayoutView",
      "align_content": null,
      "align_items": null,
      "align_self": null,
      "border": null,
      "bottom": null,
      "display": null,
      "flex": null,
      "flex_flow": null,
      "grid_area": null,
      "grid_auto_columns": null,
      "grid_auto_flow": null,
      "grid_auto_rows": null,
      "grid_column": null,
      "grid_gap": null,
      "grid_row": null,
      "grid_template_areas": null,
      "grid_template_columns": null,
      "grid_template_rows": null,
      "height": null,
      "justify_content": null,
      "justify_items": null,
      "left": null,
      "margin": null,
      "max_height": null,
      "max_width": null,
      "min_height": null,
      "min_width": null,
      "object_fit": null,
      "object_position": null,
      "order": null,
      "overflow": null,
      "overflow_x": null,
      "overflow_y": null,
      "padding": null,
      "right": null,
      "top": null,
      "visibility": null,
      "width": null
     }
    },
    "87776db60e144252ad0e4579351c1d2c": {
     "model_module": "@jupyter-widgets/controls",
     "model_module_version": "1.5.0",
     "model_name": "FloatProgressModel",
     "state": {
      "_dom_classes": [],
      "_model_module": "@jupyter-widgets/controls",
      "_model_module_version": "1.5.0",
      "_model_name": "FloatProgressModel",
      "_view_count": null,
      "_view_module": "@jupyter-widgets/controls",
      "_view_module_version": "1.5.0",
      "_view_name": "ProgressView",
      "bar_style": "success",
      "description": "",
      "description_tooltip": null,
      "layout": "IPY_MODEL_2f9123b9cc074fa48f3a93bf7acdfc02",
      "max": 3899,
      "min": 0,
      "orientation": "horizontal",
      "style": "IPY_MODEL_672ee484e1ef482895a6db9f7feecfaf",
      "value": 3899
     }
    },
    "ada9030f5d994c88a1cb676f0f39decf": {
     "model_module": "@jupyter-widgets/controls",
     "model_module_version": "1.5.0",
     "model_name": "HTMLModel",
     "state": {
      "_dom_classes": [],
      "_model_module": "@jupyter-widgets/controls",
      "_model_module_version": "1.5.0",
      "_model_name": "HTMLModel",
      "_view_count": null,
      "_view_module": "@jupyter-widgets/controls",
      "_view_module_version": "1.5.0",
      "_view_name": "HTMLView",
      "description": "",
      "description_tooltip": null,
      "layout": "IPY_MODEL_818ceb8eb36b45f8a1e108b876a62ecd",
      "placeholder": "​",
      "style": "IPY_MODEL_c691cca1063942aabf3949bda30c1823",
      "value": " 3899/3899 [00:00&lt;00:00, 4529.54it/s]"
     }
    },
    "c691cca1063942aabf3949bda30c1823": {
     "model_module": "@jupyter-widgets/controls",
     "model_module_version": "1.5.0",
     "model_name": "DescriptionStyleModel",
     "state": {
      "_model_module": "@jupyter-widgets/controls",
      "_model_module_version": "1.5.0",
      "_model_name": "DescriptionStyleModel",
      "_view_count": null,
      "_view_module": "@jupyter-widgets/base",
      "_view_module_version": "1.2.0",
      "_view_name": "StyleView",
      "description_width": ""
     }
    },
    "fae82cbd32c74bd5af8f546ba7fa3006": {
     "model_module": "@jupyter-widgets/controls",
     "model_module_version": "1.5.0",
     "model_name": "HBoxModel",
     "state": {
      "_dom_classes": [],
      "_model_module": "@jupyter-widgets/controls",
      "_model_module_version": "1.5.0",
      "_model_name": "HBoxModel",
      "_view_count": null,
      "_view_module": "@jupyter-widgets/controls",
      "_view_module_version": "1.5.0",
      "_view_name": "HBoxView",
      "box_style": "",
      "children": [
       "IPY_MODEL_17abc0e09a12472383158d0e090f28a0",
       "IPY_MODEL_87776db60e144252ad0e4579351c1d2c",
       "IPY_MODEL_ada9030f5d994c88a1cb676f0f39decf"
      ],
      "layout": "IPY_MODEL_5016bae133b845cdada8110d6c030abf"
     }
    }
   }
  }
 },
 "nbformat": 4,
 "nbformat_minor": 1
}
