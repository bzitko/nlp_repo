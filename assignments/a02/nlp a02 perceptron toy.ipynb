{
 "cells": [
  {
   "cell_type": "markdown",
   "metadata": {
    "id": "W-CeYMXmbtG-"
   },
   "source": [
    "# Toy Data"
   ]
  },
  {
   "cell_type": "code",
   "execution_count": 1,
   "metadata": {
    "executionInfo": {
     "elapsed": 4290,
     "status": "ok",
     "timestamp": 1660203327038,
     "user": {
      "displayName": "Branko Žitko",
      "userId": "04777374732866690844"
     },
     "user_tz": -120
    },
    "id": "rxFKBmmEEoUA"
   },
   "outputs": [],
   "source": [
    "import numpy as np\n",
    "#import pandas as pd\n",
    "import torch\n",
    "import torch.nn\n",
    "import matplotlib.pyplot as plt\n",
    "\n",
    "from sklearn.metrics import accuracy_score, precision_score, recall_score, f1_score, confusion_matrix, roc_curve\n",
    "\n",
    "seed = 1337\n",
    "torch.manual_seed(seed)\n",
    "torch.cuda.manual_seed_all(seed)\n",
    "np.random.seed(seed)"
   ]
  },
  {
   "cell_type": "markdown",
   "metadata": {},
   "source": [
    "# 1.1 Generating synthetic data\n",
    "\n",
    "Make function `generate_toydata()` that recieves:\n",
    "* `batch_size` - number of datapoints\n",
    "* `w` - multipliyer of linear function\n",
    "* `b` - offset of linear function\n",
    "\n",
    "and returns two vectors:\n",
    "* `X` of shape (batch_size, 2) containing 2D datapoints\n",
    "* `Y` if shape (batch_size,) containing targets.\n",
    "\n",
    "This function generates random batch size number of 2D points $(x_1, x_2)$ where:\n",
    "* $x_1$ are random numbers and\n",
    "* $x_2$ are random numbers multiplied by $w$ and to which $b$ is added.\n",
    "\n",
    "Target ($y$) of $(x_1, x_2)$ will be:\n",
    "* $1$ if $x_2 > w * x_1 + b$\n",
    "* else $0$\n",
    "\n"
   ]
  },
  {
   "cell_type": "code",
   "execution_count": null,
   "metadata": {
    "colab": {
     "base_uri": "https://localhost:8080/"
    },
    "executionInfo": {
     "elapsed": 9,
     "status": "ok",
     "timestamp": 1660203330781,
     "user": {
      "displayName": "Branko Žitko",
      "userId": "04777374732866690844"
     },
     "user_tz": -120
    },
    "id": "4uqOaX-Ah7KZ",
    "outputId": "604915d7-0ba5-4184-b90f-2ea2351af4c7",
    "scrolled": false
   },
   "outputs": [],
   "source": []
  },
  {
   "cell_type": "markdown",
   "metadata": {},
   "source": [
    "# 1.2 Plotting data\n",
    "\n",
    "Create function `plot_toy_data()` which receives two vectors:\n",
    "* $X$ vector of n datapoints $(x_1, x_2)$\n",
    "* $Y$ vector of n targets\n",
    "\n",
    "This function plots 2D datapoints in blue if corresponding target value is 1, red if opposite.\n",
    "\n",
    "Generate 1000 synthetic data points where $w$ = 5 and $b$ = 3.\n",
    "Plot should look like this: ![Toy data](./images/toydata.png)"
   ]
  },
  {
   "cell_type": "code",
   "execution_count": null,
   "metadata": {
    "colab": {
     "base_uri": "https://localhost:8080/",
     "height": 265
    },
    "executionInfo": {
     "elapsed": 862,
     "status": "ok",
     "timestamp": 1660203331637,
     "user": {
      "displayName": "Branko Žitko",
      "userId": "04777374732866690844"
     },
     "user_tz": -120
    },
    "id": "GWtzQBm6buPs",
    "outputId": "8853f233-648a-4f2b-ca9a-176416f0c69b"
   },
   "outputs": [],
   "source": []
  },
  {
   "cell_type": "markdown",
   "metadata": {},
   "source": [
    "# 2.1. Perceptron\n",
    "\n",
    "Create `Perceptron` class where perceptron receives 2 numbers and outputs 1 number.  \n",
    "Create `forward()` method which receives datapoint $(x_1, x_2)$ which is an input to perceptron and applyies sigmoid on perceptron's output."
   ]
  },
  {
   "cell_type": "code",
   "execution_count": null,
   "metadata": {
    "colab": {
     "base_uri": "https://localhost:8080/"
    },
    "executionInfo": {
     "elapsed": 13,
     "status": "ok",
     "timestamp": 1660203331638,
     "user": {
      "displayName": "Branko Žitko",
      "userId": "04777374732866690844"
     },
     "user_tz": -120
    },
    "id": "1IBXUdZFb22E",
    "outputId": "b0f05472-886c-4cb6-fc77-9fc0e8a7b70b"
   },
   "outputs": [],
   "source": []
  },
  {
   "cell_type": "markdown",
   "metadata": {},
   "source": [
    "Set following variables:\n",
    "* learning rate `lr` to 0.01\n",
    "* `batch_size` = 1000\n",
    "* `w` = 90\n",
    "* `b` = 6\n",
    "\n",
    "Instantiate:\n",
    "* perceptron, \n",
    "* adam optimizer with defined learning rate, \n",
    "* binary cross-entropy loss, \n",
    "* `losses` as empty list\n",
    "\n",
    "Generate and remember static toy data with predefined parameters."
   ]
  },
  {
   "cell_type": "code",
   "execution_count": null,
   "metadata": {
    "colab": {
     "base_uri": "https://localhost:8080/",
     "height": 265
    },
    "executionInfo": {
     "elapsed": 573,
     "status": "ok",
     "timestamp": 1660204001457,
     "user": {
      "displayName": "Branko Žitko",
      "userId": "04777374732866690844"
     },
     "user_tz": -120
    },
    "id": "6Aqr7DofdM87",
    "outputId": "9b80b443-5405-448f-b8e4-5cddaec94cd5"
   },
   "outputs": [],
   "source": []
  },
  {
   "cell_type": "markdown",
   "metadata": {},
   "source": [
    "# 2.2 Train\n",
    "\n",
    "Set following variables:\n",
    "* `change` to 1.0 - it will be absolute difference between current and previous loss\n",
    "* `last` to 10 - previous loss\n",
    "* `epsilon` to $10^{-3}$ - limiter of change\n",
    "* `n_epochs` to 12  - number of epochs\n",
    "* `n_batches` to 5 - number of batches\n",
    "* `epoch`to 0 - current epoch number\n",
    "\n",
    "**Train procedure**\n",
    "\n",
    "While change > epsilon or current epoch < number of epochs or last loss > 0.15  \n",
    "then for each batch:\n",
    "* make forward step, \n",
    "* append to `losses` current loss\n",
    "* calculate `change`\n",
    "* set `last` to current loss  \n",
    "At the end of batch loop increment `epoch`."
   ]
  },
  {
   "cell_type": "code",
   "execution_count": null,
   "metadata": {
    "colab": {
     "base_uri": "https://localhost:8080/",
     "height": 1000
    },
    "executionInfo": {
     "elapsed": 7563,
     "status": "ok",
     "timestamp": 1660203339191,
     "user": {
      "displayName": "Branko Žitko",
      "userId": "04777374732866690844"
     },
     "user_tz": -120
    },
    "id": "7vG8dmtJfEiN",
    "outputId": "20b35147-e0e5-46ff-d3d8-b96cbdb573e2",
    "scrolled": true
   },
   "outputs": [],
   "source": []
  },
  {
   "cell_type": "markdown",
   "metadata": {},
   "source": [
    "Plot losses"
   ]
  },
  {
   "cell_type": "code",
   "execution_count": null,
   "metadata": {},
   "outputs": [],
   "source": []
  },
  {
   "cell_type": "markdown",
   "metadata": {},
   "source": [
    "# 2.3 Evaluate\n",
    "\n",
    "Evaluate model on static data. calculate accuracy, precission, recall and f1. Printout confusion matrix.\n",
    "\n",
    "Note: You can use `scikitlearn.metrics`"
   ]
  },
  {
   "cell_type": "code",
   "execution_count": null,
   "metadata": {},
   "outputs": [],
   "source": []
  },
  {
   "cell_type": "markdown",
   "metadata": {},
   "source": [
    "plot ROC curve"
   ]
  },
  {
   "cell_type": "code",
   "execution_count": null,
   "metadata": {},
   "outputs": [],
   "source": []
  },
  {
   "cell_type": "markdown",
   "metadata": {},
   "source": [
    "# 2.4. Interspect\n",
    "\n",
    "Determine learnt weights and compare them to `W` and `B` parameters used for generating toy data."
   ]
  },
  {
   "cell_type": "code",
   "execution_count": null,
   "metadata": {},
   "outputs": [],
   "source": []
  },
  {
   "cell_type": "code",
   "execution_count": null,
   "metadata": {},
   "outputs": [],
   "source": []
  }
 ],
 "metadata": {
  "colab": {
   "authorship_tag": "ABX9TyMCcdqPAojc58imbCCRsEo6",
   "collapsed_sections": [],
   "name": "nlp p02.1 perceptron toy.ipynb",
   "provenance": []
  },
  "kernelspec": {
   "display_name": "Python 3 (ipykernel)",
   "language": "python",
   "name": "python3"
  },
  "language_info": {
   "codemirror_mode": {
    "name": "ipython",
    "version": 3
   },
   "file_extension": ".py",
   "mimetype": "text/x-python",
   "name": "python",
   "nbconvert_exporter": "python",
   "pygments_lexer": "ipython3",
   "version": "3.8.13"
  }
 },
 "nbformat": 4,
 "nbformat_minor": 1
}
