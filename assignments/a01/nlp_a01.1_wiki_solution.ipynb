{
 "cells": [
  {
   "cell_type": "code",
   "execution_count": 1,
   "id": "fcae7603",
   "metadata": {},
   "outputs": [],
   "source": [
    "import os\n",
    "\n",
    "download_name = \"wiki.train.tokens.bz2\"\n",
    "if not os.path.exists(download_name):\n",
    "    import requests\n",
    "    response = requests.get(f\"https://raw.githubusercontent.com/bzitko/nlp_repo/main/assignments/a01/{download_name}\")\n",
    "    with open(download_name, \"wb\") as fp:\n",
    "        fp.write(response.content)\n",
    "    response.close()\n",
    "        \n",
    "name = \"wiki.train.tokens\"\n",
    "if not os.path.exists(name):\n",
    "    import bz2\n",
    "    with open(download_name, 'rb') as bzf, open(name, 'wb') as fp:\n",
    "        fp.write(bz2.decompress(bzf.read()))    "
   ]
  },
  {
   "cell_type": "code",
   "execution_count": 2,
   "id": "7560f63c",
   "metadata": {},
   "outputs": [],
   "source": [
    "import matplotlib.pyplot as plt\n",
    "from collections import Counter"
   ]
  },
  {
   "cell_type": "markdown",
   "id": "d4b52b8c",
   "metadata": {},
   "source": [
    "# 1. Read data\n",
    "\n",
    "Filename \"wiki.train.tokens\" contains token-prepared text from Wikipedia. Store each line of file content into the list."
   ]
  },
  {
   "cell_type": "code",
   "execution_count": 3,
   "id": "2903a1f6",
   "metadata": {
    "scrolled": false
   },
   "outputs": [],
   "source": [
    "with open('wiki.train.tokens', encoding=\"utf8\") as fp:\n",
    "    wikitext = fp.readlines()"
   ]
  },
  {
   "cell_type": "code",
   "execution_count": 4,
   "id": "8572315d",
   "metadata": {},
   "outputs": [
    {
     "data": {
      "text/plain": [
       "' A common comment on the novel is the graphic nature of the many acts of torture and murder which are depicted in the novel . Vargas lets the reader see the <unk> of an oppressive regime with a degree of detail not often used by his <unk> in Latin American literature , as Michael Wood suggests in the London Review of Books : \" Vargas Llosa ... tells us far more about the details of day @-@ to @-@ day intrigue , and the <unk> , sadistic <unk> of torture and murder . \" Walter Kirn of the New York Times suggests that the \" <unk> scenes of dungeon <unk> and torture sessions \" cast other aspects of the novel in a pale light , draining them of their significance and impact . Similarly , Kirn implies that the \" narrative machinery \" mentioned by Wood as being somewhat unwieldy also produces a largely superfluous storyline . The plot line centered on Urania Cabral is described by <unk> as being an emotional centre that focuses the novel , and Wood agrees that her confrontations with past demons hold the readers attention . In contrast , Kirn \\'s review states that Urania \\'s segments are \" <unk> and atmospheric ... [ and ] seem to be on loan from another sort of book . \" \\n'"
      ]
     },
     "execution_count": 4,
     "metadata": {},
     "output_type": "execute_result"
    }
   ],
   "source": [
    "wikitext[1234]"
   ]
  },
  {
   "cell_type": "markdown",
   "id": "7449d31c",
   "metadata": {},
   "source": [
    "# 2. Tokenization\n",
    "\n",
    "Create function *tokenize* which: \n",
    "* for a given lines of string \n",
    "* returns list of tokens"
   ]
  },
  {
   "cell_type": "code",
   "execution_count": 5,
   "id": "e68e7d75",
   "metadata": {},
   "outputs": [],
   "source": [
    "def tokenize(lines):\n",
    "    for line in lines:\n",
    "        for token in line.rstrip().split():\n",
    "            yield token "
   ]
  },
  {
   "cell_type": "markdown",
   "id": "4e756366",
   "metadata": {},
   "source": [
    "# 3. Heaps' law\n",
    "\n",
    "Empirical law.\n",
    "\n",
    "* $N$ = numbers of tokens\n",
    "* $V$ = vocabulaty size\n",
    "\n",
    "$V = k N^{\\beta}$ where:\n",
    "* $k$ is between 10 and 100\n",
    "* $\\beta$ is between 0.4 and 0.6\n",
    "\n",
    "First determine and print $N$ and $V$, then for each $k$ between 10 and 100 print $k$ and corresponding $\\beta$.\n"
   ]
  },
  {
   "cell_type": "code",
   "execution_count": 6,
   "id": "e0fe1234",
   "metadata": {},
   "outputs": [
    {
     "name": "stdout",
     "output_type": "stream",
     "text": [
      "N=2051910, V = 33277\n",
      "\n",
      "k=10, beta = 0.558\n",
      "k=20, beta = 0.510\n",
      "k=30, beta = 0.482\n",
      "k=40, beta = 0.463\n",
      "k=50, beta = 0.447\n",
      "k=60, beta = 0.435\n",
      "k=70, beta = 0.424\n",
      "k=80, beta = 0.415\n",
      "k=90, beta = 0.407\n"
     ]
    }
   ],
   "source": [
    "N = sum(1 for t in tokenize(wikitext))\n",
    "V = len(set(tokenize(wikitext)))\n",
    "\n",
    "\n",
    "print(f\"N={N}, V = {V}\\n\")\n",
    "\n",
    "import math\n",
    "\n",
    "for k in range(10, 100, 10):\n",
    "    beta = (math.log(V) - math.log(k)) / math.log(N)\n",
    "    print(f\"k={k}, beta = {beta:.3f}\")"
   ]
  },
  {
   "cell_type": "markdown",
   "id": "f7652adb",
   "metadata": {},
   "source": [
    "# 3. Word-to-index mapping\n",
    "\n",
    "Create two dictionaries:\n",
    "* w2i - that maps word to index and (index can be cummulative determined by the size of current dictionary)\n",
    "* i2w - that maps index to word"
   ]
  },
  {
   "cell_type": "code",
   "execution_count": 7,
   "id": "ddfc31ab",
   "metadata": {},
   "outputs": [],
   "source": [
    "w2i = {}\n",
    "for token in tokenize(wikitext):\n",
    "    if token not in w2i:\n",
    "        w2i[token] = len(w2i) \n",
    "        \n",
    "        \n",
    "i2w = {i: w for w, i in w2i.items()}\n",
    "\n",
    "assert i2w[w2i[\"language\"]] == \"language\""
   ]
  },
  {
   "cell_type": "markdown",
   "id": "15762d4c",
   "metadata": {},
   "source": [
    "# 4. Word counter\n",
    "\n",
    "\n",
    "`Counter` class from `collections` module can be used  for counting frequencies of words\n",
    "`from collections import Counter`"
   ]
  },
  {
   "cell_type": "code",
   "execution_count": 8,
   "id": "d41ba258",
   "metadata": {
    "scrolled": true
   },
   "outputs": [],
   "source": [
    "from collections import Counter\n",
    "\n",
    "counter = Counter(tokenize(wikitext)) "
   ]
  },
  {
   "cell_type": "code",
   "execution_count": 9,
   "id": "c88c5a47",
   "metadata": {},
   "outputs": [
    {
     "data": {
      "text/plain": [
       "[('the', 113161),\n",
       " (',', 99913),\n",
       " ('.', 73388),\n",
       " ('of', 56889),\n",
       " ('<unk>', 54625),\n",
       " ('and', 50603),\n",
       " ('in', 39453),\n",
       " ('to', 39190),\n",
       " ('a', 34237),\n",
       " ('=', 29570)]"
      ]
     },
     "execution_count": 9,
     "metadata": {},
     "output_type": "execute_result"
    }
   ],
   "source": [
    "counter.most_common(10)"
   ]
  },
  {
   "cell_type": "markdown",
   "id": "17b2f7f6",
   "metadata": {},
   "source": [
    "Make plot where:\n",
    "* x axis represents words sorted by their frequency\n",
    "* y axis are word frequencies (in log scale)"
   ]
  },
  {
   "cell_type": "code",
   "execution_count": 10,
   "id": "8f15d8ca",
   "metadata": {},
   "outputs": [
    {
     "data": {
      "image/png": "[encoded data removed]",
      "text/plain": [
       "<Figure size 640x480 with 1 Axes>"
      ]
     },
     "metadata": {},
     "output_type": "display_data"
    }
   ],
   "source": [
    "freqs = sorted(counter.values(), reverse=True)\n",
    "plt.yscale(\"log\")\n",
    "plt.ylabel(\"Frequency\")\n",
    "plt.plot(range(len(freqs)), freqs)\n",
    "plt.show()\n"
   ]
  },
  {
   "cell_type": "markdown",
   "id": "27605db4",
   "metadata": {},
   "source": [
    "# 5. Zipf's law\n",
    "\n",
    "Empirical law:\n",
    "* r - rank of the word\n",
    "* f - frequency of the word\n",
    "\n",
    "$f \\propto \\frac{1}{r}$ \n",
    "\n",
    "Make plot where:\n",
    "* x axis represents words sorted by frequencies (use log scale for this axis) and\n",
    "* y axis are frequencies (use log scale for this axis)"
   ]
  },
  {
   "cell_type": "code",
   "execution_count": 11,
   "id": "1c2e9ad4",
   "metadata": {},
   "outputs": [
    {
     "data": {
      "image/png": "[encoded data removed]",
      "text/plain": [
       "<Figure size 640x480 with 1 Axes>"
      ]
     },
     "metadata": {},
     "output_type": "display_data"
    }
   ],
   "source": [
    "words, counts = zip(*counter.most_common())\n",
    "\n",
    "plt.xscale('log')\n",
    "plt.xlabel('Rank')\n",
    "plt.yscale('log')\n",
    "plt.ylabel('Frequency')\n",
    "plt.plot(range(len(words)), counts)\n",
    "plt.show() "
   ]
  },
  {
   "cell_type": "code",
   "execution_count": null,
   "id": "87e5004b",
   "metadata": {
    "scrolled": true
   },
   "outputs": [],
   "source": []
  }
 ],
 "metadata": {
  "kernelspec": {
   "display_name": "Python 3.8.13 ('nlp')",
   "language": "python",
   "name": "python3"
  },
  "language_info": {
   "codemirror_mode": {
    "name": "ipython",
    "version": 3
   },
   "file_extension": ".py",
   "mimetype": "text/x-python",
   "name": "python",
   "nbconvert_exporter": "python",
   "pygments_lexer": "ipython3",
   "version": "3.8.13"
  },
  "vscode": {
   "interpreter": {
    "hash": "358f19b5168dcc2c817c22e8ae2c189228565b53de3b91095ee770a390daccdd"
   }
  }
 },
 "nbformat": 4,
 "nbformat_minor": 5
}
