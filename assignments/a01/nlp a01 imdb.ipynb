{
 "cells": [
  {
   "cell_type": "code",
   "execution_count": 1,
   "id": "fcae7603",
   "metadata": {},
   "outputs": [],
   "source": [
    "from zipfile import ZipFile\n",
    "import pandas as pd\n",
    "\n",
    "import torch\n",
    "import matplotlib.pyplot as plt\n",
    "from sklearn.feature_extraction.text import TfidfVectorizer, CountVectorizer\n",
    "from collections import Counter\n",
    "from itertools import chain"
   ]
  },
  {
   "cell_type": "markdown",
   "id": "d4b52b8c",
   "metadata": {},
   "source": [
    "# 1. Read data\n",
    "\n",
    "Archive \"imdb.zip\" contains 1000 text files with positive movie reviews and 1000 text files with negative movie reviews. Filename in this .zip is in shape of \"pos/pos009_29592.txt\".  \n",
    "Return dictionary with keys \"pos\" and \"neg\" where value of \"pos\" is a list of text filename content sorted by filename."
   ]
  },
  {
   "cell_type": "code",
   "execution_count": 2,
   "id": "2903a1f6",
   "metadata": {
    "scrolled": false
   },
   "outputs": [],
   "source": [
    "PATH = \"data/imdb\""
   ]
  },
  {
   "cell_type": "markdown",
   "id": "2cef7d1b",
   "metadata": {},
   "source": [
    "# 1.  Read stop words\n",
    "\n",
    "Path \"data/stopwords.txt\" contains english stop words.  \n",
    "Read stopwords from file and store them in a set."
   ]
  },
  {
   "cell_type": "code",
   "execution_count": null,
   "id": "e68e7d75",
   "metadata": {},
   "outputs": [],
   "source": []
  },
  {
   "cell_type": "markdown",
   "id": "7449d31c",
   "metadata": {},
   "source": [
    "# 2. Tokenization\n",
    "\n",
    "Create function *tokenize* which: \n",
    "* for a given text \n",
    "* returns list of tokens in lower cases (token can contain only letters)"
   ]
  },
  {
   "cell_type": "code",
   "execution_count": null,
   "id": "d41ba258",
   "metadata": {
    "scrolled": true
   },
   "outputs": [],
   "source": []
  },
  {
   "cell_type": "markdown",
   "id": "15762d4c",
   "metadata": {},
   "source": [
    "# 3. Word counter\n",
    "\n",
    "Create function *make_counter* which: \n",
    "* receives corpus (a list of strings) and set of stopwords,\n",
    "* tokenize each string, \n",
    "* remove stop words and \n",
    "* returns dictionary whose keys are tokens and values frequencies.\n",
    "\n",
    "Note: `Counter` class from `collections` module can be used  \n",
    "`from collections import Counter`"
   ]
  },
  {
   "cell_type": "code",
   "execution_count": null,
   "id": "c88c5a47",
   "metadata": {},
   "outputs": [],
   "source": []
  },
  {
   "cell_type": "markdown",
   "id": "da3a071c",
   "metadata": {},
   "source": [
    "# 4. Term frequency - inverse term frequency\n",
    "\n",
    "Create function *make_tfidf* which: \n",
    "* receives corpus and stopwords, and\n",
    "* returns tensor whose size is #doc x #words\n",
    "\n",
    "Note: Use `TfidfVectorizer` from `sklearn.feature_extraction.text`.  \n",
    "Instantiate `TfidfVectorizer` by setting `stop_words` and `tokenizer` arguments.\n"
   ]
  },
  {
   "cell_type": "code",
   "execution_count": null,
   "id": "fa8358b2",
   "metadata": {},
   "outputs": [],
   "source": []
  },
  {
   "cell_type": "markdown",
   "id": "5b77de47",
   "metadata": {},
   "source": [
    "## 5.1. Most common words\n",
    "\n",
    "Count words from positive and negative reviews by using `make_counter`.  \n",
    "List top ten most common words."
   ]
  },
  {
   "cell_type": "code",
   "execution_count": null,
   "id": "0258b34f",
   "metadata": {},
   "outputs": [],
   "source": []
  },
  {
   "cell_type": "markdown",
   "id": "27605db4",
   "metadata": {},
   "source": [
    "## 5.2. Plot word frequencies\n",
    "\n",
    "Make scatter plot where:\n",
    "* x axis represents words sorted by frequencies and\n",
    "* y axis are frequencies (use log scale for this axis)"
   ]
  },
  {
   "cell_type": "code",
   "execution_count": null,
   "id": "1c2e9ad4",
   "metadata": {},
   "outputs": [],
   "source": []
  },
  {
   "cell_type": "markdown",
   "id": "09615576",
   "metadata": {},
   "source": [
    "## 6.1. TF-IDF tensor\n",
    "\n",
    "Make TF-IDF tensor for positive and negative reviews. Tensor must have 2000 rows (1000 positive and 1000 negative reviews).  \n",
    "Calculate ratio of non-zero values in the TF-IDF tensor."
   ]
  },
  {
   "cell_type": "code",
   "execution_count": null,
   "id": "3bac1c6e",
   "metadata": {},
   "outputs": [],
   "source": []
  },
  {
   "cell_type": "markdown",
   "id": "c5ea6506",
   "metadata": {},
   "source": [
    "## 6.2. TF-IDF tensor slicing"
   ]
  },
  {
   "cell_type": "markdown",
   "id": "978cfeed",
   "metadata": {},
   "source": [
    "Create two tensors, one for positive and one for negative reviews by slicing previously made TF-IDF tensor of both reviews."
   ]
  },
  {
   "cell_type": "code",
   "execution_count": null,
   "id": "48bd9d7f",
   "metadata": {},
   "outputs": [],
   "source": []
  },
  {
   "cell_type": "markdown",
   "id": "c1e6dd23",
   "metadata": {},
   "source": [
    "## 6.3. Similarity\n",
    "\n",
    "Create similarity tensor whose (i, j) value is cosine similarity of i-th positive review and j-th negative review.  \n",
    "Cosine similarity between two vectors $u$ and $v$ is \n",
    "$$cos(u, v) = \\frac{uv}{\\lVert u \\rVert \\lVert v \\rVert} = \\frac{\\sum_{i=1}^{n} u_i v_i}{\\sqrt{\\sum_{i=1}^{n} u_i^2} \\sqrt{\\sum_{i=1}^{n} v_i^2}}$$"
   ]
  },
  {
   "cell_type": "code",
   "execution_count": null,
   "id": "d22ec5f4",
   "metadata": {},
   "outputs": [],
   "source": []
  },
  {
   "cell_type": "markdown",
   "id": "5db5cb6b",
   "metadata": {},
   "source": [
    "## 6.4. Most similar positive and negative review\n",
    "\n",
    "Find most similar positive and negative review. \n",
    "Print their sorted tokenized text without stopwords."
   ]
  },
  {
   "cell_type": "code",
   "execution_count": null,
   "id": "87e5004b",
   "metadata": {
    "scrolled": true
   },
   "outputs": [],
   "source": []
  }
 ],
 "metadata": {
  "kernelspec": {
   "display_name": "Python 3",
   "language": "python",
   "name": "python3"
  },
  "language_info": {
   "codemirror_mode": {
    "name": "ipython",
    "version": 3
   },
   "file_extension": ".py",
   "mimetype": "text/x-python",
   "name": "python",
   "nbconvert_exporter": "python",
   "pygments_lexer": "ipython3",
   "version": "3.8.5"
  }
 },
 "nbformat": 4,
 "nbformat_minor": 5
}
