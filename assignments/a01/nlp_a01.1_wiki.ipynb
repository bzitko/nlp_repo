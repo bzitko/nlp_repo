{
 "cells": [
  {
   "cell_type": "code",
   "execution_count": null,
   "id": "fcae7603",
   "metadata": {},
   "outputs": [],
   "source": [
    "import os\n",
    "\n",
    "download_name = \"wiki.train.tokens.bz2\"\n",
    "if not os.path.exists(download_name):\n",
    "    import requests\n",
    "    response = requests.get(f\"https://raw.githubusercontent.com/bzitko/nlp_repo/main/assignments/a01/{download_name}\")\n",
    "    with open(download_name, \"wb\") as fp:\n",
    "        fp.write(response.content)\n",
    "    response.close()\n",
    "        \n",
    "name = \"wiki.train.tokens\"\n",
    "if not os.path.exists(name):\n",
    "    import bz2\n",
    "    with open(download_name, 'rb') as bzf, open(name, 'wb') as fp:\n",
    "        fp.write(bz2.decompress(bzf.read()))    "
   ]
  },
  {
   "cell_type": "code",
   "execution_count": null,
   "id": "2d272e7d",
   "metadata": {},
   "outputs": [],
   "source": [
    "import matplotlib.pyplot as plt\n",
    "from collections import Counter"
   ]
  },
  {
   "cell_type": "markdown",
   "id": "d4b52b8c",
   "metadata": {},
   "source": [
    "# 1. Read data\n",
    "\n",
    "Filename \"wiki.train.tokens\" contains token-prepared text from Wikipedia. Store each line of file content into the list."
   ]
  },
  {
   "cell_type": "code",
   "execution_count": null,
   "id": "8572315d",
   "metadata": {},
   "outputs": [],
   "source": []
  },
  {
   "cell_type": "markdown",
   "id": "7449d31c",
   "metadata": {},
   "source": [
    "# 2. Tokenization\n",
    "\n",
    "Create function *tokenize* which: \n",
    "* for a given lines of string \n",
    "* returns list of tokens"
   ]
  },
  {
   "cell_type": "code",
   "execution_count": null,
   "id": "e68e7d75",
   "metadata": {},
   "outputs": [],
   "source": []
  },
  {
   "cell_type": "markdown",
   "id": "4e756366",
   "metadata": {},
   "source": [
    "# 3. Heaps' law\n",
    "\n",
    "Empirical law.\n",
    "\n",
    "* $N$ = numbers of tokens\n",
    "* $V$ = vocabulaty size\n",
    "\n",
    "$V = k N^{\\beta}$ where:\n",
    "* $k$ is between 10 and 100\n",
    "* $\\beta$ is between 0.67 and 0.75\n",
    "\n",
    "First determine and print $N$ and $V$, then for each $k$ between 10 and 100 print $k$ and corresponding $\\beta$.\n"
   ]
  },
  {
   "cell_type": "code",
   "execution_count": null,
   "id": "e0fe1234",
   "metadata": {},
   "outputs": [],
   "source": []
  },
  {
   "cell_type": "markdown",
   "id": "f7652adb",
   "metadata": {},
   "source": [
    "# 3. Word-to-index mapping\n",
    "\n",
    "Create two dictionaries:\n",
    "* w2i - that maps word to index and (index can be cummulative determined by the size of current dictionary)\n",
    "* i2w - that maps index to word"
   ]
  },
  {
   "cell_type": "code",
   "execution_count": null,
   "id": "ddfc31ab",
   "metadata": {},
   "outputs": [],
   "source": []
  },
  {
   "cell_type": "markdown",
   "id": "15762d4c",
   "metadata": {},
   "source": [
    "# 4. Word counter\n",
    "\n",
    "\n",
    "`Counter` class from `collections` module can be used  for counting frequencies of words\n",
    "`from collections import Counter`"
   ]
  },
  {
   "cell_type": "code",
   "execution_count": null,
   "id": "c88c5a47",
   "metadata": {},
   "outputs": [],
   "source": []
  },
  {
   "cell_type": "markdown",
   "id": "27605db4",
   "metadata": {},
   "source": [
    "# 5. Zipf's law\n",
    "\n",
    "Empirical law:\n",
    "* r - rank of the word\n",
    "* f - frequency of the word\n",
    "\n",
    "$f \\propto \\frac{1}{r}$ \n",
    "\n",
    "Make plot where:\n",
    "* x axis represents words sorted by frequencies (use log scale for this axis) and\n",
    "* y axis are frequencies (use log scale for this axis)"
   ]
  },
  {
   "cell_type": "code",
   "execution_count": null,
   "id": "1c2e9ad4",
   "metadata": {},
   "outputs": [],
   "source": []
  }
 ],
 "metadata": {
  "kernelspec": {
   "display_name": "Python 3 (ipykernel)",
   "language": "python",
   "name": "python3"
  },
  "language_info": {
   "codemirror_mode": {
    "name": "ipython",
    "version": 3
   },
   "file_extension": ".py",
   "mimetype": "text/x-python",
   "name": "python",
   "nbconvert_exporter": "python",
   "pygments_lexer": "ipython3",
   "version": "3.8.13"
  }
 },
 "nbformat": 4,
 "nbformat_minor": 5
}
