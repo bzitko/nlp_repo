{
 "cells": [
  {
   "cell_type": "code",
   "execution_count": 5,
   "metadata": {},
   "outputs": [],
   "source": [
    "import torch\n",
    "import torch.nn.functional as F\n",
    "\n",
    "from helper import look\n",
    "\n",
    "import pandas as pd\n",
    "\n",
    "import svgling"
   ]
  },
  {
   "cell_type": "markdown",
   "metadata": {},
   "source": [
    "# Data"
   ]
  },
  {
   "cell_type": "code",
   "execution_count": 6,
   "metadata": {},
   "outputs": [
    {
     "data": {
      "text/html": [
       "<div>\n",
       "<style scoped>\n",
       "    .dataframe tbody tr th:only-of-type {\n",
       "        vertical-align: middle;\n",
       "    }\n",
       "\n",
       "    .dataframe tbody tr th {\n",
       "        vertical-align: top;\n",
       "    }\n",
       "\n",
       "    .dataframe thead th {\n",
       "        text-align: right;\n",
       "    }\n",
       "</style>\n",
       "<table border=\"1\" class=\"dataframe\">\n",
       "  <thead>\n",
       "    <tr style=\"text-align: right;\">\n",
       "      <th></th>\n",
       "      <th>word</th>\n",
       "      <th>freq</th>\n",
       "      <th>prob</th>\n",
       "    </tr>\n",
       "  </thead>\n",
       "  <tbody>\n",
       "    <tr>\n",
       "      <th>0</th>\n",
       "      <td>A</td>\n",
       "      <td>21</td>\n",
       "      <td>0.164062</td>\n",
       "    </tr>\n",
       "    <tr>\n",
       "      <th>1</th>\n",
       "      <td>B</td>\n",
       "      <td>53</td>\n",
       "      <td>0.414062</td>\n",
       "    </tr>\n",
       "    <tr>\n",
       "      <th>2</th>\n",
       "      <td>C</td>\n",
       "      <td>40</td>\n",
       "      <td>0.312500</td>\n",
       "    </tr>\n",
       "    <tr>\n",
       "      <th>3</th>\n",
       "      <td>D</td>\n",
       "      <td>14</td>\n",
       "      <td>0.109375</td>\n",
       "    </tr>\n",
       "  </tbody>\n",
       "</table>\n",
       "</div>"
      ],
      "text/plain": [
       "  word  freq      prob\n",
       "0    A    21  0.164062\n",
       "1    B    53  0.414062\n",
       "2    C    40  0.312500\n",
       "3    D    14  0.109375"
      ]
     },
     "execution_count": 6,
     "metadata": {},
     "output_type": "execute_result"
    }
   ],
   "source": [
    "LETTERS = \"ABCD\"\n",
    "N = len(LETTERS)\n",
    "\n",
    "freqs = torch.randint(1, 100, size=(N,))\n",
    "probs = freqs / sum(freqs)\n",
    "model = dict(zip(LETTERS, map(float, probs)))\n",
    "\n",
    "pd.DataFrame(zip(LETTERS, map(int, freqs), map(float, probs)), \n",
    "             columns=[\"word\", \"freq\", \"prob\"])"
   ]
  },
  {
   "cell_type": "markdown",
   "metadata": {},
   "source": [
    "# Hufmann build tree"
   ]
  },
  {
   "cell_type": "code",
   "execution_count": 22,
   "metadata": {},
   "outputs": [
    {
     "data": {
      "text/markdown": [
       "Letters sorted by probability: B C A D"
      ],
      "text/plain": [
       "<IPython.core.display.Markdown object>"
      ]
     },
     "metadata": {},
     "output_type": "display_data"
    },
    {
     "data": {
      "text/markdown": [
       "Resulting tree: (B ((D A) C))"
      ],
      "text/plain": [
       "<IPython.core.display.Markdown object>"
      ]
     },
     "metadata": {},
     "output_type": "display_data"
    },
    {
     "name": "stdout",
     "output_type": "stream",
     "text": [
      "('B', (('D', 'A'), 'C'))\n"
     ]
    },
    {
     "data": {
      "image/svg+xml": "<svg baseProfile=\"full\" height=\"168px\" preserveAspectRatio=\"xMidYMid meet\" style=\"font-family: times, serif; font-weight:normal; font-style: normal; font-size: 16px;\" version=\"1.1\" viewBox=\"0,0,256.0,168.0\" width=\"256px\" xmlns=\"http://www.w3.org/2000/svg\" xmlns:ev=\"http://www.w3.org/2001/xml-events\" xmlns:xlink=\"http://www.w3.org/1999/xlink\"><defs /><svg width=\"100%\" x=\"0\" y=\"0em\"><defs /><text text-anchor=\"middle\" x=\"50%\" y=\"1em\">.</text></svg><svg width=\"28.125%\" x=\"0%\" y=\"3em\"><defs /><svg width=\"100%\" x=\"0\" y=\"0em\"><defs /><text text-anchor=\"middle\" x=\"50%\" y=\"1em\">B 0.414</text></svg></svg><line stroke=\"black\" x1=\"50%\" x2=\"14.0625%\" y1=\"1.2em\" y2=\"3em\" /><svg width=\"71.875%\" x=\"28.125%\" y=\"3em\"><defs /><svg width=\"100%\" x=\"0\" y=\"0em\"><defs /><text text-anchor=\"middle\" x=\"50%\" y=\"1em\">.</text></svg><svg width=\"60.8696%\" x=\"0%\" y=\"3em\"><defs /><svg width=\"100%\" x=\"0\" y=\"0em\"><defs /><text text-anchor=\"middle\" x=\"50%\" y=\"1em\">.</text></svg><svg width=\"50%\" x=\"0%\" y=\"3em\"><defs /><svg width=\"100%\" x=\"0\" y=\"0em\"><defs /><text text-anchor=\"middle\" x=\"50%\" y=\"1em\">D 0.4</text></svg></svg><line stroke=\"black\" x1=\"50%\" x2=\"25%\" y1=\"1.2em\" y2=\"3em\" /><svg width=\"50%\" x=\"50%\" y=\"3em\"><defs /><svg width=\"100%\" x=\"0\" y=\"0em\"><defs /><text text-anchor=\"middle\" x=\"50%\" y=\"1em\">A 0.6</text></svg></svg><line stroke=\"black\" x1=\"50%\" x2=\"75%\" y1=\"1.2em\" y2=\"3em\" /></svg><line stroke=\"black\" x1=\"50%\" x2=\"30.4348%\" y1=\"1.2em\" y2=\"3em\" /><svg width=\"39.1304%\" x=\"60.8696%\" y=\"3em\"><defs /><svg width=\"100%\" x=\"0\" y=\"0em\"><defs /><text text-anchor=\"middle\" x=\"50%\" y=\"1em\">C 0.533</text></svg></svg><line stroke=\"black\" x1=\"50%\" x2=\"80.4348%\" y1=\"1.2em\" y2=\"3em\" /></svg><line stroke=\"black\" x1=\"50%\" x2=\"64.0625%\" y1=\"1.2em\" y2=\"3em\" /></svg>",
      "text/plain": [
       "TreeLayout(('.', 'B 0.414', ('.', ('.', 'D 0.4', 'A 0.6'), 'C 0.533')))"
      ]
     },
     "metadata": {},
     "output_type": "display_data"
    },
    {
     "name": "stdout",
     "output_type": "stream",
     "text": [
      "{'B': 0.4140625, (('D', 'A'), 'C'): 0.5859375, ('D', 'A'): 0.4666666666666667, 'C': 0.5333333333333333, 'D': 0.4, 'A': 0.6}\n"
     ]
    },
    {
     "data": {
      "text/html": [
       "<div>\n",
       "<style scoped>\n",
       "    .dataframe tbody tr th:only-of-type {\n",
       "        vertical-align: middle;\n",
       "    }\n",
       "\n",
       "    .dataframe tbody tr th {\n",
       "        vertical-align: top;\n",
       "    }\n",
       "\n",
       "    .dataframe thead th {\n",
       "        text-align: right;\n",
       "    }\n",
       "</style>\n",
       "<table border=\"1\" class=\"dataframe\">\n",
       "  <thead>\n",
       "    <tr style=\"text-align: right;\">\n",
       "      <th></th>\n",
       "      <th>w</th>\n",
       "      <th>freq</th>\n",
       "      <th>prob</th>\n",
       "      <th>code</th>\n",
       "      <th>bits</th>\n",
       "    </tr>\n",
       "  </thead>\n",
       "  <tbody>\n",
       "    <tr>\n",
       "      <th>0</th>\n",
       "      <td>A</td>\n",
       "      <td>21</td>\n",
       "      <td>0.164062</td>\n",
       "      <td>1 0 1</td>\n",
       "      <td>0.492188</td>\n",
       "    </tr>\n",
       "    <tr>\n",
       "      <th>1</th>\n",
       "      <td>B</td>\n",
       "      <td>53</td>\n",
       "      <td>0.414062</td>\n",
       "      <td>0</td>\n",
       "      <td>0.414062</td>\n",
       "    </tr>\n",
       "    <tr>\n",
       "      <th>2</th>\n",
       "      <td>C</td>\n",
       "      <td>40</td>\n",
       "      <td>0.312500</td>\n",
       "      <td>1 1</td>\n",
       "      <td>0.625000</td>\n",
       "    </tr>\n",
       "    <tr>\n",
       "      <th>3</th>\n",
       "      <td>D</td>\n",
       "      <td>14</td>\n",
       "      <td>0.109375</td>\n",
       "      <td>1 0 0</td>\n",
       "      <td>0.328125</td>\n",
       "    </tr>\n",
       "  </tbody>\n",
       "</table>\n",
       "</div>"
      ],
      "text/plain": [
       "   w  freq      prob   code      bits\n",
       "0  A    21  0.164062  1 0 1  0.492188\n",
       "1  B    53  0.414062      0  0.414062\n",
       "2  C    40  0.312500    1 1  0.625000\n",
       "3  D    14  0.109375  1 0 0  0.328125"
      ]
     },
     "execution_count": 22,
     "metadata": {},
     "output_type": "execute_result"
    }
   ],
   "source": [
    "stack = sorted(model, key=model.get, reverse=True)\n",
    "\n",
    "look(\"Letters sorted by probability:\",\" \".join(ch for ch in stack))\n",
    "\n",
    "def compute_prob(node, model):\n",
    "    if isinstance(node, str):\n",
    "        return model[node]\n",
    "    else:\n",
    "        return sum(compute_prob(subnode, model) \n",
    "                   for subnode in node)\n",
    "\n",
    "tree = stack.pop()\n",
    "p_tree = model[tree]\n",
    "while stack:\n",
    "    node = stack.pop()\n",
    "    p_node = model[node]\n",
    "\n",
    "    if p_node < p_tree:\n",
    "        tree = (node, tree)\n",
    "    else:\n",
    "        tree = (tree, node)\n",
    "    p_tree += p_node\n",
    "\n",
    "look(\"Resulting tree:\",str(tree).replace(\",\", \"\").replace(\"'\", \"\"))\n",
    "#svgling.draw_tree(tree)\n",
    "print(tree)\n",
    "svgling.draw_tree((\"S\", (\"NP\", (\"D\", \"the\"), (\"N\", \"elephant\")), (\"VP\", (\"V\", \"saw\"), (\"NP\", (\"D\", \"the\"), (\"N\", \"rhinoceros\")))))\n",
    "\n",
    "codes = {}\n",
    "branch_probs = {}\n",
    "\n",
    "stack = [(tree, [])]\n",
    "while stack:\n",
    "    node, path = stack.pop()\n",
    "    if isinstance(node, str):\n",
    "        codes[node] = path\n",
    "    elif len(node) == 1:\n",
    "        branch_probs[node[0]] = 1.\n",
    "\n",
    "        stack.append((node[0], path + [1]))\n",
    "    else:\n",
    "        left, right = node\n",
    "        p_left = compute_prob(left, model)\n",
    "        p_right = compute_prob(right, model)\n",
    "        \n",
    "        branch_probs[left] = p_left / (p_left + p_right)\n",
    "        branch_probs[right] = p_right / (p_left + p_right)\n",
    "\n",
    "        stack.append((left, path + [0]))\n",
    "        stack.append((right, path + [1]))\n",
    "\n",
    "\n",
    "display(svgling.draw_tree((\".\", f\"B {branch_probs['B']:.3}\", (\".\", (\".\", f\"D {branch_probs['D']:.3}\", f\"A {branch_probs['A']:.3}\"), f\"C {branch_probs['C']:.3}\"))))\n",
    "\n",
    "print(branch_probs)\n",
    "pd.DataFrame([(w, \n",
    "               freqs[i].item(), \n",
    "               probs[i].item(), \n",
    "               \" \".join(map(str, codes[w])),\n",
    "               probs[i].item() * len(codes[w]))\n",
    "              for i, w in enumerate(LETTERS)], \n",
    "              columns=[\"w\", \"freq\", \"prob\", \"code\", \"bits\"])\n",
    "\n",
    "\n",
    "\n"
   ]
  }
 ],
 "metadata": {
  "kernelspec": {
   "display_name": "Python 3.9.13 ('nlp')",
   "language": "python",
   "name": "python3"
  },
  "language_info": {
   "codemirror_mode": {
    "name": "ipython",
    "version": 3
   },
   "file_extension": ".py",
   "mimetype": "text/x-python",
   "name": "python",
   "nbconvert_exporter": "python",
   "pygments_lexer": "ipython3",
   "version": "3.9.13"
  },
  "orig_nbformat": 4,
  "vscode": {
   "interpreter": {
    "hash": "358f19b5168dcc2c817c22e8ae2c189228565b53de3b91095ee770a390daccdd"
   }
  }
 },
 "nbformat": 4,
 "nbformat_minor": 2
}
