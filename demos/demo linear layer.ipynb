{
 "cells": [
  {
   "cell_type": "code",
   "execution_count": 3,
   "metadata": {},
   "outputs": [],
   "source": [
    "import torch\n",
    "import matplotlib.pyplot as plt\n",
    "from helper import look"
   ]
  },
  {
   "cell_type": "markdown",
   "metadata": {},
   "source": [
    "# Linear layer\n",
    "\n",
    "Model paramers\n",
    "\n",
    "$W= \\begin{bmatrix} w_{1,1} & w_{1,2} & w_{1,3} \\\\ w_{2,1} & w_{2,2} & w_{2,3} \\end{bmatrix} =\\begin{bmatrix}0.1 & 0.2 & 0.3 \\\\ 0.4 & 0.5 & 0.6 \\end{bmatrix}$\n",
    "\n",
    "$b = \\begin{bmatrix} b_1 \\\\ b_2 \\end{bmatrix} = \\begin{bmatrix} 0.7 \\\\ 0.8 \\end{bmatrix}$\n",
    "\n",
    "Input\n",
    "\n",
    "$x = \\begin{bmatrix} x_1 \\\\ x_2 \\\\ x_3\\end{bmatrix} = \\begin{bmatrix} 10 \\\\ 20 \\\\ 30 \\end{bmatrix}$\n",
    "\n",
    "Output\n",
    "\n",
    "$y = W \\cdot x + b$\n",
    "\n",
    "Calculation\n",
    "\n",
    "$$\n",
    "\\begin{bmatrix}y_1 \\\\ y_2\\end{bmatrix} = \n",
    "\\begin{bmatrix}0.1 & 0.2 & 0.3 \\\\ 0.4 & 0.5 & 0.6 \\end{bmatrix} \n",
    "\\cdot \n",
    "\\begin{bmatrix} 10 \\\\ 20 \\\\ 30 \\end{bmatrix} \n",
    "+ \n",
    "\\begin{bmatrix} 0.7 \\\\ 0.8 \\end{bmatrix}\n",
    "=\\begin{bmatrix}(0.1 \\cdot 10 & 0.2 \\cdot 20 & 0.3 \\cdot 30) + 0.7 \\\\ (0.4 \\cdot 10 & 0.5 \\cdot 20 & 0.6 \\cdot 30) + 0.8 \\end{bmatrix} \n",
    "=\\begin{bmatrix}14.7 \\\\ 32.8 \\end{bmatrix}\n",
    " $$\n",
    "\n",
    "\n",
    "\n",
    "\n"
   ]
  },
  {
   "cell_type": "code",
   "execution_count": 17,
   "metadata": {},
   "outputs": [
    {
     "data": {
      "text/markdown": [
       "x =  $\\begin{bmatrix} 10 & 20 & 30\\end{bmatrix}$"
      ],
      "text/plain": [
       "<IPython.core.display.Markdown object>"
      ]
     },
     "metadata": {},
     "output_type": "display_data"
    },
    {
     "data": {
      "text/markdown": [
       "W =  $\\begin{bmatrix} 0.1 & 0.2 & 0.3 \\\\ 0.4 & 0.5 & 0.6\\end{bmatrix}$"
      ],
      "text/plain": [
       "<IPython.core.display.Markdown object>"
      ]
     },
     "metadata": {},
     "output_type": "display_data"
    },
    {
     "data": {
      "text/markdown": [
       "b =  $\\begin{bmatrix} 0.7 & 0.8\\end{bmatrix}$"
      ],
      "text/plain": [
       "<IPython.core.display.Markdown object>"
      ]
     },
     "metadata": {},
     "output_type": "display_data"
    },
    {
     "data": {
      "text/markdown": [
       "y by hand =  $\\begin{bmatrix} 14.7 & 32.8\\end{bmatrix}$"
      ],
      "text/plain": [
       "<IPython.core.display.Markdown object>"
      ]
     },
     "metadata": {},
     "output_type": "display_data"
    },
    {
     "data": {
      "text/markdown": [
       "y by framework =  $\\begin{bmatrix} 14.7 & 32.8\\end{bmatrix}$"
      ],
      "text/plain": [
       "<IPython.core.display.Markdown object>"
      ]
     },
     "metadata": {},
     "output_type": "display_data"
    }
   ],
   "source": [
    "W = torch.tensor([[0.1, 0.2, 0.3], \n",
    "                  [0.4, 0.5, 0.6]])\n",
    "b = torch.tensor([0.7, 0.8])\n",
    "\n",
    "layer = torch.nn.Linear(in_features=3, out_features=2)\n",
    "layer.weight.data = W\n",
    "layer.bias.data = b\n",
    "\n",
    "x = torch.tensor([10, 20, 30])\n",
    "man_y = torch.sum(x * W, dim=1) + b\n",
    "fw_y = layer(x.float())\n",
    "\n",
    "look(f\"x = \", x)\n",
    "look(f\"W = \", W)\n",
    "look(f\"b = \", b)\n",
    "\n",
    "look(f\"y by hand = \", man_y)\n",
    "look(f\"y by framework = \", fw_y)"
   ]
  },
  {
   "cell_type": "code",
   "execution_count": null,
   "metadata": {},
   "outputs": [],
   "source": []
  }
 ],
 "metadata": {
  "kernelspec": {
   "display_name": "Python 3.9.13 ('nlp')",
   "language": "python",
   "name": "python3"
  },
  "language_info": {
   "codemirror_mode": {
    "name": "ipython",
    "version": 3
   },
   "file_extension": ".py",
   "mimetype": "text/x-python",
   "name": "python",
   "nbconvert_exporter": "python",
   "pygments_lexer": "ipython3",
   "version": "3.9.13"
  },
  "orig_nbformat": 4,
  "vscode": {
   "interpreter": {
    "hash": "358f19b5168dcc2c817c22e8ae2c189228565b53de3b91095ee770a390daccdd"
   }
  }
 },
 "nbformat": 4,
 "nbformat_minor": 2
}
