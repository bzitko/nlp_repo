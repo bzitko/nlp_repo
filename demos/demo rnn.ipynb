{
 "cells": [
  {
   "cell_type": "code",
   "execution_count": null,
   "metadata": {},
   "outputs": [],
   "source": [
    "import os\n",
    "\n",
    "download_name = \"helper.py\"\n",
    "if not os.path.exists(download_name):\n",
    "    import requests\n",
    "    response = requests.get(f\"https://raw.githubusercontent.com/bzitko/nlp_repo/main/demos/{download_name}\")\n",
    "    with open(download_name, \"wb\") as fp:\n",
    "        fp.write(response.content)\n",
    "    response.close()"
   ]
  },
  {
   "cell_type": "code",
   "execution_count": 3,
   "metadata": {},
   "outputs": [],
   "source": [
    "import torch\n",
    "import numpy as np\n",
    "from helper import look"
   ]
  },
  {
   "cell_type": "markdown",
   "metadata": {},
   "source": [
    "# RNN cell single forward"
   ]
  },
  {
   "cell_type": "code",
   "execution_count": 5,
   "metadata": {},
   "outputs": [
    {
     "data": {
      "text/markdown": [
       "## RNN Cell (5x3)"
      ],
      "text/plain": [
       "<IPython.core.display.Markdown object>"
      ]
     },
     "metadata": {},
     "output_type": "display_data"
    },
    {
     "data": {
      "text/markdown": [
       "$W_{ih}=$ $\\begin{bmatrix} 0.441 & 0.479 & -0.135 & 0.53 & -0.126 \\\\ 0.117 & -0.281 & 0.339 & 0.509 & -0.424 \\\\ 0.502 & 0.108 & 0.427 & 0.0782 & 0.278\\end{bmatrix}$ $b_{ih}=$ $\\begin{bmatrix} -0.456 & -0.266 & -0.163\\end{bmatrix}$"
      ],
      "text/plain": [
       "<IPython.core.display.Markdown object>"
      ]
     },
     "metadata": {},
     "output_type": "display_data"
    },
    {
     "data": {
      "text/markdown": [
       "$W_{hh}=$ $\\begin{bmatrix} -0.0815 & 0.445 & 0.0853 \\\\ -0.27 & 0.147 & -0.266 \\\\ -0.0677 & -0.234 & 0.383\\end{bmatrix}$ $b_{hh}=$ $\\begin{bmatrix} -0.347 & 0.0545 & -0.57\\end{bmatrix}$"
      ],
      "text/plain": [
       "<IPython.core.display.Markdown object>"
      ]
     },
     "metadata": {},
     "output_type": "display_data"
    },
    {
     "data": {
      "text/markdown": [
       "## Data"
      ],
      "text/plain": [
       "<IPython.core.display.Markdown object>"
      ]
     },
     "metadata": {},
     "output_type": "display_data"
    },
    {
     "data": {
      "text/markdown": [
       "$h_0=$ $\\begin{bmatrix} 0.952 & 0.0753 & 0.886\\end{bmatrix}$"
      ],
      "text/plain": [
       "<IPython.core.display.Markdown object>"
      ]
     },
     "metadata": {},
     "output_type": "display_data"
    },
    {
     "data": {
      "text/markdown": [
       "$x_1=$ $\\begin{bmatrix} 0.583 & 0.338 & 0.809 & 0.578 & 0.904\\end{bmatrix}$"
      ],
      "text/plain": [
       "<IPython.core.display.Markdown object>"
      ]
     },
     "metadata": {},
     "output_type": "display_data"
    },
    {
     "data": {
      "text/markdown": [
       "$W_{ih} x_1 + b_{ih} =$ $\\begin{bmatrix} 0.0462 & -0.108 & 0.808\\end{bmatrix}$"
      ],
      "text/plain": [
       "<IPython.core.display.Markdown object>"
      ]
     },
     "metadata": {},
     "output_type": "display_data"
    },
    {
     "data": {
      "text/markdown": [
       "$W_{hh} x_1 + b_{hh} =$ $\\begin{bmatrix} -0.316 & -0.427 & -0.313\\end{bmatrix}$"
      ],
      "text/plain": [
       "<IPython.core.display.Markdown object>"
      ]
     },
     "metadata": {},
     "output_type": "display_data"
    },
    {
     "data": {
      "text/markdown": [
       "$h_1 = tanh(W_{ih} x_1 + b_{ih} + W_{ih} x_1 + b_{ih})=$ $\\begin{bmatrix} -0.263 & -0.489 & 0.458\\end{bmatrix}$"
      ],
      "text/plain": [
       "<IPython.core.display.Markdown object>"
      ]
     },
     "metadata": {},
     "output_type": "display_data"
    },
    {
     "data": {
      "text/markdown": [
       "Manual $h_1=$ $\\begin{bmatrix} -0.263 & -0.489 & 0.458\\end{bmatrix}$"
      ],
      "text/plain": [
       "<IPython.core.display.Markdown object>"
      ]
     },
     "metadata": {},
     "output_type": "display_data"
    },
    {
     "data": {
      "text/markdown": [
       "Framework $h_1=$ $\\begin{bmatrix} -0.263 & -0.489 & 0.458\\end{bmatrix}$"
      ],
      "text/plain": [
       "<IPython.core.display.Markdown object>"
      ]
     },
     "metadata": {},
     "output_type": "display_data"
    }
   ],
   "source": [
    "torch.manual_seed(42)\n",
    "\n",
    "rnn_cell = torch.nn.RNNCell(input_size=5, hidden_size=3)\n",
    "\n",
    "look(\"## RNN Cell (5x3)\")\n",
    "w_ih = rnn_cell.weight_ih.data\n",
    "b_ih = rnn_cell.bias_ih.data\n",
    "look(\"$W_{ih}=$\", w_ih, \"$b_{ih}=$\", b_ih)\n",
    "\n",
    "w_hh = rnn_cell.weight_hh.data\n",
    "b_hh = rnn_cell.bias_hh.data\n",
    "look(\"$W_{hh}=$\", w_hh, \"$b_{hh}=$\", b_hh)\n",
    "\n",
    "look(\"## Data\")\n",
    "h0 = torch.rand(3)\n",
    "look(\"$h_0=$\", h0)\n",
    "x1 = torch.rand(5)\n",
    "look(\"$x_1=$\", x1)\n",
    "\n",
    "hx1 = torch.sum(w_ih * x1, dim=1) + b_ih  \n",
    "hh1 = torch.sum(w_hh * h0, dim=1) + b_hh\n",
    "\n",
    "look(\"$W_{ih} x_1 + b_{ih} =$\", hx1)\n",
    "look(\"$W_{hh} x_1 + b_{hh} =$\", hh1)\n",
    "\n",
    "man_h1 = torch.tanh(hx1 + hh1)\n",
    "fw_h1 = rnn_cell.forward(x1, h0)\n",
    "\n",
    "look(\"$h_1 = tanh(W_{ih} x_1 + b_{ih} + W_{ih} x_1 + b_{ih})=$\", man_h1)\n",
    "\n",
    "look(\"Manual $h_1=$\", man_h1)\n",
    "look(\"Framework $h_1=$\", fw_h1)"
   ]
  },
  {
   "cell_type": "markdown",
   "metadata": {},
   "source": [
    "# RNN cell multiple forward propagations"
   ]
  },
  {
   "cell_type": "code",
   "execution_count": 9,
   "metadata": {},
   "outputs": [
    {
     "data": {
      "text/markdown": [
       "$X=$ $\\begin{bmatrix} x_1 \\\\ x_2 \\\\ x_3\\end{bmatrix}$ $=$ $\\begin{bmatrix} 0.225 & 0.0624 & 0.182 & 1.0 & 0.594 \\\\ 0.654 & 0.0337 & 0.172 & 0.334 & 0.578 \\\\ 0.06 & 0.285 & 0.201 & 0.501 & 0.314 \\\\ 0.465 & 0.161 & 0.157 & 0.208 & 0.329\\end{bmatrix}$"
      ],
      "text/plain": [
       "<IPython.core.display.Markdown object>"
      ]
     },
     "metadata": {},
     "output_type": "display_data"
    },
    {
     "data": {
      "text/markdown": [
       "$h_0=$ $\\begin{bmatrix} 0.105 & 0.919 & 0.401\\end{bmatrix}$"
      ],
      "text/plain": [
       "<IPython.core.display.Markdown object>"
      ]
     },
     "metadata": {},
     "output_type": "display_data"
    },
    {
     "data": {
      "text/markdown": [
       "$h_1=RNN(x_1, h_0)=RNN($ $\\begin{bmatrix} 0.225 & 0.0624 & 0.182 & 1.0 & 0.594\\end{bmatrix}$ $,$ $\\begin{bmatrix} 0.105 & 0.919 & 0.401\\end{bmatrix}$ $)=$ $\\begin{bmatrix} 0.189 & 0.115 & -0.347\\end{bmatrix}$"
      ],
      "text/plain": [
       "<IPython.core.display.Markdown object>"
      ]
     },
     "metadata": {},
     "output_type": "display_data"
    },
    {
     "data": {
      "text/markdown": [
       "$h_2=RNN(x_2, h_1)=RNN($ $\\begin{bmatrix} 0.654 & 0.0337 & 0.172 & 0.334 & 0.578\\end{bmatrix}$ $,$ $\\begin{bmatrix} 0.189 & 0.115 & -0.347\\end{bmatrix}$ $)=$ $\\begin{bmatrix} -0.389 & -0.103 & -0.304\\end{bmatrix}$"
      ],
      "text/plain": [
       "<IPython.core.display.Markdown object>"
      ]
     },
     "metadata": {},
     "output_type": "display_data"
    },
    {
     "data": {
      "text/markdown": [
       "$h_3=RNN(x_3, h_2)=RNN($ $\\begin{bmatrix} 0.06 & 0.285 & 0.201 & 0.501 & 0.314\\end{bmatrix}$ $,$ $\\begin{bmatrix} -0.389 & -0.103 & -0.304\\end{bmatrix}$ $)=$ $\\begin{bmatrix} -0.447 & 0.0761 & -0.482\\end{bmatrix}$"
      ],
      "text/plain": [
       "<IPython.core.display.Markdown object>"
      ]
     },
     "metadata": {},
     "output_type": "display_data"
    },
    {
     "data": {
      "text/markdown": [
       "$h_4=RNN(x_4, h_3)=RNN($ $\\begin{bmatrix} 0.465 & 0.161 & 0.157 & 0.208 & 0.329\\end{bmatrix}$ $,$ $\\begin{bmatrix} -0.447 & 0.0761 & -0.482\\end{bmatrix}$ $)=$ $\\begin{bmatrix} -0.416 & 0.077 & -0.446\\end{bmatrix}$"
      ],
      "text/plain": [
       "<IPython.core.display.Markdown object>"
      ]
     },
     "metadata": {},
     "output_type": "display_data"
    },
    {
     "data": {
      "text/markdown": [
       "Manual $h_4=$ $\\begin{bmatrix} -0.416 & 0.077 & -0.446\\end{bmatrix}$"
      ],
      "text/plain": [
       "<IPython.core.display.Markdown object>"
      ]
     },
     "metadata": {},
     "output_type": "display_data"
    },
    {
     "data": {
      "text/markdown": [
       "Framework $h_4=$ $\\begin{bmatrix} -0.416 & 0.077 & -0.446\\end{bmatrix}$"
      ],
      "text/plain": [
       "<IPython.core.display.Markdown object>"
      ]
     },
     "metadata": {},
     "output_type": "display_data"
    }
   ],
   "source": [
    "N = 4\n",
    "X = torch.rand(N, 5)\n",
    "look(r\"$X=$\", np.array([[\"x_1\", \"x_2\", \"x_3\"]]).T, \"$=$\", X)\n",
    "#look(r\"$X=\\begin{bmatrix}x_1 \\\\ x_2 \\\\ x_3\\end{bmatrix}=$\", X)\n",
    "\n",
    "h0 = torch.rand(3)\n",
    "look(\"$h_0=$\", h0)\n",
    "\n",
    "fw_h = h0\n",
    "man_h = h0\n",
    "for i, x in enumerate(X, 1):\n",
    "    \n",
    "    fw_h_next = rnn_cell(x, fw_h)\n",
    "    look(f\"$h_{i}=RNN(x_{i}, h_{i-1})=RNN($\", x, \"$,$\", fw_h,\"$)=$\", fw_h_next)\n",
    "    \n",
    "    man_h = torch.tanh(torch.sum(w_ih * x, dim=1) + b_ih + torch.sum(w_hh * man_h, dim=1) + b_hh)\n",
    "    fw_h = fw_h_next\n",
    "\n",
    "look(f\"Manual $h_{N}=$\", man_h)\n",
    "look(f\"Framework $h_{N}=$\", fw_h)\n"
   ]
  },
  {
   "cell_type": "markdown",
   "metadata": {},
   "source": [
    "# LSTM cell "
   ]
  },
  {
   "cell_type": "code",
   "execution_count": 12,
   "metadata": {},
   "outputs": [
    {
     "name": "stdout",
     "output_type": "stream",
     "text": [
      "3 2\n"
     ]
    },
    {
     "data": {
      "text/markdown": [
       "## Weights"
      ],
      "text/plain": [
       "<IPython.core.display.Markdown object>"
      ]
     },
     "metadata": {},
     "output_type": "display_data"
    },
    {
     "data": {
      "text/markdown": [
       "$W_{ih}=$ $\\begin{bmatrix} 0.541 & 0.587 & -0.166 \\\\ 0.65 & -0.155 & 0.143 \\\\ -0.344 & 0.415 & 0.623 \\\\ -0.519 & 0.615 & 0.132 \\\\ 0.522 & 0.0958 & 0.341 \\\\ -0.0998 & 0.545 & 0.105 \\\\ -0.33 & 0.18 & -0.326 \\\\ -0.0829 & -0.287 & 0.469\\end{bmatrix}$"
      ],
      "text/plain": [
       "<IPython.core.display.Markdown object>"
      ]
     },
     "metadata": {},
     "output_type": "display_data"
    },
    {
     "data": {
      "text/markdown": [
       "$b_{ih}=$ $\\begin{bmatrix} 0.19 & -0.192 & 0.298 & 0.631 & 0.409 & -0.309 & 0.408 & 0.127\\end{bmatrix}$"
      ],
      "text/plain": [
       "<IPython.core.display.Markdown object>"
      ]
     },
     "metadata": {},
     "output_type": "display_data"
    },
    {
     "data": {
      "text/markdown": [
       "$W_{hh}=$ $\\begin{bmatrix} -0.558 & -0.326 \\\\ -0.2 & -0.425 \\\\ 0.0667 & -0.698 \\\\ 0.639 & -0.601 \\\\ 0.546 & 0.118 \\\\ -0.23 & 0.437 \\\\ 0.11 & 0.571 \\\\ 0.0773 & -0.223\\end{bmatrix}$"
      ],
      "text/plain": [
       "<IPython.core.display.Markdown object>"
      ]
     },
     "metadata": {},
     "output_type": "display_data"
    },
    {
     "data": {
      "text/markdown": [
       "$b_{hh}=$ $\\begin{bmatrix} 0.359 & -0.431 & -0.7 & -0.273 & -0.542 & 0.58 & 0.204 & 0.293\\end{bmatrix}$"
      ],
      "text/plain": [
       "<IPython.core.display.Markdown object>"
      ]
     },
     "metadata": {},
     "output_type": "display_data"
    },
    {
     "data": {
      "text/markdown": [
       "## Input"
      ],
      "text/plain": [
       "<IPython.core.display.Markdown object>"
      ]
     },
     "metadata": {},
     "output_type": "display_data"
    },
    {
     "data": {
      "text/markdown": [
       "$x=$ $\\begin{bmatrix} 0.658 & 0.491 & 0.891\\end{bmatrix}$"
      ],
      "text/plain": [
       "<IPython.core.display.Markdown object>"
      ]
     },
     "metadata": {},
     "output_type": "display_data"
    },
    {
     "data": {
      "text/markdown": [
       "$h_0=$ $\\begin{bmatrix} 0.145 & 0.531\\end{bmatrix}$"
      ],
      "text/plain": [
       "<IPython.core.display.Markdown object>"
      ]
     },
     "metadata": {},
     "output_type": "display_data"
    },
    {
     "data": {
      "text/markdown": [
       "$c_0=$ $\\begin{bmatrix} 0.159 & 0.654\\end{bmatrix}$"
      ],
      "text/plain": [
       "<IPython.core.display.Markdown object>"
      ]
     },
     "metadata": {},
     "output_type": "display_data"
    },
    {
     "data": {
      "text/markdown": [
       "## Iterim (applying weights)"
      ],
      "text/plain": [
       "<IPython.core.display.Markdown object>"
      ]
     },
     "metadata": {},
     "output_type": "display_data"
    },
    {
     "data": {
      "text/markdown": [
       "$i_t=$ $\\begin{bmatrix} 0.688 & 0.402\\end{bmatrix}$"
      ],
      "text/plain": [
       "<IPython.core.display.Markdown object>"
      ]
     },
     "metadata": {},
     "output_type": "display_data"
    },
    {
     "data": {
      "text/markdown": [
       "$f_t=$ $\\begin{bmatrix} 0.443 & 0.552\\end{bmatrix}$"
      ],
      "text/plain": [
       "<IPython.core.display.Markdown object>"
      ]
     },
     "metadata": {},
     "output_type": "display_data"
    },
    {
     "data": {
      "text/markdown": [
       "$o_t=$ $\\begin{bmatrix} 0.625 & 0.631\\end{bmatrix}$"
      ],
      "text/plain": [
       "<IPython.core.display.Markdown object>"
      ]
     },
     "metadata": {},
     "output_type": "display_data"
    },
    {
     "data": {
      "text/markdown": [
       "$g_t=$ $\\begin{bmatrix} 0.606 & 0.644\\end{bmatrix}$"
      ],
      "text/plain": [
       "<IPython.core.display.Markdown object>"
      ]
     },
     "metadata": {},
     "output_type": "display_data"
    },
    {
     "data": {
      "text/markdown": [
       "## Output (combining gates)"
      ],
      "text/plain": [
       "<IPython.core.display.Markdown object>"
      ]
     },
     "metadata": {},
     "output_type": "display_data"
    },
    {
     "data": {
      "text/markdown": [
       "$c_t=$ $\\begin{bmatrix} 0.487 & 0.62\\end{bmatrix}$"
      ],
      "text/plain": [
       "<IPython.core.display.Markdown object>"
      ]
     },
     "metadata": {},
     "output_type": "display_data"
    },
    {
     "data": {
      "text/markdown": [
       "$h_t=$ $\\begin{bmatrix} 0.283 & 0.347\\end{bmatrix}$"
      ],
      "text/plain": [
       "<IPython.core.display.Markdown object>"
      ]
     },
     "metadata": {},
     "output_type": "display_data"
    },
    {
     "data": {
      "text/markdown": [
       "framework $h_t=$ $\\begin{bmatrix} 0.283 & 0.347\\end{bmatrix}$"
      ],
      "text/plain": [
       "<IPython.core.display.Markdown object>"
      ]
     },
     "metadata": {},
     "output_type": "display_data"
    },
    {
     "data": {
      "text/markdown": [
       "framework $c_t=$ $\\begin{bmatrix} 0.487 & 0.62\\end{bmatrix}$"
      ],
      "text/plain": [
       "<IPython.core.display.Markdown object>"
      ]
     },
     "metadata": {},
     "output_type": "display_data"
    }
   ],
   "source": [
    "torch.manual_seed(42)\n",
    "\n",
    "I_SIZE=3\n",
    "H_SIZE=2\n",
    "print(I_SIZE, H_SIZE)\n",
    "\n",
    "\n",
    "look(\"## Weights\")\n",
    "lstmcell = torch.nn.LSTMCell(input_size=I_SIZE, hidden_size=H_SIZE)\n",
    "\n",
    "w_ih = lstmcell.weight_ih.data\n",
    "b_ih = lstmcell.bias_ih.data\n",
    "#w_ii, w_if, w_ig, w_io = torch.chunk(w_ih, 4)\n",
    "#b_ii, b_if, b_ig, b_io = torch.chunk(b_ih, 4)\n",
    "assert w_ih.shape == (4 * H_SIZE, I_SIZE)\n",
    "assert b_ih.shape == (4 * H_SIZE,)\n",
    "look(\"$W_{ih}=$\", w_ih)\n",
    "look(\"$b_{ih}=$\", b_ih)\n",
    "\n",
    "w_hh = lstmcell.weight_hh.data\n",
    "b_hh = lstmcell.bias_hh.data\n",
    "#w_hi, w_hf, w_hg, w_ho = torch.chunk(w_hh, 4)\n",
    "#b_hi, b_hf, b_hg, b_ho = torch.chunk(b_hh, 4)\n",
    "assert w_hh.shape == (4 * H_SIZE, H_SIZE)\n",
    "assert b_hh.shape == (4 * H_SIZE,)\n",
    "look(\"$W_{hh}=$\", w_hh)\n",
    "look(\"$b_{hh}=$\", b_hh)\n",
    "\n",
    "\n",
    "look(\"## Input\")\n",
    "x = torch.rand(I_SIZE)\n",
    "look(\"$x=$\", x)\n",
    "h = torch.rand(H_SIZE)\n",
    "look(\"$h_0=$\", h)\n",
    "c = torch.rand(H_SIZE)\n",
    "look(\"$c_0=$\", c)\n",
    "\n",
    "look(\"## Iterim (applying weights)\")\n",
    "wxb = torch.sum(w_ih * x, dim=1) + b_ih\n",
    "whb = torch.sum(w_hh * h, dim=1) + b_hh\n",
    "\n",
    "i_t, f_t, g_t, o_t = torch.chunk(wxb + whb, 4)\n",
    "\n",
    "i_t = torch.sigmoid(i_t)\n",
    "f_t = torch.sigmoid(f_t)\n",
    "g_t = torch.tanh(g_t)\n",
    "o_t = torch.sigmoid(o_t)\n",
    "\n",
    "look(\"$i_t=$\", i_t)\n",
    "look(\"$f_t=$\", f_t)\n",
    "look(\"$o_t=$\", o_t)\n",
    "look(\"$g_t=$\", g_t)\n",
    "\n",
    "look(\"## Output (combining gates)\")\n",
    "c_t = torch.mul(c, f_t) + torch.mul(i_t, g_t)\n",
    "look(\"$c_t=$\", c_t)\n",
    "h_t = torch.mul(o_t, torch.tanh(c_t))\n",
    "look(\"$h_t=$\", h_t)\n",
    "\n",
    "# framework\n",
    "fw_h_t, fw_c_t = lstmcell(x, (h, c))\n",
    "\n",
    "look(\"framework $h_t=$\", fw_h_t)\n",
    "look(\"framework $c_t=$\", fw_c_t)"
   ]
  },
  {
   "cell_type": "markdown",
   "metadata": {},
   "source": [
    "# GRU Cell"
   ]
  },
  {
   "cell_type": "code",
   "execution_count": 13,
   "metadata": {},
   "outputs": [
    {
     "data": {
      "text/markdown": [
       "## Weights"
      ],
      "text/plain": [
       "<IPython.core.display.Markdown object>"
      ]
     },
     "metadata": {},
     "output_type": "display_data"
    },
    {
     "data": {
      "text/markdown": [
       "$W_{ih}=$ $\\begin{bmatrix} 0.541 & 0.587 & -0.166 \\\\ 0.65 & -0.155 & 0.143 \\\\ -0.344 & 0.415 & 0.623 \\\\ -0.519 & 0.615 & 0.132 \\\\ 0.522 & 0.0958 & 0.341 \\\\ -0.0998 & 0.545 & 0.105\\end{bmatrix}$"
      ],
      "text/plain": [
       "<IPython.core.display.Markdown object>"
      ]
     },
     "metadata": {},
     "output_type": "display_data"
    },
    {
     "data": {
      "text/markdown": [
       "$b_{ih}=$ $\\begin{bmatrix} 0.639 & -0.601 & 0.546 & 0.118 & -0.23 & 0.437\\end{bmatrix}$"
      ],
      "text/plain": [
       "<IPython.core.display.Markdown object>"
      ]
     },
     "metadata": {},
     "output_type": "display_data"
    },
    {
     "data": {
      "text/markdown": [
       "$W_{hh}=$ $\\begin{bmatrix} -0.33 & 0.18 \\\\ -0.326 & -0.0829 \\\\ -0.287 & 0.469 \\\\ -0.558 & -0.326 \\\\ -0.2 & -0.425 \\\\ 0.0667 & -0.698\\end{bmatrix}$"
      ],
      "text/plain": [
       "<IPython.core.display.Markdown object>"
      ]
     },
     "metadata": {},
     "output_type": "display_data"
    },
    {
     "data": {
      "text/markdown": [
       "$b_{hh}=$ $\\begin{bmatrix} 0.11 & 0.571 & 0.0773 & -0.223 & 0.19 & -0.192\\end{bmatrix}$"
      ],
      "text/plain": [
       "<IPython.core.display.Markdown object>"
      ]
     },
     "metadata": {},
     "output_type": "display_data"
    },
    {
     "data": {
      "text/markdown": [
       "## Input"
      ],
      "text/plain": [
       "<IPython.core.display.Markdown object>"
      ]
     },
     "metadata": {},
     "output_type": "display_data"
    },
    {
     "data": {
      "text/markdown": [
       "$x=$ $\\begin{bmatrix} 0.71 & 0.946 & 0.789\\end{bmatrix}$"
      ],
      "text/plain": [
       "<IPython.core.display.Markdown object>"
      ]
     },
     "metadata": {},
     "output_type": "display_data"
    },
    {
     "data": {
      "text/markdown": [
       "$h_0=$ $\\begin{bmatrix} 0.281 & 0.789\\end{bmatrix}$"
      ],
      "text/plain": [
       "<IPython.core.display.Markdown object>"
      ]
     },
     "metadata": {},
     "output_type": "display_data"
    },
    {
     "data": {
      "text/markdown": [
       "## Iterim (applying weights)"
      ],
      "text/plain": [
       "<IPython.core.display.Markdown object>"
      ]
     },
     "metadata": {},
     "output_type": "display_data"
    },
    {
     "data": {
      "text/markdown": [
       "$h_t$ $\\begin{bmatrix} 0.288 & 0.634\\end{bmatrix}$"
      ],
      "text/plain": [
       "<IPython.core.display.Markdown object>"
      ]
     },
     "metadata": {},
     "output_type": "display_data"
    },
    {
     "data": {
      "text/markdown": [
       "framework $h_t=$ $\\begin{bmatrix} 0.288 & 0.634\\end{bmatrix}$"
      ],
      "text/plain": [
       "<IPython.core.display.Markdown object>"
      ]
     },
     "metadata": {},
     "output_type": "display_data"
    }
   ],
   "source": [
    "torch.manual_seed(42)\n",
    "\n",
    "I_SIZE=3\n",
    "H_SIZE=2\n",
    "\n",
    "look(\"## Weights\")\n",
    "gru_cell = torch.nn.GRUCell(input_size=I_SIZE, hidden_size=H_SIZE)\n",
    "\n",
    "w_ih = gru_cell.weight_ih.data\n",
    "b_ih = gru_cell.bias_ih.data\n",
    "assert w_ih.shape == (3 * H_SIZE, I_SIZE)\n",
    "assert b_ih.shape == (3 * H_SIZE,)\n",
    "look(\"$W_{ih}=$\", w_ih)\n",
    "look(\"$b_{ih}=$\", b_ih)\n",
    "\n",
    "w_hh = gru_cell.weight_hh.data\n",
    "b_hh = gru_cell.bias_hh.data\n",
    "assert w_hh.shape == (3 * H_SIZE, H_SIZE)\n",
    "assert b_hh.shape == (3 * H_SIZE,)\n",
    "look(\"$W_{hh}=$\", w_hh)\n",
    "look(\"$b_{hh}=$\", b_hh)\n",
    "\n",
    "w_ih_r, w_ih_z, w_ih_n = torch.chunk(w_ih, 3)\n",
    "b_ih_r, b_ih_z, b_ih_n = torch.chunk(b_ih, 3)\n",
    "w_hh_r, w_hh_z, w_hh_n = torch.chunk(w_hh, 3)\n",
    "b_hh_r, b_hh_z, b_hh_n = torch.chunk(b_hh, 3)\n",
    "\n",
    "look(\"## Input\")\n",
    "x = torch.rand(I_SIZE)\n",
    "look(\"$x=$\", x)\n",
    "h = torch.rand(H_SIZE)\n",
    "look(\"$h_0=$\", h)\n",
    "\n",
    "def apply_wb(w, b, x):\n",
    "    return torch.sum(w * x, dim=1) + b\n",
    "\n",
    "look(\"## Iterim (applying weights)\")\n",
    "r_t = torch.sigmoid(torch.sum(w_ih_r * x, dim=1) + b_ih_r + torch.sum(w_hh_r * h, dim=1) + b_hh_r)\n",
    "z_t = torch.sigmoid(torch.sum(w_ih_z * x, dim=1) + b_ih_z + torch.sum(w_hh_z * h, dim=1) + b_hh_z)\n",
    "n_t = torch.tanh(torch.sum(w_ih_n * x, dim=1) + b_ih_n + r_t * (torch.sum(w_hh_n * h, dim=1) + b_hh_n))\n",
    "h_t = (1 - z_t) * n_t + z_t * h\n",
    "look(\"$h_t$\", h_t)\n",
    "\n",
    "# framework\n",
    "fw_h_t = gru_cell(x, h)\n",
    "\n",
    "look(\"framework $h_t=$\", fw_h_t)"
   ]
  },
  {
   "cell_type": "markdown",
   "metadata": {},
   "source": [
    "## RNN and RNNCell (one layer)"
   ]
  },
  {
   "cell_type": "code",
   "execution_count": 14,
   "metadata": {},
   "outputs": [
    {
     "data": {
      "text/markdown": [
       "$x=$ $\\begin{bmatrix} 0.531 & 0.159 & 0.654 & 0.328 & 0.653\\end{bmatrix}$"
      ],
      "text/plain": [
       "<IPython.core.display.Markdown object>"
      ]
     },
     "metadata": {},
     "output_type": "display_data"
    },
    {
     "data": {
      "text/markdown": [
       "$h=$ $\\begin{bmatrix} 0.396 & 0.915 & 0.204\\end{bmatrix}$"
      ],
      "text/plain": [
       "<IPython.core.display.Markdown object>"
      ]
     },
     "metadata": {},
     "output_type": "display_data"
    },
    {
     "data": {
      "text/markdown": [
       "rnn $y=$ $\\begin{bmatrix} -0.097 & -0.108 & -0.126\\end{bmatrix}$"
      ],
      "text/plain": [
       "<IPython.core.display.Markdown object>"
      ]
     },
     "metadata": {},
     "output_type": "display_data"
    },
    {
     "data": {
      "text/markdown": [
       "rnn cell $y=$ $\\begin{bmatrix} -0.097 & -0.108 & -0.126\\end{bmatrix}$"
      ],
      "text/plain": [
       "<IPython.core.display.Markdown object>"
      ]
     },
     "metadata": {},
     "output_type": "display_data"
    }
   ],
   "source": [
    "torch.manual_seed(42)\n",
    "\n",
    "rnn = torch.nn.RNN(input_size=5, hidden_size=3, num_layers=1, batch_first=False)\n",
    "rnn_cell = torch.nn.RNNCell(input_size=5, hidden_size=3)\n",
    "\n",
    "rnn_cell.weight_hh.data = rnn.weight_hh_l0.data\n",
    "rnn_cell.bias_hh.data = rnn.bias_hh_l0.data\n",
    "rnn_cell.weight_ih.data = rnn.weight_ih_l0.data\n",
    "rnn_cell.bias_ih.data = rnn.bias_ih_l0.data\n",
    "\n",
    "x = torch.rand(5)\n",
    "h = torch.rand(3)\n",
    "look(\"$x=$\", x)\n",
    "look(\"$h=$\", h)\n",
    "\n",
    "y, h_t = rnn(x.view(1,-1), h.view(1, -1))\n",
    "rnn_y = y.squeeze()\n",
    "rnn_h_t = h_t.squeeze()\n",
    "\n",
    "rnn_cell_y = rnn_cell(x, h)\n",
    "\n",
    "look(\"rnn $y=$\", rnn_y)\n",
    "look(\"rnn cell $y=$\", rnn_cell_y)\n"
   ]
  },
  {
   "cell_type": "markdown",
   "metadata": {},
   "source": [
    "## BRNN and bidirectional RNN cells (one layer)"
   ]
  },
  {
   "cell_type": "code",
   "execution_count": 15,
   "metadata": {},
   "outputs": [
    {
     "data": {
      "text/markdown": [
       "RNN concatenated $y_L=$ $\\begin{bmatrix} -0.282 & -0.103 & -0.239 & 0.426 & 0.6 & 0.107\\end{bmatrix}$"
      ],
      "text/plain": [
       "<IPython.core.display.Markdown object>"
      ]
     },
     "metadata": {},
     "output_type": "display_data"
    },
    {
     "data": {
      "text/markdown": [
       "RNN stacked $y_R=$ $\\begin{bmatrix} -0.282 & -0.103 & -0.239 \\\\ 0.426 & 0.6 & 0.107\\end{bmatrix}$"
      ],
      "text/plain": [
       "<IPython.core.display.Markdown object>"
      ]
     },
     "metadata": {},
     "output_type": "display_data"
    },
    {
     "data": {
      "text/markdown": [
       "RNN cell left $y_L=$ $\\begin{bmatrix} -0.28 & -0.1 & -0.24\\end{bmatrix}$"
      ],
      "text/plain": [
       "<IPython.core.display.Markdown object>"
      ]
     },
     "metadata": {},
     "output_type": "display_data"
    },
    {
     "data": {
      "text/markdown": [
       "RNN cell right $y_R=$ $\\begin{bmatrix} 0.43 & 0.6 & 0.11\\end{bmatrix}$"
      ],
      "text/plain": [
       "<IPython.core.display.Markdown object>"
      ]
     },
     "metadata": {},
     "output_type": "display_data"
    }
   ],
   "source": [
    "torch.manual_seed(42)\n",
    "\n",
    "birnn = torch.nn.RNN(input_size=5, hidden_size=3, bidirectional=True)\n",
    "\n",
    "birnn_cell_left = torch.nn.RNNCell(input_size=5, hidden_size=3)\n",
    "birnn_cell_right = torch.nn.RNNCell(input_size=5, hidden_size=3)\n",
    "\n",
    "birnn_cell_left.weight_hh.data = birnn.weight_hh_l0.data\n",
    "birnn_cell_left.bias_hh.data = birnn.bias_hh_l0.data\n",
    "birnn_cell_left.weight_ih.data = birnn.weight_ih_l0.data\n",
    "birnn_cell_left.bias_ih.data = birnn.bias_ih_l0.data\n",
    "\n",
    "birnn_cell_right.weight_hh.data = birnn.weight_hh_l0_reverse.data\n",
    "birnn_cell_right.bias_hh.data = birnn.bias_hh_l0_reverse.data\n",
    "birnn_cell_right.weight_ih.data = birnn.weight_ih_l0_reverse.data\n",
    "birnn_cell_right.bias_ih.data = birnn.bias_ih_l0_reverse.data\n",
    "\n",
    "x = torch.rand(5)\n",
    "h_l = torch.rand(3)\n",
    "h_r = torch.rand(3)\n",
    "\n",
    "y_c, y_s = birnn(x.view(1, -1), torch.stack([h_l, h_r]))\n",
    "\n",
    "cell_y_l = birnn_cell_left(x, h_l)\n",
    "cell_y_r = birnn_cell_right(x, h_r)\n",
    "\n",
    "look(\"RNN concatenated $y_L=$\", y_c)\n",
    "look(\"RNN stacked $y_R=$\", y_s)\n",
    "\n",
    "look(\"RNN cell left $y_L=$\", cell_y_l, round=2)\n",
    "look(\"RNN cell right $y_R=$\", cell_y_r, round=2)"
   ]
  },
  {
   "cell_type": "markdown",
   "metadata": {},
   "source": [
    "# RNN and RNN cell (N > 1 layers)"
   ]
  },
  {
   "cell_type": "code",
   "execution_count": 16,
   "metadata": {},
   "outputs": [
    {
     "data": {
      "text/markdown": [
       "### RNN"
      ],
      "text/plain": [
       "<IPython.core.display.Markdown object>"
      ]
     },
     "metadata": {},
     "output_type": "display_data"
    },
    {
     "data": {
      "text/markdown": [
       "out = $\\begin{bmatrix} -0.623 & -0.482 & 0.011\\end{bmatrix}$"
      ],
      "text/plain": [
       "<IPython.core.display.Markdown object>"
      ]
     },
     "metadata": {},
     "output_type": "display_data"
    },
    {
     "data": {
      "text/markdown": [
       "hiddens= $\\begin{bmatrix} -0.165 & -0.475 & -0.245 \\\\ 0.0621 & -0.502 & -0.249 \\\\ -0.188 & -0.687 & -0.152 \\\\ -0.623 & -0.482 & 0.011\\end{bmatrix}$"
      ],
      "text/plain": [
       "<IPython.core.display.Markdown object>"
      ]
     },
     "metadata": {},
     "output_type": "display_data"
    },
    {
     "data": {
      "text/markdown": [
       "### RNN Cell"
      ],
      "text/plain": [
       "<IPython.core.display.Markdown object>"
      ]
     },
     "metadata": {},
     "output_type": "display_data"
    },
    {
     "data": {
      "text/markdown": [
       "layer 0 out =  $\\begin{bmatrix} -0.165 & -0.475 & -0.245\\end{bmatrix}$"
      ],
      "text/plain": [
       "<IPython.core.display.Markdown object>"
      ]
     },
     "metadata": {},
     "output_type": "display_data"
    },
    {
     "data": {
      "text/markdown": [
       "layer 1 out =  $\\begin{bmatrix} 0.0621 & -0.502 & -0.249\\end{bmatrix}$"
      ],
      "text/plain": [
       "<IPython.core.display.Markdown object>"
      ]
     },
     "metadata": {},
     "output_type": "display_data"
    },
    {
     "data": {
      "text/markdown": [
       "layer 2 out =  $\\begin{bmatrix} -0.188 & -0.687 & -0.152\\end{bmatrix}$"
      ],
      "text/plain": [
       "<IPython.core.display.Markdown object>"
      ]
     },
     "metadata": {},
     "output_type": "display_data"
    },
    {
     "data": {
      "text/markdown": [
       "layer 3 out =  $\\begin{bmatrix} -0.623 & -0.482 & 0.011\\end{bmatrix}$"
      ],
      "text/plain": [
       "<IPython.core.display.Markdown object>"
      ]
     },
     "metadata": {},
     "output_type": "display_data"
    }
   ],
   "source": [
    "torch.manual_seed(42)\n",
    "\n",
    "INPUT_SIZE = 5\n",
    "HIDDEN_SIZE = 3\n",
    "NUM_LAYERS = 4\n",
    "\n",
    "rnn = torch.nn.RNN(input_size=INPUT_SIZE, \n",
    "                   hidden_size=HIDDEN_SIZE, \n",
    "                   num_layers=NUM_LAYERS)\n",
    "                   \n",
    "rnn_cells = [torch.nn.RNNCell(input_size=INPUT_SIZE, hidden_size=HIDDEN_SIZE)] \n",
    "rnn_cells += [torch.nn.RNNCell(input_size=HIDDEN_SIZE, hidden_size=HIDDEN_SIZE) \n",
    "             for _ in range(NUM_LAYERS - 1)] \n",
    "\n",
    "for layer, rnn_cell in enumerate(rnn_cells):\n",
    "    rnn_cell.weight_ih.data = getattr(rnn, f\"weight_ih_l{layer}\").data\n",
    "    rnn_cell.bias_ih.data = getattr(rnn, f\"bias_ih_l{layer}\").data\n",
    "    rnn_cell.weight_hh.data = getattr(rnn, f\"weight_hh_l{layer}\").data\n",
    "    rnn_cell.bias_hh.data = getattr(rnn, f\"bias_hh_l{layer}\").data\n",
    "\n",
    "x = torch.rand(INPUT_SIZE)\n",
    "hiddens = [torch.rand(HIDDEN_SIZE)\n",
    "           for _ in range(NUM_LAYERS)]\n",
    "\n",
    "# layered approach\n",
    "look(\"### RNN\")\n",
    "y, h_t = rnn(x.view(1,-1), torch.stack(hiddens))\n",
    "look(\"out =\", y)\n",
    "look(\"hiddens=\", h_t)\n",
    "\n",
    "# manual cell by cell\n",
    "look(\"### RNN Cell\")\n",
    "vec = x\n",
    "for layer, (rnn_cell, h) in enumerate(zip(rnn_cells, hiddens)):\n",
    "    vec = rnn_cell(vec, h)\n",
    "    look(f\"layer {layer} out = \", vec)\n"
   ]
  },
  {
   "cell_type": "markdown",
   "metadata": {},
   "source": [
    "## BRNN and bidirectional RNN cells (N>1 layers)"
   ]
  },
  {
   "cell_type": "code",
   "execution_count": 17,
   "metadata": {},
   "outputs": [
    {
     "data": {
      "text/markdown": [
       "### BRNN"
      ],
      "text/plain": [
       "<IPython.core.display.Markdown object>"
      ]
     },
     "metadata": {},
     "output_type": "display_data"
    },
    {
     "data": {
      "text/markdown": [
       "out = $\\begin{bmatrix} 0.0126 & -0.164 & -0.494 & -0.911 & 0.196 & -0.895\\end{bmatrix}$"
      ],
      "text/plain": [
       "<IPython.core.display.Markdown object>"
      ]
     },
     "metadata": {},
     "output_type": "display_data"
    },
    {
     "data": {
      "text/markdown": [
       "hiddens= $\\begin{bmatrix} -0.0901 & -0.122 & 0.401 \\\\ 0.697 & 0.84 & 0.558 \\\\ -0.0241 & -0.427 & 0.102 \\\\ -0.482 & -0.805 & -0.858 \\\\ -0.223 & 0.976 & -0.0125 \\\\ 0.373 & 0.526 & 0.389 \\\\ 0.0126 & -0.164 & -0.494 \\\\ -0.911 & 0.196 & -0.895\\end{bmatrix}$"
      ],
      "text/plain": [
       "<IPython.core.display.Markdown object>"
      ]
     },
     "metadata": {},
     "output_type": "display_data"
    },
    {
     "data": {
      "text/markdown": [
       "### BRNN Cell"
      ],
      "text/plain": [
       "<IPython.core.display.Markdown object>"
      ]
     },
     "metadata": {},
     "output_type": "display_data"
    },
    {
     "data": {
      "text/markdown": [
       "layer 0 out =  $\\begin{bmatrix} -0.0901 & -0.122 & 0.401\\end{bmatrix}$ $\\begin{bmatrix} 0.697 & 0.84 & 0.558\\end{bmatrix}$"
      ],
      "text/plain": [
       "<IPython.core.display.Markdown object>"
      ]
     },
     "metadata": {},
     "output_type": "display_data"
    },
    {
     "data": {
      "text/markdown": [
       "layer 1 out =  $\\begin{bmatrix} -0.0241 & -0.427 & 0.102\\end{bmatrix}$ $\\begin{bmatrix} -0.482 & -0.805 & -0.858\\end{bmatrix}$"
      ],
      "text/plain": [
       "<IPython.core.display.Markdown object>"
      ]
     },
     "metadata": {},
     "output_type": "display_data"
    },
    {
     "data": {
      "text/markdown": [
       "layer 2 out =  $\\begin{bmatrix} -0.223 & 0.976 & -0.0125\\end{bmatrix}$ $\\begin{bmatrix} 0.373 & 0.526 & 0.389\\end{bmatrix}$"
      ],
      "text/plain": [
       "<IPython.core.display.Markdown object>"
      ]
     },
     "metadata": {},
     "output_type": "display_data"
    },
    {
     "data": {
      "text/markdown": [
       "layer 3 out =  $\\begin{bmatrix} 0.0126 & -0.164 & -0.494\\end{bmatrix}$ $\\begin{bmatrix} -0.911 & 0.196 & -0.895\\end{bmatrix}$"
      ],
      "text/plain": [
       "<IPython.core.display.Markdown object>"
      ]
     },
     "metadata": {},
     "output_type": "display_data"
    }
   ],
   "source": [
    "torch.manual_seed(42)\n",
    "\n",
    "NUM_LAYERS = 4\n",
    "\n",
    "INPUT_SIZE = 5\n",
    "HIDDEN_SIZE = 3\n",
    "\n",
    "# creating networks\n",
    "brnn = torch.nn.RNN(input_size=INPUT_SIZE, \n",
    "                    hidden_size=HIDDEN_SIZE, \n",
    "                    num_layers=NUM_LAYERS, \n",
    "                    bidirectional=True)\n",
    "\n",
    "brnn_cells = [(torch.nn.RNNCell(input_size=INPUT_SIZE, hidden_size=HIDDEN_SIZE),\n",
    "               torch.nn.RNNCell(input_size=INPUT_SIZE, hidden_size=HIDDEN_SIZE))]\n",
    "brnn_cells += [(torch.nn.RNNCell(input_size=HIDDEN_SIZE * 2, hidden_size=HIDDEN_SIZE),\n",
    "                torch.nn.RNNCell(input_size=HIDDEN_SIZE * 2, hidden_size=HIDDEN_SIZE))\n",
    "               for _ in range(NUM_LAYERS - 1)]\n",
    "\n",
    "def set_param(brnn_cell, brnn, name, layer, reverse):\n",
    "    target_weight = getattr(brnn_cell, name).data\n",
    "    if not reverse:\n",
    "        source_weight = getattr(brnn, f\"{name}_l{layer}\").data\n",
    "    else:\n",
    "        source_weight = getattr(brnn, f\"{name}_l{layer}_reverse\").data\n",
    "    assert target_weight.shape == source_weight.shape\n",
    "\n",
    "    setattr(brnn_cell, name, torch.nn.parameter.Parameter(source_weight))\n",
    "    assert torch.allclose(getattr(brnn_cell, name), source_weight)\n",
    "    \n",
    "# equalizing parameters\n",
    "for layer, (brnn_cell_left, brnn_cell_right) in enumerate(brnn_cells):\n",
    "    set_param(brnn_cell_left, brnn, \"weight_ih\", layer, reverse=False)\n",
    "    set_param(brnn_cell_left, brnn, \"bias_ih\", layer, reverse=False)\n",
    "    set_param(brnn_cell_left, brnn, \"weight_hh\", layer, reverse=False)\n",
    "    set_param(brnn_cell_left, brnn, \"bias_hh\", layer, reverse=False)\n",
    "\n",
    "    set_param(brnn_cell_right, brnn, \"weight_ih\", layer, reverse=True)\n",
    "    set_param(brnn_cell_right, brnn, \"bias_ih\", layer, reverse=True)\n",
    "    set_param(brnn_cell_right, brnn, \"weight_hh\", layer, reverse=True)\n",
    "    set_param(brnn_cell_right, brnn, \"bias_hh\", layer, reverse=True)\n",
    "\n",
    "# initial input and hidden vector\n",
    "x = torch.rand(INPUT_SIZE)\n",
    "hiddens = [(torch.rand(HIDDEN_SIZE), torch.rand(HIDDEN_SIZE))\n",
    "           for _ in range(NUM_LAYERS)]\n",
    "\n",
    "look(\"### BRNN\")\n",
    "brnn_hiddens = torch.stack([torch.stack(h) for h in hiddens]).flatten(0, 1)\n",
    "y, h_t = brnn(x.view(1, -1), brnn_hiddens)\n",
    "\n",
    "look(\"out =\", y)\n",
    "look(\"hiddens=\", h_t)\n",
    "\n",
    "# manual cell by cell\n",
    "look(\"### BRNN Cell\")\n",
    "vec = x\n",
    "for layer, ((brnn_cell_left, brnn_cell_right), (h_l, h_r)) in enumerate(zip(brnn_cells, hiddens)):\n",
    "    h = torch.concat([h_l, h_r])\n",
    "    vec_l = brnn_cell_left(vec, h_l)\n",
    "    vec_r = brnn_cell_right(vec, h_r)\n",
    "    vec = torch.cat([vec_l, vec_r])\n",
    "    look(f\"layer {layer} out = \", vec_l, vec_r)\n"
   ]
  },
  {
   "cell_type": "code",
   "execution_count": 36,
   "metadata": {},
   "outputs": [
    {
     "name": "stdout",
     "output_type": "stream",
     "text": [
      "0 tensor(0.2082, grad_fn=<MeanBackward0>) None\n",
      "1 tensor(0.0963, grad_fn=<MeanBackward0>) None\n"
     ]
    },
    {
     "ename": "RuntimeError",
     "evalue": "Trying to backward through the graph a second time (or directly access saved tensors after they have already been freed). Saved intermediate values of the graph are freed when you call .backward() or autograd.grad(). Specify retain_graph=True if you need to backward through the graph a second time or if you need to access saved tensors after calling backward.",
     "output_type": "error",
     "traceback": [
      "\u001b[0;31m---------------------------------------------------------------------------\u001b[0m",
      "\u001b[0;31mRuntimeError\u001b[0m                              Traceback (most recent call last)",
      "Cell \u001b[0;32mIn [36], line 9\u001b[0m\n\u001b[1;32m      7\u001b[0m l \u001b[39m=\u001b[39m torch\u001b[39m.\u001b[39mmean(h)\n\u001b[1;32m      8\u001b[0m \u001b[39mprint\u001b[39m(i, l, x\u001b[39m.\u001b[39mgrad)\n\u001b[0;32m----> 9\u001b[0m l\u001b[39m.\u001b[39;49mbackward()\n",
      "File \u001b[0;32m~/opt/miniconda3/envs/nlp/lib/python3.9/site-packages/torch/_tensor.py:396\u001b[0m, in \u001b[0;36mTensor.backward\u001b[0;34m(self, gradient, retain_graph, create_graph, inputs)\u001b[0m\n\u001b[1;32m    387\u001b[0m \u001b[39mif\u001b[39;00m has_torch_function_unary(\u001b[39mself\u001b[39m):\n\u001b[1;32m    388\u001b[0m     \u001b[39mreturn\u001b[39;00m handle_torch_function(\n\u001b[1;32m    389\u001b[0m         Tensor\u001b[39m.\u001b[39mbackward,\n\u001b[1;32m    390\u001b[0m         (\u001b[39mself\u001b[39m,),\n\u001b[0;32m   (...)\u001b[0m\n\u001b[1;32m    394\u001b[0m         create_graph\u001b[39m=\u001b[39mcreate_graph,\n\u001b[1;32m    395\u001b[0m         inputs\u001b[39m=\u001b[39minputs)\n\u001b[0;32m--> 396\u001b[0m torch\u001b[39m.\u001b[39;49mautograd\u001b[39m.\u001b[39;49mbackward(\u001b[39mself\u001b[39;49m, gradient, retain_graph, create_graph, inputs\u001b[39m=\u001b[39;49minputs)\n",
      "File \u001b[0;32m~/opt/miniconda3/envs/nlp/lib/python3.9/site-packages/torch/autograd/__init__.py:173\u001b[0m, in \u001b[0;36mbackward\u001b[0;34m(tensors, grad_tensors, retain_graph, create_graph, grad_variables, inputs)\u001b[0m\n\u001b[1;32m    168\u001b[0m     retain_graph \u001b[39m=\u001b[39m create_graph\n\u001b[1;32m    170\u001b[0m \u001b[39m# The reason we repeat same the comment below is that\u001b[39;00m\n\u001b[1;32m    171\u001b[0m \u001b[39m# some Python versions print out the first line of a multi-line function\u001b[39;00m\n\u001b[1;32m    172\u001b[0m \u001b[39m# calls in the traceback and some print out the last line\u001b[39;00m\n\u001b[0;32m--> 173\u001b[0m Variable\u001b[39m.\u001b[39;49m_execution_engine\u001b[39m.\u001b[39;49mrun_backward(  \u001b[39m# Calls into the C++ engine to run the backward pass\u001b[39;49;00m\n\u001b[1;32m    174\u001b[0m     tensors, grad_tensors_, retain_graph, create_graph, inputs,\n\u001b[1;32m    175\u001b[0m     allow_unreachable\u001b[39m=\u001b[39;49m\u001b[39mTrue\u001b[39;49;00m, accumulate_grad\u001b[39m=\u001b[39;49m\u001b[39mTrue\u001b[39;49;00m)\n",
      "\u001b[0;31mRuntimeError\u001b[0m: Trying to backward through the graph a second time (or directly access saved tensors after they have already been freed). Saved intermediate values of the graph are freed when you call .backward() or autograd.grad(). Specify retain_graph=True if you need to backward through the graph a second time or if you need to access saved tensors after calling backward."
     ]
    }
   ],
   "source": [
    "cell = torch.nn.RNNCell(5, 3)\n",
    "x = torch.rand(5)\n",
    "h = torch.rand(3)\n",
    "\n",
    "for i in range(10):\n",
    "    h = cell(x, h)\n",
    "    l = torch.mean(h)\n",
    "    print(i, l, x.grad)\n",
    "    l.backward()\n",
    "\n"
   ]
  },
  {
   "cell_type": "code",
   "execution_count": null,
   "metadata": {},
   "outputs": [],
   "source": []
  }
 ],
 "metadata": {
  "kernelspec": {
   "display_name": "Python 3.9.13 ('nlp')",
   "language": "python",
   "name": "python3"
  },
  "language_info": {
   "codemirror_mode": {
    "name": "ipython",
    "version": 3
   },
   "file_extension": ".py",
   "mimetype": "text/x-python",
   "name": "python",
   "nbconvert_exporter": "python",
   "pygments_lexer": "ipython3",
   "version": "3.9.13"
  },
  "orig_nbformat": 4,
  "vscode": {
   "interpreter": {
    "hash": "358f19b5168dcc2c817c22e8ae2c189228565b53de3b91095ee770a390daccdd"
   }
  }
 },
 "nbformat": 4,
 "nbformat_minor": 2
}
