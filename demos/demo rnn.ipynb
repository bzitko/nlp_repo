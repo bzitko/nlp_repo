{
 "cells": [
  {
   "cell_type": "code",
   "execution_count": 35,
   "metadata": {},
   "outputs": [
    {
     "name": "stdout",
     "output_type": "stream",
     "text": [
      "weight_ih Parameter containing:\n",
      "tensor([[ 0.4940,  0.2287, -0.4303,  0.3920,  0.1295],\n",
      "        [ 0.1636, -0.5492, -0.1623, -0.2018, -0.5269],\n",
      "        [-0.0669,  0.2648,  0.0019,  0.1291, -0.4242]], requires_grad=True)\n",
      "weight_hh Parameter containing:\n",
      "tensor([[ 0.1340,  0.3554, -0.0654],\n",
      "        [-0.2137,  0.3757,  0.0877],\n",
      "        [ 0.4380,  0.2446, -0.0223]], requires_grad=True)\n",
      "bias_ih Parameter containing:\n",
      "tensor([ 0.3585,  0.5241, -0.1306], requires_grad=True)\n",
      "bias_hh Parameter containing:\n",
      "tensor([-0.1206,  0.5283, -0.5432], requires_grad=True)\n"
     ]
    },
    {
     "data": {
      "text/plain": [
       "(tensor([ 0.4766,  0.4053, -0.5934]),\n",
       " tensor([ 0.4766,  0.4053, -0.5934], grad_fn=<SqueezeBackward1>))"
      ]
     },
     "execution_count": 35,
     "metadata": {},
     "output_type": "execute_result"
    }
   ],
   "source": [
    "import torch\n",
    "torch.manual_seed\n",
    "\n",
    "rnncell = torch.nn.RNNCell(input_size=5, hidden_size=3)\n",
    "\n",
    "b_hh = rnncell.bias_hh.detach().clone()\n",
    "b_ih = rnncell.bias_ih.detach().clone()\n",
    "\n",
    "w_hh = rnncell.weight_hh.detach().clone()\n",
    "w_ih = rnncell.weight_ih.detach().clone()\n",
    "\n",
    "x = torch.rand(5)\n",
    "hx = torch.rand(3)\n",
    "rnncell.forward(x, hx)\n",
    "\n",
    "ih = torch.sum(w_ih * x, dim=1) + b_ih  \n",
    "hh = torch.sum(w_hh * hx, dim=1) + b_hh\n",
    "\n",
    "torch.tanh(ih+hh), rnncell.forward(x, hx)"
   ]
  },
  {
   "cell_type": "code",
   "execution_count": 43,
   "metadata": {},
   "outputs": [
    {
     "data": {
      "text/plain": [
       "tensor([0.3253, 0.4650, 0.4628, 0.6643, 0.2161, 0.6512, 0.5377, 0.8213, 0.6058,\n",
       "        0.6678, 0.1814, 0.4305])"
      ]
     },
     "execution_count": 43,
     "metadata": {},
     "output_type": "execute_result"
    }
   ],
   "source": [
    "import torch\n",
    "torch.manual_seed\n",
    "\n",
    "lstmcell = torch.nn.LSTMCell(input_size=5, hidden_size=3)\n",
    "\n",
    "b_hh = lstmcell.bias_hh.detach().clone()\n",
    "b_ih = lstmcell.bias_ih.detach().clone()\n",
    "\n",
    "w_hh = lstmcell.weight_hh.detach().clone()\n",
    "w_ih = lstmcell.weight_ih.detach().clone()\n",
    "\n",
    "\n",
    "x = torch.rand(5)\n",
    "hx = torch.rand(3)\n",
    "cx = torch.rand(3)\n",
    "lstmcell.forward(x, (hx, cx))\n",
    "\n",
    "i = torch.sigmoid(torch.sum(w_ih * x, dim=1) + b_ih  + torch.sum(w_hh * hx, dim=1) + b_hh)\n",
    "\n",
    "lstmcell.forward(x, (hx, cx))\n",
    "i"
   ]
  },
  {
   "cell_type": "code",
   "execution_count": null,
   "metadata": {},
   "outputs": [],
   "source": []
  }
 ],
 "metadata": {
  "kernelspec": {
   "display_name": "Python 3.9.13 ('nlp')",
   "language": "python",
   "name": "python3"
  },
  "language_info": {
   "codemirror_mode": {
    "name": "ipython",
    "version": 3
   },
   "file_extension": ".py",
   "mimetype": "text/x-python",
   "name": "python",
   "nbconvert_exporter": "python",
   "pygments_lexer": "ipython3",
   "version": "3.9.13"
  },
  "orig_nbformat": 4,
  "vscode": {
   "interpreter": {
    "hash": "358f19b5168dcc2c817c22e8ae2c189228565b53de3b91095ee770a390daccdd"
   }
  }
 },
 "nbformat": 4,
 "nbformat_minor": 2
}
