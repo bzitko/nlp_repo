{
 "cells": [
  {
   "cell_type": "code",
   "execution_count": 20,
   "metadata": {},
   "outputs": [],
   "source": [
    "import torch\n",
    "import torch.nn as nn\n",
    "from torch.nn.utils.rnn import pack_padded_sequence, pad_packed_sequence, pad_sequence\n",
    "\n",
    "from helper import look\n"
   ]
  },
  {
   "cell_type": "code",
   "execution_count": 33,
   "metadata": {},
   "outputs": [
    {
     "data": {
      "text/markdown": [
       "$x_1=$ $\\begin{bmatrix} 1 & 2 & 3 & 4\\end{bmatrix}$"
      ],
      "text/plain": [
       "<IPython.core.display.Markdown object>"
      ]
     },
     "metadata": {},
     "output_type": "display_data"
    },
    {
     "data": {
      "text/markdown": [
       "$x_2=$ $\\begin{bmatrix} 5 & 6 & 7\\end{bmatrix}$"
      ],
      "text/plain": [
       "<IPython.core.display.Markdown object>"
      ]
     },
     "metadata": {},
     "output_type": "display_data"
    },
    {
     "data": {
      "text/markdown": [
       "$x_3=$ $\\begin{bmatrix} 8\\end{bmatrix}$"
      ],
      "text/plain": [
       "<IPython.core.display.Markdown object>"
      ]
     },
     "metadata": {},
     "output_type": "display_data"
    },
    {
     "data": {
      "text/markdown": [
       "padded batch first $\\begin{bmatrix} 1 & 2 & 3 & 4 \\\\ 5 & 6 & 7 & 0 \\\\ 8 & 0 & 0 & 0\\end{bmatrix}$"
      ],
      "text/plain": [
       "<IPython.core.display.Markdown object>"
      ]
     },
     "metadata": {},
     "output_type": "display_data"
    },
    {
     "data": {
      "text/markdown": [
       "padded batch second $\\begin{bmatrix} 1 & 5 & 8 \\\\ 2 & 6 & 0 \\\\ 3 & 7 & 0 \\\\ 4 & 0 & 0\\end{bmatrix}$"
      ],
      "text/plain": [
       "<IPython.core.display.Markdown object>"
      ]
     },
     "metadata": {},
     "output_type": "display_data"
    }
   ],
   "source": [
    "x1 = torch.tensor([1, 2, 3, 4])\n",
    "x2 = torch.tensor([5, 6, 7])\n",
    "x3 = torch.tensor([8])\n",
    "\n",
    "look(\"$x_1=$\", x1)\n",
    "look(\"$x_2=$\", x2)\n",
    "look(\"$x_3=$\", x3)\n",
    "\n",
    "seq = [x1, x2, x3]\n",
    "\n",
    "padded_batch_first = pad_sequence(seq, batch_first=True)\n",
    "look(\"padded batch first\", padded_batch_first)\n",
    "\n",
    "padded_batch_second = pad_sequence([x1, x2, x3], batch_first=False)\n",
    "look(\"padded batch second\", padded_batch_second)\n",
    "\n"
   ]
  },
  {
   "cell_type": "code",
   "execution_count": 38,
   "metadata": {},
   "outputs": [
    {
     "data": {
      "text/markdown": [
       "$\\begin{bmatrix} 1 & 5 & 8 & 2 & 6 & 3 & 7 & 4\\end{bmatrix}$ $\\begin{bmatrix} 3 & 2 & 2 & 1\\end{bmatrix}$"
      ],
      "text/plain": [
       "<IPython.core.display.Markdown object>"
      ]
     },
     "metadata": {},
     "output_type": "display_data"
    },
    {
     "data": {
      "text/markdown": [
       "$\\begin{bmatrix} 1 & 5 & 8 & 2 & 6 & 3 & 7 & 4\\end{bmatrix}$ $\\begin{bmatrix} 3 & 2 & 2 & 1\\end{bmatrix}$"
      ],
      "text/plain": [
       "<IPython.core.display.Markdown object>"
      ]
     },
     "metadata": {},
     "output_type": "display_data"
    }
   ],
   "source": [
    "lengths = [len(x_i) for x_i in seq]\n",
    "packed_batch_first = pack_padded_sequence(padded_batch_first, lengths, batch_first=True)\n",
    "packed_batch_second = pack_padded_sequence(padded_batch_second, lengths, batch_first=False)\n",
    "\n",
    "\n",
    "look(packed_batch_first.data, packed_batch_first.batch_sizes)\n",
    "look(packed_batch_second.data, packed_batch_second.batch_sizes)\n",
    "\n"
   ]
  },
  {
   "cell_type": "code",
   "execution_count": 43,
   "metadata": {},
   "outputs": [
    {
     "data": {
      "text/markdown": [
       "$\\begin{bmatrix} 1 & 2 & 3 & 4 \\\\ 5 & 6 & 7 & 0 \\\\ 8 & 0 & 0 & 0\\end{bmatrix}$ $\\begin{bmatrix} 4 & 3 & 1\\end{bmatrix}$"
      ],
      "text/plain": [
       "<IPython.core.display.Markdown object>"
      ]
     },
     "metadata": {},
     "output_type": "display_data"
    }
   ],
   "source": [
    "unpacked_first, batch_first_sizes = pad_packed_sequence(packed_batch_first, batch_first=True)\n",
    "\n",
    "look(unpacked_first, batch_first_sizes)"
   ]
  },
  {
   "cell_type": "code",
   "execution_count": 42,
   "metadata": {},
   "outputs": [
    {
     "data": {
      "text/markdown": [
       "$\\begin{bmatrix} 1 & 5 & 8 \\\\ 2 & 6 & 0 \\\\ 3 & 7 & 0 \\\\ 4 & 0 & 0\\end{bmatrix}$ $\\begin{bmatrix} 4 & 3 & 1\\end{bmatrix}$"
      ],
      "text/plain": [
       "<IPython.core.display.Markdown object>"
      ]
     },
     "metadata": {},
     "output_type": "display_data"
    }
   ],
   "source": [
    "unpacked_second, batch_second_sizes = pad_packed_sequence(packed_batch_second, batch_first=False)\n",
    "\n",
    "look(unpacked_second, batch_second_sizes)"
   ]
  },
  {
   "cell_type": "code",
   "execution_count": null,
   "metadata": {},
   "outputs": [],
   "source": []
  }
 ],
 "metadata": {
  "kernelspec": {
   "display_name": "nlp",
   "language": "python",
   "name": "python3"
  },
  "language_info": {
   "codemirror_mode": {
    "name": "ipython",
    "version": 3
   },
   "file_extension": ".py",
   "mimetype": "text/x-python",
   "name": "python",
   "nbconvert_exporter": "python",
   "pygments_lexer": "ipython3",
   "version": "3.9.15"
  },
  "orig_nbformat": 4,
  "vscode": {
   "interpreter": {
    "hash": "358f19b5168dcc2c817c22e8ae2c189228565b53de3b91095ee770a390daccdd"
   }
  }
 },
 "nbformat": 4,
 "nbformat_minor": 2
}
