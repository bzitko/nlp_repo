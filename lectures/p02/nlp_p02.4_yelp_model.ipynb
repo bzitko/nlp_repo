{
  "cells": [
    {
      "cell_type": "code",
      "execution_count": null,
      "metadata": {
        "id": "Zojguzq2AuK8"
      },
      "outputs": [],
      "source": [
        "import os\n",
        "\n",
        "download_name = \"reviews_with_splits_lite.csv.bz2\"\n",
        "if not os.path.exists(download_name):\n",
        "    import requests\n",
        "    response = requests.get(f\"https://raw.githubusercontent.com/bzitko/nlp_repo/main/lectures/p02/{download_name}\")\n",
        "    with open(download_name, \"wb\") as fp:\n",
        "        fp.write(response.content)\n",
        "    response.close()\n",
        "        \n",
        "name = \"reviews_with_splits_lite.csv\"\n",
        "if not os.path.exists(name):\n",
        "    import bz2\n",
        "    with open(download_name, 'rb') as bzf, open(name, 'wb') as fp:\n",
        "        fp.write(bz2.decompress(bzf.read()))  "
      ]
    },
    {
      "cell_type": "markdown",
      "metadata": {
        "id": "W-CeYMXmbtG-"
      },
      "source": [
        "# YELP Classify"
      ]
    },
    {
      "cell_type": "code",
      "execution_count": 1,
      "metadata": {
        "id": "rxFKBmmEEoUA"
      },
      "outputs": [],
      "source": [
        "from argparse import Namespace\n",
        "from collections import Counter\n",
        "import json\n",
        "import os\n",
        "import re\n",
        "import string\n",
        "\n",
        "import numpy as np\n",
        "import pandas as pd\n",
        "import torch\n",
        "import torch.nn as nn\n",
        "import torch.nn.functional as F\n",
        "import torch.optim as optim\n",
        "from torch.utils.data import Dataset, DataLoader\n",
        "from tqdm.notebook import tqdm"
      ]
    },
    {
      "cell_type": "code",
      "execution_count": 2,
      "metadata": {
        "colab": {
          "base_uri": "https://localhost:8080/"
        },
        "id": "0CQw6LKwiiQg",
        "outputId": "5e3ab09b-73cf-43ed-a021-7fcccebebebe"
      },
      "outputs": [
        {
          "output_type": "execute_result",
          "data": {
            "text/plain": [
              "(1, 'ann')"
            ]
          },
          "metadata": {},
          "execution_count": 2
        }
      ],
      "source": [
        "class Vocabulary(object):\n",
        "    def __init__(self, token_to_idx=None, add_unk=True, unk_token=\"<UNK>\"):\n",
        "        if token_to_idx is None:\n",
        "            token_to_idx = {}\n",
        "        self._token_to_idx = token_to_idx\n",
        "\n",
        "        self._idx_to_token = {idx: token \n",
        "                              for token, idx in self._token_to_idx.items()}\n",
        "        \n",
        "        self._add_unk = add_unk\n",
        "        self._unk_token = unk_token\n",
        "        \n",
        "        self.unk_index = -1\n",
        "        if add_unk:\n",
        "            self.unk_index = self.add_token(unk_token) \n",
        "        \n",
        "        \n",
        "    def to_serializable(self): \n",
        "        return {'token_to_idx': self._token_to_idx, \n",
        "                'add_unk': self._add_unk, \n",
        "                'unk_token': self._unk_token}\n",
        "\n",
        "    @classmethod\n",
        "    def from_serializable(cls, contents):\n",
        "        return cls(**contents)\n",
        "\n",
        "    def add_token(self, token):\n",
        "        if token in self._token_to_idx:\n",
        "            index = self._token_to_idx[token]\n",
        "        else:\n",
        "            index = len(self._token_to_idx)\n",
        "            self._token_to_idx[token] = index\n",
        "            self._idx_to_token[index] = token\n",
        "        return index\n",
        "    \n",
        "    def add_many(self, tokens):\n",
        "        return [self.add_token(token) for token in tokens]\n",
        "\n",
        "    def lookup_token(self, token):\n",
        "        if self.unk_index >= 0:\n",
        "            return self._token_to_idx.get(token, self.unk_index)\n",
        "        else:\n",
        "            return self._token_to_idx[token]\n",
        "\n",
        "    def lookup_index(self, index):\n",
        "        if index not in self._idx_to_token:\n",
        "            raise KeyError(\"the index (%d) is not in the Vocabulary\" % index)\n",
        "        return self._idx_to_token[index]\n",
        "\n",
        "    def __str__(self):\n",
        "        return f\"<Vocabulary(size={len(self)})>\"\n",
        "\n",
        "    def __len__(self):\n",
        "        return len(self._token_to_idx)\n",
        "\n",
        "\n",
        "vocab = Vocabulary()\n",
        "\n",
        "vocab.add_token(\"john\")\n",
        "vocab.add_token(\"john\")\n",
        "vocab.add_token(\"ann\")\n",
        "\n",
        "vocab.lookup_token(\"john\"), vocab.lookup_index(2)\n"
      ]
    },
    {
      "cell_type": "code",
      "execution_count": 3,
      "metadata": {
        "colab": {
          "base_uri": "https://localhost:8080/"
        },
        "id": "gfVQ4SbDa_on",
        "outputId": "46b1b2c1-553f-42ec-fa91-3d5e786930cc"
      },
      "outputs": [
        {
          "output_type": "execute_result",
          "data": {
            "text/plain": [
              "array([0., 1., 1., 1., 0., 0., 1., 1., 0., 1.], dtype=float32)"
            ]
          },
          "metadata": {},
          "execution_count": 3
        }
      ],
      "source": [
        "class ReviewVectorizer(object):\n",
        "    def __init__(self, review_vocab, rating_vocab):\n",
        "        self.review_vocab = review_vocab\n",
        "        self.rating_vocab = rating_vocab\n",
        "\n",
        "    def vectorize(self, review):\n",
        "        one_hot = np.zeros(len(self.review_vocab), dtype=np.float32)\n",
        "        \n",
        "        for token in review.split(\" \"):\n",
        "            if token not in string.punctuation:\n",
        "                one_hot[self.review_vocab.lookup_token(token)] = 1\n",
        "\n",
        "        return one_hot\n",
        "\n",
        "    @classmethod\n",
        "    def from_dataframe(cls, review_df, cutoff=25):\n",
        "        review_vocab = Vocabulary(add_unk=True)\n",
        "        rating_vocab = Vocabulary(add_unk=False)\n",
        "        \n",
        "        # Add ratings\n",
        "        for rating in sorted(set(review_df.rating)):\n",
        "            rating_vocab.add_token(rating)\n",
        "\n",
        "        # Add top words if count > provided count\n",
        "        word_counts = Counter()\n",
        "        for review in review_df.review:\n",
        "            for word in review.split(\" \"):\n",
        "                if word not in string.punctuation:\n",
        "                    word_counts[word] += 1\n",
        "               \n",
        "        for word, count in word_counts.items():\n",
        "            if count > cutoff:\n",
        "                review_vocab.add_token(word)\n",
        "\n",
        "        return cls(review_vocab, rating_vocab)\n",
        "\n",
        "    @classmethod\n",
        "    def from_serializable(cls, contents):\n",
        "        review_vocab = Vocabulary.from_serializable(contents['review_vocab'])\n",
        "        rating_vocab =  Vocabulary.from_serializable(contents['rating_vocab'])\n",
        "\n",
        "        return cls(review_vocab=review_vocab, rating_vocab=rating_vocab)\n",
        "\n",
        "    def to_serializable(self):\n",
        "        return {'review_vocab': self.review_vocab.to_serializable(),\n",
        "                'rating_vocab': self.rating_vocab.to_serializable()}\n",
        "\n",
        "review_vocab = Vocabulary()\n",
        "review_vocab.add_many(\"john has been there . but he is not john .\".split())\n",
        "\n",
        "rating_vocab = Vocabulary(add_unk=False)\n",
        "rating_vocab.add_many([\"positive\", \"negative\"])\n",
        "\n",
        "vectorizer = ReviewVectorizer(review_vocab, rating_vocab)\n",
        "vectorizer.vectorize(\"but john has not been he .\")"
      ]
    },
    {
      "cell_type": "markdown",
      "metadata": {
        "id": "DKfFfKfZLR7w"
      },
      "source": [
        "### Read Dataset"
      ]
    },
    {
      "cell_type": "code",
      "execution_count": 4,
      "metadata": {
        "id": "kRDhkO6iHm2j"
      },
      "outputs": [],
      "source": [
        "class ReviewDataset(Dataset):\n",
        "    def __init__(self, review_df, vectorizer):\n",
        "        self.review_df = review_df\n",
        "        self._vectorizer = vectorizer\n",
        "\n",
        "        self.train_df = self.review_df[self.review_df.split=='train']\n",
        "        self.train_size = len(self.train_df)\n",
        "\n",
        "        self.val_df = self.review_df[self.review_df.split=='val']\n",
        "        self.validation_size = len(self.val_df)\n",
        "\n",
        "        self.test_df = self.review_df[self.review_df.split=='test']\n",
        "        self.test_size = len(self.test_df)\n",
        "\n",
        "        self._lookup_dict = {'train': self.train_df,\n",
        "                             'val': self.val_df,\n",
        "                             'test': self.test_df}\n",
        "\n",
        "        self.set_split('train')\n",
        "\n",
        "    @classmethod\n",
        "    def load_dataset_and_make_vectorizer(cls, review_csv):\n",
        "        review_df = pd.read_csv(review_csv)\n",
        "        train_review_df = review_df[review_df.split=='train']\n",
        "        return cls(review_df, ReviewVectorizer.from_dataframe(train_review_df))\n",
        "    \n",
        "    @classmethod\n",
        "    def load_dataset_and_load_vectorizer(cls, review_csv, vectorizer_filepath):\n",
        "        review_df = pd.read_csv(review_csv)\n",
        "        vectorizer = cls.load_vectorizer_only(vectorizer_filepath)\n",
        "        return cls(review_df, vectorizer)\n",
        "\n",
        "    @staticmethod\n",
        "    def load_vectorizer_only(vectorizer_filepath):\n",
        "        with open(vectorizer_filepath) as fp:\n",
        "            return ReviewVectorizer.from_serializable(json.load(fp))\n",
        "\n",
        "    def save_vectorizer(self, vectorizer_filepath):\n",
        "        with open(vectorizer_filepath, \"w\") as fp:\n",
        "            json.dump(self._vectorizer.to_serializable(), fp)\n",
        "\n",
        "    def get_vectorizer(self):\n",
        "        return self._vectorizer\n",
        "\n",
        "    def set_split(self, split=\"train\"):\n",
        "        self._target_split = split\n",
        "        self._target_df = self._lookup_dict[split]\n",
        "\n",
        "    def __len__(self):\n",
        "        return len(self._target_df)\n",
        "\n",
        "    def __getitem__(self, index):\n",
        "        row = self._target_df.iloc[index]\n",
        "\n",
        "        review_vector = self._vectorizer.vectorize(row.review)\n",
        "\n",
        "        rating_index = self._vectorizer.rating_vocab.lookup_token(row.rating)\n",
        "\n",
        "        return {'x_data': review_vector,\n",
        "                'y_target': rating_index}\n",
        "\n",
        "    def get_num_batches(self, batch_size):\n",
        "        return len(self) // batch_size  \n",
        "    \n",
        "def generate_batches(dataset, batch_size, shuffle=True,\n",
        "                     drop_last=True, device=\"cpu\"):\n",
        "    \n",
        "    dataloader = DataLoader(dataset=dataset, batch_size=batch_size,\n",
        "                            shuffle=shuffle, drop_last=drop_last)\n",
        "\n",
        "    for data_dict in dataloader:\n",
        "        out_data_dict = {}\n",
        "        for name, tensor in data_dict.items():\n",
        "            out_data_dict[name] = data_dict[name].to(device)\n",
        "        yield out_data_dict\n"
      ]
    },
    {
      "cell_type": "code",
      "execution_count": 5,
      "metadata": {
        "id": "3lPQKo93Oy0v"
      },
      "outputs": [],
      "source": [
        "\n",
        "args = Namespace(\n",
        "    # Data and Path information\n",
        "    frequency_cutoff=25,\n",
        "    model_state_file='model.pth',\n",
        "    review_csv='reviews_with_splits_lite.csv',\n",
        "\n",
        "    # review_csv='data/yelp/reviews_with_splits_full.csv',\n",
        "    save_dir='',\n",
        "    vectorizer_file='vectorizer.json',\n",
        "    \n",
        "    # No Model hyper parameters\n",
        "    # Training hyper parameters\n",
        "    batch_size=128,\n",
        "    early_stopping_criteria=5,\n",
        "    learning_rate=0.001,\n",
        "    num_epochs=100,\n",
        "    seed=1337,\n",
        "    \n",
        "    # Runtime options\n",
        "    catch_keyboard_interrupt=True,\n",
        "    cuda=True,\n",
        "    expand_filepaths_to_save_dir=True,\n",
        "    reload_from_files=False,\n",
        ")"
      ]
    },
    {
      "cell_type": "code",
      "execution_count": 6,
      "metadata": {
        "id": "fj6-WVPOO8cx"
      },
      "outputs": [],
      "source": [
        "dataset = ReviewDataset.load_dataset_and_make_vectorizer(args.review_csv)\n",
        "vectorizer = dataset.get_vectorizer()"
      ]
    },
    {
      "cell_type": "code",
      "execution_count": 7,
      "metadata": {
        "colab": {
          "base_uri": "https://localhost:8080/"
        },
        "id": "k0arywFLH0Sq",
        "outputId": "1e399200-3121-4107-9953-6f9650209fc6"
      },
      "outputs": [
        {
          "output_type": "execute_result",
          "data": {
            "text/plain": [
              "7326"
            ]
          },
          "metadata": {},
          "execution_count": 7
        }
      ],
      "source": [
        "\n",
        "vectorizer.review_vocab\n",
        "len(vectorizer.review_vocab)"
      ]
    },
    {
      "cell_type": "code",
      "execution_count": 8,
      "metadata": {
        "colab": {
          "base_uri": "https://localhost:8080/",
          "height": 69,
          "referenced_widgets": [
            "273e7670e85c43e1adfca4d29b8c8ff2",
            "017f7b3f608143a28ac0ea0ce9dc057c",
            "4047dcddc72a4206b8837caa70e3b9ac",
            "f19cf3a075f94fef95c840aec2dcdad5",
            "bcb704239b624eb18b41056dd94c0c1f",
            "8e285e71ef1046fca149eed4df940ed4",
            "23fe11e1f097466dbfd22c45e0c2c0b3",
            "85abf5996edd4af5a05372bcdfe71e83",
            "c0a584ad5e044f7280b0a3b092d4ccc4",
            "bc155ea915064773a0fb51aaa5ccb304",
            "cd46b17049b34814a492b29b0116a0d9"
          ]
        },
        "id": "wt6WLfKQRLeF",
        "outputId": "0d75545f-4d45-4116-f1ea-6c0781987844"
      },
      "outputs": [
        {
          "output_type": "display_data",
          "data": {
            "text/plain": [
              "  0%|          | 0/39200 [00:00<?, ?it/s]"
            ],
            "application/vnd.jupyter.widget-view+json": {
              "version_major": 2,
              "version_minor": 0,
              "model_id": "273e7670e85c43e1adfca4d29b8c8ff2"
            }
          },
          "metadata": {}
        }
      ],
      "source": [
        "dataloader = DataLoader(dataset=dataset)\n",
        "\n",
        "x_data = []\n",
        "y_target = []\n",
        "\n",
        "i = 0\n",
        "for item in tqdm(dataloader):\n",
        "    x_data.append(item[\"x_data\"].squeeze())\n",
        "    y_target.append(item[\"y_target\"].squeeze())\n",
        "\n",
        "    \n",
        "x_data = torch.stack(x_data)\n",
        "y_target = torch.stack(y_target)\n"
      ]
    },
    {
      "cell_type": "markdown",
      "metadata": {
        "id": "70mDk2ctME_k"
      },
      "source": [
        "## Plot data"
      ]
    },
    {
      "cell_type": "code",
      "execution_count": 9,
      "metadata": {
        "id": "SnXYDPp1WGE9"
      },
      "outputs": [],
      "source": [
        "from sklearn import decomposition\n",
        "import matplotlib.pyplot as plt"
      ]
    },
    {
      "cell_type": "code",
      "execution_count": 10,
      "metadata": {
        "id": "m8ru4AlgVJ5g"
      },
      "outputs": [],
      "source": [
        "pca = decomposition.PCA(n_components=2)\n",
        "pca.fit(x_data)\n",
        "X = pca.transform(x_data)"
      ]
    },
    {
      "cell_type": "code",
      "execution_count": 11,
      "metadata": {
        "colab": {
          "base_uri": "https://localhost:8080/",
          "height": 302
        },
        "id": "vvx9tCVAVdG7",
        "outputId": "de52252b-f2ce-419e-afff-3e66bd9f12bd"
      },
      "outputs": [
        {
          "output_type": "execute_result",
          "data": {
            "text/plain": [
              "<matplotlib.collections.PathCollection at 0x7fe5853e11d0>"
            ]
          },
          "metadata": {},
          "execution_count": 11
        },
        {
          "output_type": "display_data",
          "data": {
            "text/plain": [
              "<Figure size 432x288 with 1 Axes>"
            ],
            "image/png": "[encoded data removed]"
          },
          "metadata": {
            "needs_background": "light"
          }
        }
      ],
      "source": [
        "colors = [\"red\" if y_i == 0 else \"blue\" for y_i in y_target]\n",
        "\n",
        "\n",
        "plt.scatter(X[:,0], X[:,1], marker=\".\", s=1, c=colors)\n"
      ]
    },
    {
      "cell_type": "markdown",
      "metadata": {
        "id": "S2SGZv7wXzy8"
      },
      "source": [
        "### Model Classifier"
      ]
    },
    {
      "cell_type": "code",
      "execution_count": 12,
      "metadata": {
        "id": "xi-ZsiApGXa0"
      },
      "outputs": [],
      "source": [
        "class ReviewClassifier(nn.Module):\n",
        "\n",
        "    def __init__(self, num_features):\n",
        "        super(ReviewClassifier, self).__init__()\n",
        "        self.fc1 = nn.Linear(in_features=num_features, \n",
        "                             out_features=1)\n",
        "\n",
        "    def forward(self, x_in, apply_sigmoid=False):\n",
        "        y_out = self.fc1(x_in).squeeze()\n",
        "        if apply_sigmoid:\n",
        "            y_out = torch.sigmoid(y_out)\n",
        "        return y_out\n"
      ]
    },
    {
      "cell_type": "markdown",
      "metadata": {
        "id": "SUb6OLwZBWFs"
      },
      "source": [
        "### Initialization"
      ]
    },
    {
      "cell_type": "code",
      "execution_count": 13,
      "metadata": {
        "id": "fVOZg4mSZEB2"
      },
      "outputs": [],
      "source": [
        "dataset = ReviewDataset.load_dataset_and_make_vectorizer(args.review_csv)\n",
        "dataset.save_vectorizer(args.vectorizer_file)    \n",
        "vectorizer = dataset.get_vectorizer()\n",
        "\n",
        "classifier = ReviewClassifier(num_features=len(vectorizer.review_vocab))\n",
        "\n",
        "args.device = torch.device(\"cuda\" if args.cuda and torch.cuda.is_available() else \"cpu\")\n",
        "classifier = classifier.to(args.device)"
      ]
    },
    {
      "cell_type": "markdown",
      "metadata": {
        "id": "BJFBJBhzCm4h"
      },
      "source": [
        "# Training"
      ]
    },
    {
      "cell_type": "code",
      "execution_count": 14,
      "metadata": {
        "colab": {
          "base_uri": "https://localhost:8080/"
        },
        "id": "n5JkMhnJCmhv",
        "outputId": "592a1fc6-173a-41a5-a788-6ed6877aa8ee"
      },
      "outputs": [
        {
          "output_type": "stream",
          "name": "stdout",
          "text": [
            "Train epoch: 0/100 loss: 0.4797094320160113 acc: 84.14266748366018\n",
            "Valid epoch: 0/100 loss: 0.38287443839586704 acc: 88.14903846153845\n",
            "Train epoch: 1/100 loss: 0.33055961808932344 acc: 90.1654411764706\n",
            "Valid epoch: 1/100 loss: 0.3103707471719155 acc: 90.46875000000003\n",
            "Train epoch: 2/100 loss: 0.2761893602562884 acc: 91.577308006536\n",
            "Valid epoch: 2/100 loss: 0.2748257061609855 acc: 91.06971153846156\n",
            "Train epoch: 3/100 loss: 0.2454287240805187 acc: 92.27941176470591\n",
            "Valid epoch: 3/100 loss: 0.25346964941574973 acc: 91.59855769230772\n",
            "Train epoch: 4/100 loss: 0.22554011837719312 acc: 92.79258578431377\n",
            "Valid epoch: 4/100 loss: 0.24018149009117712 acc: 91.89903846153845\n",
            "Train epoch: 5/100 loss: 0.21073942948010999 acc: 93.08874591503265\n",
            "Valid epoch: 5/100 loss: 0.230384679711782 acc: 92.0673076923077\n",
            "Train epoch: 6/100 loss: 0.19935661749122974 acc: 93.40277777777777\n",
            "Valid epoch: 6/100 loss: 0.22364566532465133 acc: 92.15144230769234\n",
            "Train epoch: 7/100 loss: 0.19019577472038535 acc: 93.56872957516342\n",
            "Valid epoch: 7/100 loss: 0.2186024968440716 acc: 92.2596153846154\n",
            "Train epoch: 8/100 loss: 0.18238570010350413 acc: 93.78319035947713\n",
            "Valid epoch: 8/100 loss: 0.21479978790650006 acc: 92.2355769230769\n",
            "Train epoch: 9/100 loss: 0.1758852679696349 acc: 93.98743872549015\n",
            "Valid epoch: 9/100 loss: 0.21159122299689517 acc: 92.24759615384617\n",
            "Train epoch: 10/100 loss: 0.17017499113978904 acc: 94.20445261437911\n",
            "Valid epoch: 10/100 loss: 0.20980215714528008 acc: 92.2596153846154\n",
            "Train epoch: 11/100 loss: 0.16514570212442117 acc: 94.31168300653594\n",
            "Valid epoch: 11/100 loss: 0.2079658241226122 acc: 92.25961538461539\n",
            "Train epoch: 12/100 loss: 0.16070159583115098 acc: 94.43167892156866\n",
            "Valid epoch: 12/100 loss: 0.20818049449187062 acc: 92.21153846153847\n",
            "Train epoch: 13/100 loss: 0.15659242690680858 acc: 94.60018382352939\n",
            "Valid epoch: 13/100 loss: 0.2054664598061488 acc: 92.35576923076923\n",
            "Train epoch: 14/100 loss: 0.1531102625421839 acc: 94.65890522875819\n",
            "Valid epoch: 14/100 loss: 0.20537816217312446 acc: 92.18749999999999\n",
            "Train epoch: 15/100 loss: 0.14955511976496072 acc: 94.83506944444447\n",
            "Valid epoch: 15/100 loss: 0.20541905669065624 acc: 92.19951923076924\n",
            "Train epoch: 16/100 loss: 0.14666023891833085 acc: 94.88102532679741\n",
            "Valid epoch: 16/100 loss: 0.20469179382691016 acc: 92.2235576923077\n",
            "Train epoch: 17/100 loss: 0.1437778262774539 acc: 95.00868055555564\n",
            "Valid epoch: 17/100 loss: 0.20407002682869263 acc: 92.1875\n",
            "Train epoch: 18/100 loss: 0.14101476609414715 acc: 95.11591094771235\n",
            "Valid epoch: 18/100 loss: 0.20316397307010797 acc: 92.2716346153846\n",
            "Train epoch: 19/100 loss: 0.13866376764828867 acc: 95.19505718954252\n",
            "Valid epoch: 19/100 loss: 0.20455466187917268 acc: 92.17548076923075\n",
            "Train epoch: 20/100 loss: 0.1363189789448299 acc: 95.27930964052287\n",
            "Valid epoch: 20/100 loss: 0.20438899856347306 acc: 92.18749999999997\n",
            "Train epoch: 21/100 loss: 0.133175531390056 acc: 95.47589869281043\n",
            "Valid epoch: 21/100 loss: 0.2049679216284018 acc: 92.05528846153847\n",
            "Train epoch: 22/100 loss: 0.13215051313825682 acc: 95.49632352941168\n",
            "Valid epoch: 22/100 loss: 0.20500315496554739 acc: 92.1153846153846\n",
            "Train epoch: 23/100 loss: 0.13070242763101278 acc: 95.56525735294113\n",
            "Valid epoch: 23/100 loss: 0.2028803434509497 acc: 92.16346153846153\n",
            "Train epoch: 24/100 loss: 0.1301818038610851 acc: 95.59334150326795\n",
            "Valid epoch: 24/100 loss: 0.20533674749044267 acc: 92.0673076923077\n",
            "Train epoch: 25/100 loss: 0.12958920916262398 acc: 95.63674428104582\n",
            "Valid epoch: 25/100 loss: 0.2055534665401165 acc: 92.1033653846154\n",
            "Train epoch: 26/100 loss: 0.12889038400079295 acc: 95.6827001633987\n",
            "Valid epoch: 26/100 loss: 0.2059510565721072 acc: 92.0673076923077\n",
            "Train epoch: 27/100 loss: 0.1286612462520209 acc: 95.6520629084967\n",
            "Valid epoch: 27/100 loss: 0.206613051547454 acc: 91.99519230769234\n",
            "Train epoch: 28/100 loss: 0.12830969596318162 acc: 95.67759395424837\n",
            "Valid epoch: 28/100 loss: 0.20566922082350805 acc: 92.03125\n",
            "Train epoch: 29/100 loss: 0.1282095643235187 acc: 95.69546568627449\n",
            "Valid epoch: 29/100 loss: 0.20620462802740247 acc: 91.98317307692307\n",
            "Train epoch: 30/100 loss: 0.1279701077519287 acc: 95.70567810457518\n",
            "Valid epoch: 30/100 loss: 0.20558366832824848 acc: 92.05528846153845\n",
            "Train epoch: 31/100 loss: 0.12791750779728472 acc: 95.70823120915034\n",
            "Valid epoch: 31/100 loss: 0.20574310272932056 acc: 92.05528846153844\n",
            "Train epoch: 32/100 loss: 0.1278431029393784 acc: 95.71078431372548\n",
            "Valid epoch: 32/100 loss: 0.2061747442071255 acc: 91.99519230769229\n",
            "Train epoch: 33/100 loss: 0.12777116807068098 acc: 95.72354983660138\n",
            "Valid epoch: 33/100 loss: 0.20499287912478814 acc: 92.06730769230771\n",
            "Train epoch: 34/100 loss: 0.1277071010881389 acc: 95.72354983660134\n",
            "Valid epoch: 34/100 loss: 0.20555537262788184 acc: 92.01923076923072\n",
            "Train epoch: 35/100 loss: 0.127676699383586 acc: 95.72354983660134\n",
            "Valid epoch: 35/100 loss: 0.20637661803227206 acc: 92.03124999999999\n",
            "Train epoch: 36/100 loss: 0.12767955582905446 acc: 95.73120915032679\n",
            "Valid epoch: 36/100 loss: 0.20647956339212561 acc: 91.99519230769232\n",
            "Train epoch: 37/100 loss: 0.12769755601785543 acc: 95.72610294117645\n",
            "Valid epoch: 37/100 loss: 0.20597317104156201 acc: 92.03125\n",
            "Train epoch: 38/100 loss: 0.1276082497552717 acc: 95.73376225490198\n",
            "Valid epoch: 38/100 loss: 0.20554222854284143 acc: 92.03124999999999\n",
            "Train epoch: 39/100 loss: 0.12767009836396362 acc: 95.72354983660131\n",
            "Valid epoch: 39/100 loss: 0.20594056947873182 acc: 92.05528846153848\n",
            "Train epoch: 40/100 loss: 0.1277011154718648 acc: 95.72865604575162\n",
            "Valid epoch: 40/100 loss: 0.2059799635639557 acc: 92.03125000000001\n",
            "Train epoch: 41/100 loss: 0.12764180953206591 acc: 95.733762254902\n",
            "Valid epoch: 41/100 loss: 0.20684615167287684 acc: 91.9951923076923\n",
            "Train epoch: 42/100 loss: 0.12769208122897005 acc: 95.73376225490193\n",
            "Valid epoch: 42/100 loss: 0.2049858233103386 acc: 92.07932692307693\n",
            "Train epoch: 43/100 loss: 0.12761077416293778 acc: 95.73376225490198\n",
            "Valid epoch: 43/100 loss: 0.20543533013417176 acc: 92.04326923076921\n",
            "Train epoch: 44/100 loss: 0.12768194286359677 acc: 95.73120915032675\n",
            "Valid epoch: 44/100 loss: 0.20648976060060356 acc: 92.00721153846155\n",
            "Train epoch: 45/100 loss: 0.1276771655074912 acc: 95.7312091503268\n",
            "Valid epoch: 45/100 loss: 0.20601635025097778 acc: 92.06730769230766\n",
            "Train epoch: 46/100 loss: 0.127646758957626 acc: 95.7337622549019\n",
            "Valid epoch: 46/100 loss: 0.20623210553939522 acc: 92.03125000000001\n",
            "Train epoch: 47/100 loss: 0.12761184217688318 acc: 95.73631535947713\n",
            "Valid epoch: 47/100 loss: 0.2046708534543331 acc: 92.10336538461537\n",
            "Train epoch: 48/100 loss: 0.12759833351946342 acc: 95.73886846405232\n",
            "Valid epoch: 48/100 loss: 0.20554135499092246 acc: 92.03125\n",
            "Train epoch: 49/100 loss: 0.12767717120499403 acc: 95.73376225490193\n",
            "Valid epoch: 49/100 loss: 0.20599779280332411 acc: 92.03125000000003\n",
            "Train epoch: 50/100 loss: 0.12765847678521494 acc: 95.73376225490199\n",
            "Valid epoch: 50/100 loss: 0.20579103999412973 acc: 92.04326923076923\n",
            "Train epoch: 51/100 loss: 0.12763316481331582 acc: 95.73376225490195\n",
            "Valid epoch: 51/100 loss: 0.20620980755640905 acc: 92.03125\n",
            "Train epoch: 52/100 loss: 0.12770451588276155 acc: 95.73120915032679\n",
            "Valid epoch: 52/100 loss: 0.20608513561578903 acc: 92.03125\n",
            "Train epoch: 53/100 loss: 0.12765185201382323 acc: 95.73376225490196\n",
            "Valid epoch: 53/100 loss: 0.20583464549138 acc: 92.04326923076921\n",
            "Train epoch: 54/100 loss: 0.1275653965235536 acc: 95.7363153594771\n",
            "Valid epoch: 54/100 loss: 0.2055526100672208 acc: 92.07932692307695\n",
            "Train epoch: 55/100 loss: 0.1276925139226555 acc: 95.73376225490189\n",
            "Valid epoch: 55/100 loss: 0.20587542974031894 acc: 92.0192307692308\n",
            "Train epoch: 56/100 loss: 0.12770681492253844 acc: 95.7312091503268\n",
            "Valid epoch: 56/100 loss: 0.20563075278814028 acc: 92.03125000000003\n",
            "Train epoch: 57/100 loss: 0.12767682052856555 acc: 95.73376225490189\n",
            "Valid epoch: 57/100 loss: 0.20607192734113108 acc: 92.01923076923076\n",
            "Train epoch: 58/100 loss: 0.12760749262045423 acc: 95.7388684640523\n",
            "Valid epoch: 58/100 loss: 0.20558289472873398 acc: 92.03124999999999\n",
            "Train epoch: 59/100 loss: 0.1276392121525371 acc: 95.73376225490198\n",
            "Valid epoch: 59/100 loss: 0.20634893935460313 acc: 92.00721153846149\n",
            "Train epoch: 60/100 loss: 0.1277083495473552 acc: 95.73120915032673\n",
            "Valid epoch: 60/100 loss: 0.2058416278316424 acc: 92.0432692307692\n",
            "Train epoch: 61/100 loss: 0.1276305725956275 acc: 95.73631535947713\n",
            "Valid epoch: 61/100 loss: 0.206147823540064 acc: 92.04326923076921\n",
            "Train epoch: 62/100 loss: 0.12756459137388307 acc: 95.73631535947713\n",
            "Valid epoch: 62/100 loss: 0.20590226294902658 acc: 92.0432692307692\n",
            "Train epoch: 63/100 loss: 0.12766122581814632 acc: 95.73120915032682\n",
            "Valid epoch: 63/100 loss: 0.20604762389109688 acc: 92.04326923076924\n",
            "Train epoch: 64/100 loss: 0.12766994832972295 acc: 95.73120915032676\n",
            "Valid epoch: 64/100 loss: 0.20582537926160369 acc: 92.03125\n",
            "Train epoch: 65/100 loss: 0.12765934306129906 acc: 95.73631535947713\n",
            "Valid epoch: 65/100 loss: 0.20562417128911387 acc: 92.0793269230769\n",
            "Train epoch: 66/100 loss: 0.12766879730023978 acc: 95.73376225490212\n",
            "Valid epoch: 66/100 loss: 0.2062466981319281 acc: 92.00721153846152\n",
            "Train epoch: 67/100 loss: 0.12765077073005288 acc: 95.73376225490198\n",
            "Valid epoch: 67/100 loss: 0.20608419753037963 acc: 92.00721153846152\n",
            "Train epoch: 68/100 loss: 0.1276027086659583 acc: 95.73631535947713\n",
            "Valid epoch: 68/100 loss: 0.20550495729996604 acc: 92.04326923076921\n",
            "Train epoch: 69/100 loss: 0.1276585119076414 acc: 95.73631535947705\n",
            "Valid epoch: 69/100 loss: 0.20538912679140384 acc: 92.05528846153848\n",
            "Train epoch: 70/100 loss: 0.12764332976703546 acc: 95.73120915032679\n",
            "Valid epoch: 70/100 loss: 0.20546121826538669 acc: 92.07932692307693\n",
            "Train epoch: 71/100 loss: 0.12765469588339323 acc: 95.73376225490195\n",
            "Valid epoch: 71/100 loss: 0.20383248042601806 acc: 92.07932692307696\n",
            "Train epoch: 72/100 loss: 0.12755833680625836 acc: 95.74142156862747\n",
            "Valid epoch: 72/100 loss: 0.20538794398307794 acc: 92.06730769230771\n",
            "Train epoch: 73/100 loss: 0.12753524869875194 acc: 95.74397467320257\n",
            "Valid epoch: 73/100 loss: 0.20569420330799543 acc: 92.03125000000003\n",
            "Train epoch: 74/100 loss: 0.12759922919612315 acc: 95.7363153594771\n",
            "Valid epoch: 74/100 loss: 0.20561353976909927 acc: 92.03124999999997\n",
            "Train epoch: 75/100 loss: 0.12769743332675865 acc: 95.73120915032672\n",
            "Valid epoch: 75/100 loss: 0.20524592433984457 acc: 92.0793269230769\n",
            "Train epoch: 76/100 loss: 0.12767844503514134 acc: 95.73120915032688\n",
            "Valid epoch: 76/100 loss: 0.20598478752833144 acc: 92.01923076923076\n",
            "Train epoch: 77/100 loss: 0.12758593613074876 acc: 95.73631535947709\n",
            "Valid epoch: 77/100 loss: 0.20626807854725768 acc: 92.03125000000001\n",
            "Train epoch: 78/100 loss: 0.12768816137138536 acc: 95.73120915032679\n",
            "Valid epoch: 78/100 loss: 0.20634398769873832 acc: 92.00721153846152\n",
            "Train epoch: 79/100 loss: 0.12763622300881977 acc: 95.73631535947717\n",
            "Valid epoch: 79/100 loss: 0.20607020774712934 acc: 92.05528846153844\n",
            "Train epoch: 80/100 loss: 0.1276532724937972 acc: 95.73120915032683\n",
            "Valid epoch: 80/100 loss: 0.2052245277624864 acc: 92.0432692307692\n",
            "Train epoch: 81/100 loss: 0.12763179632914218 acc: 95.73376225490203\n",
            "Valid epoch: 81/100 loss: 0.20613753451750833 acc: 92.03124999999997\n",
            "Train epoch: 82/100 loss: 0.1277016918570582 acc: 95.73120915032682\n",
            "Valid epoch: 82/100 loss: 0.2053510424036246 acc: 92.04326923076918\n",
            "Train epoch: 83/100 loss: 0.12765155588976684 acc: 95.73376225490193\n",
            "Valid epoch: 83/100 loss: 0.20517617337978802 acc: 92.0673076923077\n",
            "Train epoch: 84/100 loss: 0.12764686151267643 acc: 95.73120915032679\n",
            "Valid epoch: 84/100 loss: 0.2053860478676282 acc: 92.07932692307693\n",
            "Train epoch: 85/100 loss: 0.12766477782157507 acc: 95.733762254902\n",
            "Valid epoch: 85/100 loss: 0.2050862385676457 acc: 92.05528846153844\n",
            "Train epoch: 86/100 loss: 0.12760625231791944 acc: 95.73376225490188\n",
            "Valid epoch: 86/100 loss: 0.2051231659375704 acc: 92.07932692307693\n",
            "Train epoch: 87/100 loss: 0.12766995563421368 acc: 95.7312091503268\n",
            "Valid epoch: 87/100 loss: 0.20505343560989087 acc: 92.06730769230772\n",
            "Train epoch: 88/100 loss: 0.12767419998162727 acc: 95.73376225490189\n",
            "Valid epoch: 88/100 loss: 0.20526684453854196 acc: 92.05528846153847\n",
            "Train epoch: 89/100 loss: 0.1276351427476779 acc: 95.73886846405227\n",
            "Valid epoch: 89/100 loss: 0.20525398254394528 acc: 92.07932692307689\n",
            "Train epoch: 90/100 loss: 0.12764240842726501 acc: 95.73120915032678\n",
            "Valid epoch: 90/100 loss: 0.20591242531171208 acc: 92.04326923076921\n",
            "Train epoch: 91/100 loss: 0.12767975124853095 acc: 95.73120915032685\n",
            "Valid epoch: 91/100 loss: 0.20532663957430766 acc: 92.04326923076924\n",
            "Train epoch: 92/100 loss: 0.12767550093578364 acc: 95.73376225490198\n",
            "Valid epoch: 92/100 loss: 0.20592280695071585 acc: 92.03124999999999\n",
            "Train epoch: 93/100 loss: 0.1276614265699013 acc: 95.73376225490198\n",
            "Valid epoch: 93/100 loss: 0.20606852712539525 acc: 92.01923076923076\n",
            "Train epoch: 94/100 loss: 0.12765627366557616 acc: 95.73631535947706\n",
            "Valid epoch: 94/100 loss: 0.20463000215016877 acc: 92.09134615384617\n",
            "Train epoch: 95/100 loss: 0.12761888913566785 acc: 95.73631535947716\n",
            "Valid epoch: 95/100 loss: 0.2043179779098584 acc: 92.10336538461537\n",
            "Train epoch: 96/100 loss: 0.12766597945900524 acc: 95.73376225490198\n",
            "Valid epoch: 96/100 loss: 0.20614378085503213 acc: 92.04326923076923\n",
            "Train epoch: 97/100 loss: 0.12766377363670484 acc: 95.7337622549019\n",
            "Valid epoch: 97/100 loss: 0.20614555833431392 acc: 92.04326923076921\n",
            "Train epoch: 98/100 loss: 0.1276305191511032 acc: 95.73631535947715\n",
            "Valid epoch: 98/100 loss: 0.2061429243821364 acc: 92.03125000000001\n",
            "Train epoch: 99/100 loss: 0.12759790304147337 acc: 95.73631535947708\n",
            "Valid epoch: 99/100 loss: 0.2047559492863141 acc: 92.06730769230768\n"
          ]
        }
      ],
      "source": [
        "loss_func = nn.BCEWithLogitsLoss()\n",
        "optimizer = optim.Adam(classifier.parameters(), lr=args.learning_rate)\n",
        "scheduler = optim.lr_scheduler.ReduceLROnPlateau(optimizer=optimizer,\n",
        "                                                 mode='min', factor=0.5,\n",
        "                                                 patience=1)\n",
        "\n",
        "def compute_accuracy(y_pred, y_target):\n",
        "    y_target = y_target.cpu()\n",
        "    y_pred_indices = (torch.sigmoid(y_pred) > 0.5).cpu().long()#.max(dim=1)[1]\n",
        "    n_correct = torch.eq(y_pred_indices, y_target).sum().item()\n",
        "    return n_correct / len(y_pred_indices) * 100\n",
        "\n",
        "for epoch_index in range(args.num_epochs):\n",
        "    # TRAIN\n",
        "    dataset.set_split('train')\n",
        "    batch_generator = generate_batches(dataset, \n",
        "                                       batch_size=args.batch_size, \n",
        "                                       device=args.device)\n",
        "    running_loss = 0.0\n",
        "    running_acc = 0.0\n",
        "    classifier.train()\n",
        "\n",
        "    for batch_index, batch_dict in enumerate(batch_generator):\n",
        "            # step 1. zero the gradients\n",
        "            optimizer.zero_grad()\n",
        "\n",
        "            # step 2. compute the output\n",
        "            y_pred = classifier(x_in=batch_dict['x_data'].float())\n",
        "\n",
        "            # step 3. compute the loss\n",
        "            loss = loss_func(y_pred, batch_dict['y_target'].float())\n",
        "            loss_t = loss.item()\n",
        "            running_loss += (loss_t - running_loss) / (batch_index + 1)\n",
        "\n",
        "            # step 4. use loss to produce gradients\n",
        "            loss.backward()\n",
        "\n",
        "            # step 5. use optimizer to take gradient step\n",
        "            optimizer.step()\n",
        "            # -----------------------------------------\n",
        "            # compute the accuracy\n",
        "            acc_t = compute_accuracy(y_pred, batch_dict['y_target'])\n",
        "            running_acc += (acc_t - running_acc) / (batch_index + 1)\n",
        "    \n",
        "    print(f\"Train epoch: {epoch_index}/{args.num_epochs} loss: {running_loss} acc: {running_acc}\")            \n",
        "\n",
        "    # VAL\n",
        "    dataset.set_split('val')\n",
        "    batch_generator = generate_batches(dataset, \n",
        "                                       batch_size=args.batch_size, \n",
        "                                       device=args.device)\n",
        "    running_loss = 0.\n",
        "    running_acc = 0.\n",
        "    classifier.eval()\n",
        "\n",
        "    for batch_index, batch_dict in enumerate(batch_generator):\n",
        "        # compute the output\n",
        "        y_pred = classifier(x_in=batch_dict['x_data'].float())\n",
        "\n",
        "        # compute the loss\n",
        "        loss = loss_func(y_pred, batch_dict['y_target'].float())\n",
        "        loss_t = loss.item()\n",
        "        running_loss += (loss_t - running_loss) / (batch_index + 1)\n",
        "\n",
        "        # compute the accuracy\n",
        "        acc_t = compute_accuracy(y_pred, batch_dict['y_target'])\n",
        "        running_acc += (acc_t - running_acc) / (batch_index + 1)\n",
        "        \n",
        "    print(f\"Valid epoch: {epoch_index}/{args.num_epochs} loss: {running_loss} acc: {running_acc}\")                 \n",
        "    scheduler.step(running_loss)\n",
        "\n"
      ]
    },
    {
      "cell_type": "markdown",
      "metadata": {
        "id": "l2L9vsbQLKaJ"
      },
      "source": [
        "# Test"
      ]
    },
    {
      "cell_type": "code",
      "execution_count": 15,
      "metadata": {
        "colab": {
          "base_uri": "https://localhost:8080/"
        },
        "id": "3kBm2iO2B04Z",
        "outputId": "b9a7322b-381a-4586-96fd-d550e1c1178a"
      },
      "outputs": [
        {
          "output_type": "stream",
          "name": "stdout",
          "text": [
            "Test loss: 0.2175067478647599 acc: 91.82692307692305\n"
          ]
        }
      ],
      "source": [
        "classifier = classifier.to(args.device)\n",
        "\n",
        "dataset.set_split('test')\n",
        "batch_generator = generate_batches(dataset, \n",
        "                                   batch_size=args.batch_size, \n",
        "                                   device=args.device)\n",
        "running_loss = 0.\n",
        "running_acc = 0.\n",
        "classifier.eval()\n",
        "\n",
        "for batch_index, batch_dict in enumerate(batch_generator):\n",
        "    # compute the output\n",
        "    y_pred = classifier(x_in=batch_dict['x_data'].float())\n",
        "\n",
        "    # compute the loss\n",
        "    loss = loss_func(y_pred, batch_dict['y_target'].float())\n",
        "    loss_t = loss.item()\n",
        "    running_loss += (loss_t - running_loss) / (batch_index + 1)\n",
        "\n",
        "    # compute the accuracy\n",
        "    acc_t = compute_accuracy(y_pred, batch_dict['y_target'])\n",
        "    running_acc += (acc_t - running_acc) / (batch_index + 1)\n",
        "\n",
        "print(f\"Test loss: {running_loss} acc: {running_acc}\") "
      ]
    },
    {
      "cell_type": "markdown",
      "metadata": {
        "id": "kKWjUTZ0foAd"
      },
      "source": [
        "# Inference"
      ]
    },
    {
      "cell_type": "code",
      "execution_count": 21,
      "metadata": {
        "id": "EnLHhxkKfo9J",
        "outputId": "fed707a7-b47a-40e4-9cef-0a64178e40f6",
        "colab": {
          "base_uri": "https://localhost:8080/"
        }
      },
      "outputs": [
        {
          "output_type": "stream",
          "name": "stdout",
          "text": [
            "this is a pretty awesome notebook -> positive\n"
          ]
        }
      ],
      "source": [
        "import re\n",
        "def preprocess_text(text):\n",
        "    text = text.lower()\n",
        "    text = re.sub(r\"([.,!?])\", r\" \\1 \", text)\n",
        "    text = re.sub(r\"[^a-zA-Z.,!?]+\", r\" \", text)\n",
        "    return text\n",
        "\n",
        "def predict_rating(review, classifier, vectorizer, decision_threshold=0.5):\n",
        "    review = preprocess_text(review)\n",
        "    vectorized_review = torch.tensor(vectorizer.vectorize(review))\n",
        "    result = classifier(vectorized_review.view(1, -1).to(args.device))\n",
        "\n",
        "    probability_value = torch.sigmoid(result).item()\n",
        "\n",
        "    index =  1\n",
        "    if probability_value < decision_threshold:\n",
        "        index = 0\n",
        "\n",
        "    return vectorizer.rating_vocab.lookup_index(index)\n",
        "\n",
        "test_review = \"this is a pretty awesome notebook\"\n",
        "prediction = predict_rating(test_review, classifier, vectorizer)\n",
        "print(f\"{test_review} -> {prediction}\")\n"
      ]
    },
    {
      "cell_type": "markdown",
      "metadata": {
        "id": "QUfbUDkQL5eq"
      },
      "source": [
        "# Interpretability"
      ]
    },
    {
      "cell_type": "code",
      "execution_count": 23,
      "metadata": {
        "colab": {
          "base_uri": "https://localhost:8080/"
        },
        "id": "o26VuMH9LZm_",
        "outputId": "1fd939ae-7251-4428-9079-1290291b68e6"
      },
      "outputs": [
        {
          "output_type": "stream",
          "name": "stdout",
          "text": [
            "Influential words in Positive Reviews:\n",
            "--------------------------------------\n",
            "delicious\n",
            "pleasantly\n",
            "fantastic\n",
            "amazing\n",
            "vegas\n",
            "great\n",
            "yum\n",
            "ngreat\n",
            "excellent\n",
            "perfect\n",
            "yummy\n",
            "awesome\n",
            "bomb\n",
            "chinatown\n",
            "deliciousness\n",
            "love\n",
            "hooked\n",
            "solid\n",
            "pleased\n",
            "notch\n",
            "====\n",
            "\n",
            "\n",
            "\n",
            "Influential words in Negative Reviews:\n",
            "--------------------------------------\n",
            "worst\n",
            "mediocre\n",
            "bland\n",
            "horrible\n",
            "meh\n",
            "awful\n",
            "rude\n",
            "terrible\n",
            "tasteless\n",
            "unacceptable\n",
            "overpriced\n",
            "slowest\n",
            "disgusting\n",
            "poorly\n",
            "unfriendly\n",
            "nmaybe\n",
            "underwhelmed\n",
            "disappointment\n",
            "downhill\n",
            "disappointing\n"
          ]
        }
      ],
      "source": [
        "fc1_weights = classifier.fc1.weight.cpu().detach()[0]\n",
        "weights, indices = torch.sort(fc1_weights, dim=0, descending=True)\n",
        "\n",
        "indices = indices.numpy().tolist()\n",
        "\n",
        "\n",
        "# Top 20 words\n",
        "print(\"Influential words in Positive Reviews:\")\n",
        "print(\"--------------------------------------\")\n",
        "for i in range(20):\n",
        "    print(vectorizer.review_vocab.lookup_index(indices[i]))\n",
        "    \n",
        "print(\"====\\n\\n\\n\")\n",
        "\n",
        "# Top 20 negative words\n",
        "print(\"Influential words in Negative Reviews:\")\n",
        "print(\"--------------------------------------\")\n",
        "indices.reverse()\n",
        "for i in range(20):\n",
        "    print(vectorizer.review_vocab.lookup_index(indices[i]))\n"
      ]
    },
    {
      "cell_type": "code",
      "execution_count": null,
      "metadata": {
        "id": "Caj4YogjL-EY"
      },
      "outputs": [],
      "source": []
    }
  ],
  "metadata": {
    "accelerator": "GPU",
    "colab": {
      "collapsed_sections": [],
      "provenance": []
    },
    "gpuClass": "standard",
    "kernelspec": {
      "display_name": "Python 3 (ipykernel)",
      "language": "python",
      "name": "python3"
    },
    "language_info": {
      "codemirror_mode": {
        "name": "ipython",
        "version": 3
      },
      "file_extension": ".py",
      "mimetype": "text/x-python",
      "name": "python",
      "nbconvert_exporter": "python",
      "pygments_lexer": "ipython3",
      "version": "3.8.13"
    },
    "widgets": {
      "application/vnd.jupyter.widget-state+json": {
        "273e7670e85c43e1adfca4d29b8c8ff2": {
          "model_module": "@jupyter-widgets/controls",
          "model_name": "HBoxModel",
          "model_module_version": "1.5.0",
          "state": {
            "_dom_classes": [],
            "_model_module": "@jupyter-widgets/controls",
            "_model_module_version": "1.5.0",
            "_model_name": "HBoxModel",
            "_view_count": null,
            "_view_module": "@jupyter-widgets/controls",
            "_view_module_version": "1.5.0",
            "_view_name": "HBoxView",
            "box_style": "",
            "children": [
              "IPY_MODEL_017f7b3f608143a28ac0ea0ce9dc057c",
              "IPY_MODEL_4047dcddc72a4206b8837caa70e3b9ac",
              "IPY_MODEL_f19cf3a075f94fef95c840aec2dcdad5"
            ],
            "layout": "IPY_MODEL_bcb704239b624eb18b41056dd94c0c1f"
          }
        },
        "017f7b3f608143a28ac0ea0ce9dc057c": {
          "model_module": "@jupyter-widgets/controls",
          "model_name": "HTMLModel",
          "model_module_version": "1.5.0",
          "state": {
            "_dom_classes": [],
            "_model_module": "@jupyter-widgets/controls",
            "_model_module_version": "1.5.0",
            "_model_name": "HTMLModel",
            "_view_count": null,
            "_view_module": "@jupyter-widgets/controls",
            "_view_module_version": "1.5.0",
            "_view_name": "HTMLView",
            "description": "",
            "description_tooltip": null,
            "layout": "IPY_MODEL_8e285e71ef1046fca149eed4df940ed4",
            "placeholder": "​",
            "style": "IPY_MODEL_23fe11e1f097466dbfd22c45e0c2c0b3",
            "value": "100%"
          }
        },
        "4047dcddc72a4206b8837caa70e3b9ac": {
          "model_module": "@jupyter-widgets/controls",
          "model_name": "FloatProgressModel",
          "model_module_version": "1.5.0",
          "state": {
            "_dom_classes": [],
            "_model_module": "@jupyter-widgets/controls",
            "_model_module_version": "1.5.0",
            "_model_name": "FloatProgressModel",
            "_view_count": null,
            "_view_module": "@jupyter-widgets/controls",
            "_view_module_version": "1.5.0",
            "_view_name": "ProgressView",
            "bar_style": "success",
            "description": "",
            "description_tooltip": null,
            "layout": "IPY_MODEL_85abf5996edd4af5a05372bcdfe71e83",
            "max": 39200,
            "min": 0,
            "orientation": "horizontal",
            "style": "IPY_MODEL_c0a584ad5e044f7280b0a3b092d4ccc4",
            "value": 39200
          }
        },
        "f19cf3a075f94fef95c840aec2dcdad5": {
          "model_module": "@jupyter-widgets/controls",
          "model_name": "HTMLModel",
          "model_module_version": "1.5.0",
          "state": {
            "_dom_classes": [],
            "_model_module": "@jupyter-widgets/controls",
            "_model_module_version": "1.5.0",
            "_model_name": "HTMLModel",
            "_view_count": null,
            "_view_module": "@jupyter-widgets/controls",
            "_view_module_version": "1.5.0",
            "_view_name": "HTMLView",
            "description": "",
            "description_tooltip": null,
            "layout": "IPY_MODEL_bc155ea915064773a0fb51aaa5ccb304",
            "placeholder": "​",
            "style": "IPY_MODEL_cd46b17049b34814a492b29b0116a0d9",
            "value": " 39200/39200 [00:23&lt;00:00, 3060.72it/s]"
          }
        },
        "bcb704239b624eb18b41056dd94c0c1f": {
          "model_module": "@jupyter-widgets/base",
          "model_name": "LayoutModel",
          "model_module_version": "1.2.0",
          "state": {
            "_model_module": "@jupyter-widgets/base",
            "_model_module_version": "1.2.0",
            "_model_name": "LayoutModel",
            "_view_count": null,
            "_view_module": "@jupyter-widgets/base",
            "_view_module_version": "1.2.0",
            "_view_name": "LayoutView",
            "align_content": null,
            "align_items": null,
            "align_self": null,
            "border": null,
            "bottom": null,
            "display": null,
            "flex": null,
            "flex_flow": null,
            "grid_area": null,
            "grid_auto_columns": null,
            "grid_auto_flow": null,
            "grid_auto_rows": null,
            "grid_column": null,
            "grid_gap": null,
            "grid_row": null,
            "grid_template_areas": null,
            "grid_template_columns": null,
            "grid_template_rows": null,
            "height": null,
            "justify_content": null,
            "justify_items": null,
            "left": null,
            "margin": null,
            "max_height": null,
            "max_width": null,
            "min_height": null,
            "min_width": null,
            "object_fit": null,
            "object_position": null,
            "order": null,
            "overflow": null,
            "overflow_x": null,
            "overflow_y": null,
            "padding": null,
            "right": null,
            "top": null,
            "visibility": null,
            "width": null
          }
        },
        "8e285e71ef1046fca149eed4df940ed4": {
          "model_module": "@jupyter-widgets/base",
          "model_name": "LayoutModel",
          "model_module_version": "1.2.0",
          "state": {
            "_model_module": "@jupyter-widgets/base",
            "_model_module_version": "1.2.0",
            "_model_name": "LayoutModel",
            "_view_count": null,
            "_view_module": "@jupyter-widgets/base",
            "_view_module_version": "1.2.0",
            "_view_name": "LayoutView",
            "align_content": null,
            "align_items": null,
            "align_self": null,
            "border": null,
            "bottom": null,
            "display": null,
            "flex": null,
            "flex_flow": null,
            "grid_area": null,
            "grid_auto_columns": null,
            "grid_auto_flow": null,
            "grid_auto_rows": null,
            "grid_column": null,
            "grid_gap": null,
            "grid_row": null,
            "grid_template_areas": null,
            "grid_template_columns": null,
            "grid_template_rows": null,
            "height": null,
            "justify_content": null,
            "justify_items": null,
            "left": null,
            "margin": null,
            "max_height": null,
            "max_width": null,
            "min_height": null,
            "min_width": null,
            "object_fit": null,
            "object_position": null,
            "order": null,
            "overflow": null,
            "overflow_x": null,
            "overflow_y": null,
            "padding": null,
            "right": null,
            "top": null,
            "visibility": null,
            "width": null
          }
        },
        "23fe11e1f097466dbfd22c45e0c2c0b3": {
          "model_module": "@jupyter-widgets/controls",
          "model_name": "DescriptionStyleModel",
          "model_module_version": "1.5.0",
          "state": {
            "_model_module": "@jupyter-widgets/controls",
            "_model_module_version": "1.5.0",
            "_model_name": "DescriptionStyleModel",
            "_view_count": null,
            "_view_module": "@jupyter-widgets/base",
            "_view_module_version": "1.2.0",
            "_view_name": "StyleView",
            "description_width": ""
          }
        },
        "85abf5996edd4af5a05372bcdfe71e83": {
          "model_module": "@jupyter-widgets/base",
          "model_name": "LayoutModel",
          "model_module_version": "1.2.0",
          "state": {
            "_model_module": "@jupyter-widgets/base",
            "_model_module_version": "1.2.0",
            "_model_name": "LayoutModel",
            "_view_count": null,
            "_view_module": "@jupyter-widgets/base",
            "_view_module_version": "1.2.0",
            "_view_name": "LayoutView",
            "align_content": null,
            "align_items": null,
            "align_self": null,
            "border": null,
            "bottom": null,
            "display": null,
            "flex": null,
            "flex_flow": null,
            "grid_area": null,
            "grid_auto_columns": null,
            "grid_auto_flow": null,
            "grid_auto_rows": null,
            "grid_column": null,
            "grid_gap": null,
            "grid_row": null,
            "grid_template_areas": null,
            "grid_template_columns": null,
            "grid_template_rows": null,
            "height": null,
            "justify_content": null,
            "justify_items": null,
            "left": null,
            "margin": null,
            "max_height": null,
            "max_width": null,
            "min_height": null,
            "min_width": null,
            "object_fit": null,
            "object_position": null,
            "order": null,
            "overflow": null,
            "overflow_x": null,
            "overflow_y": null,
            "padding": null,
            "right": null,
            "top": null,
            "visibility": null,
            "width": null
          }
        },
        "c0a584ad5e044f7280b0a3b092d4ccc4": {
          "model_module": "@jupyter-widgets/controls",
          "model_name": "ProgressStyleModel",
          "model_module_version": "1.5.0",
          "state": {
            "_model_module": "@jupyter-widgets/controls",
            "_model_module_version": "1.5.0",
            "_model_name": "ProgressStyleModel",
            "_view_count": null,
            "_view_module": "@jupyter-widgets/base",
            "_view_module_version": "1.2.0",
            "_view_name": "StyleView",
            "bar_color": null,
            "description_width": ""
          }
        },
        "bc155ea915064773a0fb51aaa5ccb304": {
          "model_module": "@jupyter-widgets/base",
          "model_name": "LayoutModel",
          "model_module_version": "1.2.0",
          "state": {
            "_model_module": "@jupyter-widgets/base",
            "_model_module_version": "1.2.0",
            "_model_name": "LayoutModel",
            "_view_count": null,
            "_view_module": "@jupyter-widgets/base",
            "_view_module_version": "1.2.0",
            "_view_name": "LayoutView",
            "align_content": null,
            "align_items": null,
            "align_self": null,
            "border": null,
            "bottom": null,
            "display": null,
            "flex": null,
            "flex_flow": null,
            "grid_area": null,
            "grid_auto_columns": null,
            "grid_auto_flow": null,
            "grid_auto_rows": null,
            "grid_column": null,
            "grid_gap": null,
            "grid_row": null,
            "grid_template_areas": null,
            "grid_template_columns": null,
            "grid_template_rows": null,
            "height": null,
            "justify_content": null,
            "justify_items": null,
            "left": null,
            "margin": null,
            "max_height": null,
            "max_width": null,
            "min_height": null,
            "min_width": null,
            "object_fit": null,
            "object_position": null,
            "order": null,
            "overflow": null,
            "overflow_x": null,
            "overflow_y": null,
            "padding": null,
            "right": null,
            "top": null,
            "visibility": null,
            "width": null
          }
        },
        "cd46b17049b34814a492b29b0116a0d9": {
          "model_module": "@jupyter-widgets/controls",
          "model_name": "DescriptionStyleModel",
          "model_module_version": "1.5.0",
          "state": {
            "_model_module": "@jupyter-widgets/controls",
            "_model_module_version": "1.5.0",
            "_model_name": "DescriptionStyleModel",
            "_view_count": null,
            "_view_module": "@jupyter-widgets/base",
            "_view_module_version": "1.2.0",
            "_view_name": "StyleView",
            "description_width": ""
          }
        }
      }
    }
  },
  "nbformat": 4,
  "nbformat_minor": 0
}