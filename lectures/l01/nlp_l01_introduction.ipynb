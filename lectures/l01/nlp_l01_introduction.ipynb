{
 "cells": [
  {
   "cell_type": "markdown",
   "metadata": {
    "id": "A7r9m3m8cBtJ"
   },
   "source": [
    "# One-hot representation"
   ]
  },
  {
   "cell_type": "code",
   "execution_count": 1,
   "metadata": {
    "colab": {
     "base_uri": "https://localhost:8080/",
     "height": 282
    },
    "executionInfo": {
     "elapsed": 585,
     "status": "ok",
     "timestamp": 1659516946023,
     "user": {
      "displayName": "Branko Žitko",
      "userId": "04777374732866690844"
     },
     "user_tz": -120
    },
    "id": "sQ_8KESmii_o",
    "outputId": "60d97007-8fc0-42c2-ee43-6c630a87f018"
   },
   "outputs": [
    {
     "data": {
      "text/plain": [
       "<AxesSubplot:>"
      ]
     },
     "execution_count": 1,
     "metadata": {},
     "output_type": "execute_result"
    },
    {
     "data": {
      "image/png": "[encoded data removed]",
      "text/plain": [
       "<Figure size 432x288 with 1 Axes>"
      ]
     },
     "metadata": {
      "needs_background": "light"
     },
     "output_type": "display_data"
    }
   ],
   "source": [
    "from sklearn.feature_extraction.text import CountVectorizer\n",
    "import seaborn as sns\n",
    "\n",
    "corpus = ['Time flies like an arrow.',\n",
    "          'Fruit flies like a banana.']\n",
    "\n",
    "one_hot_vectorizer = CountVectorizer(binary=True, lowercase=True)\n",
    "one_hot = one_hot_vectorizer.fit_transform(corpus).toarray()\n",
    "vocab = one_hot_vectorizer.get_feature_names_out()\n",
    "\n",
    "sns.heatmap(one_hot, annot=True, cbar=False, xticklabels=vocab,\n",
    "            yticklabels=corpus)"
   ]
  },
  {
   "cell_type": "markdown",
   "metadata": {
    "id": "vOSn4dqJcHAk"
   },
   "source": [
    "# TF-IDF representation\n",
    "\n",
    "$\\text{tfidf}(w) = \\text{tf}(w) * \\text{idf}(w)$\n",
    "\n",
    "* $\\text{tf}(w)$ - frequency of $w$ in current document\n",
    "* $\\text{idf}(w) = log_e(\\frac{N}{N_w})$ - $N$ is number od documents, $N_w$ is number of times $w$ occurs in all documents.\n",
    "\n",
    "`TfidfVectorizer` by default uses smooth idf and L2 normalization.\n",
    "* $\\text{smooth_idf}(w) = log_e(\\frac{N+1}{N_w+1}) + 1$\n",
    "\n",
    "See: https://www.analyticsvidhya.com/blog/2021/11/how-sklearns-tfidfvectorizer-calculates-tf-idf-values/\n"
   ]
  },
  {
   "cell_type": "code",
   "execution_count": 2,
   "metadata": {
    "colab": {
     "base_uri": "https://localhost:8080/",
     "height": 282
    },
    "executionInfo": {
     "elapsed": 9,
     "status": "ok",
     "timestamp": 1659516946024,
     "user": {
      "displayName": "Branko Žitko",
      "userId": "04777374732866690844"
     },
     "user_tz": -120
    },
    "id": "sVo8CQL6jBjH",
    "outputId": "90e44dc1-c5fe-47d7-ff7b-f4f98154cf80"
   },
   "outputs": [
    {
     "data": {
      "text/plain": [
       "<AxesSubplot:>"
      ]
     },
     "execution_count": 2,
     "metadata": {},
     "output_type": "execute_result"
    },
    {
     "data": {
      "image/png": "[encoded data removed]",
      "text/plain": [
       "<Figure size 432x288 with 1 Axes>"
      ]
     },
     "metadata": {
      "needs_background": "light"
     },
     "output_type": "display_data"
    }
   ],
   "source": [
    "from sklearn.feature_extraction.text import TfidfVectorizer\n",
    "import seaborn as sns\n",
    "\n",
    "corpus = ['Time flies like an arrow.',\n",
    "          'Fruit flies like a banana.']\n",
    "\n",
    "tfidf_vectorizer = TfidfVectorizer(lowercase=True)\n",
    "tfidf = tfidf_vectorizer.fit_transform(corpus).toarray()\n",
    "vocab = tfidf_vectorizer.get_feature_names_out()\n",
    "\n",
    "sns.heatmap(tfidf, annot=True, cbar=False, xticklabels=vocab,\n",
    "            yticklabels=corpus)"
   ]
  },
  {
   "cell_type": "markdown",
   "metadata": {
    "id": "QifnjRstGFNX"
   },
   "source": [
    "# Creating Tensors"
   ]
  },
  {
   "cell_type": "code",
   "execution_count": null,
   "metadata": {
    "colab": {
     "base_uri": "https://localhost:8080/"
    },
    "executionInfo": {
     "elapsed": 367,
     "status": "ok",
     "timestamp": 1659516946384,
     "user": {
      "displayName": "Branko Žitko",
      "userId": "04777374732866690844"
     },
     "user_tz": -120
    },
    "id": "hkQQOcAsoRlN",
    "outputId": "29c08358-43f4-4f18-a9a0-8395d3d5e4a1"
   },
   "outputs": [],
   "source": [
    "import torch\n",
    "\n",
    "scalar = torch.tensor(3.14159)\n",
    "scalar"
   ]
  },
  {
   "cell_type": "code",
   "execution_count": null,
   "metadata": {
    "colab": {
     "base_uri": "https://localhost:8080/"
    },
    "executionInfo": {
     "elapsed": 15,
     "status": "ok",
     "timestamp": 1659516946385,
     "user": {
      "displayName": "Branko Žitko",
      "userId": "04777374732866690844"
     },
     "user_tz": -120
    },
    "id": "OGht0WPOxek7",
    "outputId": "d1eeec0c-d886-49a9-d81a-4db4cd0ddc4f"
   },
   "outputs": [],
   "source": [
    "vector = torch.tensor([1, 2, 3])\n",
    "vector"
   ]
  },
  {
   "cell_type": "code",
   "execution_count": null,
   "metadata": {
    "colab": {
     "base_uri": "https://localhost:8080/"
    },
    "executionInfo": {
     "elapsed": 13,
     "status": "ok",
     "timestamp": 1659516946385,
     "user": {
      "displayName": "Branko Žitko",
      "userId": "04777374732866690844"
     },
     "user_tz": -120
    },
    "id": "8EvlYmMDx0Bv",
    "outputId": "70e31de4-3a0f-4721-fabf-c399c4925263"
   },
   "outputs": [],
   "source": [
    "matrix = torch.ones((2, 3), dtype=torch.float)\n",
    "matrix"
   ]
  },
  {
   "cell_type": "code",
   "execution_count": null,
   "metadata": {
    "colab": {
     "base_uri": "https://localhost:8080/"
    },
    "executionInfo": {
     "elapsed": 13,
     "status": "ok",
     "timestamp": 1659516946386,
     "user": {
      "displayName": "Branko Žitko",
      "userId": "04777374732866690844"
     },
     "user_tz": -120
    },
    "id": "tzyrm_g_x0i9",
    "outputId": "e0039071-1e05-40eb-9246-30e113763559"
   },
   "outputs": [],
   "source": [
    "tensor = torch.randn((2, 3, 4), dtype=torch.float)\n",
    "tensor"
   ]
  },
  {
   "cell_type": "markdown",
   "metadata": {
    "id": "BWZ_UgFN9Q9s"
   },
   "source": [
    "# Tensor shape"
   ]
  },
  {
   "cell_type": "code",
   "execution_count": null,
   "metadata": {
    "colab": {
     "base_uri": "https://localhost:8080/"
    },
    "executionInfo": {
     "elapsed": 11,
     "status": "ok",
     "timestamp": 1659516946386,
     "user": {
      "displayName": "Branko Žitko",
      "userId": "04777374732866690844"
     },
     "user_tz": -120
    },
    "id": "VhrSl6_m5wpV",
    "outputId": "3fde6609-c342-40a3-aebf-04636e60f8aa"
   },
   "outputs": [],
   "source": [
    "print(tensor.size(), tensor.shape)"
   ]
  },
  {
   "cell_type": "code",
   "execution_count": null,
   "metadata": {
    "colab": {
     "base_uri": "https://localhost:8080/"
    },
    "executionInfo": {
     "elapsed": 8,
     "status": "ok",
     "timestamp": 1659516946386,
     "user": {
      "displayName": "Branko Žitko",
      "userId": "04777374732866690844"
     },
     "user_tz": -120
    },
    "id": "HmH1EDkQ58cU",
    "outputId": "6182281a-d514-4bdb-dd9f-9ea80ccc806d"
   },
   "outputs": [],
   "source": [
    "print(scalar.size(), scalar.shape)"
   ]
  },
  {
   "cell_type": "markdown",
   "metadata": {
    "id": "VDNvwSk49YX0"
   },
   "source": [
    "# Reshaping"
   ]
  },
  {
   "cell_type": "code",
   "execution_count": null,
   "metadata": {
    "colab": {
     "base_uri": "https://localhost:8080/"
    },
    "executionInfo": {
     "elapsed": 340,
     "status": "ok",
     "timestamp": 1659517656291,
     "user": {
      "displayName": "Branko Žitko",
      "userId": "04777374732866690844"
     },
     "user_tz": -120
    },
    "id": "uFterI2u6JIy",
    "outputId": "9234bcf4-eb77-4cb1-a45c-45c1d73bbf51"
   },
   "outputs": [],
   "source": [
    "same_matrix = matrix.view((1, 6))\n",
    "same_matrix[0, 1] = 2\n",
    "\n",
    "print(matrix)\n",
    "print(same_matrix)"
   ]
  },
  {
   "cell_type": "markdown",
   "metadata": {
    "id": "ccFMzZJq_z2J"
   },
   "source": [
    "# Creating a filled tensor"
   ]
  },
  {
   "cell_type": "code",
   "execution_count": null,
   "metadata": {
    "colab": {
     "base_uri": "https://localhost:8080/"
    },
    "executionInfo": {
     "elapsed": 3,
     "status": "ok",
     "timestamp": 1659517798942,
     "user": {
      "displayName": "Branko Žitko",
      "userId": "04777374732866690844"
     },
     "user_tz": -120
    },
    "id": "olsxeiW66kK2",
    "outputId": "99c9d665-716c-49a4-a224-30fff600c964"
   },
   "outputs": [],
   "source": [
    "torch.zeros((2, 3))"
   ]
  },
  {
   "cell_type": "code",
   "execution_count": null,
   "metadata": {
    "colab": {
     "base_uri": "https://localhost:8080/"
    },
    "executionInfo": {
     "elapsed": 3,
     "status": "ok",
     "timestamp": 1659517874302,
     "user": {
      "displayName": "Branko Žitko",
      "userId": "04777374732866690844"
     },
     "user_tz": -120
    },
    "id": "M53Rc9g4-AZ9",
    "outputId": "c5b9f1b0-c2de-4475-b6e9-f78b083703e2"
   },
   "outputs": [],
   "source": [
    "torch.ones((2, 3), dtype=torch.int)"
   ]
  },
  {
   "cell_type": "code",
   "execution_count": null,
   "metadata": {
    "colab": {
     "base_uri": "https://localhost:8080/"
    },
    "executionInfo": {
     "elapsed": 3,
     "status": "ok",
     "timestamp": 1659517977277,
     "user": {
      "displayName": "Branko Žitko",
      "userId": "04777374732866690844"
     },
     "user_tz": -120
    },
    "id": "SN1obqO9-Qam",
    "outputId": "705c650a-2580-4587-9bf9-b4f3e6c9494f"
   },
   "outputs": [],
   "source": [
    "torch.ones((2, 3)).fill_(5)"
   ]
  },
  {
   "cell_type": "markdown",
   "metadata": {
    "id": "yoPMrgIe_3YM"
   },
   "source": [
    "# Creating and initializing a tensor from lists"
   ]
  },
  {
   "cell_type": "code",
   "execution_count": null,
   "metadata": {
    "colab": {
     "base_uri": "https://localhost:8080/"
    },
    "executionInfo": {
     "elapsed": 249,
     "status": "ok",
     "timestamp": 1659518315683,
     "user": {
      "displayName": "Branko Žitko",
      "userId": "04777374732866690844"
     },
     "user_tz": -120
    },
    "id": "YJLbS_cL-rD3",
    "outputId": "dc078db4-bbba-497d-807f-307d0517b369"
   },
   "outputs": [],
   "source": [
    "torch.Tensor([[1, 2, 3],\n",
    "              [4, 5, 6]])"
   ]
  },
  {
   "cell_type": "markdown",
   "metadata": {
    "id": "t_GJ3eJ8AA8S"
   },
   "source": [
    "# Creating and initializing a tensor from NumPy"
   ]
  },
  {
   "cell_type": "code",
   "execution_count": null,
   "metadata": {
    "colab": {
     "base_uri": "https://localhost:8080/"
    },
    "executionInfo": {
     "elapsed": 3,
     "status": "ok",
     "timestamp": 1659518398913,
     "user": {
      "displayName": "Branko Žitko",
      "userId": "04777374732866690844"
     },
     "user_tz": -120
    },
    "id": "5refEvhm_-kC",
    "outputId": "05091043-5c52-402d-bbcd-22d18e134f33"
   },
   "outputs": [],
   "source": [
    "import torch\n",
    "import numpy as np\n",
    "\n",
    "arr = np.random.rand(2, 3)\n",
    "torch.from_numpy(arr)"
   ]
  },
  {
   "cell_type": "markdown",
   "metadata": {
    "id": "DgSL6ax2AXrE"
   },
   "source": [
    "# Tensor Operations"
   ]
  },
  {
   "cell_type": "code",
   "execution_count": null,
   "metadata": {
    "colab": {
     "base_uri": "https://localhost:8080/"
    },
    "executionInfo": {
     "elapsed": 4,
     "status": "ok",
     "timestamp": 1659518444635,
     "user": {
      "displayName": "Branko Žitko",
      "userId": "04777374732866690844"
     },
     "user_tz": -120
    },
    "id": "WCKgaw43AS3w",
    "outputId": "b12c95fc-6b91-4c39-b273-8ccda5c3a9f2"
   },
   "outputs": [],
   "source": [
    "x = torch.randn((2, 3))\n",
    "x"
   ]
  },
  {
   "cell_type": "code",
   "execution_count": null,
   "metadata": {
    "colab": {
     "base_uri": "https://localhost:8080/"
    },
    "executionInfo": {
     "elapsed": 239,
     "status": "ok",
     "timestamp": 1659518466345,
     "user": {
      "displayName": "Branko Žitko",
      "userId": "04777374732866690844"
     },
     "user_tz": -120
    },
    "id": "7ogQ0a6oAc3a",
    "outputId": "0ee73ddf-9eef-4ced-d01d-ac48ea4eda39"
   },
   "outputs": [],
   "source": [
    "torch.add(x, x)"
   ]
  },
  {
   "cell_type": "code",
   "execution_count": null,
   "metadata": {
    "colab": {
     "base_uri": "https://localhost:8080/"
    },
    "executionInfo": {
     "elapsed": 3,
     "status": "ok",
     "timestamp": 1659518471012,
     "user": {
      "displayName": "Branko Žitko",
      "userId": "04777374732866690844"
     },
     "user_tz": -120
    },
    "id": "sFkiTlFCAhow",
    "outputId": "09e843b4-5e6d-465c-85b5-0e8c83958ae7"
   },
   "outputs": [],
   "source": [
    "x + x"
   ]
  },
  {
   "cell_type": "markdown",
   "metadata": {
    "id": "COFAX-cTAvI7"
   },
   "source": [
    "# Dimension-based tensor operations"
   ]
  },
  {
   "cell_type": "code",
   "execution_count": null,
   "metadata": {
    "colab": {
     "base_uri": "https://localhost:8080/"
    },
    "executionInfo": {
     "elapsed": 3,
     "status": "ok",
     "timestamp": 1659518702277,
     "user": {
      "displayName": "Branko Žitko",
      "userId": "04777374732866690844"
     },
     "user_tz": -120
    },
    "id": "zP4xLGv2AkZx",
    "outputId": "fbc27185-5b4c-4e77-b094-2ad414d44143"
   },
   "outputs": [],
   "source": [
    "x = torch.arange(6)\n",
    "x"
   ]
  },
  {
   "cell_type": "code",
   "execution_count": null,
   "metadata": {
    "colab": {
     "base_uri": "https://localhost:8080/"
    },
    "executionInfo": {
     "elapsed": 3,
     "status": "ok",
     "timestamp": 1659518727932,
     "user": {
      "displayName": "Branko Žitko",
      "userId": "04777374732866690844"
     },
     "user_tz": -120
    },
    "id": "htym5YTaA5Q1",
    "outputId": "7ab9eb5f-0eb0-46be-e833-00cb27c7bb67"
   },
   "outputs": [],
   "source": [
    "x = x.view(2, 3)\n",
    "x"
   ]
  },
  {
   "cell_type": "code",
   "execution_count": null,
   "metadata": {
    "colab": {
     "base_uri": "https://localhost:8080/"
    },
    "executionInfo": {
     "elapsed": 252,
     "status": "ok",
     "timestamp": 1659518772109,
     "user": {
      "displayName": "Branko Žitko",
      "userId": "04777374732866690844"
     },
     "user_tz": -120
    },
    "id": "PSiFhTCTBeWb",
    "outputId": "9e192aa8-a4f7-44e3-a44d-2b9bf4a68d18"
   },
   "outputs": [],
   "source": [
    "torch.sum(x)"
   ]
  },
  {
   "cell_type": "code",
   "execution_count": null,
   "metadata": {
    "colab": {
     "base_uri": "https://localhost:8080/"
    },
    "executionInfo": {
     "elapsed": 393,
     "status": "ok",
     "timestamp": 1659518781211,
     "user": {
      "displayName": "Branko Žitko",
      "userId": "04777374732866690844"
     },
     "user_tz": -120
    },
    "id": "QJW7iAv2Blkv",
    "outputId": "0f7db00f-6681-4170-bede-27ca2e90f5dd"
   },
   "outputs": [],
   "source": [
    "torch.sum(x, dim=0)"
   ]
  },
  {
   "cell_type": "code",
   "execution_count": null,
   "metadata": {
    "colab": {
     "base_uri": "https://localhost:8080/"
    },
    "executionInfo": {
     "elapsed": 267,
     "status": "ok",
     "timestamp": 1659518794459,
     "user": {
      "displayName": "Branko Žitko",
      "userId": "04777374732866690844"
     },
     "user_tz": -120
    },
    "id": "9NqLoxq1BwEZ",
    "outputId": "1aa1faa7-cf3a-447f-ce3e-2729c7095009"
   },
   "outputs": [],
   "source": [
    "torch.sum(x, dim=1)"
   ]
  },
  {
   "cell_type": "code",
   "execution_count": null,
   "metadata": {
    "colab": {
     "base_uri": "https://localhost:8080/"
    },
    "executionInfo": {
     "elapsed": 243,
     "status": "ok",
     "timestamp": 1659518836650,
     "user": {
      "displayName": "Branko Žitko",
      "userId": "04777374732866690844"
     },
     "user_tz": -120
    },
    "id": "eQoVy0V5BzZS",
    "outputId": "c8dcf804-15c2-4ea9-97e6-c84cb62ec8e5"
   },
   "outputs": [],
   "source": [
    "torch.transpose(x, 0, 1)"
   ]
  },
  {
   "cell_type": "code",
   "execution_count": null,
   "metadata": {
    "id": "juG6PKIyB3eU"
   },
   "outputs": [],
   "source": [
    "x = torch.arange(24)"
   ]
  },
  {
   "cell_type": "code",
   "execution_count": null,
   "metadata": {
    "colab": {
     "base_uri": "https://localhost:8080/"
    },
    "executionInfo": {
     "elapsed": 231,
     "status": "ok",
     "timestamp": 1659519035244,
     "user": {
      "displayName": "Branko Žitko",
      "userId": "04777374732866690844"
     },
     "user_tz": -120
    },
    "id": "t74VQOspCmoK",
    "outputId": "8d857f71-c9f9-4665-b3d3-f632d612d158"
   },
   "outputs": [],
   "source": [
    "x = x.view((2, 3, 4))\n",
    "x"
   ]
  },
  {
   "cell_type": "code",
   "execution_count": null,
   "metadata": {
    "colab": {
     "base_uri": "https://localhost:8080/"
    },
    "executionInfo": {
     "elapsed": 253,
     "status": "ok",
     "timestamp": 1659519043345,
     "user": {
      "displayName": "Branko Žitko",
      "userId": "04777374732866690844"
     },
     "user_tz": -120
    },
    "id": "DoQroJA1CqeE",
    "outputId": "d7593a53-f0ad-4edd-b328-ed59356b1f29"
   },
   "outputs": [],
   "source": [
    "torch.sum(x)"
   ]
  },
  {
   "cell_type": "code",
   "execution_count": null,
   "metadata": {
    "colab": {
     "base_uri": "https://localhost:8080/"
    },
    "executionInfo": {
     "elapsed": 387,
     "status": "ok",
     "timestamp": 1659519270062,
     "user": {
      "displayName": "Branko Žitko",
      "userId": "04777374732866690844"
     },
     "user_tz": -120
    },
    "id": "7t1VnF-YCwKH",
    "outputId": "21625cb5-7371-4152-e1f5-40eb0464cf5e"
   },
   "outputs": [],
   "source": [
    "torch.sum(x, dim=0)"
   ]
  },
  {
   "cell_type": "code",
   "execution_count": null,
   "metadata": {
    "colab": {
     "base_uri": "https://localhost:8080/"
    },
    "executionInfo": {
     "elapsed": 3,
     "status": "ok",
     "timestamp": 1659519279410,
     "user": {
      "displayName": "Branko Žitko",
      "userId": "04777374732866690844"
     },
     "user_tz": -120
    },
    "id": "tBMhx8D0CyNn",
    "outputId": "a590c19f-bad3-4977-8dd8-71d06f87892e"
   },
   "outputs": [],
   "source": [
    "torch.sum(x, dim=1)"
   ]
  },
  {
   "cell_type": "code",
   "execution_count": null,
   "metadata": {
    "colab": {
     "base_uri": "https://localhost:8080/"
    },
    "executionInfo": {
     "elapsed": 3,
     "status": "ok",
     "timestamp": 1659519287885,
     "user": {
      "displayName": "Branko Žitko",
      "userId": "04777374732866690844"
     },
     "user_tz": -120
    },
    "id": "wEKGoI27Dp7X",
    "outputId": "e14439aa-b462-4027-af4f-faf3e52e3854"
   },
   "outputs": [],
   "source": [
    "torch.sum(x, dim=2)"
   ]
  },
  {
   "cell_type": "code",
   "execution_count": null,
   "metadata": {
    "colab": {
     "base_uri": "https://localhost:8080/"
    },
    "executionInfo": {
     "elapsed": 440,
     "status": "ok",
     "timestamp": 1659520039654,
     "user": {
      "displayName": "Branko Žitko",
      "userId": "04777374732866690844"
     },
     "user_tz": -120
    },
    "id": "92Dw3oFhDsCW",
    "outputId": "bb979e1e-b5bb-4715-f7a5-f8b01ca651aa"
   },
   "outputs": [],
   "source": [
    "torch.sum(x, dim=(0, 1))"
   ]
  },
  {
   "cell_type": "markdown",
   "metadata": {
    "id": "kkDPqz8LCFp8"
   },
   "source": [
    "# Slicing and indexing a tensor"
   ]
  },
  {
   "cell_type": "code",
   "execution_count": null,
   "metadata": {
    "colab": {
     "base_uri": "https://localhost:8080/"
    },
    "executionInfo": {
     "elapsed": 246,
     "status": "ok",
     "timestamp": 1659520156326,
     "user": {
      "displayName": "Branko Žitko",
      "userId": "04777374732866690844"
     },
     "user_tz": -120
    },
    "id": "5tf_85MbG5qv",
    "outputId": "7f0b984e-67ee-4c7d-8e73-f446b0c2de41"
   },
   "outputs": [],
   "source": [
    "x = torch.arange(6).view(2, 3)\n",
    "x"
   ]
  },
  {
   "cell_type": "code",
   "execution_count": null,
   "metadata": {
    "colab": {
     "base_uri": "https://localhost:8080/"
    },
    "executionInfo": {
     "elapsed": 249,
     "status": "ok",
     "timestamp": 1659520228775,
     "user": {
      "displayName": "Branko Žitko",
      "userId": "04777374732866690844"
     },
     "user_tz": -120
    },
    "id": "Vtj0TYg7D0HK",
    "outputId": "cb5c8c7c-868d-4cc1-e8ec-b12036561471"
   },
   "outputs": [],
   "source": [
    "x[:1, :]"
   ]
  },
  {
   "cell_type": "code",
   "execution_count": null,
   "metadata": {
    "colab": {
     "base_uri": "https://localhost:8080/"
    },
    "executionInfo": {
     "elapsed": 242,
     "status": "ok",
     "timestamp": 1659520207848,
     "user": {
      "displayName": "Branko Žitko",
      "userId": "04777374732866690844"
     },
     "user_tz": -120
    },
    "id": "z9vMULRgHC65",
    "outputId": "b2ec5f4e-4f21-48dd-8992-f6116f16465a"
   },
   "outputs": [],
   "source": [
    "x[:,:1]"
   ]
  },
  {
   "cell_type": "code",
   "execution_count": null,
   "metadata": {
    "colab": {
     "base_uri": "https://localhost:8080/"
    },
    "executionInfo": {
     "elapsed": 312,
     "status": "ok",
     "timestamp": 1659520466199,
     "user": {
      "displayName": "Branko Žitko",
      "userId": "04777374732866690844"
     },
     "user_tz": -120
    },
    "id": "sr4I5kt0HLT6",
    "outputId": "09bd26c2-fa9b-4286-ac94-0184b2fb7f16"
   },
   "outputs": [],
   "source": [
    "x[:1, -2:]"
   ]
  },
  {
   "cell_type": "code",
   "execution_count": null,
   "metadata": {
    "colab": {
     "base_uri": "https://localhost:8080/"
    },
    "executionInfo": {
     "elapsed": 408,
     "status": "ok",
     "timestamp": 1659520616762,
     "user": {
      "displayName": "Branko Žitko",
      "userId": "04777374732866690844"
     },
     "user_tz": -120
    },
    "id": "Hg-5Y3EDHUNG",
    "outputId": "97ff4edb-fd27-40e0-da32-9bcef211301c"
   },
   "outputs": [],
   "source": [
    "x[1, -2:]"
   ]
  },
  {
   "cell_type": "markdown",
   "metadata": {
    "id": "iesDSzlBJNNI"
   },
   "source": [
    "# Complex indexing"
   ]
  },
  {
   "cell_type": "code",
   "execution_count": null,
   "metadata": {
    "colab": {
     "base_uri": "https://localhost:8080/"
    },
    "executionInfo": {
     "elapsed": 3,
     "status": "ok",
     "timestamp": 1659521006610,
     "user": {
      "displayName": "Branko Žitko",
      "userId": "04777374732866690844"
     },
     "user_tz": -120
    },
    "id": "Df_1l3xYIwO3",
    "outputId": "03b7f6c8-7c7b-4f6a-f4e0-7b635be41d42"
   },
   "outputs": [],
   "source": [
    "x = torch.arange(6).view(2, 3)\n",
    "x"
   ]
  },
  {
   "cell_type": "code",
   "execution_count": null,
   "metadata": {
    "colab": {
     "base_uri": "https://localhost:8080/"
    },
    "executionInfo": {
     "elapsed": 246,
     "status": "ok",
     "timestamp": 1659521668054,
     "user": {
      "displayName": "Branko Žitko",
      "userId": "04777374732866690844"
     },
     "user_tz": -120
    },
    "id": "eJ7dt4vZJTiv",
    "outputId": "332ef599-106f-4f5b-e2de-54566490b9c7"
   },
   "outputs": [],
   "source": [
    "indices = torch.LongTensor([0, 2])\n",
    "torch.index_select(x, dim=1, index=indices)"
   ]
  },
  {
   "cell_type": "code",
   "execution_count": null,
   "metadata": {
    "colab": {
     "base_uri": "https://localhost:8080/"
    },
    "executionInfo": {
     "elapsed": 2,
     "status": "ok",
     "timestamp": 1659521669290,
     "user": {
      "displayName": "Branko Žitko",
      "userId": "04777374732866690844"
     },
     "user_tz": -120
    },
    "id": "Tu9rqQg9Jhmv",
    "outputId": "fb344bf9-f623-4801-a64c-e6fc3c308489"
   },
   "outputs": [],
   "source": [
    "indices = torch.LongTensor([0, 0])\n",
    "torch.index_select(x, dim=0, index=indices)"
   ]
  },
  {
   "cell_type": "code",
   "execution_count": null,
   "metadata": {
    "colab": {
     "base_uri": "https://localhost:8080/"
    },
    "executionInfo": {
     "elapsed": 5,
     "status": "ok",
     "timestamp": 1659522289839,
     "user": {
      "displayName": "Branko Žitko",
      "userId": "04777374732866690844"
     },
     "user_tz": -120
    },
    "id": "f2nTTccYJvaA",
    "outputId": "ddc9016b-3d07-4961-fd82-987c73171d0f"
   },
   "outputs": [],
   "source": [
    "x[[0, 1, 0], [1, 2, 2]]"
   ]
  },
  {
   "cell_type": "markdown",
   "metadata": {
    "id": "YEpJn-GqPpR8"
   },
   "source": [
    "# Concatenating tensors"
   ]
  },
  {
   "cell_type": "code",
   "execution_count": null,
   "metadata": {
    "colab": {
     "base_uri": "https://localhost:8080/"
    },
    "executionInfo": {
     "elapsed": 246,
     "status": "ok",
     "timestamp": 1659522451728,
     "user": {
      "displayName": "Branko Žitko",
      "userId": "04777374732866690844"
     },
     "user_tz": -120
    },
    "id": "3C0Sk-mJKAjw",
    "outputId": "72521854-6c7f-408c-b8b0-7c9f16f69ea4"
   },
   "outputs": [],
   "source": [
    "x = torch.arange(6).view(2, 3)\n",
    "x"
   ]
  },
  {
   "cell_type": "code",
   "execution_count": null,
   "metadata": {
    "colab": {
     "base_uri": "https://localhost:8080/"
    },
    "executionInfo": {
     "elapsed": 273,
     "status": "ok",
     "timestamp": 1659522576228,
     "user": {
      "displayName": "Branko Žitko",
      "userId": "04777374732866690844"
     },
     "user_tz": -120
    },
    "id": "GNbKsSYuPwW4",
    "outputId": "00ad0f79-8889-4278-d288-bbe673ac3b90"
   },
   "outputs": [],
   "source": [
    "torch.cat([x, x], dim=0)"
   ]
  },
  {
   "cell_type": "code",
   "execution_count": null,
   "metadata": {
    "colab": {
     "base_uri": "https://localhost:8080/"
    },
    "executionInfo": {
     "elapsed": 259,
     "status": "ok",
     "timestamp": 1659522493683,
     "user": {
      "displayName": "Branko Žitko",
      "userId": "04777374732866690844"
     },
     "user_tz": -120
    },
    "id": "qpqDJfLuP1nU",
    "outputId": "ec43ac73-a1ff-437e-948b-013e2113427d"
   },
   "outputs": [],
   "source": [
    "torch.cat([x, x], dim=1)"
   ]
  },
  {
   "cell_type": "code",
   "execution_count": null,
   "metadata": {
    "colab": {
     "base_uri": "https://localhost:8080/"
    },
    "executionInfo": {
     "elapsed": 232,
     "status": "ok",
     "timestamp": 1659522518233,
     "user": {
      "displayName": "Branko Žitko",
      "userId": "04777374732866690844"
     },
     "user_tz": -120
    },
    "id": "pBeMQI6iP6jM",
    "outputId": "648f8bd6-ef30-446e-d74f-9a40eb1f5ba8"
   },
   "outputs": [],
   "source": [
    "torch.stack([x, x])"
   ]
  },
  {
   "cell_type": "markdown",
   "metadata": {
    "id": "OQpIy3gmQ6Ws"
   },
   "source": [
    "# Linear algebra on tensors"
   ]
  },
  {
   "cell_type": "code",
   "execution_count": null,
   "metadata": {
    "colab": {
     "base_uri": "https://localhost:8080/"
    },
    "executionInfo": {
     "elapsed": 394,
     "status": "ok",
     "timestamp": 1659522794049,
     "user": {
      "displayName": "Branko Žitko",
      "userId": "04777374732866690844"
     },
     "user_tz": -120
    },
    "id": "u9PgJ38yP_Sx",
    "outputId": "3f5ff90a-8876-416d-835a-66ace7fd2ee9"
   },
   "outputs": [],
   "source": [
    "x1 = torch.arange(6, dtype=torch.float).view(2, 3)\n",
    "x1"
   ]
  },
  {
   "cell_type": "code",
   "execution_count": null,
   "metadata": {
    "colab": {
     "base_uri": "https://localhost:8080/"
    },
    "executionInfo": {
     "elapsed": 237,
     "status": "ok",
     "timestamp": 1659522835443,
     "user": {
      "displayName": "Branko Žitko",
      "userId": "04777374732866690844"
     },
     "user_tz": -120
    },
    "id": "bmDZ4X8SQ--I",
    "outputId": "d7a9eddf-766a-427c-9a56-4cffb3809a01"
   },
   "outputs": [],
   "source": [
    "x2 = torch.ones((3, 2))\n",
    "x2[:, 1] += 1\n",
    "x2"
   ]
  },
  {
   "cell_type": "code",
   "execution_count": null,
   "metadata": {
    "colab": {
     "base_uri": "https://localhost:8080/"
    },
    "executionInfo": {
     "elapsed": 235,
     "status": "ok",
     "timestamp": 1659522848641,
     "user": {
      "displayName": "Branko Žitko",
      "userId": "04777374732866690844"
     },
     "user_tz": -120
    },
    "id": "r-ySHnQRRHOs",
    "outputId": "467b78be-60fe-471a-d9b1-e4b9b3a5a825"
   },
   "outputs": [],
   "source": [
    "torch.mm(x1, x2)"
   ]
  },
  {
   "cell_type": "markdown",
   "metadata": {
    "id": "YweDPkdxT2j4"
   },
   "source": [
    "# Tensors and Computational Graphs"
   ]
  },
  {
   "cell_type": "code",
   "execution_count": null,
   "metadata": {
    "colab": {
     "base_uri": "https://localhost:8080/"
    },
    "executionInfo": {
     "elapsed": 278,
     "status": "ok",
     "timestamp": 1659524520447,
     "user": {
      "displayName": "Branko Žitko",
      "userId": "04777374732866690844"
     },
     "user_tz": -120
    },
    "id": "4c-4lyEKRRSm",
    "outputId": "432823f3-3d2e-44cc-8764-c8e5d565e3bc"
   },
   "outputs": [],
   "source": [
    "import torch\n",
    "x = torch.ones(2, 2, requires_grad=True)\n",
    "print(x)\n",
    "print(x.grad)"
   ]
  },
  {
   "cell_type": "code",
   "execution_count": null,
   "metadata": {
    "colab": {
     "base_uri": "https://localhost:8080/"
    },
    "executionInfo": {
     "elapsed": 360,
     "status": "ok",
     "timestamp": 1659524534011,
     "user": {
      "displayName": "Branko Žitko",
      "userId": "04777374732866690844"
     },
     "user_tz": -120
    },
    "id": "qQ1hWAkfT_4k",
    "outputId": "0695143f-17fd-49fd-d4f2-fb0083a81ae8"
   },
   "outputs": [],
   "source": [
    "y = (x + 2) * (x + 5) + 3\n",
    "print(y)\n",
    "print(x.grad)"
   ]
  },
  {
   "cell_type": "code",
   "execution_count": null,
   "metadata": {
    "colab": {
     "base_uri": "https://localhost:8080/"
    },
    "executionInfo": {
     "elapsed": 236,
     "status": "ok",
     "timestamp": 1659524537550,
     "user": {
      "displayName": "Branko Žitko",
      "userId": "04777374732866690844"
     },
     "user_tz": -120
    },
    "id": "W3wS8eKXUFzC",
    "outputId": "bd69b079-7650-467c-e868-571e0c3da2c9"
   },
   "outputs": [],
   "source": [
    "z = y.mean()\n",
    "z.backward()\n",
    "print(z)\n",
    "print(x.grad)"
   ]
  },
  {
   "cell_type": "markdown",
   "metadata": {
    "id": "gDU8qrVZ7xei"
   },
   "source": [
    "# CUDA tensors"
   ]
  },
  {
   "cell_type": "code",
   "execution_count": null,
   "metadata": {
    "colab": {
     "base_uri": "https://localhost:8080/"
    },
    "executionInfo": {
     "elapsed": 2149,
     "status": "ok",
     "timestamp": 1660031965594,
     "user": {
      "displayName": "Branko Žitko",
      "userId": "04777374732866690844"
     },
     "user_tz": -120
    },
    "id": "t5jL2vUOUSZA",
    "outputId": "15c820ca-ec0a-4132-d2a8-9788ea422e5c"
   },
   "outputs": [],
   "source": [
    "import torch\n",
    "torch.cuda.is_available()"
   ]
  },
  {
   "cell_type": "code",
   "execution_count": null,
   "metadata": {
    "colab": {
     "base_uri": "https://localhost:8080/"
    },
    "executionInfo": {
     "elapsed": 460,
     "status": "ok",
     "timestamp": 1660031968739,
     "user": {
      "displayName": "Branko Žitko",
      "userId": "04777374732866690844"
     },
     "user_tz": -120
    },
    "id": "K-hCdKeDZp5C",
    "outputId": "6887a6ec-405d-4dc8-c2b6-01319c804313"
   },
   "outputs": [],
   "source": [
    "gpu_device = torch.device(\"cuda\" if torch.cuda.is_available() else \"cpu\")\n",
    "gpu_device"
   ]
  },
  {
   "cell_type": "code",
   "execution_count": null,
   "metadata": {
    "colab": {
     "base_uri": "https://localhost:8080/"
    },
    "executionInfo": {
     "elapsed": 5141,
     "status": "ok",
     "timestamp": 1660031990177,
     "user": {
      "displayName": "Branko Žitko",
      "userId": "04777374732866690844"
     },
     "user_tz": -120
    },
    "id": "O6bXDNHUakX2",
    "outputId": "5df9a442-6612-4a14-e23e-669a4e4a0c93"
   },
   "outputs": [],
   "source": [
    "x = torch.rand(3, 3).to(gpu_device)\n",
    "x"
   ]
  },
  {
   "cell_type": "code",
   "execution_count": null,
   "metadata": {
    "colab": {
     "base_uri": "https://localhost:8080/"
    },
    "executionInfo": {
     "elapsed": 449,
     "status": "ok",
     "timestamp": 1660032013690,
     "user": {
      "displayName": "Branko Žitko",
      "userId": "04777374732866690844"
     },
     "user_tz": -120
    },
    "id": "lNGa3SO88VC_",
    "outputId": "65b8c811-2b2a-4523-b999-2ac145c9f2a3"
   },
   "outputs": [],
   "source": [
    "y = torch.rand(3, 3)\n",
    "y"
   ]
  },
  {
   "cell_type": "code",
   "execution_count": null,
   "metadata": {
    "colab": {
     "base_uri": "https://localhost:8080/",
     "height": 166
    },
    "executionInfo": {
     "elapsed": 6,
     "status": "error",
     "timestamp": 1660032015907,
     "user": {
      "displayName": "Branko Žitko",
      "userId": "04777374732866690844"
     },
     "user_tz": -120
    },
    "id": "zQA6QZ6lFBPV",
    "outputId": "53f88a6f-afb1-45de-fd94-ab46aee7abd5"
   },
   "outputs": [],
   "source": [
    "x + y"
   ]
  },
  {
   "cell_type": "code",
   "execution_count": null,
   "metadata": {
    "executionInfo": {
     "elapsed": 5,
     "status": "ok",
     "timestamp": 1660032017763,
     "user": {
      "displayName": "Branko Žitko",
      "userId": "04777374732866690844"
     },
     "user_tz": -120
    },
    "id": "oVkPN7Rr8bjD"
   },
   "outputs": [],
   "source": [
    "y = y.to(gpu_device)"
   ]
  },
  {
   "cell_type": "code",
   "execution_count": null,
   "metadata": {
    "colab": {
     "base_uri": "https://localhost:8080/"
    },
    "executionInfo": {
     "elapsed": 3,
     "status": "ok",
     "timestamp": 1660032019273,
     "user": {
      "displayName": "Branko Žitko",
      "userId": "04777374732866690844"
     },
     "user_tz": -120
    },
    "id": "QZxG_cXA8lbp",
    "outputId": "0879ee2f-3729-4ced-d84b-17f57bd9fa3e"
   },
   "outputs": [],
   "source": [
    "x + y"
   ]
  },
  {
   "cell_type": "code",
   "execution_count": null,
   "metadata": {
    "id": "6AXFkUb-8mBi"
   },
   "outputs": [],
   "source": []
  }
 ],
 "metadata": {
  "accelerator": "GPU",
  "colab": {
   "authorship_tag": "ABX9TyMYQ0VV/3mXr8tx/cSMkFF3",
   "name": "nlp 01p introduction.ipynb",
   "provenance": []
  },
  "gpuClass": "standard",
  "kernelspec": {
   "display_name": "Python 3 (ipykernel)",
   "language": "python",
   "name": "python3"
  },
  "language_info": {
   "codemirror_mode": {
    "name": "ipython",
    "version": 3
   },
   "file_extension": ".py",
   "mimetype": "text/x-python",
   "name": "python",
   "nbconvert_exporter": "python",
   "pygments_lexer": "ipython3",
   "version": "3.8.13"
  }
 },
 "nbformat": 4,
 "nbformat_minor": 1
}
