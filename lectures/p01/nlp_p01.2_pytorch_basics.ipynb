{
 "cells": [
  {
   "cell_type": "code",
   "execution_count": 1,
   "metadata": {},
   "outputs": [],
   "source": [
    "try:\n",
    "    from torchviz import make_dot\n",
    "except ImportError as e:\n",
    "    !pip install torchviz\n",
    "    from torchviz import make_dot\n",
    "    \n",
    "import torch    "
   ]
  },
  {
   "cell_type": "markdown",
   "metadata": {
    "id": "QifnjRstGFNX"
   },
   "source": [
    "# Creating Tensors"
   ]
  },
  {
   "cell_type": "code",
   "execution_count": 2,
   "metadata": {
    "colab": {
     "base_uri": "https://localhost:8080/"
    },
    "executionInfo": {
     "elapsed": 367,
     "status": "ok",
     "timestamp": 1659516946384,
     "user": {
      "displayName": "Branko Žitko",
      "userId": "04777374732866690844"
     },
     "user_tz": -120
    },
    "id": "hkQQOcAsoRlN",
    "outputId": "29c08358-43f4-4f18-a9a0-8395d3d5e4a1"
   },
   "outputs": [
    {
     "data": {
      "text/plain": [
       "tensor(3.1416)"
      ]
     },
     "execution_count": 2,
     "metadata": {},
     "output_type": "execute_result"
    }
   ],
   "source": [
    "scalar = torch.tensor(3.14159)\n",
    "scalar"
   ]
  },
  {
   "cell_type": "code",
   "execution_count": 3,
   "metadata": {
    "colab": {
     "base_uri": "https://localhost:8080/"
    },
    "executionInfo": {
     "elapsed": 15,
     "status": "ok",
     "timestamp": 1659516946385,
     "user": {
      "displayName": "Branko Žitko",
      "userId": "04777374732866690844"
     },
     "user_tz": -120
    },
    "id": "OGht0WPOxek7",
    "outputId": "d1eeec0c-d886-49a9-d81a-4db4cd0ddc4f"
   },
   "outputs": [
    {
     "data": {
      "text/plain": [
       "tensor([1, 2, 3])"
      ]
     },
     "execution_count": 3,
     "metadata": {},
     "output_type": "execute_result"
    }
   ],
   "source": [
    "vector = torch.tensor([1, 2, 3])\n",
    "vector"
   ]
  },
  {
   "cell_type": "code",
   "execution_count": 4,
   "metadata": {
    "colab": {
     "base_uri": "https://localhost:8080/"
    },
    "executionInfo": {
     "elapsed": 13,
     "status": "ok",
     "timestamp": 1659516946385,
     "user": {
      "displayName": "Branko Žitko",
      "userId": "04777374732866690844"
     },
     "user_tz": -120
    },
    "id": "8EvlYmMDx0Bv",
    "outputId": "70e31de4-3a0f-4721-fabf-c399c4925263"
   },
   "outputs": [
    {
     "data": {
      "text/plain": [
       "tensor([[1., 1., 1.],\n",
       "        [1., 1., 1.]])"
      ]
     },
     "execution_count": 4,
     "metadata": {},
     "output_type": "execute_result"
    }
   ],
   "source": [
    "matrix = torch.ones((2, 3), dtype=torch.float)\n",
    "matrix"
   ]
  },
  {
   "cell_type": "code",
   "execution_count": 5,
   "metadata": {
    "colab": {
     "base_uri": "https://localhost:8080/"
    },
    "executionInfo": {
     "elapsed": 13,
     "status": "ok",
     "timestamp": 1659516946386,
     "user": {
      "displayName": "Branko Žitko",
      "userId": "04777374732866690844"
     },
     "user_tz": -120
    },
    "id": "tzyrm_g_x0i9",
    "outputId": "e0039071-1e05-40eb-9246-30e113763559"
   },
   "outputs": [
    {
     "data": {
      "text/plain": [
       "tensor([[[-0.5720, -0.4641,  0.9504,  1.3604],\n",
       "         [ 0.4576,  0.3711, -0.8213,  2.7951],\n",
       "         [-1.4030, -1.3381,  0.6937,  0.7365]],\n",
       "\n",
       "        [[-1.3643,  0.4727, -0.9163,  1.9366],\n",
       "         [ 0.5264, -0.6717,  0.0930, -1.3589],\n",
       "         [-0.6185, -0.5628,  0.5263, -1.1467]]])"
      ]
     },
     "execution_count": 5,
     "metadata": {},
     "output_type": "execute_result"
    }
   ],
   "source": [
    "tensor = torch.randn((2, 3, 4), dtype=torch.float)\n",
    "tensor"
   ]
  },
  {
   "cell_type": "markdown",
   "metadata": {
    "id": "BWZ_UgFN9Q9s"
   },
   "source": [
    "# Tensor shape"
   ]
  },
  {
   "cell_type": "code",
   "execution_count": 6,
   "metadata": {
    "colab": {
     "base_uri": "https://localhost:8080/"
    },
    "executionInfo": {
     "elapsed": 11,
     "status": "ok",
     "timestamp": 1659516946386,
     "user": {
      "displayName": "Branko Žitko",
      "userId": "04777374732866690844"
     },
     "user_tz": -120
    },
    "id": "VhrSl6_m5wpV",
    "outputId": "3fde6609-c342-40a3-aebf-04636e60f8aa"
   },
   "outputs": [
    {
     "name": "stdout",
     "output_type": "stream",
     "text": [
      "torch.Size([2, 3, 4]) torch.Size([2, 3, 4])\n"
     ]
    }
   ],
   "source": [
    "print(tensor.size(), tensor.shape)"
   ]
  },
  {
   "cell_type": "code",
   "execution_count": 7,
   "metadata": {
    "colab": {
     "base_uri": "https://localhost:8080/"
    },
    "executionInfo": {
     "elapsed": 8,
     "status": "ok",
     "timestamp": 1659516946386,
     "user": {
      "displayName": "Branko Žitko",
      "userId": "04777374732866690844"
     },
     "user_tz": -120
    },
    "id": "HmH1EDkQ58cU",
    "outputId": "6182281a-d514-4bdb-dd9f-9ea80ccc806d"
   },
   "outputs": [
    {
     "name": "stdout",
     "output_type": "stream",
     "text": [
      "torch.Size([]) torch.Size([])\n"
     ]
    }
   ],
   "source": [
    "print(scalar.size(), scalar.shape)"
   ]
  },
  {
   "cell_type": "markdown",
   "metadata": {
    "id": "VDNvwSk49YX0"
   },
   "source": [
    "# Reshaping"
   ]
  },
  {
   "cell_type": "code",
   "execution_count": 8,
   "metadata": {
    "colab": {
     "base_uri": "https://localhost:8080/"
    },
    "executionInfo": {
     "elapsed": 340,
     "status": "ok",
     "timestamp": 1659517656291,
     "user": {
      "displayName": "Branko Žitko",
      "userId": "04777374732866690844"
     },
     "user_tz": -120
    },
    "id": "uFterI2u6JIy",
    "outputId": "9234bcf4-eb77-4cb1-a45c-45c1d73bbf51"
   },
   "outputs": [
    {
     "name": "stdout",
     "output_type": "stream",
     "text": [
      "tensor([[1., 2., 1.],\n",
      "        [1., 1., 1.]])\n",
      "tensor([[1., 2., 1., 1., 1., 1.]])\n"
     ]
    }
   ],
   "source": [
    "same_matrix = matrix.view((1, 6))\n",
    "same_matrix[0, 1] = 2\n",
    "\n",
    "print(matrix)\n",
    "print(same_matrix)"
   ]
  },
  {
   "cell_type": "markdown",
   "metadata": {
    "id": "ccFMzZJq_z2J"
   },
   "source": [
    "# Creating a filled tensor"
   ]
  },
  {
   "cell_type": "code",
   "execution_count": 9,
   "metadata": {
    "colab": {
     "base_uri": "https://localhost:8080/"
    },
    "executionInfo": {
     "elapsed": 3,
     "status": "ok",
     "timestamp": 1659517798942,
     "user": {
      "displayName": "Branko Žitko",
      "userId": "04777374732866690844"
     },
     "user_tz": -120
    },
    "id": "olsxeiW66kK2",
    "outputId": "99c9d665-716c-49a4-a224-30fff600c964"
   },
   "outputs": [
    {
     "data": {
      "text/plain": [
       "tensor([[0., 0., 0.],\n",
       "        [0., 0., 0.]])"
      ]
     },
     "execution_count": 9,
     "metadata": {},
     "output_type": "execute_result"
    }
   ],
   "source": [
    "torch.zeros((2, 3))"
   ]
  },
  {
   "cell_type": "code",
   "execution_count": 10,
   "metadata": {
    "colab": {
     "base_uri": "https://localhost:8080/"
    },
    "executionInfo": {
     "elapsed": 3,
     "status": "ok",
     "timestamp": 1659517874302,
     "user": {
      "displayName": "Branko Žitko",
      "userId": "04777374732866690844"
     },
     "user_tz": -120
    },
    "id": "M53Rc9g4-AZ9",
    "outputId": "c5b9f1b0-c2de-4475-b6e9-f78b083703e2"
   },
   "outputs": [
    {
     "data": {
      "text/plain": [
       "tensor([[1, 1, 1],\n",
       "        [1, 1, 1]], dtype=torch.int32)"
      ]
     },
     "execution_count": 10,
     "metadata": {},
     "output_type": "execute_result"
    }
   ],
   "source": [
    "torch.ones((2, 3), dtype=torch.int)"
   ]
  },
  {
   "cell_type": "code",
   "execution_count": 11,
   "metadata": {
    "colab": {
     "base_uri": "https://localhost:8080/"
    },
    "executionInfo": {
     "elapsed": 3,
     "status": "ok",
     "timestamp": 1659517977277,
     "user": {
      "displayName": "Branko Žitko",
      "userId": "04777374732866690844"
     },
     "user_tz": -120
    },
    "id": "SN1obqO9-Qam",
    "outputId": "705c650a-2580-4587-9bf9-b4f3e6c9494f"
   },
   "outputs": [
    {
     "data": {
      "text/plain": [
       "tensor([[5., 5., 5.],\n",
       "        [5., 5., 5.]])"
      ]
     },
     "execution_count": 11,
     "metadata": {},
     "output_type": "execute_result"
    }
   ],
   "source": [
    "torch.ones((2, 3)).fill_(5)"
   ]
  },
  {
   "cell_type": "markdown",
   "metadata": {
    "id": "yoPMrgIe_3YM"
   },
   "source": [
    "# Creating and initializing a tensor from lists"
   ]
  },
  {
   "cell_type": "code",
   "execution_count": 12,
   "metadata": {
    "colab": {
     "base_uri": "https://localhost:8080/"
    },
    "executionInfo": {
     "elapsed": 249,
     "status": "ok",
     "timestamp": 1659518315683,
     "user": {
      "displayName": "Branko Žitko",
      "userId": "04777374732866690844"
     },
     "user_tz": -120
    },
    "id": "YJLbS_cL-rD3",
    "outputId": "dc078db4-bbba-497d-807f-307d0517b369"
   },
   "outputs": [
    {
     "data": {
      "text/plain": [
       "tensor([[1., 2., 3.],\n",
       "        [4., 5., 6.]])"
      ]
     },
     "execution_count": 12,
     "metadata": {},
     "output_type": "execute_result"
    }
   ],
   "source": [
    "torch.Tensor([[1, 2, 3],\n",
    "              [4, 5, 6]])"
   ]
  },
  {
   "cell_type": "markdown",
   "metadata": {
    "id": "t_GJ3eJ8AA8S"
   },
   "source": [
    "# Creating and initializing a tensor from NumPy"
   ]
  },
  {
   "cell_type": "code",
   "execution_count": 13,
   "metadata": {
    "colab": {
     "base_uri": "https://localhost:8080/"
    },
    "executionInfo": {
     "elapsed": 3,
     "status": "ok",
     "timestamp": 1659518398913,
     "user": {
      "displayName": "Branko Žitko",
      "userId": "04777374732866690844"
     },
     "user_tz": -120
    },
    "id": "5refEvhm_-kC",
    "outputId": "05091043-5c52-402d-bbcd-22d18e134f33"
   },
   "outputs": [
    {
     "data": {
      "text/plain": [
       "tensor([[0.6992, 0.0913, 0.4737],\n",
       "        [0.7826, 0.1136, 0.2051]], dtype=torch.float64)"
      ]
     },
     "execution_count": 13,
     "metadata": {},
     "output_type": "execute_result"
    }
   ],
   "source": [
    "import torch\n",
    "import numpy as np\n",
    "\n",
    "arr = np.random.rand(2, 3)\n",
    "torch.from_numpy(arr)"
   ]
  },
  {
   "cell_type": "markdown",
   "metadata": {
    "id": "DgSL6ax2AXrE"
   },
   "source": [
    "# Tensor Operations"
   ]
  },
  {
   "cell_type": "code",
   "execution_count": 14,
   "metadata": {
    "colab": {
     "base_uri": "https://localhost:8080/"
    },
    "executionInfo": {
     "elapsed": 4,
     "status": "ok",
     "timestamp": 1659518444635,
     "user": {
      "displayName": "Branko Žitko",
      "userId": "04777374732866690844"
     },
     "user_tz": -120
    },
    "id": "WCKgaw43AS3w",
    "outputId": "b12c95fc-6b91-4c39-b273-8ccda5c3a9f2"
   },
   "outputs": [
    {
     "data": {
      "text/plain": [
       "tensor([[ 0.1010, -0.9229, -2.1614],\n",
       "        [-1.8223, -1.0677, -0.6131]])"
      ]
     },
     "execution_count": 14,
     "metadata": {},
     "output_type": "execute_result"
    }
   ],
   "source": [
    "x = torch.randn((2, 3))\n",
    "x"
   ]
  },
  {
   "cell_type": "code",
   "execution_count": 15,
   "metadata": {
    "colab": {
     "base_uri": "https://localhost:8080/"
    },
    "executionInfo": {
     "elapsed": 239,
     "status": "ok",
     "timestamp": 1659518466345,
     "user": {
      "displayName": "Branko Žitko",
      "userId": "04777374732866690844"
     },
     "user_tz": -120
    },
    "id": "7ogQ0a6oAc3a",
    "outputId": "0ee73ddf-9eef-4ced-d01d-ac48ea4eda39"
   },
   "outputs": [
    {
     "data": {
      "text/plain": [
       "tensor([[ 0.2019, -1.8459, -4.3228],\n",
       "        [-3.6447, -2.1354, -1.2263]])"
      ]
     },
     "execution_count": 15,
     "metadata": {},
     "output_type": "execute_result"
    }
   ],
   "source": [
    "torch.add(x, x)"
   ]
  },
  {
   "cell_type": "code",
   "execution_count": 16,
   "metadata": {
    "colab": {
     "base_uri": "https://localhost:8080/"
    },
    "executionInfo": {
     "elapsed": 3,
     "status": "ok",
     "timestamp": 1659518471012,
     "user": {
      "displayName": "Branko Žitko",
      "userId": "04777374732866690844"
     },
     "user_tz": -120
    },
    "id": "sFkiTlFCAhow",
    "outputId": "09e843b4-5e6d-465c-85b5-0e8c83958ae7"
   },
   "outputs": [
    {
     "data": {
      "text/plain": [
       "tensor([[ 0.2019, -1.8459, -4.3228],\n",
       "        [-3.6447, -2.1354, -1.2263]])"
      ]
     },
     "execution_count": 16,
     "metadata": {},
     "output_type": "execute_result"
    }
   ],
   "source": [
    "x + x"
   ]
  },
  {
   "cell_type": "markdown",
   "metadata": {
    "id": "COFAX-cTAvI7"
   },
   "source": [
    "# Dimension-based tensor operations"
   ]
  },
  {
   "cell_type": "code",
   "execution_count": 17,
   "metadata": {
    "colab": {
     "base_uri": "https://localhost:8080/"
    },
    "executionInfo": {
     "elapsed": 3,
     "status": "ok",
     "timestamp": 1659518702277,
     "user": {
      "displayName": "Branko Žitko",
      "userId": "04777374732866690844"
     },
     "user_tz": -120
    },
    "id": "zP4xLGv2AkZx",
    "outputId": "fbc27185-5b4c-4e77-b094-2ad414d44143"
   },
   "outputs": [
    {
     "data": {
      "text/plain": [
       "tensor([0, 1, 2, 3, 4, 5])"
      ]
     },
     "execution_count": 17,
     "metadata": {},
     "output_type": "execute_result"
    }
   ],
   "source": [
    "x = torch.arange(6)\n",
    "x"
   ]
  },
  {
   "cell_type": "code",
   "execution_count": 18,
   "metadata": {
    "colab": {
     "base_uri": "https://localhost:8080/"
    },
    "executionInfo": {
     "elapsed": 3,
     "status": "ok",
     "timestamp": 1659518727932,
     "user": {
      "displayName": "Branko Žitko",
      "userId": "04777374732866690844"
     },
     "user_tz": -120
    },
    "id": "htym5YTaA5Q1",
    "outputId": "7ab9eb5f-0eb0-46be-e833-00cb27c7bb67"
   },
   "outputs": [
    {
     "data": {
      "text/plain": [
       "tensor([[0, 1, 2],\n",
       "        [3, 4, 5]])"
      ]
     },
     "execution_count": 18,
     "metadata": {},
     "output_type": "execute_result"
    }
   ],
   "source": [
    "x = x.view(2, 3)\n",
    "x"
   ]
  },
  {
   "cell_type": "code",
   "execution_count": 19,
   "metadata": {
    "colab": {
     "base_uri": "https://localhost:8080/"
    },
    "executionInfo": {
     "elapsed": 252,
     "status": "ok",
     "timestamp": 1659518772109,
     "user": {
      "displayName": "Branko Žitko",
      "userId": "04777374732866690844"
     },
     "user_tz": -120
    },
    "id": "PSiFhTCTBeWb",
    "outputId": "9e192aa8-a4f7-44e3-a44d-2b9bf4a68d18"
   },
   "outputs": [
    {
     "data": {
      "text/plain": [
       "tensor(15)"
      ]
     },
     "execution_count": 19,
     "metadata": {},
     "output_type": "execute_result"
    }
   ],
   "source": [
    "torch.sum(x)"
   ]
  },
  {
   "cell_type": "code",
   "execution_count": 20,
   "metadata": {
    "colab": {
     "base_uri": "https://localhost:8080/"
    },
    "executionInfo": {
     "elapsed": 393,
     "status": "ok",
     "timestamp": 1659518781211,
     "user": {
      "displayName": "Branko Žitko",
      "userId": "04777374732866690844"
     },
     "user_tz": -120
    },
    "id": "QJW7iAv2Blkv",
    "outputId": "0f7db00f-6681-4170-bede-27ca2e90f5dd"
   },
   "outputs": [
    {
     "data": {
      "text/plain": [
       "tensor([3, 5, 7])"
      ]
     },
     "execution_count": 20,
     "metadata": {},
     "output_type": "execute_result"
    }
   ],
   "source": [
    "torch.sum(x, dim=0)"
   ]
  },
  {
   "cell_type": "code",
   "execution_count": 21,
   "metadata": {
    "colab": {
     "base_uri": "https://localhost:8080/"
    },
    "executionInfo": {
     "elapsed": 267,
     "status": "ok",
     "timestamp": 1659518794459,
     "user": {
      "displayName": "Branko Žitko",
      "userId": "04777374732866690844"
     },
     "user_tz": -120
    },
    "id": "9NqLoxq1BwEZ",
    "outputId": "1aa1faa7-cf3a-447f-ce3e-2729c7095009"
   },
   "outputs": [
    {
     "data": {
      "text/plain": [
       "tensor([ 3, 12])"
      ]
     },
     "execution_count": 21,
     "metadata": {},
     "output_type": "execute_result"
    }
   ],
   "source": [
    "torch.sum(x, dim=1)"
   ]
  },
  {
   "cell_type": "code",
   "execution_count": 22,
   "metadata": {
    "colab": {
     "base_uri": "https://localhost:8080/"
    },
    "executionInfo": {
     "elapsed": 243,
     "status": "ok",
     "timestamp": 1659518836650,
     "user": {
      "displayName": "Branko Žitko",
      "userId": "04777374732866690844"
     },
     "user_tz": -120
    },
    "id": "eQoVy0V5BzZS",
    "outputId": "c8dcf804-15c2-4ea9-97e6-c84cb62ec8e5"
   },
   "outputs": [
    {
     "data": {
      "text/plain": [
       "tensor([[0, 3],\n",
       "        [1, 4],\n",
       "        [2, 5]])"
      ]
     },
     "execution_count": 22,
     "metadata": {},
     "output_type": "execute_result"
    }
   ],
   "source": [
    "torch.transpose(x, 0, 1)"
   ]
  },
  {
   "cell_type": "code",
   "execution_count": 23,
   "metadata": {
    "id": "juG6PKIyB3eU"
   },
   "outputs": [],
   "source": [
    "x = torch.arange(24)"
   ]
  },
  {
   "cell_type": "code",
   "execution_count": 24,
   "metadata": {
    "colab": {
     "base_uri": "https://localhost:8080/"
    },
    "executionInfo": {
     "elapsed": 231,
     "status": "ok",
     "timestamp": 1659519035244,
     "user": {
      "displayName": "Branko Žitko",
      "userId": "04777374732866690844"
     },
     "user_tz": -120
    },
    "id": "t74VQOspCmoK",
    "outputId": "8d857f71-c9f9-4665-b3d3-f632d612d158"
   },
   "outputs": [
    {
     "data": {
      "text/plain": [
       "tensor([[[ 0,  1,  2,  3],\n",
       "         [ 4,  5,  6,  7],\n",
       "         [ 8,  9, 10, 11]],\n",
       "\n",
       "        [[12, 13, 14, 15],\n",
       "         [16, 17, 18, 19],\n",
       "         [20, 21, 22, 23]]])"
      ]
     },
     "execution_count": 24,
     "metadata": {},
     "output_type": "execute_result"
    }
   ],
   "source": [
    "x = x.view((2, 3, 4))\n",
    "x"
   ]
  },
  {
   "cell_type": "code",
   "execution_count": 25,
   "metadata": {
    "colab": {
     "base_uri": "https://localhost:8080/"
    },
    "executionInfo": {
     "elapsed": 253,
     "status": "ok",
     "timestamp": 1659519043345,
     "user": {
      "displayName": "Branko Žitko",
      "userId": "04777374732866690844"
     },
     "user_tz": -120
    },
    "id": "DoQroJA1CqeE",
    "outputId": "d7593a53-f0ad-4edd-b328-ed59356b1f29"
   },
   "outputs": [
    {
     "data": {
      "text/plain": [
       "tensor(276)"
      ]
     },
     "execution_count": 25,
     "metadata": {},
     "output_type": "execute_result"
    }
   ],
   "source": [
    "torch.sum(x)"
   ]
  },
  {
   "cell_type": "code",
   "execution_count": 26,
   "metadata": {
    "colab": {
     "base_uri": "https://localhost:8080/"
    },
    "executionInfo": {
     "elapsed": 387,
     "status": "ok",
     "timestamp": 1659519270062,
     "user": {
      "displayName": "Branko Žitko",
      "userId": "04777374732866690844"
     },
     "user_tz": -120
    },
    "id": "7t1VnF-YCwKH",
    "outputId": "21625cb5-7371-4152-e1f5-40eb0464cf5e"
   },
   "outputs": [
    {
     "data": {
      "text/plain": [
       "tensor([[12, 14, 16, 18],\n",
       "        [20, 22, 24, 26],\n",
       "        [28, 30, 32, 34]])"
      ]
     },
     "execution_count": 26,
     "metadata": {},
     "output_type": "execute_result"
    }
   ],
   "source": [
    "torch.sum(x, dim=0)"
   ]
  },
  {
   "cell_type": "code",
   "execution_count": 27,
   "metadata": {
    "colab": {
     "base_uri": "https://localhost:8080/"
    },
    "executionInfo": {
     "elapsed": 3,
     "status": "ok",
     "timestamp": 1659519279410,
     "user": {
      "displayName": "Branko Žitko",
      "userId": "04777374732866690844"
     },
     "user_tz": -120
    },
    "id": "tBMhx8D0CyNn",
    "outputId": "a590c19f-bad3-4977-8dd8-71d06f87892e"
   },
   "outputs": [
    {
     "data": {
      "text/plain": [
       "tensor([[12, 15, 18, 21],\n",
       "        [48, 51, 54, 57]])"
      ]
     },
     "execution_count": 27,
     "metadata": {},
     "output_type": "execute_result"
    }
   ],
   "source": [
    "torch.sum(x, dim=1)"
   ]
  },
  {
   "cell_type": "code",
   "execution_count": 28,
   "metadata": {
    "colab": {
     "base_uri": "https://localhost:8080/"
    },
    "executionInfo": {
     "elapsed": 3,
     "status": "ok",
     "timestamp": 1659519287885,
     "user": {
      "displayName": "Branko Žitko",
      "userId": "04777374732866690844"
     },
     "user_tz": -120
    },
    "id": "wEKGoI27Dp7X",
    "outputId": "e14439aa-b462-4027-af4f-faf3e52e3854"
   },
   "outputs": [
    {
     "data": {
      "text/plain": [
       "tensor([[ 6, 22, 38],\n",
       "        [54, 70, 86]])"
      ]
     },
     "execution_count": 28,
     "metadata": {},
     "output_type": "execute_result"
    }
   ],
   "source": [
    "torch.sum(x, dim=2)"
   ]
  },
  {
   "cell_type": "code",
   "execution_count": 29,
   "metadata": {
    "colab": {
     "base_uri": "https://localhost:8080/"
    },
    "executionInfo": {
     "elapsed": 440,
     "status": "ok",
     "timestamp": 1659520039654,
     "user": {
      "displayName": "Branko Žitko",
      "userId": "04777374732866690844"
     },
     "user_tz": -120
    },
    "id": "92Dw3oFhDsCW",
    "outputId": "bb979e1e-b5bb-4715-f7a5-f8b01ca651aa"
   },
   "outputs": [
    {
     "data": {
      "text/plain": [
       "tensor([60, 66, 72, 78])"
      ]
     },
     "execution_count": 29,
     "metadata": {},
     "output_type": "execute_result"
    }
   ],
   "source": [
    "torch.sum(x, dim=(0, 1))"
   ]
  },
  {
   "cell_type": "markdown",
   "metadata": {
    "id": "kkDPqz8LCFp8"
   },
   "source": [
    "# Slicing and indexing a tensor"
   ]
  },
  {
   "cell_type": "code",
   "execution_count": 30,
   "metadata": {
    "colab": {
     "base_uri": "https://localhost:8080/"
    },
    "executionInfo": {
     "elapsed": 246,
     "status": "ok",
     "timestamp": 1659520156326,
     "user": {
      "displayName": "Branko Žitko",
      "userId": "04777374732866690844"
     },
     "user_tz": -120
    },
    "id": "5tf_85MbG5qv",
    "outputId": "7f0b984e-67ee-4c7d-8e73-f446b0c2de41"
   },
   "outputs": [
    {
     "data": {
      "text/plain": [
       "tensor([[0, 1, 2],\n",
       "        [3, 4, 5]])"
      ]
     },
     "execution_count": 30,
     "metadata": {},
     "output_type": "execute_result"
    }
   ],
   "source": [
    "x = torch.arange(6).view(2, 3)\n",
    "x"
   ]
  },
  {
   "cell_type": "code",
   "execution_count": 31,
   "metadata": {
    "colab": {
     "base_uri": "https://localhost:8080/"
    },
    "executionInfo": {
     "elapsed": 249,
     "status": "ok",
     "timestamp": 1659520228775,
     "user": {
      "displayName": "Branko Žitko",
      "userId": "04777374732866690844"
     },
     "user_tz": -120
    },
    "id": "Vtj0TYg7D0HK",
    "outputId": "cb5c8c7c-868d-4cc1-e8ec-b12036561471"
   },
   "outputs": [
    {
     "data": {
      "text/plain": [
       "tensor([[0, 1, 2]])"
      ]
     },
     "execution_count": 31,
     "metadata": {},
     "output_type": "execute_result"
    }
   ],
   "source": [
    "x[:1, :]"
   ]
  },
  {
   "cell_type": "code",
   "execution_count": 32,
   "metadata": {
    "colab": {
     "base_uri": "https://localhost:8080/"
    },
    "executionInfo": {
     "elapsed": 242,
     "status": "ok",
     "timestamp": 1659520207848,
     "user": {
      "displayName": "Branko Žitko",
      "userId": "04777374732866690844"
     },
     "user_tz": -120
    },
    "id": "z9vMULRgHC65",
    "outputId": "b2ec5f4e-4f21-48dd-8992-f6116f16465a"
   },
   "outputs": [
    {
     "data": {
      "text/plain": [
       "tensor([[0],\n",
       "        [3]])"
      ]
     },
     "execution_count": 32,
     "metadata": {},
     "output_type": "execute_result"
    }
   ],
   "source": [
    "x[:,:1]"
   ]
  },
  {
   "cell_type": "code",
   "execution_count": 33,
   "metadata": {
    "colab": {
     "base_uri": "https://localhost:8080/"
    },
    "executionInfo": {
     "elapsed": 312,
     "status": "ok",
     "timestamp": 1659520466199,
     "user": {
      "displayName": "Branko Žitko",
      "userId": "04777374732866690844"
     },
     "user_tz": -120
    },
    "id": "sr4I5kt0HLT6",
    "outputId": "09bd26c2-fa9b-4286-ac94-0184b2fb7f16"
   },
   "outputs": [
    {
     "data": {
      "text/plain": [
       "tensor([[1, 2]])"
      ]
     },
     "execution_count": 33,
     "metadata": {},
     "output_type": "execute_result"
    }
   ],
   "source": [
    "x[:1, -2:]"
   ]
  },
  {
   "cell_type": "code",
   "execution_count": 34,
   "metadata": {
    "colab": {
     "base_uri": "https://localhost:8080/"
    },
    "executionInfo": {
     "elapsed": 408,
     "status": "ok",
     "timestamp": 1659520616762,
     "user": {
      "displayName": "Branko Žitko",
      "userId": "04777374732866690844"
     },
     "user_tz": -120
    },
    "id": "Hg-5Y3EDHUNG",
    "outputId": "97ff4edb-fd27-40e0-da32-9bcef211301c"
   },
   "outputs": [
    {
     "data": {
      "text/plain": [
       "tensor([4, 5])"
      ]
     },
     "execution_count": 34,
     "metadata": {},
     "output_type": "execute_result"
    }
   ],
   "source": [
    "x[1, -2:]"
   ]
  },
  {
   "cell_type": "markdown",
   "metadata": {
    "id": "iesDSzlBJNNI"
   },
   "source": [
    "# Complex indexing"
   ]
  },
  {
   "cell_type": "code",
   "execution_count": 35,
   "metadata": {
    "colab": {
     "base_uri": "https://localhost:8080/"
    },
    "executionInfo": {
     "elapsed": 3,
     "status": "ok",
     "timestamp": 1659521006610,
     "user": {
      "displayName": "Branko Žitko",
      "userId": "04777374732866690844"
     },
     "user_tz": -120
    },
    "id": "Df_1l3xYIwO3",
    "outputId": "03b7f6c8-7c7b-4f6a-f4e0-7b635be41d42"
   },
   "outputs": [
    {
     "data": {
      "text/plain": [
       "tensor([[0, 1, 2],\n",
       "        [3, 4, 5]])"
      ]
     },
     "execution_count": 35,
     "metadata": {},
     "output_type": "execute_result"
    }
   ],
   "source": [
    "x = torch.arange(6).view(2, 3)\n",
    "x"
   ]
  },
  {
   "cell_type": "code",
   "execution_count": 36,
   "metadata": {
    "colab": {
     "base_uri": "https://localhost:8080/"
    },
    "executionInfo": {
     "elapsed": 246,
     "status": "ok",
     "timestamp": 1659521668054,
     "user": {
      "displayName": "Branko Žitko",
      "userId": "04777374732866690844"
     },
     "user_tz": -120
    },
    "id": "eJ7dt4vZJTiv",
    "outputId": "332ef599-106f-4f5b-e2de-54566490b9c7"
   },
   "outputs": [
    {
     "data": {
      "text/plain": [
       "tensor([[0, 2],\n",
       "        [3, 5]])"
      ]
     },
     "execution_count": 36,
     "metadata": {},
     "output_type": "execute_result"
    }
   ],
   "source": [
    "indices = torch.LongTensor([0, 2])\n",
    "torch.index_select(x, dim=1, index=indices)"
   ]
  },
  {
   "cell_type": "code",
   "execution_count": 37,
   "metadata": {
    "colab": {
     "base_uri": "https://localhost:8080/"
    },
    "executionInfo": {
     "elapsed": 2,
     "status": "ok",
     "timestamp": 1659521669290,
     "user": {
      "displayName": "Branko Žitko",
      "userId": "04777374732866690844"
     },
     "user_tz": -120
    },
    "id": "Tu9rqQg9Jhmv",
    "outputId": "fb344bf9-f623-4801-a64c-e6fc3c308489"
   },
   "outputs": [
    {
     "data": {
      "text/plain": [
       "tensor([[0, 1, 2],\n",
       "        [0, 1, 2]])"
      ]
     },
     "execution_count": 37,
     "metadata": {},
     "output_type": "execute_result"
    }
   ],
   "source": [
    "indices = torch.LongTensor([0, 0])\n",
    "torch.index_select(x, dim=0, index=indices)"
   ]
  },
  {
   "cell_type": "code",
   "execution_count": 38,
   "metadata": {
    "colab": {
     "base_uri": "https://localhost:8080/"
    },
    "executionInfo": {
     "elapsed": 5,
     "status": "ok",
     "timestamp": 1659522289839,
     "user": {
      "displayName": "Branko Žitko",
      "userId": "04777374732866690844"
     },
     "user_tz": -120
    },
    "id": "f2nTTccYJvaA",
    "outputId": "ddc9016b-3d07-4961-fd82-987c73171d0f"
   },
   "outputs": [
    {
     "data": {
      "text/plain": [
       "tensor([1, 5, 2])"
      ]
     },
     "execution_count": 38,
     "metadata": {},
     "output_type": "execute_result"
    }
   ],
   "source": [
    "x[[0, 1, 0], [1, 2, 2]]"
   ]
  },
  {
   "cell_type": "markdown",
   "metadata": {
    "id": "YEpJn-GqPpR8"
   },
   "source": [
    "# Concatenating tensors"
   ]
  },
  {
   "cell_type": "code",
   "execution_count": 39,
   "metadata": {
    "colab": {
     "base_uri": "https://localhost:8080/"
    },
    "executionInfo": {
     "elapsed": 246,
     "status": "ok",
     "timestamp": 1659522451728,
     "user": {
      "displayName": "Branko Žitko",
      "userId": "04777374732866690844"
     },
     "user_tz": -120
    },
    "id": "3C0Sk-mJKAjw",
    "outputId": "72521854-6c7f-408c-b8b0-7c9f16f69ea4"
   },
   "outputs": [
    {
     "data": {
      "text/plain": [
       "tensor([[0, 1, 2],\n",
       "        [3, 4, 5]])"
      ]
     },
     "execution_count": 39,
     "metadata": {},
     "output_type": "execute_result"
    }
   ],
   "source": [
    "x = torch.arange(6).view(2, 3)\n",
    "x"
   ]
  },
  {
   "cell_type": "code",
   "execution_count": 40,
   "metadata": {
    "colab": {
     "base_uri": "https://localhost:8080/"
    },
    "executionInfo": {
     "elapsed": 273,
     "status": "ok",
     "timestamp": 1659522576228,
     "user": {
      "displayName": "Branko Žitko",
      "userId": "04777374732866690844"
     },
     "user_tz": -120
    },
    "id": "GNbKsSYuPwW4",
    "outputId": "00ad0f79-8889-4278-d288-bbe673ac3b90"
   },
   "outputs": [
    {
     "data": {
      "text/plain": [
       "tensor([[0, 1, 2],\n",
       "        [3, 4, 5],\n",
       "        [0, 1, 2],\n",
       "        [3, 4, 5]])"
      ]
     },
     "execution_count": 40,
     "metadata": {},
     "output_type": "execute_result"
    }
   ],
   "source": [
    "torch.cat([x, x], dim=0)"
   ]
  },
  {
   "cell_type": "code",
   "execution_count": 41,
   "metadata": {
    "colab": {
     "base_uri": "https://localhost:8080/"
    },
    "executionInfo": {
     "elapsed": 259,
     "status": "ok",
     "timestamp": 1659522493683,
     "user": {
      "displayName": "Branko Žitko",
      "userId": "04777374732866690844"
     },
     "user_tz": -120
    },
    "id": "qpqDJfLuP1nU",
    "outputId": "ec43ac73-a1ff-437e-948b-013e2113427d"
   },
   "outputs": [
    {
     "data": {
      "text/plain": [
       "tensor([[0, 1, 2, 0, 1, 2],\n",
       "        [3, 4, 5, 3, 4, 5]])"
      ]
     },
     "execution_count": 41,
     "metadata": {},
     "output_type": "execute_result"
    }
   ],
   "source": [
    "torch.cat([x, x], dim=1)"
   ]
  },
  {
   "cell_type": "code",
   "execution_count": 42,
   "metadata": {
    "colab": {
     "base_uri": "https://localhost:8080/"
    },
    "executionInfo": {
     "elapsed": 232,
     "status": "ok",
     "timestamp": 1659522518233,
     "user": {
      "displayName": "Branko Žitko",
      "userId": "04777374732866690844"
     },
     "user_tz": -120
    },
    "id": "pBeMQI6iP6jM",
    "outputId": "648f8bd6-ef30-446e-d74f-9a40eb1f5ba8"
   },
   "outputs": [
    {
     "data": {
      "text/plain": [
       "tensor([[[0, 1, 2],\n",
       "         [3, 4, 5]],\n",
       "\n",
       "        [[0, 1, 2],\n",
       "         [3, 4, 5]]])"
      ]
     },
     "execution_count": 42,
     "metadata": {},
     "output_type": "execute_result"
    }
   ],
   "source": [
    "torch.stack([x, x])"
   ]
  },
  {
   "cell_type": "markdown",
   "metadata": {
    "id": "OQpIy3gmQ6Ws"
   },
   "source": [
    "# Linear algebra on tensors"
   ]
  },
  {
   "cell_type": "code",
   "execution_count": 43,
   "metadata": {
    "colab": {
     "base_uri": "https://localhost:8080/"
    },
    "executionInfo": {
     "elapsed": 394,
     "status": "ok",
     "timestamp": 1659522794049,
     "user": {
      "displayName": "Branko Žitko",
      "userId": "04777374732866690844"
     },
     "user_tz": -120
    },
    "id": "u9PgJ38yP_Sx",
    "outputId": "3f5ff90a-8876-416d-835a-66ace7fd2ee9"
   },
   "outputs": [
    {
     "data": {
      "text/plain": [
       "tensor([[0., 1., 2.],\n",
       "        [3., 4., 5.]])"
      ]
     },
     "execution_count": 43,
     "metadata": {},
     "output_type": "execute_result"
    }
   ],
   "source": [
    "x1 = torch.arange(6, dtype=torch.float).view(2, 3)\n",
    "x1"
   ]
  },
  {
   "cell_type": "code",
   "execution_count": 44,
   "metadata": {
    "colab": {
     "base_uri": "https://localhost:8080/"
    },
    "executionInfo": {
     "elapsed": 237,
     "status": "ok",
     "timestamp": 1659522835443,
     "user": {
      "displayName": "Branko Žitko",
      "userId": "04777374732866690844"
     },
     "user_tz": -120
    },
    "id": "bmDZ4X8SQ--I",
    "outputId": "d7a9eddf-766a-427c-9a56-4cffb3809a01"
   },
   "outputs": [
    {
     "data": {
      "text/plain": [
       "tensor([[1., 2.],\n",
       "        [1., 2.],\n",
       "        [1., 2.]])"
      ]
     },
     "execution_count": 44,
     "metadata": {},
     "output_type": "execute_result"
    }
   ],
   "source": [
    "x2 = torch.ones((3, 2))\n",
    "x2[:, 1] += 1\n",
    "x2"
   ]
  },
  {
   "cell_type": "code",
   "execution_count": 45,
   "metadata": {
    "colab": {
     "base_uri": "https://localhost:8080/"
    },
    "executionInfo": {
     "elapsed": 235,
     "status": "ok",
     "timestamp": 1659522848641,
     "user": {
      "displayName": "Branko Žitko",
      "userId": "04777374732866690844"
     },
     "user_tz": -120
    },
    "id": "r-ySHnQRRHOs",
    "outputId": "467b78be-60fe-471a-d9b1-e4b9b3a5a825"
   },
   "outputs": [
    {
     "data": {
      "text/plain": [
       "tensor([[ 3.,  6.],\n",
       "        [12., 24.]])"
      ]
     },
     "execution_count": 45,
     "metadata": {},
     "output_type": "execute_result"
    }
   ],
   "source": [
    "torch.mm(x1, x2)"
   ]
  },
  {
   "cell_type": "markdown",
   "metadata": {
    "id": "YweDPkdxT2j4"
   },
   "source": [
    "# Tensors and Computational Graphs"
   ]
  },
  {
   "cell_type": "code",
   "execution_count": 46,
   "metadata": {
    "colab": {
     "base_uri": "https://localhost:8080/"
    },
    "executionInfo": {
     "elapsed": 278,
     "status": "ok",
     "timestamp": 1659524520447,
     "user": {
      "displayName": "Branko Žitko",
      "userId": "04777374732866690844"
     },
     "user_tz": -120
    },
    "id": "4c-4lyEKRRSm",
    "outputId": "432823f3-3d2e-44cc-8764-c8e5d565e3bc"
   },
   "outputs": [
    {
     "name": "stdout",
     "output_type": "stream",
     "text": [
      "tensor([[1., 1.],\n",
      "        [1., 1.]], requires_grad=True)\n",
      "None\n"
     ]
    }
   ],
   "source": [
    "import torch\n",
    "x = torch.ones(2, 2, requires_grad=True)\n",
    "print(x)\n",
    "print(x.grad)"
   ]
  },
  {
   "cell_type": "code",
   "execution_count": 47,
   "metadata": {
    "colab": {
     "base_uri": "https://localhost:8080/"
    },
    "executionInfo": {
     "elapsed": 360,
     "status": "ok",
     "timestamp": 1659524534011,
     "user": {
      "displayName": "Branko Žitko",
      "userId": "04777374732866690844"
     },
     "user_tz": -120
    },
    "id": "qQ1hWAkfT_4k",
    "outputId": "0695143f-17fd-49fd-d4f2-fb0083a81ae8"
   },
   "outputs": [
    {
     "name": "stdout",
     "output_type": "stream",
     "text": [
      "tensor([[21., 21.],\n",
      "        [21., 21.]], grad_fn=<AddBackward0>)\n",
      "None\n"
     ]
    }
   ],
   "source": [
    "y = (x + 2) * (x + 5) + 3\n",
    "print(y)\n",
    "print(x.grad)"
   ]
  },
  {
   "cell_type": "code",
   "execution_count": 48,
   "metadata": {
    "colab": {
     "base_uri": "https://localhost:8080/"
    },
    "executionInfo": {
     "elapsed": 236,
     "status": "ok",
     "timestamp": 1659524537550,
     "user": {
      "displayName": "Branko Žitko",
      "userId": "04777374732866690844"
     },
     "user_tz": -120
    },
    "id": "W3wS8eKXUFzC",
    "outputId": "bd69b079-7650-467c-e868-571e0c3da2c9"
   },
   "outputs": [
    {
     "name": "stdout",
     "output_type": "stream",
     "text": [
      "tensor(21., grad_fn=<MeanBackward0>)\n",
      "tensor([[2.2500, 2.2500],\n",
      "        [2.2500, 2.2500]])\n"
     ]
    }
   ],
   "source": [
    "z = y.mean()\n",
    "z.backward()\n",
    "print(z)\n",
    "print(x.grad)"
   ]
  },
  {
   "cell_type": "code",
   "execution_count": 49,
   "metadata": {},
   "outputs": [
    {
     "data": {
      "image/svg+xml": [
       "<?xml version=\"1.0\" encoding=\"UTF-8\" standalone=\"no\"?>\n",
       "<!DOCTYPE svg PUBLIC \"-//W3C//DTD SVG 1.1//EN\"\n",
       " \"http://www.w3.org/Graphics/SVG/1.1/DTD/svg11.dtd\">\n",
       "<!-- Generated by graphviz version 6.0.2 (20221011.1828)\n",
       " -->\n",
       "<!-- Pages: 1 -->\n",
       "<svg width=\"204pt\" height=\"381pt\"\n",
       " viewBox=\"0.00 0.00 204.00 381.00\" xmlns=\"http://www.w3.org/2000/svg\" xmlns:xlink=\"http://www.w3.org/1999/xlink\">\n",
       "<g id=\"graph0\" class=\"graph\" transform=\"scale(1 1) rotate(0) translate(4 377)\">\n",
       "<polygon fill=\"white\" stroke=\"none\" points=\"-4,4 -4,-377 200,-377 200,4 -4,4\"/>\n",
       "<!-- 140538020824544 -->\n",
       "<g id=\"node1\" class=\"node\">\n",
       "<title>140538020824544</title>\n",
       "<polygon fill=\"#caff70\" stroke=\"black\" points=\"124.5,-31 70.5,-31 70.5,0 124.5,0 124.5,-31\"/>\n",
       "<text text-anchor=\"middle\" x=\"97.5\" y=\"-7\" font-family=\"monospace\" font-size=\"10.00\"> ()</text>\n",
       "</g>\n",
       "<!-- 140538020917152 -->\n",
       "<g id=\"node2\" class=\"node\">\n",
       "<title>140538020917152</title>\n",
       "<polygon fill=\"lightgrey\" stroke=\"black\" points=\"145,-86 50,-86 50,-67 145,-67 145,-86\"/>\n",
       "<text text-anchor=\"middle\" x=\"97.5\" y=\"-74\" font-family=\"monospace\" font-size=\"10.00\">MeanBackward0</text>\n",
       "</g>\n",
       "<!-- 140538020917152&#45;&gt;140538020824544 -->\n",
       "<g id=\"edge8\" class=\"edge\">\n",
       "<title>140538020917152&#45;&gt;140538020824544</title>\n",
       "<path fill=\"none\" stroke=\"black\" d=\"M97.5,-66.79C97.5,-60.07 97.5,-50.4 97.5,-41.34\"/>\n",
       "<polygon fill=\"black\" stroke=\"black\" points=\"101,-41.19 97.5,-31.19 94,-41.19 101,-41.19\"/>\n",
       "</g>\n",
       "<!-- 140538020916288 -->\n",
       "<g id=\"node3\" class=\"node\">\n",
       "<title>140538020916288</title>\n",
       "<polygon fill=\"lightgrey\" stroke=\"black\" points=\"142,-141 53,-141 53,-122 142,-122 142,-141\"/>\n",
       "<text text-anchor=\"middle\" x=\"97.5\" y=\"-129\" font-family=\"monospace\" font-size=\"10.00\">AddBackward0</text>\n",
       "</g>\n",
       "<!-- 140538020916288&#45;&gt;140538020917152 -->\n",
       "<g id=\"edge1\" class=\"edge\">\n",
       "<title>140538020916288&#45;&gt;140538020917152</title>\n",
       "<path fill=\"none\" stroke=\"black\" d=\"M97.5,-121.75C97.5,-114.8 97.5,-104.85 97.5,-96.13\"/>\n",
       "<polygon fill=\"black\" stroke=\"black\" points=\"101,-96.09 97.5,-86.09 94,-96.09 101,-96.09\"/>\n",
       "</g>\n",
       "<!-- 140538020917104 -->\n",
       "<g id=\"node4\" class=\"node\">\n",
       "<title>140538020917104</title>\n",
       "<polygon fill=\"lightgrey\" stroke=\"black\" points=\"142,-196 53,-196 53,-177 142,-177 142,-196\"/>\n",
       "<text text-anchor=\"middle\" x=\"97.5\" y=\"-184\" font-family=\"monospace\" font-size=\"10.00\">MulBackward0</text>\n",
       "</g>\n",
       "<!-- 140538020917104&#45;&gt;140538020916288 -->\n",
       "<g id=\"edge2\" class=\"edge\">\n",
       "<title>140538020917104&#45;&gt;140538020916288</title>\n",
       "<path fill=\"none\" stroke=\"black\" d=\"M97.5,-176.75C97.5,-169.8 97.5,-159.85 97.5,-151.13\"/>\n",
       "<polygon fill=\"black\" stroke=\"black\" points=\"101,-151.09 97.5,-141.09 94,-151.09 101,-151.09\"/>\n",
       "</g>\n",
       "<!-- 140538020916096 -->\n",
       "<g id=\"node5\" class=\"node\">\n",
       "<title>140538020916096</title>\n",
       "<polygon fill=\"lightgrey\" stroke=\"black\" points=\"89,-251 0,-251 0,-232 89,-232 89,-251\"/>\n",
       "<text text-anchor=\"middle\" x=\"44.5\" y=\"-239\" font-family=\"monospace\" font-size=\"10.00\">AddBackward0</text>\n",
       "</g>\n",
       "<!-- 140538020916096&#45;&gt;140538020917104 -->\n",
       "<g id=\"edge3\" class=\"edge\">\n",
       "<title>140538020916096&#45;&gt;140538020917104</title>\n",
       "<path fill=\"none\" stroke=\"black\" d=\"M53.25,-231.75C60.97,-224.03 72.4,-212.6 81.72,-203.28\"/>\n",
       "<polygon fill=\"black\" stroke=\"black\" points=\"84.31,-205.64 88.91,-196.09 79.36,-200.69 84.31,-205.64\"/>\n",
       "</g>\n",
       "<!-- 140538020915424 -->\n",
       "<g id=\"node6\" class=\"node\">\n",
       "<title>140538020915424</title>\n",
       "<polygon fill=\"lightgrey\" stroke=\"black\" points=\"148,-306 47,-306 47,-287 148,-287 148,-306\"/>\n",
       "<text text-anchor=\"middle\" x=\"97.5\" y=\"-294\" font-family=\"monospace\" font-size=\"10.00\">AccumulateGrad</text>\n",
       "</g>\n",
       "<!-- 140538020915424&#45;&gt;140538020916096 -->\n",
       "<g id=\"edge4\" class=\"edge\">\n",
       "<title>140538020915424&#45;&gt;140538020916096</title>\n",
       "<path fill=\"none\" stroke=\"black\" d=\"M88.75,-286.75C81.03,-279.03 69.6,-267.6 60.28,-258.28\"/>\n",
       "<polygon fill=\"black\" stroke=\"black\" points=\"62.64,-255.69 53.09,-251.09 57.69,-260.64 62.64,-255.69\"/>\n",
       "</g>\n",
       "<!-- 140538020915232 -->\n",
       "<g id=\"node8\" class=\"node\">\n",
       "<title>140538020915232</title>\n",
       "<polygon fill=\"lightgrey\" stroke=\"black\" points=\"196,-251 107,-251 107,-232 196,-232 196,-251\"/>\n",
       "<text text-anchor=\"middle\" x=\"151.5\" y=\"-239\" font-family=\"monospace\" font-size=\"10.00\">AddBackward0</text>\n",
       "</g>\n",
       "<!-- 140538020915424&#45;&gt;140538020915232 -->\n",
       "<g id=\"edge7\" class=\"edge\">\n",
       "<title>140538020915424&#45;&gt;140538020915232</title>\n",
       "<path fill=\"none\" stroke=\"black\" d=\"M106.42,-286.75C114.28,-279.03 125.93,-267.6 135.42,-258.28\"/>\n",
       "<polygon fill=\"black\" stroke=\"black\" points=\"138.06,-260.59 142.75,-251.09 133.16,-255.6 138.06,-260.59\"/>\n",
       "</g>\n",
       "<!-- 140538020975616 -->\n",
       "<g id=\"node7\" class=\"node\">\n",
       "<title>140538020975616</title>\n",
       "<polygon fill=\"lightblue\" stroke=\"black\" points=\"127,-373 68,-373 68,-342 127,-342 127,-373\"/>\n",
       "<text text-anchor=\"middle\" x=\"97.5\" y=\"-349\" font-family=\"monospace\" font-size=\"10.00\"> (2, 2)</text>\n",
       "</g>\n",
       "<!-- 140538020975616&#45;&gt;140538020915424 -->\n",
       "<g id=\"edge5\" class=\"edge\">\n",
       "<title>140538020975616&#45;&gt;140538020915424</title>\n",
       "<path fill=\"none\" stroke=\"black\" d=\"M97.5,-341.92C97.5,-334.22 97.5,-324.69 97.5,-316.43\"/>\n",
       "<polygon fill=\"black\" stroke=\"black\" points=\"101,-316.25 97.5,-306.25 94,-316.25 101,-316.25\"/>\n",
       "</g>\n",
       "<!-- 140538020915232&#45;&gt;140538020917104 -->\n",
       "<g id=\"edge6\" class=\"edge\">\n",
       "<title>140538020915232&#45;&gt;140538020917104</title>\n",
       "<path fill=\"none\" stroke=\"black\" d=\"M142.58,-231.75C134.72,-224.03 123.07,-212.6 113.58,-203.28\"/>\n",
       "<polygon fill=\"black\" stroke=\"black\" points=\"115.84,-200.6 106.25,-196.09 110.94,-205.59 115.84,-200.6\"/>\n",
       "</g>\n",
       "</g>\n",
       "</svg>\n"
      ],
      "text/plain": [
       "<graphviz.graphs.Digraph at 0x7fd18ed06f10>"
      ]
     },
     "execution_count": 49,
     "metadata": {},
     "output_type": "execute_result"
    }
   ],
   "source": [
    "make_dot(z)"
   ]
  },
  {
   "cell_type": "markdown",
   "metadata": {
    "id": "gDU8qrVZ7xei"
   },
   "source": [
    "# CUDA tensors"
   ]
  },
  {
   "cell_type": "code",
   "execution_count": 50,
   "metadata": {
    "colab": {
     "base_uri": "https://localhost:8080/"
    },
    "executionInfo": {
     "elapsed": 2149,
     "status": "ok",
     "timestamp": 1660031965594,
     "user": {
      "displayName": "Branko Žitko",
      "userId": "04777374732866690844"
     },
     "user_tz": -120
    },
    "id": "t5jL2vUOUSZA",
    "outputId": "15c820ca-ec0a-4132-d2a8-9788ea422e5c"
   },
   "outputs": [
    {
     "data": {
      "text/plain": [
       "False"
      ]
     },
     "execution_count": 50,
     "metadata": {},
     "output_type": "execute_result"
    }
   ],
   "source": [
    "import torch\n",
    "torch.cuda.is_available()"
   ]
  },
  {
   "cell_type": "code",
   "execution_count": 51,
   "metadata": {
    "colab": {
     "base_uri": "https://localhost:8080/"
    },
    "executionInfo": {
     "elapsed": 460,
     "status": "ok",
     "timestamp": 1660031968739,
     "user": {
      "displayName": "Branko Žitko",
      "userId": "04777374732866690844"
     },
     "user_tz": -120
    },
    "id": "K-hCdKeDZp5C",
    "outputId": "6887a6ec-405d-4dc8-c2b6-01319c804313"
   },
   "outputs": [
    {
     "data": {
      "text/plain": [
       "device(type='cpu')"
      ]
     },
     "execution_count": 51,
     "metadata": {},
     "output_type": "execute_result"
    }
   ],
   "source": [
    "gpu_device = torch.device(\"cuda\" if torch.cuda.is_available() else \"cpu\")\n",
    "gpu_device"
   ]
  },
  {
   "cell_type": "code",
   "execution_count": 52,
   "metadata": {
    "colab": {
     "base_uri": "https://localhost:8080/"
    },
    "executionInfo": {
     "elapsed": 5141,
     "status": "ok",
     "timestamp": 1660031990177,
     "user": {
      "displayName": "Branko Žitko",
      "userId": "04777374732866690844"
     },
     "user_tz": -120
    },
    "id": "O6bXDNHUakX2",
    "outputId": "5df9a442-6612-4a14-e23e-669a4e4a0c93"
   },
   "outputs": [
    {
     "data": {
      "text/plain": [
       "tensor([[0.7963, 0.4170, 0.3288],\n",
       "        [0.1997, 0.3036, 0.0811],\n",
       "        [0.6175, 0.8667, 0.1704]])"
      ]
     },
     "execution_count": 52,
     "metadata": {},
     "output_type": "execute_result"
    }
   ],
   "source": [
    "x = torch.rand(3, 3).to(gpu_device)\n",
    "x"
   ]
  },
  {
   "cell_type": "code",
   "execution_count": 53,
   "metadata": {
    "colab": {
     "base_uri": "https://localhost:8080/"
    },
    "executionInfo": {
     "elapsed": 449,
     "status": "ok",
     "timestamp": 1660032013690,
     "user": {
      "displayName": "Branko Žitko",
      "userId": "04777374732866690844"
     },
     "user_tz": -120
    },
    "id": "lNGa3SO88VC_",
    "outputId": "65b8c811-2b2a-4523-b999-2ac145c9f2a3"
   },
   "outputs": [
    {
     "data": {
      "text/plain": [
       "tensor([[0.5735, 0.0809, 0.0993],\n",
       "        [0.7024, 0.3866, 0.3962],\n",
       "        [0.9951, 0.5008, 0.4278]])"
      ]
     },
     "execution_count": 53,
     "metadata": {},
     "output_type": "execute_result"
    }
   ],
   "source": [
    "y = torch.rand(3, 3)\n",
    "y"
   ]
  },
  {
   "cell_type": "code",
   "execution_count": 54,
   "metadata": {
    "colab": {
     "base_uri": "https://localhost:8080/",
     "height": 166
    },
    "executionInfo": {
     "elapsed": 6,
     "status": "error",
     "timestamp": 1660032015907,
     "user": {
      "displayName": "Branko Žitko",
      "userId": "04777374732866690844"
     },
     "user_tz": -120
    },
    "id": "zQA6QZ6lFBPV",
    "outputId": "53f88a6f-afb1-45de-fd94-ab46aee7abd5"
   },
   "outputs": [
    {
     "data": {
      "text/plain": [
       "tensor([[1.3698, 0.4979, 0.4280],\n",
       "        [0.9020, 0.6902, 0.4773],\n",
       "        [1.6126, 1.3675, 0.5983]])"
      ]
     },
     "execution_count": 54,
     "metadata": {},
     "output_type": "execute_result"
    }
   ],
   "source": [
    "x + y"
   ]
  },
  {
   "cell_type": "code",
   "execution_count": 55,
   "metadata": {
    "executionInfo": {
     "elapsed": 5,
     "status": "ok",
     "timestamp": 1660032017763,
     "user": {
      "displayName": "Branko Žitko",
      "userId": "04777374732866690844"
     },
     "user_tz": -120
    },
    "id": "oVkPN7Rr8bjD"
   },
   "outputs": [],
   "source": [
    "y = y.to(gpu_device)"
   ]
  },
  {
   "cell_type": "code",
   "execution_count": 56,
   "metadata": {
    "colab": {
     "base_uri": "https://localhost:8080/"
    },
    "executionInfo": {
     "elapsed": 3,
     "status": "ok",
     "timestamp": 1660032019273,
     "user": {
      "displayName": "Branko Žitko",
      "userId": "04777374732866690844"
     },
     "user_tz": -120
    },
    "id": "QZxG_cXA8lbp",
    "outputId": "0879ee2f-3729-4ced-d84b-17f57bd9fa3e"
   },
   "outputs": [
    {
     "data": {
      "text/plain": [
       "tensor([[1.3698, 0.4979, 0.4280],\n",
       "        [0.9020, 0.6902, 0.4773],\n",
       "        [1.6126, 1.3675, 0.5983]])"
      ]
     },
     "execution_count": 56,
     "metadata": {},
     "output_type": "execute_result"
    }
   ],
   "source": [
    "x + y"
   ]
  },
  {
   "cell_type": "code",
   "execution_count": null,
   "metadata": {
    "id": "6AXFkUb-8mBi"
   },
   "outputs": [],
   "source": []
  }
 ],
 "metadata": {
  "accelerator": "GPU",
  "colab": {
   "authorship_tag": "ABX9TyMYQ0VV/3mXr8tx/cSMkFF3",
   "name": "nlp 01p introduction.ipynb",
   "provenance": []
  },
  "gpuClass": "standard",
  "kernelspec": {
   "display_name": "Python 3 (ipykernel)",
   "language": "python",
   "name": "python3"
  },
  "language_info": {
   "codemirror_mode": {
    "name": "ipython",
    "version": 3
   },
   "file_extension": ".py",
   "mimetype": "text/x-python",
   "name": "python",
   "nbconvert_exporter": "python",
   "pygments_lexer": "ipython3",
   "version": "3.8.13"
  }
 },
 "nbformat": 4,
 "nbformat_minor": 1
}
