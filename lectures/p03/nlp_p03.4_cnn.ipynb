{
 "cells": [
  {
   "cell_type": "code",
   "execution_count": 37,
   "metadata": {},
   "outputs": [
    {
     "name": "stdout",
     "output_type": "stream",
     "text": [
      "input (6x6)\n",
      "tensor([[2, 7, 6, 4, 6, 5],\n",
      "        [0, 4, 0, 3, 8, 4],\n",
      "        [0, 4, 1, 2, 5, 5],\n",
      "        [7, 6, 9, 6, 3, 1],\n",
      "        [9, 3, 1, 9, 7, 9],\n",
      "        [2, 0, 5, 9, 3, 4]])\n",
      "\n",
      "filter (3x3)\n",
      "tensor([[0, 0, 0],\n",
      "        [0, 1, 0],\n",
      "        [0, 0, 0]])\n",
      "\n",
      "stride: 2\n",
      "convolved (2x2)\n",
      "tensor([[4, 3],\n",
      "        [6, 6]])\n",
      "\n"
     ]
    }
   ],
   "source": [
    "import torch\n",
    "\n",
    "def convolve(input, kernel, stride):\n",
    "    ih, iw = input.shape\n",
    "    kh, kw = kernel.shape\n",
    "\n",
    "    ch = (ih - kh) // stride + 1\n",
    "    cw = (iw - kw) // stride + 1    \n",
    "    \n",
    "    convolved = []\n",
    "    for i in range(0, ch * stride, stride):\n",
    "        row = []\n",
    "        for j in range(0, cw * stride, stride):\n",
    "            region = input[i:i+kh, j:j+kw]\n",
    "            total = torch.sum(region * kernel)\n",
    "            row.append(int(total))\n",
    "        convolved.append(row)\n",
    "    \n",
    "    return torch.tensor(convolved)\n",
    "\n",
    "def print_tensor(tensor, title=\"\"):\n",
    "    shape_str = \"x\".join(str(s) for s in tensor.shape)\n",
    "    print(f\"{title} ({shape_str})\")\n",
    "    print(tensor)\n",
    "    print()\n",
    "\n",
    "torch.manual_seed(42)\n",
    "\n",
    "input = torch.randint(low=0, high=10, size=(6, 6))\n",
    "filter = torch.tensor([[0, 0, 0],\n",
    "                       [0, 1, 0],\n",
    "                       [0, 0, 0]])\n",
    "\n",
    "print_tensor(input, title=\"input\")\n",
    "print_tensor(filter, title=\"filter\")\n",
    "\n",
    "stride=2\n",
    "convolved = convolve(input, filter, stride=stride)\n",
    "print(f\"stride: {stride}\")\n",
    "print_tensor(convolved, title=\"convolved\")\n",
    "\n",
    "\n"
   ]
  },
  {
   "cell_type": "code",
   "execution_count": 76,
   "metadata": {},
   "outputs": [
    {
     "name": "stdout",
     "output_type": "stream",
     "text": [
      "input (1x2x6x6)\n",
      "tensor([[[[2, 7, 6, 4, 6, 5],\n",
      "          [0, 4, 0, 3, 8, 4],\n",
      "          [0, 4, 1, 2, 5, 5],\n",
      "          [7, 6, 9, 6, 3, 1],\n",
      "          [9, 3, 1, 9, 7, 9],\n",
      "          [2, 0, 5, 9, 3, 4]],\n",
      "\n",
      "         [[9, 6, 2, 0, 6, 2],\n",
      "          [7, 9, 7, 3, 3, 4],\n",
      "          [3, 7, 0, 9, 0, 9],\n",
      "          [6, 9, 5, 4, 8, 8],\n",
      "          [6, 0, 0, 0, 0, 1],\n",
      "          [3, 0, 1, 1, 7, 9]]]])\n",
      "\n",
      "filter (4x2x3x3)\n",
      "tensor([[[[1, 0, 0],\n",
      "          [0, 0, 0],\n",
      "          [0, 0, 0]],\n",
      "\n",
      "         [[0, 1, 0],\n",
      "          [0, 0, 0],\n",
      "          [0, 0, 0]]],\n",
      "\n",
      "\n",
      "        [[[0, 0, 1],\n",
      "          [0, 0, 0],\n",
      "          [0, 0, 0]],\n",
      "\n",
      "         [[0, 0, 0],\n",
      "          [1, 0, 0],\n",
      "          [0, 0, 0]]],\n",
      "\n",
      "\n",
      "        [[[0, 0, 0],\n",
      "          [0, 1, 0],\n",
      "          [0, 0, 0]],\n",
      "\n",
      "         [[0, 0, 0],\n",
      "          [0, 0, 1],\n",
      "          [0, 0, 0]]],\n",
      "\n",
      "\n",
      "        [[[0, 0, 0],\n",
      "          [0, 0, 0],\n",
      "          [1, 0, 0]],\n",
      "\n",
      "         [[0, 0, 0],\n",
      "          [0, 0, 0],\n",
      "          [0, 1, 0]]]])\n",
      "\n",
      "convolved (1x4x4x4)\n",
      "tensor([[[[ 8,  9,  6, 10],\n",
      "          [ 9, 11,  3,  6],\n",
      "          [ 7,  4, 10,  2],\n",
      "          [16, 11, 13, 14]],\n",
      "\n",
      "         [[13, 13, 13,  8],\n",
      "          [ 3, 10,  8, 13],\n",
      "          [ 7, 11, 10,  9],\n",
      "          [15,  6,  3,  1]],\n",
      "\n",
      "         [[11,  3,  6, 12],\n",
      "          [ 4, 10,  2, 14],\n",
      "          [11, 13, 14, 11],\n",
      "          [ 3,  1,  9,  8]],\n",
      "\n",
      "         [[ 7,  4, 10,  2],\n",
      "          [16, 11, 13, 14],\n",
      "          [ 9,  3,  1,  9],\n",
      "          [ 2,  1,  6, 16]]]])\n",
      "\n"
     ]
    }
   ],
   "source": [
    "torch.manual_seed(42)\n",
    "\n",
    "iN, iC, iH, iW = 1, 2, 4, 4\n",
    "iN, iC, iH, iW = 1, 2, 6, 6\n",
    "input = torch.randint(low=0, high=10, size=(iN, iC, iH, iW))\n",
    "\n",
    "groups = 1\n",
    "# oC - number of kernels (output channels)\n",
    "# fC - ic // groups\n",
    "oC, fC, fH, fW = 4, iC // groups, 3, 3\n",
    "filter = torch.zeros((oC, fC, fW, fH)).long()\n",
    "k = 0\n",
    "for i in range(oC):\n",
    "    for j in range(fC):\n",
    "        fi = k // fW\n",
    "        fj = k % fW\n",
    "        filter[i,j][fi,fj]=1\n",
    "        k += 1\n",
    "        \n",
    "stride = 1\n",
    "cH = (iH - fH) // stride + 1\n",
    "cW = (iW - fW) // stride + 1\n",
    "result = torch.zeros((iN, oC, cH, cW), dtype=torch.long)\n",
    "for i in range(iN):\n",
    "    for j in range(oC):\n",
    "        for k in range(iC):\n",
    "            channel = input[i, k]\n",
    "            kernel = filter[j, k]\n",
    "            total = convolve(channel, kernel, stride)\n",
    "            result[i, j] += total\n",
    "            \n",
    "            \n",
    "print_tensor(input, title=\"input\")\n",
    "print_tensor(filter, title=\"filter\")\n",
    "print_tensor(result, title=\"convolved\")\n"
   ]
  },
  {
   "cell_type": "code",
   "execution_count": 77,
   "metadata": {},
   "outputs": [
    {
     "data": {
      "text/plain": [
       "tensor([[[[ 8,  9,  6, 10],\n",
       "          [ 9, 11,  3,  6],\n",
       "          [ 7,  4, 10,  2],\n",
       "          [16, 11, 13, 14]],\n",
       "\n",
       "         [[13, 13, 13,  8],\n",
       "          [ 3, 10,  8, 13],\n",
       "          [ 7, 11, 10,  9],\n",
       "          [15,  6,  3,  1]],\n",
       "\n",
       "         [[11,  3,  6, 12],\n",
       "          [ 4, 10,  2, 14],\n",
       "          [11, 13, 14, 11],\n",
       "          [ 3,  1,  9,  8]],\n",
       "\n",
       "         [[ 7,  4, 10,  2],\n",
       "          [16, 11, 13, 14],\n",
       "          [ 9,  3,  1,  9],\n",
       "          [ 2,  1,  6, 16]]]])"
      ]
     },
     "execution_count": 77,
     "metadata": {},
     "output_type": "execute_result"
    }
   ],
   "source": [
    "import torch.nn.functional as F\n",
    "\n",
    "F.conv2d(input=input, \n",
    "         weight=filter,\n",
    "         stride=stride)"
   ]
  },
  {
   "cell_type": "code",
   "execution_count": 82,
   "metadata": {},
   "outputs": [
    {
     "data": {
      "text/plain": [
       "tensor([[[[11., 10.],\n",
       "          [16., 14.]],\n",
       "\n",
       "         [[13., 13.],\n",
       "          [15., 10.]],\n",
       "\n",
       "         [[11., 14.],\n",
       "          [13., 14.]],\n",
       "\n",
       "         [[16., 14.],\n",
       "          [ 9., 16.]]]])"
      ]
     },
     "execution_count": 82,
     "metadata": {},
     "output_type": "execute_result"
    }
   ],
   "source": [
    "\n",
    "F.max_pool2d(result.float(), kernel_size=2)"
   ]
  },
  {
   "cell_type": "code",
   "execution_count": null,
   "metadata": {},
   "outputs": [],
   "source": []
  }
 ],
 "metadata": {
  "kernelspec": {
   "display_name": "Python 3.8.13 ('nlp')",
   "language": "python",
   "name": "python3"
  },
  "language_info": {
   "codemirror_mode": {
    "name": "ipython",
    "version": 3
   },
   "file_extension": ".py",
   "mimetype": "text/x-python",
   "name": "python",
   "nbconvert_exporter": "python",
   "pygments_lexer": "ipython3",
   "version": "3.9.13"
  },
  "toc": {
   "colors": {
    "hover_highlight": "#DAA520",
    "running_highlight": "#FF0000",
    "selected_highlight": "#FFD700"
   },
   "moveMenuLeft": true,
   "nav_menu": {
    "height": "138px",
    "width": "252px"
   },
   "navigate_menu": true,
   "number_sections": true,
   "sideBar": true,
   "threshold": "5",
   "toc_cell": false,
   "toc_section_display": "block",
   "toc_window_display": false
  },
  "vscode": {
   "interpreter": {
    "hash": "358f19b5168dcc2c817c22e8ae2c189228565b53de3b91095ee770a390daccdd"
   }
  }
 },
 "nbformat": 4,
 "nbformat_minor": 2
}
