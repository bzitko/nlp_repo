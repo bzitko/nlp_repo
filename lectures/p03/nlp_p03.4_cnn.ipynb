{
 "cells": [
  {
   "cell_type": "markdown",
   "metadata": {},
   "source": [
    "# Convolution operation"
   ]
  },
  {
   "cell_type": "code",
   "execution_count": 2,
   "metadata": {},
   "outputs": [],
   "source": [
    "import torch\n",
    "\n",
    "def convolve2d(input, kernel, stride, padding=0, dilation=1):\n",
    "    ih, iw = input.shape\n",
    "    kh, kw = kernel.shape\n",
    "\n",
    "    if padding:\n",
    "        input = torch.nn.functional.pad(input, pad=[padding] * 4)\n",
    "\n",
    "    # calculating output size\n",
    "    oh = (ih - kh + 2 * padding - (kh - 1) * (dilation - 1)) // stride + 1\n",
    "    ow = (iw - kw + 2 * padding - (kw - 1) * (dilation - 1)) // stride + 1    \n",
    "    \n",
    "    output = []\n",
    "    for i in range(0, oh * stride, stride):\n",
    "        row = []\n",
    "        for j in range(0, ow * stride, stride):\n",
    "            region = input[i:i+kh + (kh-1)*(dilation-1):dilation, j:j+kw + (kw-1)*(dilation-1):dilation]\n",
    "            total = torch.sum(region * kernel)\n",
    "            row.append(total)\n",
    "        output.append(row)\n",
    "    \n",
    "    output = torch.tensor(output)\n",
    "    assert output.shape == (oh, ow)\n",
    "\n",
    "    return output\n",
    "\n",
    "def print_tensor(tensor, title=\"\"):\n",
    "    shape_str = \"x\".join(str(s) for s in tensor.shape)\n",
    "    print(f\"{title.upper()} ({shape_str})\")\n",
    "    print(tensor)\n",
    "    print()\n",
    "\n",
    "\n"
   ]
  },
  {
   "cell_type": "markdown",
   "metadata": {},
   "source": [
    "## Input and Kernel"
   ]
  },
  {
   "cell_type": "code",
   "execution_count": 3,
   "metadata": {},
   "outputs": [
    {
     "name": "stdout",
     "output_type": "stream",
     "text": [
      "INPUT (6x6)\n",
      "tensor([[2, 7, 6, 4, 6, 5],\n",
      "        [0, 4, 0, 3, 8, 4],\n",
      "        [0, 4, 1, 2, 5, 5],\n",
      "        [7, 6, 9, 6, 3, 1],\n",
      "        [9, 3, 1, 9, 7, 9],\n",
      "        [2, 0, 5, 9, 3, 4]])\n",
      "\n",
      "KERNEL (3x3)\n",
      "tensor([[0, 0, 0],\n",
      "        [0, 1, 0],\n",
      "        [0, 0, 0]])\n",
      "\n"
     ]
    }
   ],
   "source": [
    "torch.manual_seed(42)\n",
    "input = torch.randint(low=0, high=10, size=(6, 6))\n",
    "kernel = torch.tensor([[0, 0, 0],\n",
    "                       [0, 1, 0],\n",
    "                       [0, 0, 0]])\n",
    "\n",
    "print_tensor(input, title=\"input\")\n",
    "print_tensor(kernel, title=\"kernel\")"
   ]
  },
  {
   "cell_type": "markdown",
   "metadata": {},
   "source": [
    "## Convolutions"
   ]
  },
  {
   "cell_type": "code",
   "execution_count": 4,
   "metadata": {},
   "outputs": [
    {
     "name": "stdout",
     "output_type": "stream",
     "text": [
      "INPUT (6x6)\n",
      "tensor([[2, 7, 6, 4, 6, 5],\n",
      "        [0, 4, 0, 3, 8, 4],\n",
      "        [0, 4, 1, 2, 5, 5],\n",
      "        [7, 6, 9, 6, 3, 1],\n",
      "        [9, 3, 1, 9, 7, 9],\n",
      "        [2, 0, 5, 9, 3, 4]])\n",
      "\n",
      "KERNEL (3x3)\n",
      "tensor([[0, 0, 0],\n",
      "        [0, 1, 0],\n",
      "        [0, 0, 0]])\n",
      "\n",
      "------------------------------------------------------------\n",
      "stride: 1  padding: 0  dilation: 1\n",
      "OUTPUT (4x4)\n",
      "tensor([[4, 0, 3, 8],\n",
      "        [4, 1, 2, 5],\n",
      "        [6, 9, 6, 3],\n",
      "        [3, 1, 9, 7]])\n",
      "\n",
      "------------------------------------------------------------\n",
      "stride: 2  padding: 0  dilation: 1\n",
      "OUTPUT (2x2)\n",
      "tensor([[4, 3],\n",
      "        [6, 6]])\n",
      "\n",
      "------------------------------------------------------------\n",
      "stride: 1  padding: 1  dilation: 1\n",
      "OUTPUT (6x6)\n",
      "tensor([[2, 7, 6, 4, 6, 5],\n",
      "        [0, 4, 0, 3, 8, 4],\n",
      "        [0, 4, 1, 2, 5, 5],\n",
      "        [7, 6, 9, 6, 3, 1],\n",
      "        [9, 3, 1, 9, 7, 9],\n",
      "        [2, 0, 5, 9, 3, 4]])\n",
      "\n",
      "------------------------------------------------------------\n",
      "stride: 1  padding: 1  dilation: 2\n",
      "OUTPUT (4x4)\n",
      "tensor([[4, 0, 3, 8],\n",
      "        [4, 1, 2, 5],\n",
      "        [6, 9, 6, 3],\n",
      "        [3, 1, 9, 7]])\n",
      "\n"
     ]
    }
   ],
   "source": [
    "print_tensor(input, title=\"input\")\n",
    "print_tensor(kernel, title=\"kernel\")\n",
    "\n",
    "for stride, padding, dilation in [(1, 0, 1),\n",
    "                                  (2, 0, 1),\n",
    "                                  (1, 1, 1),\n",
    "                                  (1, 1, 2)]:\n",
    "\n",
    "    print(\"-\" * 60)\n",
    "    print(f\"stride: {stride}  padding: {padding}  dilation: {dilation}\")\n",
    "\n",
    "    output = convolve2d(input, kernel, stride, padding, dilation)\n",
    "    print_tensor(output, title=\"output\")\n",
    "\n",
    "    torch_output = torch.nn.functional.conv2d(input=input.view(1, 1, *input.shape), \n",
    "                                              weight=kernel.view(1, 1, *kernel.shape),\n",
    "                                              stride=stride,\n",
    "                                              padding=padding,\n",
    "                                              dilation=dilation).squeeze()\n",
    "\n",
    "    assert torch.equal(output, torch_output)"
   ]
  },
  {
   "cell_type": "markdown",
   "metadata": {},
   "source": [
    "# Pooling"
   ]
  },
  {
   "cell_type": "code",
   "execution_count": 5,
   "metadata": {},
   "outputs": [
    {
     "name": "stdout",
     "output_type": "stream",
     "text": [
      "3 3\n"
     ]
    },
    {
     "data": {
      "text/plain": [
       "tensor([[3.2500, 3.2500, 5.7500],\n",
       "        [4.2500, 4.5000, 3.5000],\n",
       "        [3.5000, 6.0000, 5.7500]])"
      ]
     },
     "execution_count": 5,
     "metadata": {},
     "output_type": "execute_result"
    }
   ],
   "source": [
    "def pool2d(input, size, stride=None, padding=0, dilation=1, mode=\"max\"):\n",
    "    if stride is None:\n",
    "        stride = size\n",
    "    \n",
    "    ih, iw = input.shape\n",
    "    oh = (ih - size + 2 * padding - (dilation - 1) * (size - 1)) // stride + 1\n",
    "    ow = (iw - size + 2 * padding - (dilation - 1) * (size - 1)) // stride + 1\n",
    "    print(oh, ow)\n",
    "\n",
    "    if mode == \"max\":\n",
    "        mode = torch.max\n",
    "    elif mode == \"min\":\n",
    "        mode = torch.min\n",
    "    elif mode == \"avg\" or mode == \"mean\":\n",
    "        mode = lambda t: torch.mean(t.float())\n",
    "\n",
    "    if padding:\n",
    "        input = torch.nn.functional.pad(input, pad=[padding] * 4)\n",
    "\n",
    "    output = []\n",
    "    for i in range(0, oh * stride, stride):\n",
    "        row = []\n",
    "        for j in range(0, ow * stride, stride):\n",
    "            region = input[i:i+size + (size-1)*(dilation-1):dilation, j:j+size + (size-1)*(dilation-1):dilation]\n",
    "            total = mode(region)\n",
    "            row.append(total)\n",
    "        output.append(row)\n",
    "    \n",
    "    output = torch.tensor(output)\n",
    "    assert output.shape == (oh, ow)\n",
    "\n",
    "    return output    \n",
    "\n",
    "pool2d(input, 2, mode=\"avg\")\n"
   ]
  },
  {
   "cell_type": "markdown",
   "metadata": {},
   "source": [
    "## Pools"
   ]
  },
  {
   "cell_type": "code",
   "execution_count": 6,
   "metadata": {},
   "outputs": [
    {
     "name": "stdout",
     "output_type": "stream",
     "text": [
      "INPUT (6x6)\n",
      "tensor([[2, 7, 6, 4, 6, 5],\n",
      "        [0, 4, 0, 3, 8, 4],\n",
      "        [0, 4, 1, 2, 5, 5],\n",
      "        [7, 6, 9, 6, 3, 1],\n",
      "        [9, 3, 1, 9, 7, 9],\n",
      "        [2, 0, 5, 9, 3, 4]])\n",
      "\n",
      "------------------------------------------------------------\n",
      "mode: max  kernel size: 2  stride: 2  padding: 0  dilation: 1\n",
      "3 3\n",
      "OUTPUT (3x3)\n",
      "tensor([[7, 6, 8],\n",
      "        [7, 9, 5],\n",
      "        [9, 9, 9]])\n",
      "\n",
      "------------------------------------------------------------\n",
      "mode: max  kernel size: 2  stride: 2  padding: 1  dilation: 1\n",
      "4 4\n",
      "OUTPUT (4x4)\n",
      "tensor([[2, 7, 6, 5],\n",
      "        [0, 4, 8, 5],\n",
      "        [9, 9, 9, 9],\n",
      "        [2, 5, 9, 4]])\n",
      "\n",
      "------------------------------------------------------------\n",
      "mode: max  kernel size: 2  stride: 2  padding: 1  dilation: 2\n",
      "3 3\n",
      "OUTPUT (3x3)\n",
      "tensor([[4, 4, 4],\n",
      "        [6, 6, 6],\n",
      "        [6, 9, 9]])\n",
      "\n"
     ]
    }
   ],
   "source": [
    "print_tensor(input, title=\"input\")\n",
    "for mode, size, stride, padding, dilation in [(\"max\", 2, 2, 0, 1),\n",
    "                                              (\"max\", 2, 2, 1, 1),\n",
    "                                              (\"max\", 2, 2, 1, 2)]:\n",
    "\n",
    "    print(\"-\" * 60)\n",
    "    print(f\"mode: {mode}  kernel size: {size}  stride: {stride}  padding: {padding}  dilation: {dilation}\")\n",
    "\n",
    "    output = pool2d(input, size, stride=stride, padding=padding, dilation=dilation, mode=mode)\n",
    "    print_tensor(output, title=\"output\")\n",
    "\n",
    "    torch_pool = torch.nn.functional.max_pool2d    \n",
    "\n",
    "    torch_output = torch_pool(input=input.view(1, 1, *input.shape).float(), \n",
    "                              kernel_size=size,\n",
    "                              stride=stride,\n",
    "                              padding=padding,\n",
    "                              dilation=dilation).squeeze()\n",
    "\n",
    "    assert torch.equal(output.float(), torch_output)"
   ]
  },
  {
   "cell_type": "markdown",
   "metadata": {},
   "source": [
    "# Batches and Channels"
   ]
  },
  {
   "cell_type": "code",
   "execution_count": 7,
   "metadata": {},
   "outputs": [
    {
     "name": "stdout",
     "output_type": "stream",
     "text": [
      "INPUT (1x2x6x6)\n",
      "tensor([[[[2, 7, 6, 4, 6, 5],\n",
      "          [0, 4, 0, 3, 8, 4],\n",
      "          [0, 4, 1, 2, 5, 5],\n",
      "          [7, 6, 9, 6, 3, 1],\n",
      "          [9, 3, 1, 9, 7, 9],\n",
      "          [2, 0, 5, 9, 3, 4]],\n",
      "\n",
      "         [[9, 6, 2, 0, 6, 2],\n",
      "          [7, 9, 7, 3, 3, 4],\n",
      "          [3, 7, 0, 9, 0, 9],\n",
      "          [6, 9, 5, 4, 8, 8],\n",
      "          [6, 0, 0, 0, 0, 1],\n",
      "          [3, 0, 1, 1, 7, 9]]]])\n",
      "\n",
      "FILTER (4x2x3x3)\n",
      "tensor([[[[1, 0, 0],\n",
      "          [0, 0, 0],\n",
      "          [0, 0, 0]],\n",
      "\n",
      "         [[0, 1, 0],\n",
      "          [0, 0, 0],\n",
      "          [0, 0, 0]]],\n",
      "\n",
      "\n",
      "        [[[0, 0, 1],\n",
      "          [0, 0, 0],\n",
      "          [0, 0, 0]],\n",
      "\n",
      "         [[0, 0, 0],\n",
      "          [1, 0, 0],\n",
      "          [0, 0, 0]]],\n",
      "\n",
      "\n",
      "        [[[0, 0, 0],\n",
      "          [0, 1, 0],\n",
      "          [0, 0, 0]],\n",
      "\n",
      "         [[0, 0, 0],\n",
      "          [0, 0, 1],\n",
      "          [0, 0, 0]]],\n",
      "\n",
      "\n",
      "        [[[0, 0, 0],\n",
      "          [0, 0, 0],\n",
      "          [1, 0, 0]],\n",
      "\n",
      "         [[0, 0, 0],\n",
      "          [0, 0, 0],\n",
      "          [0, 1, 0]]]])\n",
      "\n",
      "OUTPUT (1x4x4x4)\n",
      "tensor([[[[ 8,  9,  6, 10],\n",
      "          [ 9, 11,  3,  6],\n",
      "          [ 7,  4, 10,  2],\n",
      "          [16, 11, 13, 14]],\n",
      "\n",
      "         [[13, 13, 13,  8],\n",
      "          [ 3, 10,  8, 13],\n",
      "          [ 7, 11, 10,  9],\n",
      "          [15,  6,  3,  1]],\n",
      "\n",
      "         [[11,  3,  6, 12],\n",
      "          [ 4, 10,  2, 14],\n",
      "          [11, 13, 14, 11],\n",
      "          [ 3,  1,  9,  8]],\n",
      "\n",
      "         [[ 7,  4, 10,  2],\n",
      "          [16, 11, 13, 14],\n",
      "          [ 9,  3,  1,  9],\n",
      "          [ 2,  1,  6, 16]]]])\n",
      "\n"
     ]
    }
   ],
   "source": [
    "torch.manual_seed(42)\n",
    "\n",
    "iN, iC, iH, iW = 1, 2, 4, 4\n",
    "iN, iC, iH, iW = 1, 2, 6, 6\n",
    "input = torch.randint(low=0, high=10, size=(iN, iC, iH, iW))\n",
    "\n",
    "groups = 1\n",
    "# oC - number of kernels (output channels)\n",
    "# fC - ic // groups\n",
    "oC, fC, kH, kW = 4, iC // groups, 3, 3\n",
    "filter = torch.zeros((oC, fC, kW, kH)).long()\n",
    "k = 0\n",
    "for i in range(oC):\n",
    "    for j in range(fC):\n",
    "        fi = k // kW\n",
    "        fj = k % kW\n",
    "        filter[i,j][fi,fj]=1\n",
    "        k += 1\n",
    "        \n",
    "stride = 1\n",
    "oH = (iH - kH) // stride + 1\n",
    "oW = (iW - kW) // stride + 1\n",
    "result = torch.zeros((iN, oC, oH, oW), dtype=torch.long)\n",
    "for i in range(iN):\n",
    "    for j in range(oC):\n",
    "        for k in range(iC):\n",
    "            channel = input[i, k]\n",
    "            kernel = filter[j, k]\n",
    "            total = convolve2d(channel, kernel, stride=stride)\n",
    "            result[i, j] += total\n",
    "            \n",
    "            \n",
    "print_tensor(input, title=\"input\")\n",
    "print_tensor(filter, title=\"filter\")\n",
    "print_tensor(result, title=\"output\")\n"
   ]
  },
  {
   "cell_type": "code",
   "execution_count": 8,
   "metadata": {},
   "outputs": [
    {
     "name": "stdout",
     "output_type": "stream",
     "text": [
      "#77 1x17 -> #256 1x15\n",
      "#256 1x15 -> #256 1x7\n",
      "#256 1x7 -> #256 1x3\n",
      "#256 1x3 -> #1 1x1\n"
     ]
    }
   ],
   "source": [
    "input_size = (1, 17)\n",
    "\n",
    "# ic, oc, kernel_size, stride, padding, dilation\n",
    "layers = [(77, 256, (3, 1), 1, 0, 1),\n",
    "          (256, 256, (3, 1), 2, 0, 1),\n",
    "          (256, 256, (3, 1), 2, 0, 1),\n",
    "          (256, 1, (3, 1), 1, 0, 1),]\n",
    "\n",
    "ih, iw = input_size\n",
    "for ic, oc, kernel_size, stride, padding, dilation in layers:\n",
    "    kw, kh = kernel_size\n",
    "    oh = (ih - kh + 2 * padding - (kh - 1) * (dilation - 1)) // stride + 1\n",
    "    ow = (iw - kw + 2 * padding - (kw - 1) * (dilation - 1)) // stride + 1    \n",
    "    print(f\"#{ic} {ih}x{iw} -> #{oc} {oh}x{ow}\")\n",
    "    ih, iw = oh, ow\n"
   ]
  },
  {
   "cell_type": "markdown",
   "metadata": {},
   "source": [
    "# 1D Convolutions DEMO"
   ]
  },
  {
   "cell_type": "code",
   "execution_count": 9,
   "metadata": {},
   "outputs": [
    {
     "name": "stdout",
     "output_type": "stream",
     "text": [
      "Conv1d(7, 8, kernel_size=(2,), stride=(1,))\n"
     ]
    },
    {
     "data": {
      "text/plain": [
       "(tensor([[ -1.4427,   2.1214,   1.0646,  -1.0073,  -2.6071,  -1.4694,  -2.3458,\n",
       "           -5.0284,  -3.9909],\n",
       "         [  1.0692,   0.2119,   0.6061,   1.5847,  -1.6509,  -2.1876,   0.4745,\n",
       "           -1.4009,  -1.3466],\n",
       "         [ -5.8700,  -7.9829,  -7.5512, -10.8062,  -8.2657,  -5.8836,  -6.4643,\n",
       "           -6.1355,  -7.9130],\n",
       "         [ -7.3901,  -3.5969,  -5.3637,  -7.3507,  -4.4702,  -4.2736,  -8.0131,\n",
       "           -5.2857,  -7.0544],\n",
       "         [ -0.4411,  -1.2163,  -4.0269,  -6.1607,  -3.6083,  -2.5938,  -2.4093,\n",
       "           -1.5252,  -2.1961],\n",
       "         [ -0.5494,   0.7373,   0.2268,   2.6194,   0.5533,   1.7961,   1.7508,\n",
       "            0.7103,  -1.4017],\n",
       "         [ -0.3983,   0.8388,   0.6003,   0.9702,   2.1276,   4.2901,   0.8479,\n",
       "            3.4084,  -0.1641],\n",
       "         [ -4.2917,   1.3800,  -4.2675,  -4.0642,  -2.1963,  -0.2951,  -3.6937,\n",
       "           -2.2918,  -1.4031]]),\n",
       " tensor([[ -1.4427,   2.1214,   1.0646,  -1.0073,  -2.6071,  -1.4694,  -2.3458,\n",
       "           -5.0284,  -3.9909],\n",
       "         [  1.0692,   0.2119,   0.6061,   1.5847,  -1.6509,  -2.1876,   0.4745,\n",
       "           -1.4009,  -1.3466],\n",
       "         [ -5.8700,  -7.9829,  -7.5512, -10.8062,  -8.2657,  -5.8836,  -6.4643,\n",
       "           -6.1355,  -7.9130],\n",
       "         [ -7.3901,  -3.5969,  -5.3637,  -7.3507,  -4.4702,  -4.2736,  -8.0131,\n",
       "           -5.2857,  -7.0544],\n",
       "         [ -0.4411,  -1.2163,  -4.0269,  -6.1607,  -3.6083,  -2.5938,  -2.4093,\n",
       "           -1.5252,  -2.1961],\n",
       "         [ -0.5494,   0.7373,   0.2268,   2.6194,   0.5533,   1.7961,   1.7508,\n",
       "            0.7103,  -1.4017],\n",
       "         [ -0.3983,   0.8388,   0.6003,   0.9702,   2.1276,   4.2901,   0.8479,\n",
       "            3.4084,  -0.1641],\n",
       "         [ -4.2917,   1.3800,  -4.2675,  -4.0642,  -2.1963,  -0.2951,  -3.6937,\n",
       "           -2.2918,  -1.4031]], grad_fn=<SqueezeBackward1>))"
      ]
     },
     "execution_count": 9,
     "metadata": {},
     "output_type": "execute_result"
    }
   ],
   "source": [
    "torch.manual_seed(42)\n",
    "\n",
    "ic = 7\n",
    "ih = 10\n",
    "oc = 8\n",
    "kh = 2\n",
    "oh = (ih - kh) // 1 + 1\n",
    "\n",
    "# input\n",
    "x = torch.randint(low=0, high=10, size=(ic, ih)).float()\n",
    "assert x.shape == (ic, ih)\n",
    "\n",
    "# convolution\n",
    "layer = torch.nn.Conv1d(in_channels=ic, out_channels=oc, kernel_size=kh)\n",
    "print(layer)\n",
    "w, b = layer.parameters()\n",
    "assert w.shape == (oc, ic, kh)\n",
    "assert b.shape == (oc, )\n",
    "\n",
    "y = layer(x)\n",
    "assert y.shape == (oc, oh)\n",
    "\n",
    "# output\n",
    "output = []\n",
    "for kernel, bias in zip(w, b):\n",
    "    kernel.shape == (kh, )\n",
    "    channel = []\n",
    "    for i in range(0, oh * 1, 1):\n",
    "        region = x[:,i:i + kh]\n",
    "        assert region.shape == (ic, kh)\n",
    "        total = torch.sum(region * kernel) + bias\n",
    "        channel.append(total)\n",
    "    output.append(channel)\n",
    "\n",
    "output = torch.tensor(output)\n",
    "output, y\n",
    "\n"
   ]
  },
  {
   "cell_type": "markdown",
   "metadata": {},
   "source": [
    "# Batch Norm\n",
    "\n",
    "*Not finished*\n",
    "\n",
    "https://stackoverflow.com/questions/65613694/calculation-of-mean-and-variance-in-batch-normalization-in-convolutional-neural"
   ]
  },
  {
   "cell_type": "code",
   "execution_count": 49,
   "metadata": {},
   "outputs": [
    {
     "name": "stdout",
     "output_type": "stream",
     "text": [
      "Parameter containing:\n",
      "tensor([1., 1.], requires_grad=True) Parameter containing:\n",
      "tensor([0., 0.], requires_grad=True)\n"
     ]
    },
    {
     "data": {
      "text/plain": [
       "tensor([[[[ 0.1187, -0.8307],\n",
       "          [-0.8307, -0.8307]],\n",
       "\n",
       "         [[-1.0422, -0.6797],\n",
       "          [-1.0422, -1.0422]]],\n",
       "\n",
       "\n",
       "        [[[-0.8307,  0.1187],\n",
       "          [ 1.0681,  2.0175]],\n",
       "\n",
       "         [[ 0.4078,  0.7703],\n",
       "          [ 1.1329,  1.4954]]]], grad_fn=<NativeBatchNormBackward0>)"
      ]
     },
     "execution_count": 49,
     "metadata": {},
     "output_type": "execute_result"
    }
   ],
   "source": [
    "# TODO\n",
    "# Without Learnable Parameters\n",
    "import torch\n",
    "m = torch.nn.BatchNorm2d(2, affine=True)\n",
    "input = torch.tensor([[[[1., 0.],\n",
    "                        [0., 0.]],\n",
    "\n",
    "                       [[0., 1.],\n",
    "                        [0., 0.]]],\n",
    "\n",
    "                      [[[0., 1.],\n",
    "                        [2., 3.]],\n",
    "                         \n",
    "                       [[4., 5.],\n",
    "                        [6., 7.]]]])\n",
    "\n",
    "\n",
    "\n",
    "w, b = m.parameters()\n",
    "print(w, b)       \n",
    "output = m(input)\n",
    "output"
   ]
  },
  {
   "cell_type": "code",
   "execution_count": 50,
   "metadata": {},
   "outputs": [
    {
     "name": "stdout",
     "output_type": "stream",
     "text": [
      "tensor([0.8750, 2.8750]) tensor([1.2679, 8.6964])\n"
     ]
    },
    {
     "data": {
      "text/plain": [
       "tensor([[[[ 0.1110, -0.9749],\n",
       "          [-0.7771, -0.9749]],\n",
       "\n",
       "         [[-0.7771, -0.6358],\n",
       "          [-0.7771, -0.9749]]],\n",
       "\n",
       "\n",
       "        [[[-0.7771, -0.6358],\n",
       "          [ 0.9991,  0.0424]],\n",
       "\n",
       "         [[ 2.7753,  0.7206],\n",
       "          [ 4.5515,  1.3988]]]], grad_fn=<AddBackward0>)"
      ]
     },
     "execution_count": 50,
     "metadata": {},
     "output_type": "execute_result"
    }
   ],
   "source": [
    "dims = (0, 2, 3)\n",
    "mean = input.mean(dim=dims)\n",
    "var = input.var(dim=dims)\n",
    "print(mean, var)\n",
    "(input - mean) / torch.sqrt(var + m.eps) * w + b\n",
    "\n"
   ]
  },
  {
   "cell_type": "markdown",
   "metadata": {},
   "source": [
    "# Discovering dimensions"
   ]
  },
  {
   "cell_type": "code",
   "execution_count": 51,
   "metadata": {},
   "outputs": [
    {
     "name": "stdout",
     "output_type": "stream",
     "text": [
      "#77 1x17 -> #256 1x15\n",
      "#256 1x15 -> #256 1x7\n",
      "#256 1x7 -> #256 1x3\n",
      "#256 1x3 -> #1 1x1\n"
     ]
    }
   ],
   "source": [
    "input_size = (1, 17)\n",
    "\n",
    "# ic, oc, kernel_size, stride, padding, dilation\n",
    "layers = [(77, 256, (3, 1), 1, 0, 1),\n",
    "          (256, 256, (3, 1), 2, 0, 1),\n",
    "          (256, 256, (3, 1), 2, 0, 1),\n",
    "          (256, 1, (3, 1), 1, 0, 1),]\n",
    "\n",
    "ih, iw = input_size\n",
    "for ic, oc, kernel_size, stride, padding, dilation in layers:\n",
    "    kw, kh = kernel_size\n",
    "    oh = (ih - kh + 2 * padding - (kh - 1) * (dilation - 1)) // stride + 1\n",
    "    ow = (iw - kw + 2 * padding - (kw - 1) * (dilation - 1)) // stride + 1    \n",
    "    print(f\"#{ic} {ih}x{iw} -> #{oc} {oh}x{ow}\")\n",
    "    ih, iw = oh, ow"
   ]
  },
  {
   "cell_type": "markdown",
   "metadata": {},
   "source": []
  }
 ],
 "metadata": {
  "kernelspec": {
   "display_name": "Python 3.8.13 ('nlp')",
   "language": "python",
   "name": "python3"
  },
  "language_info": {
   "codemirror_mode": {
    "name": "ipython",
    "version": 3
   },
   "file_extension": ".py",
   "mimetype": "text/x-python",
   "name": "python",
   "nbconvert_exporter": "python",
   "pygments_lexer": "ipython3",
   "version": "3.8.13"
  },
  "toc": {
   "colors": {
    "hover_highlight": "#DAA520",
    "running_highlight": "#FF0000",
    "selected_highlight": "#FFD700"
   },
   "moveMenuLeft": true,
   "nav_menu": {
    "height": "138px",
    "width": "252px"
   },
   "navigate_menu": true,
   "number_sections": true,
   "sideBar": true,
   "threshold": "5",
   "toc_cell": false,
   "toc_section_display": "block",
   "toc_window_display": false
  },
  "vscode": {
   "interpreter": {
    "hash": "358f19b5168dcc2c817c22e8ae2c189228565b53de3b91095ee770a390daccdd"
   }
  }
 },
 "nbformat": 4,
 "nbformat_minor": 2
}
