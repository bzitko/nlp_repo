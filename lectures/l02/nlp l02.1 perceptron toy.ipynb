{
 "cells": [
  {
   "cell_type": "markdown",
   "metadata": {
    "id": "W-CeYMXmbtG-"
   },
   "source": [
    "# Toy Data"
   ]
  },
  {
   "cell_type": "code",
   "execution_count": 1,
   "metadata": {
    "executionInfo": {
     "elapsed": 4290,
     "status": "ok",
     "timestamp": 1660203327038,
     "user": {
      "displayName": "Branko Žitko",
      "userId": "04777374732866690844"
     },
     "user_tz": -120
    },
    "id": "rxFKBmmEEoUA"
   },
   "outputs": [
    {
     "ename": "ModuleNotFoundError",
     "evalue": "No module named 'seaborn'",
     "output_type": "error",
     "traceback": [
      "\u001b[0;31m---------------------------------------------------------------------------\u001b[0m",
      "\u001b[0;31mModuleNotFoundError\u001b[0m                       Traceback (most recent call last)",
      "\u001b[0;32m<ipython-input-1-d6535aa2b0cd>\u001b[0m in \u001b[0;36m<module>\u001b[0;34m\u001b[0m\n\u001b[1;32m      1\u001b[0m \u001b[0;32mimport\u001b[0m \u001b[0mnumpy\u001b[0m \u001b[0;32mas\u001b[0m \u001b[0mnp\u001b[0m\u001b[0;34m\u001b[0m\u001b[0;34m\u001b[0m\u001b[0m\n\u001b[0;32m----> 2\u001b[0;31m \u001b[0;32mimport\u001b[0m \u001b[0mseaborn\u001b[0m \u001b[0;32mas\u001b[0m \u001b[0msns\u001b[0m\u001b[0;34m\u001b[0m\u001b[0;34m\u001b[0m\u001b[0m\n\u001b[0m\u001b[1;32m      3\u001b[0m \u001b[0;32mimport\u001b[0m \u001b[0mpandas\u001b[0m \u001b[0;32mas\u001b[0m \u001b[0mpd\u001b[0m\u001b[0;34m\u001b[0m\u001b[0;34m\u001b[0m\u001b[0m\n\u001b[1;32m      4\u001b[0m \u001b[0;32mimport\u001b[0m \u001b[0mtorch\u001b[0m\u001b[0;34m\u001b[0m\u001b[0;34m\u001b[0m\u001b[0m\n\u001b[1;32m      5\u001b[0m \u001b[0;32mimport\u001b[0m \u001b[0mtorch\u001b[0m\u001b[0;34m.\u001b[0m\u001b[0mnn\u001b[0m\u001b[0;34m\u001b[0m\u001b[0;34m\u001b[0m\u001b[0m\n",
      "\u001b[0;31mModuleNotFoundError\u001b[0m: No module named 'seaborn'"
     ]
    }
   ],
   "source": [
    "import numpy as np\n",
    "import seaborn as sns\n",
    "import pandas as pd\n",
    "import torch\n",
    "import torch.nn\n",
    "import matplotlib.pyplot as plt\n",
    "\n",
    "seed = 1337\n",
    "torch.manual_seed(seed)\n",
    "torch.cuda.manual_seed_all(seed)\n",
    "np.random.seed(seed)"
   ]
  },
  {
   "cell_type": "markdown",
   "metadata": {
    "id": "8sxvYjQ-zAzV"
   },
   "source": [
    "### Describing Normal Distribution"
   ]
  },
  {
   "cell_type": "code",
   "execution_count": null,
   "metadata": {
    "colab": {
     "base_uri": "https://localhost:8080/",
     "height": 1000
    },
    "executionInfo": {
     "elapsed": 1044,
     "status": "ok",
     "timestamp": 1660203328078,
     "user": {
      "displayName": "Branko Žitko",
      "userId": "04777374732866690844"
     },
     "user_tz": -120
    },
    "id": "0CQw6LKwiiQg",
    "outputId": "ed33f8dc-4ba0-44cf-85e8-cc7e983b215a"
   },
   "outputs": [],
   "source": [
    "x = np.random.normal(3, size=1000)\n",
    "sns.displot(x, kind=\"kde\")\n",
    "x"
   ]
  },
  {
   "cell_type": "code",
   "execution_count": null,
   "metadata": {
    "colab": {
     "base_uri": "https://localhost:8080/",
     "height": 491
    },
    "executionInfo": {
     "elapsed": 1038,
     "status": "ok",
     "timestamp": 1660203329111,
     "user": {
      "displayName": "Branko Žitko",
      "userId": "04777374732866690844"
     },
     "user_tz": -120
    },
    "id": "55giULk1Ezzw",
    "outputId": "6237ee0c-c7ed-4da0-e8f3-52fea8001840"
   },
   "outputs": [],
   "source": [
    "x = np.random.normal(loc=(-2, 3), size=(1000, 2))\n",
    "sns.displot(x, kind=\"kde\")\n",
    "x"
   ]
  },
  {
   "cell_type": "code",
   "execution_count": null,
   "metadata": {
    "colab": {
     "base_uri": "https://localhost:8080/"
    },
    "executionInfo": {
     "elapsed": 14,
     "status": "ok",
     "timestamp": 1660203329112,
     "user": {
      "displayName": "Branko Žitko",
      "userId": "04777374732866690844"
     },
     "user_tz": -120
    },
    "id": "0kZCfxGDVZaG",
    "outputId": "c9a78ecb-395d-44a9-c32e-f0a7b2cc7a30"
   },
   "outputs": [],
   "source": [
    "x = np.linspace(0, 5, 6)\n",
    "y = np.linspace(0, 9, 10)\n",
    "\n",
    "xx, yy = np.meshgrid(x, y)\n",
    "print(xx)\n",
    "print()\n",
    "print(yy)"
   ]
  },
  {
   "cell_type": "code",
   "execution_count": null,
   "metadata": {
    "colab": {
     "base_uri": "https://localhost:8080/"
    },
    "executionInfo": {
     "elapsed": 13,
     "status": "ok",
     "timestamp": 1660203329113,
     "user": {
      "displayName": "Branko Žitko",
      "userId": "04777374732866690844"
     },
     "user_tz": -120
    },
    "id": "vYqc-4ZpVtCE",
    "outputId": "69d47a9d-09d8-45c2-f5c5-8c1979d6b2de"
   },
   "outputs": [],
   "source": [
    "xy = np.vstack([xx.ravel(), yy.ravel()]).T\n",
    "xy"
   ]
  },
  {
   "cell_type": "code",
   "execution_count": null,
   "metadata": {
    "colab": {
     "base_uri": "https://localhost:8080/"
    },
    "executionInfo": {
     "elapsed": 12,
     "status": "ok",
     "timestamp": 1660203329114,
     "user": {
      "displayName": "Branko Žitko",
      "userId": "04777374732866690844"
     },
     "user_tz": -120
    },
    "id": "LqQO27giW3DP",
    "outputId": "7dcd8bf4-4700-4781-a642-2503bfe94e2d"
   },
   "outputs": [],
   "source": [
    "z = np.sum(np.sin(xy), axis=1)\n",
    "z"
   ]
  },
  {
   "cell_type": "code",
   "execution_count": null,
   "metadata": {
    "colab": {
     "base_uri": "https://localhost:8080/",
     "height": 286
    },
    "executionInfo": {
     "elapsed": 812,
     "status": "ok",
     "timestamp": 1660203329917,
     "user": {
      "displayName": "Branko Žitko",
      "userId": "04777374732866690844"
     },
     "user_tz": -120
    },
    "id": "5rm78IPgW-CX",
    "outputId": "b9b1ed71-0584-4ee3-bf73-cbd00c812104"
   },
   "outputs": [],
   "source": [
    "plt.contour(xx, yy, z.reshape(xx.shape))"
   ]
  },
  {
   "cell_type": "code",
   "execution_count": null,
   "metadata": {
    "colab": {
     "base_uri": "https://localhost:8080/",
     "height": 374
    },
    "executionInfo": {
     "elapsed": 869,
     "status": "ok",
     "timestamp": 1660203330780,
     "user": {
      "displayName": "Branko Žitko",
      "userId": "04777374732866690844"
     },
     "user_tz": -120
    },
    "id": "Fc8VpxXo0QBa",
    "outputId": "bd0a24e7-5e69-4f29-86eb-84d151578852"
   },
   "outputs": [],
   "source": [
    "fig = plt.figure(figsize=(6,6))\n",
    "ax = fig.add_subplot(111, projection='3d')\n",
    "\n",
    "ax.plot_surface(xx, yy, z.reshape(xx.shape))"
   ]
  },
  {
   "cell_type": "code",
   "execution_count": null,
   "metadata": {
    "colab": {
     "base_uri": "https://localhost:8080/"
    },
    "executionInfo": {
     "elapsed": 9,
     "status": "ok",
     "timestamp": 1660203330781,
     "user": {
      "displayName": "Branko Žitko",
      "userId": "04777374732866690844"
     },
     "user_tz": -120
    },
    "id": "4uqOaX-Ah7KZ",
    "outputId": "604915d7-0ba5-4184-b90f-2ea2351af4c7"
   },
   "outputs": [],
   "source": [
    "TOP_CENTER = (3, 3)\n",
    "BOTTOM_CENTER = (3, -2)\n",
    "\n",
    "def get_toy_data(batch_size, top_center=TOP_CENTER, bottom_center=BOTTOM_CENTER):\n",
    "    x_data = []\n",
    "    y_targets = np.zeros(batch_size)\n",
    "    for batch_i in range(batch_size):\n",
    "        if np.random.random() > 0.5:  # (1)\n",
    "            x_data.append(np.random.normal(loc=top_center))\n",
    "            y_targets[batch_i] = 1\n",
    "        else:\n",
    "            x_data.append(np.random.normal(loc=bottom_center))\n",
    "    return (torch.tensor(x_data, dtype=torch.float),\n",
    "            torch.tensor(y_targets, dtype=torch.float))\n",
    "\n",
    "x_data, y_truth = get_toy_data(10)\n",
    "x_data, y_truth"
   ]
  },
  {
   "cell_type": "code",
   "execution_count": null,
   "metadata": {
    "colab": {
     "base_uri": "https://localhost:8080/",
     "height": 265
    },
    "executionInfo": {
     "elapsed": 862,
     "status": "ok",
     "timestamp": 1660203331637,
     "user": {
      "displayName": "Branko Žitko",
      "userId": "04777374732866690844"
     },
     "user_tz": -120
    },
    "id": "GWtzQBm6buPs",
    "outputId": "8853f233-648a-4f2b-ca9a-176416f0c69b"
   },
   "outputs": [],
   "source": [
    "def plot_toy_data(x_data, y_truth, perceptron=None):\n",
    "    blue = []\n",
    "    orange = []\n",
    "    black_blue = []\n",
    "    black_orange = []\n",
    "    if perceptron:\n",
    "        y_pred = perceptron(x_data).squeeze().detach()\n",
    "        y_pred = (y_pred > 0.5).float()\n",
    "    else:\n",
    "        y_pred = y_truth\n",
    "\n",
    "    for x_i, y_true_i, y_pred_i in zip(x_data, y_truth, y_pred):\n",
    "        \n",
    "        is_black = y_true_i != y_pred_i\n",
    "\n",
    "        if y_true_i == 1.:\n",
    "            if is_black:\n",
    "                black_blue.append(x_i)\n",
    "            else:\n",
    "                blue.append(x_i)\n",
    "        else:\n",
    "            if is_black:\n",
    "                black_orange.append(x_i)\n",
    "            else:\n",
    "                orange.append(x_i)\n",
    "    \n",
    "    if blue:\n",
    "        blue = np.stack(blue)\n",
    "        plt.scatter(blue[:,0], blue[:,1], marker=\"*\", c=\"tab:blue\", s=100)\n",
    "    \n",
    "    if orange:\n",
    "        orange = np.stack(orange)\n",
    "        plt.scatter(orange[:,0], orange[:,1], marker=\"o\", c=\"tab:orange\", s=100)\n",
    "\n",
    "    if perceptron:\n",
    "        if black_blue:\n",
    "            black_blue = np.stack(black_blue)\n",
    "            plt.scatter(black_blue[:,0], black_blue[:,1], marker=\"*\", c=\"black\", s=100)\n",
    "        if black_orange:\n",
    "            black_orange = np.stack(black_orange)\n",
    "            plt.scatter(black_orange[:,0], black_orange[:,1], marker=\"o\", c=\"black\", s=100)\n",
    "\n",
    "        # hyperplane\n",
    "        xx = np.linspace(x_data[:,0].min() - 0.5, x_data[:,0].max() + 0.5, 30)\n",
    "        yy = np.linspace(x_data[:,1].min() - 0.5, x_data[:,1].max() + 0.5, 30)\n",
    "        xv, yv = np.meshgrid(xx, yy)\n",
    "        xy = np.vstack([xv.ravel(), yv.ravel()]).T\n",
    "        z = perceptron(torch.tensor(xy, dtype=torch.float)).detach().numpy().reshape(yv.shape)\n",
    "        \n",
    "        plt.contour(xx, yy, z, colors='k', linestyles=[\"--\", \"-\", \"--\"], levels=[0.4, 0.5, 0.6])\n",
    "    plt.show()\n",
    "\n",
    "plot_toy_data(*get_toy_data(1024))\n",
    "# plot_toy_data(*get_toy_data(1024), perceptron)\n"
   ]
  },
  {
   "cell_type": "code",
   "execution_count": null,
   "metadata": {
    "colab": {
     "base_uri": "https://localhost:8080/"
    },
    "executionInfo": {
     "elapsed": 13,
     "status": "ok",
     "timestamp": 1660203331638,
     "user": {
      "displayName": "Branko Žitko",
      "userId": "04777374732866690844"
     },
     "user_tz": -120
    },
    "id": "1IBXUdZFb22E",
    "outputId": "b0f05472-886c-4cb6-fc77-9fc0e8a7b70b"
   },
   "outputs": [],
   "source": [
    "class Perceptron(torch.nn.Module):\n",
    "\n",
    "    def __init__(self, input_dim):\n",
    "        super(Perceptron, self).__init__()\n",
    "        self.fc1 = torch.nn.Linear(input_dim, 1)\n",
    "\n",
    "    def forward(self, x_in):\n",
    "        return torch.sigmoid(self.fc1(x_in))\n",
    "\n",
    "    def reset_parameters(self):\n",
    "        for layer in self.children():\n",
    "            if hasattr(layer, 'reset_parameters'):\n",
    "                layer.reset_parameters()\n",
    "\n",
    "x = torch.randn(5).view(5, 1).detach().clone()\n",
    "print(x)\n",
    "perceptron = Perceptron(input_dim=1)\n",
    "y_prob = perceptron(x)\n",
    "print(y_prob)\n",
    "y_hat = (y_prob > 0.5).float()\n",
    "print(y_hat)"
   ]
  },
  {
   "cell_type": "code",
   "execution_count": null,
   "metadata": {
    "colab": {
     "base_uri": "https://localhost:8080/",
     "height": 265
    },
    "executionInfo": {
     "elapsed": 573,
     "status": "ok",
     "timestamp": 1660204001457,
     "user": {
      "displayName": "Branko Žitko",
      "userId": "04777374732866690844"
     },
     "user_tz": -120
    },
    "id": "6Aqr7DofdM87",
    "outputId": "9b80b443-5405-448f-b8e4-5cddaec94cd5"
   },
   "outputs": [],
   "source": [
    "lr = 0.01\n",
    "input_dim = 2\n",
    "\n",
    "batch_size = 1000\n",
    "n_epochs = 12\n",
    "n_batches = 5\n",
    "\n",
    "perceptron = Perceptron(input_dim=input_dim)\n",
    "optimizer = torch.optim.Adam(params=perceptron.parameters(), lr=lr)\n",
    "bce_loss = torch.nn.BCELoss()\n",
    "\n",
    "losses = []\n",
    "\n",
    "x_data_static, y_truth_static = get_toy_data(batch_size)\n",
    "plot_toy_data(x_data_static, y_truth_static)"
   ]
  },
  {
   "cell_type": "code",
   "execution_count": null,
   "metadata": {
    "colab": {
     "base_uri": "https://localhost:8080/",
     "height": 1000
    },
    "executionInfo": {
     "elapsed": 7563,
     "status": "ok",
     "timestamp": 1660203339191,
     "user": {
      "displayName": "Branko Žitko",
      "userId": "04777374732866690844"
     },
     "user_tz": -120
    },
    "id": "7vG8dmtJfEiN",
    "outputId": "20b35147-e0e5-46ff-d3d8-b96cbdb573e2"
   },
   "outputs": [],
   "source": [
    "change = 1.0\n",
    "last = 10.0\n",
    "epsilon = 1e-3\n",
    "epoch = 0\n",
    "\n",
    "#while change > epsilon or epoch < n_epochs or last > 0.3:\n",
    "for epoch in range(n_epochs):\n",
    "    for _ in range(n_batches):\n",
    "\n",
    "        optimizer.zero_grad()\n",
    "        x_data, y_target = get_toy_data(batch_size)\n",
    "        y_pred = perceptron(x_data).squeeze()\n",
    "        \n",
    "        loss = bce_loss(y_pred, y_target)\n",
    "        loss.backward()\n",
    "        optimizer.step()\n",
    "\n",
    "        loss_value = loss.item()\n",
    "        losses.append(loss_value)\n",
    "\n",
    "        change = abs(last - loss_value)\n",
    "        last = loss_value\n",
    "\n",
    "    print(f\"epoch: {epoch} loss: {loss:0.3}\")\n",
    "    plot_toy_data(x_data_static, y_truth_static, perceptron)\n",
    "    \n",
    "    \n",
    "        \n"
   ]
  },
  {
   "cell_type": "code",
   "execution_count": null,
   "metadata": {
    "executionInfo": {
     "elapsed": 405,
     "status": "ok",
     "timestamp": 1660203370912,
     "user": {
      "displayName": "Branko Žitko",
      "userId": "04777374732866690844"
     },
     "user_tz": -120
    },
    "id": "kEtCBWrxxIQ2"
   },
   "outputs": [],
   "source": [
    "from torch.utils.data import Dataset, DataLoader"
   ]
  },
  {
   "cell_type": "code",
   "execution_count": null,
   "metadata": {
    "colab": {
     "base_uri": "https://localhost:8080/"
    },
    "executionInfo": {
     "elapsed": 450,
     "status": "ok",
     "timestamp": 1660204595112,
     "user": {
      "displayName": "Branko Žitko",
      "userId": "04777374732866690844"
     },
     "user_tz": -120
    },
    "id": "30zyZ4VL1QYc",
    "outputId": "d44822fc-0077-46c6-88e1-1e63a32576a9"
   },
   "outputs": [],
   "source": [
    "class ToyDataset(Dataset):\n",
    "\n",
    "    def __init__(self, x_data, y_truth):\n",
    "        self.x = x_data\n",
    "        self.y = y_truth\n",
    "\n",
    "    def __getitem__(self, index):\n",
    "        return (self.x[index], self.y[index])\n",
    "        # return {\"x\": self.x[index], \"y\": self.y[index]}\n",
    "\n",
    "    def __len__(self):\n",
    "        return len(self.x)\n",
    "\n",
    "toydataset = ToyDataset(x_data_static, y_truth_static)\n",
    "print(toydataset[0])\n",
    "print(toydataset[-3:])\n",
    "len(toydataset)\n"
   ]
  },
  {
   "cell_type": "code",
   "execution_count": null,
   "metadata": {
    "id": "oBWF4PF034jm"
   },
   "outputs": [],
   "source": []
  },
  {
   "cell_type": "code",
   "execution_count": null,
   "metadata": {
    "colab": {
     "base_uri": "https://localhost:8080/"
    },
    "executionInfo": {
     "elapsed": 387,
     "status": "ok",
     "timestamp": 1660204075243,
     "user": {
      "displayName": "Branko Žitko",
      "userId": "04777374732866690844"
     },
     "user_tz": -120
    },
    "id": "m4KfyuJ417og",
    "outputId": "ea6d1ab4-e0df-4041-a944-17a759034c6f"
   },
   "outputs": [],
   "source": [
    "toy_loader = DataLoader(dataset=toydataset, batch_size=12, shuffle=True, drop_last=True)\n",
    "\n",
    "count = 0\n",
    "for minibatch in toy_loader:\n",
    "    print(minibatch)\n",
    "    count += 1\n",
    "    break\n",
    "count"
   ]
  },
  {
   "cell_type": "code",
   "execution_count": null,
   "metadata": {
    "id": "prbJgtkK2dtb"
   },
   "outputs": [],
   "source": []
  }
 ],
 "metadata": {
  "colab": {
   "authorship_tag": "ABX9TyMCcdqPAojc58imbCCRsEo6",
   "collapsed_sections": [],
   "name": "nlp p02.1 perceptron toy.ipynb",
   "provenance": []
  },
  "kernelspec": {
   "display_name": "Python 3",
   "language": "python",
   "name": "python3"
  },
  "language_info": {
   "codemirror_mode": {
    "name": "ipython",
    "version": 3
   },
   "file_extension": ".py",
   "mimetype": "text/x-python",
   "name": "python",
   "nbconvert_exporter": "python",
   "pygments_lexer": "ipython3",
   "version": "3.8.6"
  }
 },
 "nbformat": 4,
 "nbformat_minor": 1
}
